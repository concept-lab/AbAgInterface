{
 "cells": [
  {
   "cell_type": "code",
   "execution_count": 1,
   "metadata": {},
   "outputs": [],
   "source": [
    "import pandas as pd\n",
    "import numpy as np\n",
    "import itertools\n",
    "\n",
    "import sys, os\n",
    "from pathlib import Path\n",
    "source_location = Path().resolve()\n",
    "sys.path.append(source_location)\n",
    "from scripts.utils import get_sabdab_details"
   ]
  },
  {
   "cell_type": "code",
   "execution_count": 2,
   "metadata": {},
   "outputs": [],
   "source": [
    "df_sabdab_all = pd.read_csv(Path.joinpath(source_location,\n",
    "    'structures/sabdab_summary_all.tsv'), sep=\"\\t\")\n",
    "df_sabdab_90 = pd.read_csv(Path.joinpath(source_location,\n",
    "    'structures/sabdab_summary_90.tsv'), sep=\"\\t\")\n",
    "\n",
    "df_buried = pd.read_pickle(Path.joinpath(source_location,\n",
    "    'data/epitope_buried.pickle'))\n",
    "\n",
    "df_interactions = pd.read_pickle(Path.joinpath(source_location,\n",
    "    'data/interactions.pickle'))"
   ]
  },
  {
   "cell_type": "code",
   "execution_count": 3,
   "metadata": {},
   "outputs": [
    {
     "name": "stdout",
     "output_type": "stream",
     "text": [
      "SabDab protein antigen:\n",
      "2715 proteins out of 4979, 54.5%\n"
     ]
    }
   ],
   "source": [
    "# protein_antigens = df_sabdab_all[df_sabdab_all['antigen_type'].str.contains(\"protein\", na = False)\n",
    "protein_antigens = df_sabdab_all.query(\"antigen_type == antigen_type and antigen_type.str.contains('protein')\", engine = 'python').drop_duplicates()\n",
    "ab_protein_antigens = set(protein_antigens.pdb.values)\n",
    "all_saddab_proteins = set(df_sabdab_all.pdb.values)\n",
    "print(\n",
    "    f\"SabDab protein antigen:\\n\"\n",
    "    f\"{len(ab_protein_antigens)} proteins out of {len(all_saddab_proteins)}, \"\n",
    "    f\"{round(len(ab_protein_antigens) / len(all_saddab_proteins) * 100, 1)}%\"\n",
    ")"
   ]
  },
  {
   "cell_type": "code",
   "execution_count": 4,
   "metadata": {},
   "outputs": [
    {
     "name": "stdout",
     "output_type": "stream",
     "text": [
      "All: 2715\n",
      "No Hchain: 10\n",
      "No Lchain: 528\n",
      "Both chains: 2177\n"
     ]
    }
   ],
   "source": [
    "ab_both_chains = set(protein_antigens.query(\"Hchain == Hchain and Lchain == Lchain\").pdb.values)\n",
    "ab_single_H_chain = set(protein_antigens.query(\"Hchain == Hchain\").pdb.values)\n",
    "ab_single_L_chain = set(protein_antigens.query(\"Lchain == Lchain\").pdb.values)\n",
    "\n",
    "n_ab_no_Hchain = len(ab_protein_antigens) - len(ab_single_H_chain)\n",
    "n_ab_no_Lchain = len(ab_protein_antigens) - len(ab_single_L_chain)\n",
    "\n",
    "print(f\"All: {len(ab_protein_antigens)}\\nNo Hchain: {n_ab_no_Hchain}\\nNo Lchain: {n_ab_no_Lchain}\\nBoth chains: {len(ab_both_chains)}\")"
   ]
  },
  {
   "cell_type": "code",
   "execution_count": 5,
   "metadata": {},
   "outputs": [
    {
     "name": "stdout",
     "output_type": "stream",
     "text": [
      "Buried surfaces of 2492 proteins\n",
      "with both chains: 1974\n"
     ]
    }
   ],
   "source": [
    "buried_fullab = df_buried[df_buried.idcode.isin(ab_both_chains)]\n",
    "print(\n",
    "    f\"Buried surfaces of {len(set(df_buried.idcode.values))} proteins\\n\"\n",
    "    f\"with both chains: {len(set(buried_fullab.idcode.values))}\"\n",
    ")"
   ]
  },
  {
   "cell_type": "code",
   "execution_count": 6,
   "metadata": {},
   "outputs": [
    {
     "data": {
      "text/plain": [
       "2148"
      ]
     },
     "execution_count": 6,
     "metadata": {},
     "output_type": "execute_result"
    }
   ],
   "source": [
    "buried_ab_ag_interface_res = buried_fullab[~buried_fullab[['idcode', 'ab_ag_interface']].astype(str).duplicated(keep='first')][['idcode', 'chainID', 'chain_type', 'ab_ag_interface_res', 'ag_ab_interface_res', 'cdr_seq']]\n",
    "buried_ab_ag_interface_res = buried_ab_ag_interface_res[~buried_ab_ag_interface_res[['idcode', 'cdr_seq']].astype(str).duplicated(keep='first')][['idcode', 'chainID', 'chain_type', 'ab_ag_interface_res', 'ag_ab_interface_res']]\n",
    "len(buried_ab_ag_interface_res)"
   ]
  },
  {
   "cell_type": "code",
   "execution_count": 7,
   "metadata": {},
   "outputs": [
    {
     "name": "stdout",
     "output_type": "stream",
     "text": [
      "SabDab protein antigen:\n",
      "1154 proteins out of 2017, 57.2%\n"
     ]
    }
   ],
   "source": [
    "# protein_antigens = df_sabdab_90[df_sabdab_90['antigen_type'].str.contains('protein', na = False)]\n",
    "protein_antigens = df_sabdab_90.query(\"antigen_type == antigen_type and antigen_type.str.contains('protein')\", engine = 'python').drop_duplicates()\n",
    "ab_protein_antigens = set(protein_antigens.pdb.values)\n",
    "all_saddab_proteins = set(df_sabdab_90.pdb.values)\n",
    "print(\n",
    "    f\"SabDab protein antigen:\\n\"\n",
    "    f\"{len(ab_protein_antigens)} proteins out of {len(all_saddab_proteins)}, \"\n",
    "    f\"{round(len(ab_protein_antigens) / len(all_saddab_proteins) * 100, 1)}%\"\n",
    ")"
   ]
  },
  {
   "cell_type": "code",
   "execution_count": 8,
   "metadata": {},
   "outputs": [
    {
     "name": "stdout",
     "output_type": "stream",
     "text": [
      "All: 1154\n",
      "No Hchain: 0\n",
      "No Lchain: 0\n",
      "Both chains: 1154\n"
     ]
    }
   ],
   "source": [
    "ab_both_chains = set(protein_antigens.query(\"Hchain == Hchain and Lchain == Lchain\").pdb.values)\n",
    "ab_single_H_chain = set(protein_antigens.query(\"Hchain == Hchain\").pdb.values)\n",
    "ab_single_L_chain = set(protein_antigens.query(\"Lchain == Lchain\").pdb.values)\n",
    "\n",
    "n_ab_no_Hchain = len(ab_protein_antigens) - len(ab_single_H_chain)\n",
    "n_ab_no_Lchain = len(ab_protein_antigens) - len(ab_single_L_chain)\n",
    "\n",
    "print(f\"All: {len(ab_protein_antigens)}\\nNo Hchain: {n_ab_no_Hchain}\\nNo Lchain: {n_ab_no_Lchain}\\nBoth chains: {len(ab_both_chains)}\")"
   ]
  },
  {
   "cell_type": "code",
   "execution_count": 9,
   "metadata": {},
   "outputs": [
    {
     "name": "stdout",
     "output_type": "stream",
     "text": [
      "Buried surfaces of 2492 proteins\n",
      "with both chains: 867\n"
     ]
    }
   ],
   "source": [
    "buried_fullab = df_buried[df_buried.idcode.isin(ab_both_chains)]\n",
    "print(\n",
    "    f\"Buried surfaces of {len(set(df_buried.idcode.values))} proteins\\n\"\n",
    "    f\"with both chains: {len(set(buried_fullab.idcode.values))}\"\n",
    ")"
   ]
  },
  {
   "cell_type": "code",
   "execution_count": 10,
   "metadata": {},
   "outputs": [
    {
     "data": {
      "text/plain": [
       "947"
      ]
     },
     "execution_count": 10,
     "metadata": {},
     "output_type": "execute_result"
    }
   ],
   "source": [
    "buried_ab_ag_interface_res = buried_fullab[~buried_fullab[['idcode', 'ab_ag_interface']].astype(str).duplicated(keep='first')][['idcode', 'chainID', 'chain_type', 'ab_ag_interface_res', 'ag_ab_interface_res', 'cdr_seq']]\n",
    "buried_ab_ag_interface_res = buried_ab_ag_interface_res[~buried_ab_ag_interface_res[['idcode', 'cdr_seq']].astype(str).duplicated(keep='first')][['idcode', 'chainID', 'chain_type', 'ab_ag_interface_res', 'ag_ab_interface_res']]\n",
    "len(buried_ab_ag_interface_res)"
   ]
  },
  {
   "cell_type": "code",
   "execution_count": 11,
   "metadata": {},
   "outputs": [],
   "source": [
    "def count_chains(x):\n",
    "    ab_chains = protein_antigens.query(f\"pdb == '{x['idcode']}' and {'L' if x['chain_type'] in 'LK' else 'H'}chain == '{x['chainID']}'\")[['Hchain', 'Lchain']].values\n",
    "    if len(ab_chains) != 1:\n",
    "        return (None, None, None, None, None, None, None, None, None, None, None)\n",
    "    assert len(ab_chains) == 1, print(x['idcode'], x['chain_type'], x['chainID'], ab_chains)\n",
    "    ab_chains = list(ab_chains[0])\n",
    "\n",
    "    cdrs = []\n",
    "    incomplete = False\n",
    "    for ab_chain in ab_chains:\n",
    "        if ab_chain != ab_chain:\n",
    "            cdrs.append((None, None))\n",
    "            incomplete = True\n",
    "            continue\n",
    "        for cdrnumb in (1, 2, 3):\n",
    "            cdr_info = buried_fullab.query(f\"idcode == '{x['idcode']}' and chainID == '{ab_chain}' and cdr == {cdrnumb}\")[['cdr_begin', 'cdr_end']].values\n",
    "            if len(cdr_info) == 1:\n",
    "                (cdr_b, cdr_e) = cdr_info[0]\n",
    "                cdrs.append((cdr_b, cdr_e))\n",
    "            else:\n",
    "                cdrs.append((None, None))\n",
    "                incomplete = True\n",
    "\n",
    "    ag_res = []\n",
    "    for (chain, resnumb, resname, aname, cdrnumb) in x['ag_ab_interface_res']:\n",
    "        if aname.startswith('H'):\n",
    "            continue\n",
    "\n",
    "        ag_res.append(resname)\n",
    "    \n",
    "    ab_res = []\n",
    "    chains_res = [set(), set()]\n",
    "    cdrnumbs_res = [set(), set(),  set(), set(), set(), set()]\n",
    "    for (chain, resnumb, resname, aname, cdrnumb) in x['ab_ag_interface_res']:\n",
    "        if aname.startswith('H'):\n",
    "            continue\n",
    "\n",
    "        ab_res.append(resname)\n",
    "\n",
    "        if chain == ab_chains[0]:\n",
    "            i_chain = 0\n",
    "        elif chain == ab_chains[1]:\n",
    "            i_chain = 1\n",
    "        else:\n",
    "            raise Exception\n",
    "        \n",
    "        chains_res[i_chain].add((resnumb))\n",
    "        for i_cdr in range(i_chain * 3, i_chain * 3 + 3):\n",
    "            b, e = cdrs[i_cdr]\n",
    "            if not b:\n",
    "                continue\n",
    "            if resnumb >= b and resnumb <= e:\n",
    "                cdrnumbs_res[i_cdr].add((resnumb))\n",
    "    \n",
    "    chains = [len(i) for i in chains_res]\n",
    "    cdrnumbs = [len(i) for i in cdrnumbs_res]\n",
    "    \n",
    "    return (*chains, *cdrnumbs, ab_res, ag_res, incomplete)\n",
    "\n",
    "buried_ab_ag_interface_res['chains'] =\\\n",
    "    buried_ab_ag_interface_res.apply(lambda x: count_chains(x), axis=1)"
   ]
  },
  {
   "cell_type": "code",
   "execution_count": 12,
   "metadata": {},
   "outputs": [
    {
     "data": {
      "text/plain": [
       "946"
      ]
     },
     "execution_count": 12,
     "metadata": {},
     "output_type": "execute_result"
    }
   ],
   "source": [
    "buried_ab_ag_interface_res['hchains'], buried_ab_ag_interface_res['lchains'],\\\n",
    "    buried_ab_ag_interface_res['hcdr1'], buried_ab_ag_interface_res['hcdr2'],\\\n",
    "    buried_ab_ag_interface_res['hcdr3'], buried_ab_ag_interface_res['lcdr1'],\\\n",
    "    buried_ab_ag_interface_res['lcdr2'], buried_ab_ag_interface_res['lcdr3'],\\\n",
    "    buried_ab_ag_interface_res['ab_res'], buried_ab_ag_interface_res['ag_res'],\\\n",
    "    buried_ab_ag_interface_res['incomplete'] = zip(*buried_ab_ag_interface_res.chains)\n",
    "\n",
    "# lost due to incompatibility between Full SabDab and Redudant nomenclature \n",
    "len(buried_ab_ag_interface_res.query('hchains == hchains')) "
   ]
  },
  {
   "cell_type": "code",
   "execution_count": 13,
   "metadata": {},
   "outputs": [],
   "source": [
    "buried_ab_ag_interface_res = buried_ab_ag_interface_res.query('incomplete == 0')"
   ]
  },
  {
   "cell_type": "code",
   "execution_count": 14,
   "metadata": {},
   "outputs": [
    {
     "name": "stdout",
     "output_type": "stream",
     "text": [
      "Total interfaces: 946\n",
      " H+L chains present: 897 94.8\n",
      " Only H chain present: 47 5.0\n",
      " Only L chain present: 2 0.2\n"
     ]
    },
    {
     "data": {
      "application/vnd.plotly.v1+json": {
       "config": {
        "plotlyServerURL": "https://plot.ly"
       },
       "data": [
        {
         "labels": [
          "H+L chains",
          "Only H chain",
          "Only L"
         ],
         "type": "pie",
         "values": [
          897,
          47,
          2
         ]
        }
       ],
       "layout": {
        "template": {
         "data": {
          "bar": [
           {
            "error_x": {
             "color": "#2a3f5f"
            },
            "error_y": {
             "color": "#2a3f5f"
            },
            "marker": {
             "line": {
              "color": "#E5ECF6",
              "width": 0.5
             },
             "pattern": {
              "fillmode": "overlay",
              "size": 10,
              "solidity": 0.2
             }
            },
            "type": "bar"
           }
          ],
          "barpolar": [
           {
            "marker": {
             "line": {
              "color": "#E5ECF6",
              "width": 0.5
             },
             "pattern": {
              "fillmode": "overlay",
              "size": 10,
              "solidity": 0.2
             }
            },
            "type": "barpolar"
           }
          ],
          "carpet": [
           {
            "aaxis": {
             "endlinecolor": "#2a3f5f",
             "gridcolor": "white",
             "linecolor": "white",
             "minorgridcolor": "white",
             "startlinecolor": "#2a3f5f"
            },
            "baxis": {
             "endlinecolor": "#2a3f5f",
             "gridcolor": "white",
             "linecolor": "white",
             "minorgridcolor": "white",
             "startlinecolor": "#2a3f5f"
            },
            "type": "carpet"
           }
          ],
          "choropleth": [
           {
            "colorbar": {
             "outlinewidth": 0,
             "ticks": ""
            },
            "type": "choropleth"
           }
          ],
          "contour": [
           {
            "colorbar": {
             "outlinewidth": 0,
             "ticks": ""
            },
            "colorscale": [
             [
              0,
              "#0d0887"
             ],
             [
              0.1111111111111111,
              "#46039f"
             ],
             [
              0.2222222222222222,
              "#7201a8"
             ],
             [
              0.3333333333333333,
              "#9c179e"
             ],
             [
              0.4444444444444444,
              "#bd3786"
             ],
             [
              0.5555555555555556,
              "#d8576b"
             ],
             [
              0.6666666666666666,
              "#ed7953"
             ],
             [
              0.7777777777777778,
              "#fb9f3a"
             ],
             [
              0.8888888888888888,
              "#fdca26"
             ],
             [
              1,
              "#f0f921"
             ]
            ],
            "type": "contour"
           }
          ],
          "contourcarpet": [
           {
            "colorbar": {
             "outlinewidth": 0,
             "ticks": ""
            },
            "type": "contourcarpet"
           }
          ],
          "heatmap": [
           {
            "colorbar": {
             "outlinewidth": 0,
             "ticks": ""
            },
            "colorscale": [
             [
              0,
              "#0d0887"
             ],
             [
              0.1111111111111111,
              "#46039f"
             ],
             [
              0.2222222222222222,
              "#7201a8"
             ],
             [
              0.3333333333333333,
              "#9c179e"
             ],
             [
              0.4444444444444444,
              "#bd3786"
             ],
             [
              0.5555555555555556,
              "#d8576b"
             ],
             [
              0.6666666666666666,
              "#ed7953"
             ],
             [
              0.7777777777777778,
              "#fb9f3a"
             ],
             [
              0.8888888888888888,
              "#fdca26"
             ],
             [
              1,
              "#f0f921"
             ]
            ],
            "type": "heatmap"
           }
          ],
          "heatmapgl": [
           {
            "colorbar": {
             "outlinewidth": 0,
             "ticks": ""
            },
            "colorscale": [
             [
              0,
              "#0d0887"
             ],
             [
              0.1111111111111111,
              "#46039f"
             ],
             [
              0.2222222222222222,
              "#7201a8"
             ],
             [
              0.3333333333333333,
              "#9c179e"
             ],
             [
              0.4444444444444444,
              "#bd3786"
             ],
             [
              0.5555555555555556,
              "#d8576b"
             ],
             [
              0.6666666666666666,
              "#ed7953"
             ],
             [
              0.7777777777777778,
              "#fb9f3a"
             ],
             [
              0.8888888888888888,
              "#fdca26"
             ],
             [
              1,
              "#f0f921"
             ]
            ],
            "type": "heatmapgl"
           }
          ],
          "histogram": [
           {
            "marker": {
             "pattern": {
              "fillmode": "overlay",
              "size": 10,
              "solidity": 0.2
             }
            },
            "type": "histogram"
           }
          ],
          "histogram2d": [
           {
            "colorbar": {
             "outlinewidth": 0,
             "ticks": ""
            },
            "colorscale": [
             [
              0,
              "#0d0887"
             ],
             [
              0.1111111111111111,
              "#46039f"
             ],
             [
              0.2222222222222222,
              "#7201a8"
             ],
             [
              0.3333333333333333,
              "#9c179e"
             ],
             [
              0.4444444444444444,
              "#bd3786"
             ],
             [
              0.5555555555555556,
              "#d8576b"
             ],
             [
              0.6666666666666666,
              "#ed7953"
             ],
             [
              0.7777777777777778,
              "#fb9f3a"
             ],
             [
              0.8888888888888888,
              "#fdca26"
             ],
             [
              1,
              "#f0f921"
             ]
            ],
            "type": "histogram2d"
           }
          ],
          "histogram2dcontour": [
           {
            "colorbar": {
             "outlinewidth": 0,
             "ticks": ""
            },
            "colorscale": [
             [
              0,
              "#0d0887"
             ],
             [
              0.1111111111111111,
              "#46039f"
             ],
             [
              0.2222222222222222,
              "#7201a8"
             ],
             [
              0.3333333333333333,
              "#9c179e"
             ],
             [
              0.4444444444444444,
              "#bd3786"
             ],
             [
              0.5555555555555556,
              "#d8576b"
             ],
             [
              0.6666666666666666,
              "#ed7953"
             ],
             [
              0.7777777777777778,
              "#fb9f3a"
             ],
             [
              0.8888888888888888,
              "#fdca26"
             ],
             [
              1,
              "#f0f921"
             ]
            ],
            "type": "histogram2dcontour"
           }
          ],
          "mesh3d": [
           {
            "colorbar": {
             "outlinewidth": 0,
             "ticks": ""
            },
            "type": "mesh3d"
           }
          ],
          "parcoords": [
           {
            "line": {
             "colorbar": {
              "outlinewidth": 0,
              "ticks": ""
             }
            },
            "type": "parcoords"
           }
          ],
          "pie": [
           {
            "automargin": true,
            "type": "pie"
           }
          ],
          "scatter": [
           {
            "marker": {
             "colorbar": {
              "outlinewidth": 0,
              "ticks": ""
             }
            },
            "type": "scatter"
           }
          ],
          "scatter3d": [
           {
            "line": {
             "colorbar": {
              "outlinewidth": 0,
              "ticks": ""
             }
            },
            "marker": {
             "colorbar": {
              "outlinewidth": 0,
              "ticks": ""
             }
            },
            "type": "scatter3d"
           }
          ],
          "scattercarpet": [
           {
            "marker": {
             "colorbar": {
              "outlinewidth": 0,
              "ticks": ""
             }
            },
            "type": "scattercarpet"
           }
          ],
          "scattergeo": [
           {
            "marker": {
             "colorbar": {
              "outlinewidth": 0,
              "ticks": ""
             }
            },
            "type": "scattergeo"
           }
          ],
          "scattergl": [
           {
            "marker": {
             "colorbar": {
              "outlinewidth": 0,
              "ticks": ""
             }
            },
            "type": "scattergl"
           }
          ],
          "scattermapbox": [
           {
            "marker": {
             "colorbar": {
              "outlinewidth": 0,
              "ticks": ""
             }
            },
            "type": "scattermapbox"
           }
          ],
          "scatterpolar": [
           {
            "marker": {
             "colorbar": {
              "outlinewidth": 0,
              "ticks": ""
             }
            },
            "type": "scatterpolar"
           }
          ],
          "scatterpolargl": [
           {
            "marker": {
             "colorbar": {
              "outlinewidth": 0,
              "ticks": ""
             }
            },
            "type": "scatterpolargl"
           }
          ],
          "scatterternary": [
           {
            "marker": {
             "colorbar": {
              "outlinewidth": 0,
              "ticks": ""
             }
            },
            "type": "scatterternary"
           }
          ],
          "surface": [
           {
            "colorbar": {
             "outlinewidth": 0,
             "ticks": ""
            },
            "colorscale": [
             [
              0,
              "#0d0887"
             ],
             [
              0.1111111111111111,
              "#46039f"
             ],
             [
              0.2222222222222222,
              "#7201a8"
             ],
             [
              0.3333333333333333,
              "#9c179e"
             ],
             [
              0.4444444444444444,
              "#bd3786"
             ],
             [
              0.5555555555555556,
              "#d8576b"
             ],
             [
              0.6666666666666666,
              "#ed7953"
             ],
             [
              0.7777777777777778,
              "#fb9f3a"
             ],
             [
              0.8888888888888888,
              "#fdca26"
             ],
             [
              1,
              "#f0f921"
             ]
            ],
            "type": "surface"
           }
          ],
          "table": [
           {
            "cells": {
             "fill": {
              "color": "#EBF0F8"
             },
             "line": {
              "color": "white"
             }
            },
            "header": {
             "fill": {
              "color": "#C8D4E3"
             },
             "line": {
              "color": "white"
             }
            },
            "type": "table"
           }
          ]
         },
         "layout": {
          "annotationdefaults": {
           "arrowcolor": "#2a3f5f",
           "arrowhead": 0,
           "arrowwidth": 1
          },
          "autotypenumbers": "strict",
          "coloraxis": {
           "colorbar": {
            "outlinewidth": 0,
            "ticks": ""
           }
          },
          "colorscale": {
           "diverging": [
            [
             0,
             "#8e0152"
            ],
            [
             0.1,
             "#c51b7d"
            ],
            [
             0.2,
             "#de77ae"
            ],
            [
             0.3,
             "#f1b6da"
            ],
            [
             0.4,
             "#fde0ef"
            ],
            [
             0.5,
             "#f7f7f7"
            ],
            [
             0.6,
             "#e6f5d0"
            ],
            [
             0.7,
             "#b8e186"
            ],
            [
             0.8,
             "#7fbc41"
            ],
            [
             0.9,
             "#4d9221"
            ],
            [
             1,
             "#276419"
            ]
           ],
           "sequential": [
            [
             0,
             "#0d0887"
            ],
            [
             0.1111111111111111,
             "#46039f"
            ],
            [
             0.2222222222222222,
             "#7201a8"
            ],
            [
             0.3333333333333333,
             "#9c179e"
            ],
            [
             0.4444444444444444,
             "#bd3786"
            ],
            [
             0.5555555555555556,
             "#d8576b"
            ],
            [
             0.6666666666666666,
             "#ed7953"
            ],
            [
             0.7777777777777778,
             "#fb9f3a"
            ],
            [
             0.8888888888888888,
             "#fdca26"
            ],
            [
             1,
             "#f0f921"
            ]
           ],
           "sequentialminus": [
            [
             0,
             "#0d0887"
            ],
            [
             0.1111111111111111,
             "#46039f"
            ],
            [
             0.2222222222222222,
             "#7201a8"
            ],
            [
             0.3333333333333333,
             "#9c179e"
            ],
            [
             0.4444444444444444,
             "#bd3786"
            ],
            [
             0.5555555555555556,
             "#d8576b"
            ],
            [
             0.6666666666666666,
             "#ed7953"
            ],
            [
             0.7777777777777778,
             "#fb9f3a"
            ],
            [
             0.8888888888888888,
             "#fdca26"
            ],
            [
             1,
             "#f0f921"
            ]
           ]
          },
          "colorway": [
           "#636efa",
           "#EF553B",
           "#00cc96",
           "#ab63fa",
           "#FFA15A",
           "#19d3f3",
           "#FF6692",
           "#B6E880",
           "#FF97FF",
           "#FECB52"
          ],
          "font": {
           "color": "#2a3f5f"
          },
          "geo": {
           "bgcolor": "white",
           "lakecolor": "white",
           "landcolor": "#E5ECF6",
           "showlakes": true,
           "showland": true,
           "subunitcolor": "white"
          },
          "hoverlabel": {
           "align": "left"
          },
          "hovermode": "closest",
          "mapbox": {
           "style": "light"
          },
          "paper_bgcolor": "white",
          "plot_bgcolor": "#E5ECF6",
          "polar": {
           "angularaxis": {
            "gridcolor": "white",
            "linecolor": "white",
            "ticks": ""
           },
           "bgcolor": "#E5ECF6",
           "radialaxis": {
            "gridcolor": "white",
            "linecolor": "white",
            "ticks": ""
           }
          },
          "scene": {
           "xaxis": {
            "backgroundcolor": "#E5ECF6",
            "gridcolor": "white",
            "gridwidth": 2,
            "linecolor": "white",
            "showbackground": true,
            "ticks": "",
            "zerolinecolor": "white"
           },
           "yaxis": {
            "backgroundcolor": "#E5ECF6",
            "gridcolor": "white",
            "gridwidth": 2,
            "linecolor": "white",
            "showbackground": true,
            "ticks": "",
            "zerolinecolor": "white"
           },
           "zaxis": {
            "backgroundcolor": "#E5ECF6",
            "gridcolor": "white",
            "gridwidth": 2,
            "linecolor": "white",
            "showbackground": true,
            "ticks": "",
            "zerolinecolor": "white"
           }
          },
          "shapedefaults": {
           "line": {
            "color": "#2a3f5f"
           }
          },
          "ternary": {
           "aaxis": {
            "gridcolor": "white",
            "linecolor": "white",
            "ticks": ""
           },
           "baxis": {
            "gridcolor": "white",
            "linecolor": "white",
            "ticks": ""
           },
           "bgcolor": "#E5ECF6",
           "caxis": {
            "gridcolor": "white",
            "linecolor": "white",
            "ticks": ""
           }
          },
          "title": {
           "x": 0.05
          },
          "xaxis": {
           "automargin": true,
           "gridcolor": "white",
           "linecolor": "white",
           "ticks": "",
           "title": {
            "standoff": 15
           },
           "zerolinecolor": "white",
           "zerolinewidth": 2
          },
          "yaxis": {
           "automargin": true,
           "gridcolor": "white",
           "linecolor": "white",
           "ticks": "",
           "title": {
            "standoff": 15
           },
           "zerolinecolor": "white",
           "zerolinewidth": 2
          }
         }
        }
       }
      }
     },
     "metadata": {},
     "output_type": "display_data"
    }
   ],
   "source": [
    "n_interfaces = len(buried_ab_ag_interface_res.query('incomplete == 0'))\n",
    "n_interfaces_bothchains = len(buried_ab_ag_interface_res.query('hchains != 0 and lchains != 0 and incomplete == 0'))\n",
    "n_interfaces_hchainonly = len(buried_ab_ag_interface_res.query('hchains != 0 and incomplete == 0')) - n_interfaces_bothchains\n",
    "n_interfaces_lchainonly = len(buried_ab_ag_interface_res.query('lchains != 0 and incomplete == 0')) - n_interfaces_bothchains\n",
    "print(\n",
    "    f\"Total interfaces: {n_interfaces}\\n\",\n",
    "    f\"H+L chains present: {n_interfaces_bothchains} {round(n_interfaces_bothchains / n_interfaces * 100, 1)}\\n\",\n",
    "    f\"Only H chain present: {n_interfaces_hchainonly} {round(n_interfaces_hchainonly / n_interfaces * 100, 1)}\\n\",\n",
    "    f\"Only L chain present: {n_interfaces_lchainonly} {round(n_interfaces_lchainonly / n_interfaces * 100, 1)}\",\n",
    ")\n",
    "\n",
    "import plotly.graph_objects as go\n",
    "\n",
    "labels = ['H+L chains','Only H chain','Only L']\n",
    "values = [n_interfaces_bothchains, n_interfaces_hchainonly, n_interfaces_lchainonly]\n",
    "\n",
    "fig = go.Figure(data=[go.Pie(labels=labels, values=values)])\n",
    "fig.show()"
   ]
  },
  {
   "cell_type": "code",
   "execution_count": 15,
   "metadata": {},
   "outputs": [
    {
     "name": "stdout",
     "output_type": "stream",
     "text": [
      "Number of Residues\n",
      "Avg Heavy chain: 9.7\n",
      "Avg Light chain: 5.1\n",
      "(array([0.01804671, 0.014862  , 0.03821656, 0.06794055, 0.09766454,\n",
      "       0.10721868, 0.07165605, 0.05467091, 0.01963907, 0.01008493]), array([ 0.,  2.,  4.,  6.,  8., 10., 12., 14., 16., 18., 20.]))\n",
      "(array([0.05720339, 0.10222458, 0.13930085, 0.10752119, 0.05773305,\n",
      "       0.02330508, 0.00635593, 0.00317797, 0.00264831, 0.00052966]), array([ 0.,  2.,  4.,  6.,  8., 10., 12., 14., 16., 18., 20.]))\n"
     ]
    },
    {
     "data": {
      "application/vnd.plotly.v1+json": {
       "config": {
        "plotlyServerURL": "https://plot.ly"
       },
       "data": [
        {
         "line": {
          "shape": "spline"
         },
         "mode": "lines+markers",
         "name": "Heavy Chain",
         "type": "scatter",
         "x": [
          0,
          2,
          4,
          6,
          8,
          10,
          12,
          14,
          16,
          18,
          20
         ],
         "y": [
          0.018046709129511677,
          0.014861995753715499,
          0.03821656050955414,
          0.06794055201698514,
          0.09766454352441614,
          0.10721868365180467,
          0.07165605095541401,
          0.05467091295116773,
          0.019639065817409766,
          0.010084925690021231
         ]
        },
        {
         "line": {
          "shape": "spline"
         },
         "mode": "lines+markers",
         "name": "Light Chain",
         "type": "scatter",
         "x": [
          0,
          2,
          4,
          6,
          8,
          10,
          12,
          14,
          16,
          18,
          20
         ],
         "y": [
          0.057203389830508475,
          0.10222457627118645,
          0.1393008474576271,
          0.10752118644067797,
          0.057733050847457626,
          0.023305084745762712,
          0.006355932203389831,
          0.0031779661016949155,
          0.0026483050847457626,
          0.0005296610169491525
         ]
        }
       ],
       "layout": {
        "autosize": false,
        "height": 500,
        "margin": {
         "b": 100,
         "l": 50,
         "pad": 4,
         "r": 50,
         "t": 100
        },
        "template": {
         "data": {
          "bar": [
           {
            "error_x": {
             "color": "#2a3f5f"
            },
            "error_y": {
             "color": "#2a3f5f"
            },
            "marker": {
             "line": {
              "color": "white",
              "width": 0.5
             },
             "pattern": {
              "fillmode": "overlay",
              "size": 10,
              "solidity": 0.2
             }
            },
            "type": "bar"
           }
          ],
          "barpolar": [
           {
            "marker": {
             "line": {
              "color": "white",
              "width": 0.5
             },
             "pattern": {
              "fillmode": "overlay",
              "size": 10,
              "solidity": 0.2
             }
            },
            "type": "barpolar"
           }
          ],
          "carpet": [
           {
            "aaxis": {
             "endlinecolor": "#2a3f5f",
             "gridcolor": "#C8D4E3",
             "linecolor": "#C8D4E3",
             "minorgridcolor": "#C8D4E3",
             "startlinecolor": "#2a3f5f"
            },
            "baxis": {
             "endlinecolor": "#2a3f5f",
             "gridcolor": "#C8D4E3",
             "linecolor": "#C8D4E3",
             "minorgridcolor": "#C8D4E3",
             "startlinecolor": "#2a3f5f"
            },
            "type": "carpet"
           }
          ],
          "choropleth": [
           {
            "colorbar": {
             "outlinewidth": 0,
             "ticks": ""
            },
            "type": "choropleth"
           }
          ],
          "contour": [
           {
            "colorbar": {
             "outlinewidth": 0,
             "ticks": ""
            },
            "colorscale": [
             [
              0,
              "#0d0887"
             ],
             [
              0.1111111111111111,
              "#46039f"
             ],
             [
              0.2222222222222222,
              "#7201a8"
             ],
             [
              0.3333333333333333,
              "#9c179e"
             ],
             [
              0.4444444444444444,
              "#bd3786"
             ],
             [
              0.5555555555555556,
              "#d8576b"
             ],
             [
              0.6666666666666666,
              "#ed7953"
             ],
             [
              0.7777777777777778,
              "#fb9f3a"
             ],
             [
              0.8888888888888888,
              "#fdca26"
             ],
             [
              1,
              "#f0f921"
             ]
            ],
            "type": "contour"
           }
          ],
          "contourcarpet": [
           {
            "colorbar": {
             "outlinewidth": 0,
             "ticks": ""
            },
            "type": "contourcarpet"
           }
          ],
          "heatmap": [
           {
            "colorbar": {
             "outlinewidth": 0,
             "ticks": ""
            },
            "colorscale": [
             [
              0,
              "#0d0887"
             ],
             [
              0.1111111111111111,
              "#46039f"
             ],
             [
              0.2222222222222222,
              "#7201a8"
             ],
             [
              0.3333333333333333,
              "#9c179e"
             ],
             [
              0.4444444444444444,
              "#bd3786"
             ],
             [
              0.5555555555555556,
              "#d8576b"
             ],
             [
              0.6666666666666666,
              "#ed7953"
             ],
             [
              0.7777777777777778,
              "#fb9f3a"
             ],
             [
              0.8888888888888888,
              "#fdca26"
             ],
             [
              1,
              "#f0f921"
             ]
            ],
            "type": "heatmap"
           }
          ],
          "heatmapgl": [
           {
            "colorbar": {
             "outlinewidth": 0,
             "ticks": ""
            },
            "colorscale": [
             [
              0,
              "#0d0887"
             ],
             [
              0.1111111111111111,
              "#46039f"
             ],
             [
              0.2222222222222222,
              "#7201a8"
             ],
             [
              0.3333333333333333,
              "#9c179e"
             ],
             [
              0.4444444444444444,
              "#bd3786"
             ],
             [
              0.5555555555555556,
              "#d8576b"
             ],
             [
              0.6666666666666666,
              "#ed7953"
             ],
             [
              0.7777777777777778,
              "#fb9f3a"
             ],
             [
              0.8888888888888888,
              "#fdca26"
             ],
             [
              1,
              "#f0f921"
             ]
            ],
            "type": "heatmapgl"
           }
          ],
          "histogram": [
           {
            "marker": {
             "pattern": {
              "fillmode": "overlay",
              "size": 10,
              "solidity": 0.2
             }
            },
            "type": "histogram"
           }
          ],
          "histogram2d": [
           {
            "colorbar": {
             "outlinewidth": 0,
             "ticks": ""
            },
            "colorscale": [
             [
              0,
              "#0d0887"
             ],
             [
              0.1111111111111111,
              "#46039f"
             ],
             [
              0.2222222222222222,
              "#7201a8"
             ],
             [
              0.3333333333333333,
              "#9c179e"
             ],
             [
              0.4444444444444444,
              "#bd3786"
             ],
             [
              0.5555555555555556,
              "#d8576b"
             ],
             [
              0.6666666666666666,
              "#ed7953"
             ],
             [
              0.7777777777777778,
              "#fb9f3a"
             ],
             [
              0.8888888888888888,
              "#fdca26"
             ],
             [
              1,
              "#f0f921"
             ]
            ],
            "type": "histogram2d"
           }
          ],
          "histogram2dcontour": [
           {
            "colorbar": {
             "outlinewidth": 0,
             "ticks": ""
            },
            "colorscale": [
             [
              0,
              "#0d0887"
             ],
             [
              0.1111111111111111,
              "#46039f"
             ],
             [
              0.2222222222222222,
              "#7201a8"
             ],
             [
              0.3333333333333333,
              "#9c179e"
             ],
             [
              0.4444444444444444,
              "#bd3786"
             ],
             [
              0.5555555555555556,
              "#d8576b"
             ],
             [
              0.6666666666666666,
              "#ed7953"
             ],
             [
              0.7777777777777778,
              "#fb9f3a"
             ],
             [
              0.8888888888888888,
              "#fdca26"
             ],
             [
              1,
              "#f0f921"
             ]
            ],
            "type": "histogram2dcontour"
           }
          ],
          "mesh3d": [
           {
            "colorbar": {
             "outlinewidth": 0,
             "ticks": ""
            },
            "type": "mesh3d"
           }
          ],
          "parcoords": [
           {
            "line": {
             "colorbar": {
              "outlinewidth": 0,
              "ticks": ""
             }
            },
            "type": "parcoords"
           }
          ],
          "pie": [
           {
            "automargin": true,
            "type": "pie"
           }
          ],
          "scatter": [
           {
            "marker": {
             "colorbar": {
              "outlinewidth": 0,
              "ticks": ""
             }
            },
            "type": "scatter"
           }
          ],
          "scatter3d": [
           {
            "line": {
             "colorbar": {
              "outlinewidth": 0,
              "ticks": ""
             }
            },
            "marker": {
             "colorbar": {
              "outlinewidth": 0,
              "ticks": ""
             }
            },
            "type": "scatter3d"
           }
          ],
          "scattercarpet": [
           {
            "marker": {
             "colorbar": {
              "outlinewidth": 0,
              "ticks": ""
             }
            },
            "type": "scattercarpet"
           }
          ],
          "scattergeo": [
           {
            "marker": {
             "colorbar": {
              "outlinewidth": 0,
              "ticks": ""
             }
            },
            "type": "scattergeo"
           }
          ],
          "scattergl": [
           {
            "marker": {
             "colorbar": {
              "outlinewidth": 0,
              "ticks": ""
             }
            },
            "type": "scattergl"
           }
          ],
          "scattermapbox": [
           {
            "marker": {
             "colorbar": {
              "outlinewidth": 0,
              "ticks": ""
             }
            },
            "type": "scattermapbox"
           }
          ],
          "scatterpolar": [
           {
            "marker": {
             "colorbar": {
              "outlinewidth": 0,
              "ticks": ""
             }
            },
            "type": "scatterpolar"
           }
          ],
          "scatterpolargl": [
           {
            "marker": {
             "colorbar": {
              "outlinewidth": 0,
              "ticks": ""
             }
            },
            "type": "scatterpolargl"
           }
          ],
          "scatterternary": [
           {
            "marker": {
             "colorbar": {
              "outlinewidth": 0,
              "ticks": ""
             }
            },
            "type": "scatterternary"
           }
          ],
          "surface": [
           {
            "colorbar": {
             "outlinewidth": 0,
             "ticks": ""
            },
            "colorscale": [
             [
              0,
              "#0d0887"
             ],
             [
              0.1111111111111111,
              "#46039f"
             ],
             [
              0.2222222222222222,
              "#7201a8"
             ],
             [
              0.3333333333333333,
              "#9c179e"
             ],
             [
              0.4444444444444444,
              "#bd3786"
             ],
             [
              0.5555555555555556,
              "#d8576b"
             ],
             [
              0.6666666666666666,
              "#ed7953"
             ],
             [
              0.7777777777777778,
              "#fb9f3a"
             ],
             [
              0.8888888888888888,
              "#fdca26"
             ],
             [
              1,
              "#f0f921"
             ]
            ],
            "type": "surface"
           }
          ],
          "table": [
           {
            "cells": {
             "fill": {
              "color": "#EBF0F8"
             },
             "line": {
              "color": "white"
             }
            },
            "header": {
             "fill": {
              "color": "#C8D4E3"
             },
             "line": {
              "color": "white"
             }
            },
            "type": "table"
           }
          ]
         },
         "layout": {
          "annotationdefaults": {
           "arrowcolor": "#2a3f5f",
           "arrowhead": 0,
           "arrowwidth": 1
          },
          "autotypenumbers": "strict",
          "coloraxis": {
           "colorbar": {
            "outlinewidth": 0,
            "ticks": ""
           }
          },
          "colorscale": {
           "diverging": [
            [
             0,
             "#8e0152"
            ],
            [
             0.1,
             "#c51b7d"
            ],
            [
             0.2,
             "#de77ae"
            ],
            [
             0.3,
             "#f1b6da"
            ],
            [
             0.4,
             "#fde0ef"
            ],
            [
             0.5,
             "#f7f7f7"
            ],
            [
             0.6,
             "#e6f5d0"
            ],
            [
             0.7,
             "#b8e186"
            ],
            [
             0.8,
             "#7fbc41"
            ],
            [
             0.9,
             "#4d9221"
            ],
            [
             1,
             "#276419"
            ]
           ],
           "sequential": [
            [
             0,
             "#0d0887"
            ],
            [
             0.1111111111111111,
             "#46039f"
            ],
            [
             0.2222222222222222,
             "#7201a8"
            ],
            [
             0.3333333333333333,
             "#9c179e"
            ],
            [
             0.4444444444444444,
             "#bd3786"
            ],
            [
             0.5555555555555556,
             "#d8576b"
            ],
            [
             0.6666666666666666,
             "#ed7953"
            ],
            [
             0.7777777777777778,
             "#fb9f3a"
            ],
            [
             0.8888888888888888,
             "#fdca26"
            ],
            [
             1,
             "#f0f921"
            ]
           ],
           "sequentialminus": [
            [
             0,
             "#0d0887"
            ],
            [
             0.1111111111111111,
             "#46039f"
            ],
            [
             0.2222222222222222,
             "#7201a8"
            ],
            [
             0.3333333333333333,
             "#9c179e"
            ],
            [
             0.4444444444444444,
             "#bd3786"
            ],
            [
             0.5555555555555556,
             "#d8576b"
            ],
            [
             0.6666666666666666,
             "#ed7953"
            ],
            [
             0.7777777777777778,
             "#fb9f3a"
            ],
            [
             0.8888888888888888,
             "#fdca26"
            ],
            [
             1,
             "#f0f921"
            ]
           ]
          },
          "colorway": [
           "#636efa",
           "#EF553B",
           "#00cc96",
           "#ab63fa",
           "#FFA15A",
           "#19d3f3",
           "#FF6692",
           "#B6E880",
           "#FF97FF",
           "#FECB52"
          ],
          "font": {
           "color": "#2a3f5f"
          },
          "geo": {
           "bgcolor": "white",
           "lakecolor": "white",
           "landcolor": "white",
           "showlakes": true,
           "showland": true,
           "subunitcolor": "#C8D4E3"
          },
          "hoverlabel": {
           "align": "left"
          },
          "hovermode": "closest",
          "mapbox": {
           "style": "light"
          },
          "paper_bgcolor": "white",
          "plot_bgcolor": "white",
          "polar": {
           "angularaxis": {
            "gridcolor": "#EBF0F8",
            "linecolor": "#EBF0F8",
            "ticks": ""
           },
           "bgcolor": "white",
           "radialaxis": {
            "gridcolor": "#EBF0F8",
            "linecolor": "#EBF0F8",
            "ticks": ""
           }
          },
          "scene": {
           "xaxis": {
            "backgroundcolor": "white",
            "gridcolor": "#DFE8F3",
            "gridwidth": 2,
            "linecolor": "#EBF0F8",
            "showbackground": true,
            "ticks": "",
            "zerolinecolor": "#EBF0F8"
           },
           "yaxis": {
            "backgroundcolor": "white",
            "gridcolor": "#DFE8F3",
            "gridwidth": 2,
            "linecolor": "#EBF0F8",
            "showbackground": true,
            "ticks": "",
            "zerolinecolor": "#EBF0F8"
           },
           "zaxis": {
            "backgroundcolor": "white",
            "gridcolor": "#DFE8F3",
            "gridwidth": 2,
            "linecolor": "#EBF0F8",
            "showbackground": true,
            "ticks": "",
            "zerolinecolor": "#EBF0F8"
           }
          },
          "shapedefaults": {
           "line": {
            "color": "#2a3f5f"
           }
          },
          "ternary": {
           "aaxis": {
            "gridcolor": "#DFE8F3",
            "linecolor": "#A2B1C6",
            "ticks": ""
           },
           "baxis": {
            "gridcolor": "#DFE8F3",
            "linecolor": "#A2B1C6",
            "ticks": ""
           },
           "bgcolor": "white",
           "caxis": {
            "gridcolor": "#DFE8F3",
            "linecolor": "#A2B1C6",
            "ticks": ""
           }
          },
          "title": {
           "x": 0.05
          },
          "xaxis": {
           "automargin": true,
           "gridcolor": "#EBF0F8",
           "linecolor": "#EBF0F8",
           "ticks": "",
           "title": {
            "standoff": 15
           },
           "zerolinecolor": "#EBF0F8",
           "zerolinewidth": 2
          },
          "yaxis": {
           "automargin": true,
           "gridcolor": "#EBF0F8",
           "linecolor": "#EBF0F8",
           "ticks": "",
           "title": {
            "standoff": 15
           },
           "zerolinecolor": "#EBF0F8",
           "zerolinewidth": 2
          }
         }
        },
        "width": 500,
        "xaxis": {
         "title": {
          "text": "# Residues"
         }
        },
        "yaxis": {
         "title": {
          "text": "Probability Density"
         }
        }
       }
      }
     },
     "metadata": {},
     "output_type": "display_data"
    }
   ],
   "source": [
    "heavy_hist = np.histogram(buried_ab_ag_interface_res['hchains'], range=(0, 20), bins=10, density=True)\n",
    "light_hist = np.histogram(buried_ab_ag_interface_res['lchains'], range=(0, 20), bins=10, density=True)\n",
    "heavy_mean, light_mean = buried_ab_ag_interface_res['hchains'].mean(), buried_ab_ag_interface_res['lchains'].mean()\n",
    "\n",
    "print(f'Number of Residues\\nAvg Heavy chain: {round(heavy_mean, 1)}\\nAvg Light chain: {round(light_mean, 1)}')\n",
    "print(heavy_hist)\n",
    "print(light_hist)\n",
    "\n",
    "fig = go.Figure()\n",
    "fig.add_trace(go.Scatter(y=heavy_hist[0], x=heavy_hist[1],\n",
    "                    mode='lines+markers', line_shape='spline',\n",
    "                    name='Heavy Chain'))\n",
    "fig.add_trace(go.Scatter(y=light_hist[0], x=light_hist[1],\n",
    "                    mode='lines+markers', line_shape='spline',\n",
    "                    name='Light Chain'))\n",
    "fig.update_layout(\n",
    "    xaxis_title=\"# Residues\",\n",
    "    yaxis_title=\"Probability Density\",\n",
    "    template=\"plotly_white\",\n",
    "    autosize=False,\n",
    "    width=500,\n",
    "    height=500,\n",
    "    margin=dict(\n",
    "        l=50,\n",
    "        r=50,\n",
    "        b=100,\n",
    "        t=100,\n",
    "        pad=4\n",
    "    ),\n",
    ")\n",
    "fig.show()"
   ]
  },
  {
   "cell_type": "code",
   "execution_count": 16,
   "metadata": {},
   "outputs": [
    {
     "name": "stdout",
     "output_type": "stream",
     "text": [
      "        TOTAL\n",
      "HEAVY: 7144 (62.6%)  \n",
      "LIGHT: 4261 (37.4%)  \n",
      "\n",
      "       CDR1    CDR2    CDR3\n",
      "HEAVY: 1446 (12.7%) 2009 (17.6%) 3689 (32.3%)\n",
      "LIGHT: 1608 (14.1%)  707  (6.2%) 1946 (17.1%)\n",
      "TOTAL: 3054 (26.8%) 2716 (23.8%) 5635 (49.4%)\n",
      "\n"
     ]
    }
   ],
   "source": [
    "\n",
    "tot_hcdr1, tot_hcdr2, tot_hcdr3 = buried_ab_ag_interface_res['hcdr1'].sum(), buried_ab_ag_interface_res['hcdr2'].sum(), buried_ab_ag_interface_res['hcdr3'].sum()\n",
    "tot_hchain_cdr = tot_hcdr1 + tot_hcdr2 + tot_hcdr3\n",
    "tot_lcdr1, tot_lcdr2, tot_lcdr3 = buried_ab_ag_interface_res['lcdr1'].sum(), buried_ab_ag_interface_res['lcdr2'].sum(), buried_ab_ag_interface_res['lcdr3'].sum()\n",
    "tot_lchain_cdr = tot_lcdr1 + tot_lcdr2 + tot_lcdr3\n",
    "tot_all = tot_hchain_cdr + tot_lchain_cdr\n",
    "print(\n",
    "    '        TOTAL\\n'\n",
    "    f'HEAVY: {int(tot_hchain_cdr)} ({round(tot_hchain_cdr / tot_all * 100, 1)}%)  \\n'\n",
    "    f'LIGHT: {int(tot_lchain_cdr)} ({round(tot_lchain_cdr / tot_all * 100, 1)}%)  \\n'\n",
    ")\n",
    "print(\n",
    "    f'       CDR1    CDR2    CDR3\\n'\n",
    "    'HEAVY: '\n",
    "    f'{int(tot_hcdr1)} ({round(tot_hcdr1 / tot_all * 100, 1)}%) '\n",
    "    f'{int(tot_hcdr2)} ({round(tot_hcdr2 / tot_all * 100, 1)}%) '\n",
    "    f'{int(tot_hcdr3)} ({round(tot_hcdr3 / tot_all * 100, 1)}%)\\n'\n",
    "    f'LIGHT: {int(tot_lcdr1)} ({round(tot_lcdr1 / tot_all * 100, 1)}%) '\n",
    "    f' {int(tot_lcdr2)}  ({round(tot_lcdr2 / tot_all * 100, 1)}%) '\n",
    "    f'{int(tot_lcdr3)} ({round(tot_lcdr3 / tot_all * 100, 1)}%)\\n'\n",
    "    'TOTAL: '\n",
    "    f'{int(tot_hcdr1 + tot_lcdr1)} ({round((tot_hcdr1 + tot_lcdr1) / tot_all * 100, 1)}%) '\n",
    "    f'{int(tot_hcdr2 + tot_lcdr2)} ({round((tot_hcdr2 + tot_lcdr2) / tot_all * 100, 1)}%) '\n",
    "    f'{int(tot_hcdr3 + tot_lcdr3)} ({round((tot_hcdr3 + tot_lcdr3) / tot_all * 100, 1)}%)\\n'\n",
    ")"
   ]
  },
  {
   "cell_type": "code",
   "execution_count": 17,
   "metadata": {},
   "outputs": [
    {
     "name": "stdout",
     "output_type": "stream",
     "text": [
      "Average CDR length (number of residues)\n",
      "   CDR1 CDR2 CDR3\n",
      "H : 1.5  2.1  3.9\n",
      "L : 1.7  0.7  2.1\n",
      "(array([341, 162, 206, 131,  63,  33,   8,   2,   0,   0]), array([ 0.,  1.,  2.,  3.,  4.,  5.,  6.,  7.,  8.,  9., 10.]))\n",
      "(array([179, 160, 202, 214, 156,  31,   4,   0,   0,   0]), array([ 0.,  1.,  2.,  3.,  4.,  5.,  6.,  7.,  8.,  9., 10.]))\n",
      "(array([ 23,  91, 109, 198, 214, 134,  81,  43,  28,  19]), array([ 0.,  1.,  2.,  3.,  4.,  5.,  6.,  7.,  8.,  9., 10.]))\n",
      "(array([272, 212, 191, 151,  67,  30,  19,   3,   1,   0]), array([ 0.,  1.,  2.,  3.,  4.,  5.,  6.,  7.,  8.,  9., 10.]))\n",
      "(array([557, 218,  88,  47,  17,  13,   3,   3,   0,   0]), array([ 0.,  1.,  2.,  3.,  4.,  5.,  6.,  7.,  8.,  9., 10.]))\n",
      "(array([237, 146, 182, 176, 138,  53,  11,   1,   0,   2]), array([ 0.,  1.,  2.,  3.,  4.,  5.,  6.,  7.,  8.,  9., 10.]))\n"
     ]
    },
    {
     "data": {
      "application/vnd.plotly.v1+json": {
       "config": {
        "plotlyServerURL": "https://plot.ly"
       },
       "data": [
        {
         "line": {
          "shape": "spline"
         },
         "mode": "lines+markers",
         "name": "H CDR 1",
         "type": "scatter",
         "x": [
          1,
          2,
          3,
          4,
          5,
          6,
          7,
          8,
          9,
          10
         ],
         "y": [
          162,
          206,
          131,
          63,
          33,
          8,
          2,
          0,
          0
         ]
        },
        {
         "line": {
          "shape": "spline"
         },
         "mode": "lines+markers",
         "name": "H CDR 2",
         "type": "scatter",
         "x": [
          1,
          2,
          3,
          4,
          5,
          6,
          7,
          8,
          9,
          10
         ],
         "y": [
          160,
          202,
          214,
          156,
          31,
          4,
          0,
          0,
          0
         ]
        },
        {
         "line": {
          "shape": "spline"
         },
         "mode": "lines+markers",
         "name": "H CDR 3",
         "type": "scatter",
         "x": [
          1,
          2,
          3,
          4,
          5,
          6,
          7,
          8,
          9,
          10
         ],
         "y": [
          91,
          109,
          198,
          214,
          134,
          81,
          43,
          28,
          19
         ]
        },
        {
         "line": {
          "shape": "spline"
         },
         "mode": "lines+markers",
         "name": "L CDR 1",
         "type": "scatter",
         "x": [
          1,
          2,
          3,
          4,
          5,
          6,
          7,
          8,
          9,
          10
         ],
         "y": [
          212,
          191,
          151,
          67,
          30,
          19,
          3,
          1,
          0
         ]
        },
        {
         "line": {
          "shape": "spline"
         },
         "mode": "lines+markers",
         "name": "L CDR 2",
         "type": "scatter",
         "x": [
          1,
          2,
          3,
          4,
          5,
          6,
          7,
          8,
          9,
          10
         ],
         "y": [
          218,
          88,
          47,
          17,
          13,
          3,
          3,
          0,
          0
         ]
        },
        {
         "line": {
          "shape": "spline"
         },
         "mode": "lines+markers",
         "name": "L CDR 3",
         "type": "scatter",
         "x": [
          1,
          2,
          3,
          4,
          5,
          6,
          7,
          8,
          9,
          10
         ],
         "y": [
          146,
          182,
          176,
          138,
          53,
          11,
          1,
          0,
          2
         ]
        }
       ],
       "layout": {
        "autosize": false,
        "height": 500,
        "margin": {
         "b": 100,
         "l": 50,
         "pad": 4,
         "r": 50,
         "t": 100
        },
        "template": {
         "data": {
          "bar": [
           {
            "error_x": {
             "color": "#2a3f5f"
            },
            "error_y": {
             "color": "#2a3f5f"
            },
            "marker": {
             "line": {
              "color": "white",
              "width": 0.5
             },
             "pattern": {
              "fillmode": "overlay",
              "size": 10,
              "solidity": 0.2
             }
            },
            "type": "bar"
           }
          ],
          "barpolar": [
           {
            "marker": {
             "line": {
              "color": "white",
              "width": 0.5
             },
             "pattern": {
              "fillmode": "overlay",
              "size": 10,
              "solidity": 0.2
             }
            },
            "type": "barpolar"
           }
          ],
          "carpet": [
           {
            "aaxis": {
             "endlinecolor": "#2a3f5f",
             "gridcolor": "#C8D4E3",
             "linecolor": "#C8D4E3",
             "minorgridcolor": "#C8D4E3",
             "startlinecolor": "#2a3f5f"
            },
            "baxis": {
             "endlinecolor": "#2a3f5f",
             "gridcolor": "#C8D4E3",
             "linecolor": "#C8D4E3",
             "minorgridcolor": "#C8D4E3",
             "startlinecolor": "#2a3f5f"
            },
            "type": "carpet"
           }
          ],
          "choropleth": [
           {
            "colorbar": {
             "outlinewidth": 0,
             "ticks": ""
            },
            "type": "choropleth"
           }
          ],
          "contour": [
           {
            "colorbar": {
             "outlinewidth": 0,
             "ticks": ""
            },
            "colorscale": [
             [
              0,
              "#0d0887"
             ],
             [
              0.1111111111111111,
              "#46039f"
             ],
             [
              0.2222222222222222,
              "#7201a8"
             ],
             [
              0.3333333333333333,
              "#9c179e"
             ],
             [
              0.4444444444444444,
              "#bd3786"
             ],
             [
              0.5555555555555556,
              "#d8576b"
             ],
             [
              0.6666666666666666,
              "#ed7953"
             ],
             [
              0.7777777777777778,
              "#fb9f3a"
             ],
             [
              0.8888888888888888,
              "#fdca26"
             ],
             [
              1,
              "#f0f921"
             ]
            ],
            "type": "contour"
           }
          ],
          "contourcarpet": [
           {
            "colorbar": {
             "outlinewidth": 0,
             "ticks": ""
            },
            "type": "contourcarpet"
           }
          ],
          "heatmap": [
           {
            "colorbar": {
             "outlinewidth": 0,
             "ticks": ""
            },
            "colorscale": [
             [
              0,
              "#0d0887"
             ],
             [
              0.1111111111111111,
              "#46039f"
             ],
             [
              0.2222222222222222,
              "#7201a8"
             ],
             [
              0.3333333333333333,
              "#9c179e"
             ],
             [
              0.4444444444444444,
              "#bd3786"
             ],
             [
              0.5555555555555556,
              "#d8576b"
             ],
             [
              0.6666666666666666,
              "#ed7953"
             ],
             [
              0.7777777777777778,
              "#fb9f3a"
             ],
             [
              0.8888888888888888,
              "#fdca26"
             ],
             [
              1,
              "#f0f921"
             ]
            ],
            "type": "heatmap"
           }
          ],
          "heatmapgl": [
           {
            "colorbar": {
             "outlinewidth": 0,
             "ticks": ""
            },
            "colorscale": [
             [
              0,
              "#0d0887"
             ],
             [
              0.1111111111111111,
              "#46039f"
             ],
             [
              0.2222222222222222,
              "#7201a8"
             ],
             [
              0.3333333333333333,
              "#9c179e"
             ],
             [
              0.4444444444444444,
              "#bd3786"
             ],
             [
              0.5555555555555556,
              "#d8576b"
             ],
             [
              0.6666666666666666,
              "#ed7953"
             ],
             [
              0.7777777777777778,
              "#fb9f3a"
             ],
             [
              0.8888888888888888,
              "#fdca26"
             ],
             [
              1,
              "#f0f921"
             ]
            ],
            "type": "heatmapgl"
           }
          ],
          "histogram": [
           {
            "marker": {
             "pattern": {
              "fillmode": "overlay",
              "size": 10,
              "solidity": 0.2
             }
            },
            "type": "histogram"
           }
          ],
          "histogram2d": [
           {
            "colorbar": {
             "outlinewidth": 0,
             "ticks": ""
            },
            "colorscale": [
             [
              0,
              "#0d0887"
             ],
             [
              0.1111111111111111,
              "#46039f"
             ],
             [
              0.2222222222222222,
              "#7201a8"
             ],
             [
              0.3333333333333333,
              "#9c179e"
             ],
             [
              0.4444444444444444,
              "#bd3786"
             ],
             [
              0.5555555555555556,
              "#d8576b"
             ],
             [
              0.6666666666666666,
              "#ed7953"
             ],
             [
              0.7777777777777778,
              "#fb9f3a"
             ],
             [
              0.8888888888888888,
              "#fdca26"
             ],
             [
              1,
              "#f0f921"
             ]
            ],
            "type": "histogram2d"
           }
          ],
          "histogram2dcontour": [
           {
            "colorbar": {
             "outlinewidth": 0,
             "ticks": ""
            },
            "colorscale": [
             [
              0,
              "#0d0887"
             ],
             [
              0.1111111111111111,
              "#46039f"
             ],
             [
              0.2222222222222222,
              "#7201a8"
             ],
             [
              0.3333333333333333,
              "#9c179e"
             ],
             [
              0.4444444444444444,
              "#bd3786"
             ],
             [
              0.5555555555555556,
              "#d8576b"
             ],
             [
              0.6666666666666666,
              "#ed7953"
             ],
             [
              0.7777777777777778,
              "#fb9f3a"
             ],
             [
              0.8888888888888888,
              "#fdca26"
             ],
             [
              1,
              "#f0f921"
             ]
            ],
            "type": "histogram2dcontour"
           }
          ],
          "mesh3d": [
           {
            "colorbar": {
             "outlinewidth": 0,
             "ticks": ""
            },
            "type": "mesh3d"
           }
          ],
          "parcoords": [
           {
            "line": {
             "colorbar": {
              "outlinewidth": 0,
              "ticks": ""
             }
            },
            "type": "parcoords"
           }
          ],
          "pie": [
           {
            "automargin": true,
            "type": "pie"
           }
          ],
          "scatter": [
           {
            "marker": {
             "colorbar": {
              "outlinewidth": 0,
              "ticks": ""
             }
            },
            "type": "scatter"
           }
          ],
          "scatter3d": [
           {
            "line": {
             "colorbar": {
              "outlinewidth": 0,
              "ticks": ""
             }
            },
            "marker": {
             "colorbar": {
              "outlinewidth": 0,
              "ticks": ""
             }
            },
            "type": "scatter3d"
           }
          ],
          "scattercarpet": [
           {
            "marker": {
             "colorbar": {
              "outlinewidth": 0,
              "ticks": ""
             }
            },
            "type": "scattercarpet"
           }
          ],
          "scattergeo": [
           {
            "marker": {
             "colorbar": {
              "outlinewidth": 0,
              "ticks": ""
             }
            },
            "type": "scattergeo"
           }
          ],
          "scattergl": [
           {
            "marker": {
             "colorbar": {
              "outlinewidth": 0,
              "ticks": ""
             }
            },
            "type": "scattergl"
           }
          ],
          "scattermapbox": [
           {
            "marker": {
             "colorbar": {
              "outlinewidth": 0,
              "ticks": ""
             }
            },
            "type": "scattermapbox"
           }
          ],
          "scatterpolar": [
           {
            "marker": {
             "colorbar": {
              "outlinewidth": 0,
              "ticks": ""
             }
            },
            "type": "scatterpolar"
           }
          ],
          "scatterpolargl": [
           {
            "marker": {
             "colorbar": {
              "outlinewidth": 0,
              "ticks": ""
             }
            },
            "type": "scatterpolargl"
           }
          ],
          "scatterternary": [
           {
            "marker": {
             "colorbar": {
              "outlinewidth": 0,
              "ticks": ""
             }
            },
            "type": "scatterternary"
           }
          ],
          "surface": [
           {
            "colorbar": {
             "outlinewidth": 0,
             "ticks": ""
            },
            "colorscale": [
             [
              0,
              "#0d0887"
             ],
             [
              0.1111111111111111,
              "#46039f"
             ],
             [
              0.2222222222222222,
              "#7201a8"
             ],
             [
              0.3333333333333333,
              "#9c179e"
             ],
             [
              0.4444444444444444,
              "#bd3786"
             ],
             [
              0.5555555555555556,
              "#d8576b"
             ],
             [
              0.6666666666666666,
              "#ed7953"
             ],
             [
              0.7777777777777778,
              "#fb9f3a"
             ],
             [
              0.8888888888888888,
              "#fdca26"
             ],
             [
              1,
              "#f0f921"
             ]
            ],
            "type": "surface"
           }
          ],
          "table": [
           {
            "cells": {
             "fill": {
              "color": "#EBF0F8"
             },
             "line": {
              "color": "white"
             }
            },
            "header": {
             "fill": {
              "color": "#C8D4E3"
             },
             "line": {
              "color": "white"
             }
            },
            "type": "table"
           }
          ]
         },
         "layout": {
          "annotationdefaults": {
           "arrowcolor": "#2a3f5f",
           "arrowhead": 0,
           "arrowwidth": 1
          },
          "autotypenumbers": "strict",
          "coloraxis": {
           "colorbar": {
            "outlinewidth": 0,
            "ticks": ""
           }
          },
          "colorscale": {
           "diverging": [
            [
             0,
             "#8e0152"
            ],
            [
             0.1,
             "#c51b7d"
            ],
            [
             0.2,
             "#de77ae"
            ],
            [
             0.3,
             "#f1b6da"
            ],
            [
             0.4,
             "#fde0ef"
            ],
            [
             0.5,
             "#f7f7f7"
            ],
            [
             0.6,
             "#e6f5d0"
            ],
            [
             0.7,
             "#b8e186"
            ],
            [
             0.8,
             "#7fbc41"
            ],
            [
             0.9,
             "#4d9221"
            ],
            [
             1,
             "#276419"
            ]
           ],
           "sequential": [
            [
             0,
             "#0d0887"
            ],
            [
             0.1111111111111111,
             "#46039f"
            ],
            [
             0.2222222222222222,
             "#7201a8"
            ],
            [
             0.3333333333333333,
             "#9c179e"
            ],
            [
             0.4444444444444444,
             "#bd3786"
            ],
            [
             0.5555555555555556,
             "#d8576b"
            ],
            [
             0.6666666666666666,
             "#ed7953"
            ],
            [
             0.7777777777777778,
             "#fb9f3a"
            ],
            [
             0.8888888888888888,
             "#fdca26"
            ],
            [
             1,
             "#f0f921"
            ]
           ],
           "sequentialminus": [
            [
             0,
             "#0d0887"
            ],
            [
             0.1111111111111111,
             "#46039f"
            ],
            [
             0.2222222222222222,
             "#7201a8"
            ],
            [
             0.3333333333333333,
             "#9c179e"
            ],
            [
             0.4444444444444444,
             "#bd3786"
            ],
            [
             0.5555555555555556,
             "#d8576b"
            ],
            [
             0.6666666666666666,
             "#ed7953"
            ],
            [
             0.7777777777777778,
             "#fb9f3a"
            ],
            [
             0.8888888888888888,
             "#fdca26"
            ],
            [
             1,
             "#f0f921"
            ]
           ]
          },
          "colorway": [
           "#636efa",
           "#EF553B",
           "#00cc96",
           "#ab63fa",
           "#FFA15A",
           "#19d3f3",
           "#FF6692",
           "#B6E880",
           "#FF97FF",
           "#FECB52"
          ],
          "font": {
           "color": "#2a3f5f"
          },
          "geo": {
           "bgcolor": "white",
           "lakecolor": "white",
           "landcolor": "white",
           "showlakes": true,
           "showland": true,
           "subunitcolor": "#C8D4E3"
          },
          "hoverlabel": {
           "align": "left"
          },
          "hovermode": "closest",
          "mapbox": {
           "style": "light"
          },
          "paper_bgcolor": "white",
          "plot_bgcolor": "white",
          "polar": {
           "angularaxis": {
            "gridcolor": "#EBF0F8",
            "linecolor": "#EBF0F8",
            "ticks": ""
           },
           "bgcolor": "white",
           "radialaxis": {
            "gridcolor": "#EBF0F8",
            "linecolor": "#EBF0F8",
            "ticks": ""
           }
          },
          "scene": {
           "xaxis": {
            "backgroundcolor": "white",
            "gridcolor": "#DFE8F3",
            "gridwidth": 2,
            "linecolor": "#EBF0F8",
            "showbackground": true,
            "ticks": "",
            "zerolinecolor": "#EBF0F8"
           },
           "yaxis": {
            "backgroundcolor": "white",
            "gridcolor": "#DFE8F3",
            "gridwidth": 2,
            "linecolor": "#EBF0F8",
            "showbackground": true,
            "ticks": "",
            "zerolinecolor": "#EBF0F8"
           },
           "zaxis": {
            "backgroundcolor": "white",
            "gridcolor": "#DFE8F3",
            "gridwidth": 2,
            "linecolor": "#EBF0F8",
            "showbackground": true,
            "ticks": "",
            "zerolinecolor": "#EBF0F8"
           }
          },
          "shapedefaults": {
           "line": {
            "color": "#2a3f5f"
           }
          },
          "ternary": {
           "aaxis": {
            "gridcolor": "#DFE8F3",
            "linecolor": "#A2B1C6",
            "ticks": ""
           },
           "baxis": {
            "gridcolor": "#DFE8F3",
            "linecolor": "#A2B1C6",
            "ticks": ""
           },
           "bgcolor": "white",
           "caxis": {
            "gridcolor": "#DFE8F3",
            "linecolor": "#A2B1C6",
            "ticks": ""
           }
          },
          "title": {
           "x": 0.05
          },
          "xaxis": {
           "automargin": true,
           "gridcolor": "#EBF0F8",
           "linecolor": "#EBF0F8",
           "ticks": "",
           "title": {
            "standoff": 15
           },
           "zerolinecolor": "#EBF0F8",
           "zerolinewidth": 2
          },
          "yaxis": {
           "automargin": true,
           "gridcolor": "#EBF0F8",
           "linecolor": "#EBF0F8",
           "ticks": "",
           "title": {
            "standoff": 15
           },
           "zerolinecolor": "#EBF0F8",
           "zerolinewidth": 2
          }
         }
        },
        "width": 500,
        "xaxis": {
         "dtick": 1,
         "range": [
          0.5,
          9.5
         ],
         "tick0": 1,
         "tickmode": "linear",
         "title": {
          "text": "# Residues"
         }
        },
        "yaxis": {
         "title": {
          "text": "Probability Density"
         }
        }
       }
      }
     },
     "metadata": {},
     "output_type": "display_data"
    }
   ],
   "source": [
    "hrange = (0, 10)\n",
    "hcdr1_hist = np.histogram(buried_ab_ag_interface_res['hcdr1'], range=hrange, bins=10)\n",
    "hcdr2_hist = np.histogram(buried_ab_ag_interface_res['hcdr2'], range=hrange, bins=10)\n",
    "hcdr3_hist = np.histogram(buried_ab_ag_interface_res['hcdr3'], range=hrange, bins=10)\n",
    "lcdr1_hist = np.histogram(buried_ab_ag_interface_res['lcdr1'], range=hrange, bins=10)\n",
    "lcdr2_hist = np.histogram(buried_ab_ag_interface_res['lcdr2'], range=hrange, bins=10)\n",
    "lcdr3_hist = np.histogram(buried_ab_ag_interface_res['lcdr3'], range=hrange, bins=10)\n",
    "\n",
    "print('Average CDR length (number of residues)')\n",
    "print(\n",
    "    '   CDR1 CDR2 CDR3\\n'\n",
    "    f'H : {round(buried_ab_ag_interface_res[\"hcdr1\"].mean(), 1)} '\n",
    "    f' {round(buried_ab_ag_interface_res[\"hcdr2\"].mean(), 1)} '\n",
    "    f' {round(buried_ab_ag_interface_res[\"hcdr3\"].mean(), 1)}\\n'\n",
    "    f'L : {round(buried_ab_ag_interface_res[\"lcdr1\"].mean(), 1)} '\n",
    "    f' {round(buried_ab_ag_interface_res[\"lcdr2\"].mean(), 1)} '\n",
    "    f' {round(buried_ab_ag_interface_res[\"lcdr3\"].mean(), 1)}'\n",
    ")\n",
    "print(hcdr1_hist)\n",
    "print(hcdr2_hist)\n",
    "print(hcdr3_hist)\n",
    "print(lcdr1_hist)\n",
    "print(lcdr2_hist)\n",
    "print(lcdr3_hist)\n",
    "\n",
    "fig = go.Figure()\n",
    "fig.add_trace(go.Scatter(y=hcdr1_hist[0][1:], x=hcdr1_hist[1][1:],\n",
    "                    mode='lines+markers', line_shape='spline',\n",
    "                    name='H CDR 1'))\n",
    "fig.add_trace(go.Scatter(y=hcdr2_hist[0][1:], x=hcdr2_hist[1][1:],\n",
    "                    mode='lines+markers', line_shape='spline',\n",
    "                    name='H CDR 2'))\n",
    "fig.add_trace(go.Scatter(y=hcdr3_hist[0][1:], x=hcdr3_hist[1][1:],\n",
    "                    mode='lines+markers', line_shape='spline',\n",
    "                    name='H CDR 3'))\n",
    "fig.add_trace(go.Scatter(y=lcdr1_hist[0][1:], x=lcdr1_hist[1][1:],\n",
    "                    mode='lines+markers', line_shape='spline',\n",
    "                    name='L CDR 1'))\n",
    "fig.add_trace(go.Scatter(y=lcdr2_hist[0][1:], x=lcdr2_hist[1][1:],\n",
    "                    mode='lines+markers', line_shape='spline',\n",
    "                    name='L CDR 2'))\n",
    "fig.add_trace(go.Scatter(y=lcdr3_hist[0][1:], x=lcdr3_hist[1][1:],\n",
    "                    mode='lines+markers', line_shape='spline',\n",
    "                    name='L CDR 3'))\n",
    "fig.update_layout(\n",
    "    xaxis_title=\"# Residues\",\n",
    "    yaxis_title=\"Probability Density\",\n",
    "    template=\"plotly_white\",\n",
    "    autosize=False,\n",
    "    width=500,\n",
    "    height=500,\n",
    "    margin=dict(\n",
    "        l=50,\n",
    "        r=50,\n",
    "        b=100,\n",
    "        t=100,\n",
    "        pad=4\n",
    "    ),\n",
    "    xaxis_range=(0.5, 9.5),\n",
    "    xaxis = dict(\n",
    "        tickmode = 'linear',\n",
    "        tick0 = 1,\n",
    "        dtick = 1\n",
    "    )\n",
    ")\n",
    "fig.show()"
   ]
  },
  {
   "cell_type": "code",
   "execution_count": 18,
   "metadata": {},
   "outputs": [
    {
     "name": "stdout",
     "output_type": "stream",
     "text": [
      "Only FRAMEWORK: 0.2%\n",
      "Only CDR: 14.0%\n",
      "CDR + Framework: 85.8%\n"
     ]
    }
   ],
   "source": [
    "only_framework = len(buried_ab_ag_interface_res.query('(hcdr1 + hcdr2 + hcdr3 + lcdr1 + lcdr2 + lcdr3) == 0'))\n",
    "only_cdr = len(buried_ab_ag_interface_res.query('(hcdr1 + hcdr2 + hcdr3 + lcdr1 + lcdr2 + lcdr3) == (hchains + lchains)'))\n",
    "\n",
    "print(\n",
    "    f'Only FRAMEWORK: {round(only_framework / len(buried_ab_ag_interface_res) * 100, 1)}%\\n'\n",
    "    f'Only CDR: {round(only_cdr / len(buried_ab_ag_interface_res) * 100, 1)}%\\n'\n",
    "    f'CDR + Framework: {round((len(buried_ab_ag_interface_res) - (only_framework + only_cdr)) / len(buried_ab_ag_interface_res) * 100, 1)}%'\n",
    ")"
   ]
  },
  {
   "cell_type": "code",
   "execution_count": 19,
   "metadata": {},
   "outputs": [
    {
     "name": "stdout",
     "output_type": "stream",
     "text": [
      "Avg CDR interaction: 82.8%\n",
      "(array([0.02114165, 0.        , 0.01057082, 0.0845666 , 0.26427061,\n",
      "       0.28541226, 0.6448203 , 1.80761099, 3.75264271, 3.12896406]), array([0. , 0.1, 0.2, 0.3, 0.4, 0.5, 0.6, 0.7, 0.8, 0.9, 1. ]))\n"
     ]
    },
    {
     "data": {
      "application/vnd.plotly.v1+json": {
       "config": {
        "plotlyServerURL": "https://plot.ly"
       },
       "data": [
        {
         "line": {
          "shape": "spline"
         },
         "mode": "lines+markers",
         "name": "Heavy Chain",
         "type": "scatter",
         "x": [
          0,
          10,
          20,
          30.000000000000004,
          40,
          50,
          60.00000000000001,
          70,
          80,
          90,
          100
         ],
         "y": [
          0.021141649048625793,
          0,
          0.010570824524312893,
          0.08456659619450319,
          0.26427061310782246,
          0.28541226215644794,
          0.6448202959830868,
          1.8076109936575058,
          3.752642706131079,
          3.1289640591966177
         ]
        }
       ],
       "layout": {
        "autosize": false,
        "height": 500,
        "margin": {
         "b": 100,
         "l": 50,
         "pad": 4,
         "r": 50,
         "t": 100
        },
        "template": {
         "data": {
          "bar": [
           {
            "error_x": {
             "color": "#2a3f5f"
            },
            "error_y": {
             "color": "#2a3f5f"
            },
            "marker": {
             "line": {
              "color": "white",
              "width": 0.5
             },
             "pattern": {
              "fillmode": "overlay",
              "size": 10,
              "solidity": 0.2
             }
            },
            "type": "bar"
           }
          ],
          "barpolar": [
           {
            "marker": {
             "line": {
              "color": "white",
              "width": 0.5
             },
             "pattern": {
              "fillmode": "overlay",
              "size": 10,
              "solidity": 0.2
             }
            },
            "type": "barpolar"
           }
          ],
          "carpet": [
           {
            "aaxis": {
             "endlinecolor": "#2a3f5f",
             "gridcolor": "#C8D4E3",
             "linecolor": "#C8D4E3",
             "minorgridcolor": "#C8D4E3",
             "startlinecolor": "#2a3f5f"
            },
            "baxis": {
             "endlinecolor": "#2a3f5f",
             "gridcolor": "#C8D4E3",
             "linecolor": "#C8D4E3",
             "minorgridcolor": "#C8D4E3",
             "startlinecolor": "#2a3f5f"
            },
            "type": "carpet"
           }
          ],
          "choropleth": [
           {
            "colorbar": {
             "outlinewidth": 0,
             "ticks": ""
            },
            "type": "choropleth"
           }
          ],
          "contour": [
           {
            "colorbar": {
             "outlinewidth": 0,
             "ticks": ""
            },
            "colorscale": [
             [
              0,
              "#0d0887"
             ],
             [
              0.1111111111111111,
              "#46039f"
             ],
             [
              0.2222222222222222,
              "#7201a8"
             ],
             [
              0.3333333333333333,
              "#9c179e"
             ],
             [
              0.4444444444444444,
              "#bd3786"
             ],
             [
              0.5555555555555556,
              "#d8576b"
             ],
             [
              0.6666666666666666,
              "#ed7953"
             ],
             [
              0.7777777777777778,
              "#fb9f3a"
             ],
             [
              0.8888888888888888,
              "#fdca26"
             ],
             [
              1,
              "#f0f921"
             ]
            ],
            "type": "contour"
           }
          ],
          "contourcarpet": [
           {
            "colorbar": {
             "outlinewidth": 0,
             "ticks": ""
            },
            "type": "contourcarpet"
           }
          ],
          "heatmap": [
           {
            "colorbar": {
             "outlinewidth": 0,
             "ticks": ""
            },
            "colorscale": [
             [
              0,
              "#0d0887"
             ],
             [
              0.1111111111111111,
              "#46039f"
             ],
             [
              0.2222222222222222,
              "#7201a8"
             ],
             [
              0.3333333333333333,
              "#9c179e"
             ],
             [
              0.4444444444444444,
              "#bd3786"
             ],
             [
              0.5555555555555556,
              "#d8576b"
             ],
             [
              0.6666666666666666,
              "#ed7953"
             ],
             [
              0.7777777777777778,
              "#fb9f3a"
             ],
             [
              0.8888888888888888,
              "#fdca26"
             ],
             [
              1,
              "#f0f921"
             ]
            ],
            "type": "heatmap"
           }
          ],
          "heatmapgl": [
           {
            "colorbar": {
             "outlinewidth": 0,
             "ticks": ""
            },
            "colorscale": [
             [
              0,
              "#0d0887"
             ],
             [
              0.1111111111111111,
              "#46039f"
             ],
             [
              0.2222222222222222,
              "#7201a8"
             ],
             [
              0.3333333333333333,
              "#9c179e"
             ],
             [
              0.4444444444444444,
              "#bd3786"
             ],
             [
              0.5555555555555556,
              "#d8576b"
             ],
             [
              0.6666666666666666,
              "#ed7953"
             ],
             [
              0.7777777777777778,
              "#fb9f3a"
             ],
             [
              0.8888888888888888,
              "#fdca26"
             ],
             [
              1,
              "#f0f921"
             ]
            ],
            "type": "heatmapgl"
           }
          ],
          "histogram": [
           {
            "marker": {
             "pattern": {
              "fillmode": "overlay",
              "size": 10,
              "solidity": 0.2
             }
            },
            "type": "histogram"
           }
          ],
          "histogram2d": [
           {
            "colorbar": {
             "outlinewidth": 0,
             "ticks": ""
            },
            "colorscale": [
             [
              0,
              "#0d0887"
             ],
             [
              0.1111111111111111,
              "#46039f"
             ],
             [
              0.2222222222222222,
              "#7201a8"
             ],
             [
              0.3333333333333333,
              "#9c179e"
             ],
             [
              0.4444444444444444,
              "#bd3786"
             ],
             [
              0.5555555555555556,
              "#d8576b"
             ],
             [
              0.6666666666666666,
              "#ed7953"
             ],
             [
              0.7777777777777778,
              "#fb9f3a"
             ],
             [
              0.8888888888888888,
              "#fdca26"
             ],
             [
              1,
              "#f0f921"
             ]
            ],
            "type": "histogram2d"
           }
          ],
          "histogram2dcontour": [
           {
            "colorbar": {
             "outlinewidth": 0,
             "ticks": ""
            },
            "colorscale": [
             [
              0,
              "#0d0887"
             ],
             [
              0.1111111111111111,
              "#46039f"
             ],
             [
              0.2222222222222222,
              "#7201a8"
             ],
             [
              0.3333333333333333,
              "#9c179e"
             ],
             [
              0.4444444444444444,
              "#bd3786"
             ],
             [
              0.5555555555555556,
              "#d8576b"
             ],
             [
              0.6666666666666666,
              "#ed7953"
             ],
             [
              0.7777777777777778,
              "#fb9f3a"
             ],
             [
              0.8888888888888888,
              "#fdca26"
             ],
             [
              1,
              "#f0f921"
             ]
            ],
            "type": "histogram2dcontour"
           }
          ],
          "mesh3d": [
           {
            "colorbar": {
             "outlinewidth": 0,
             "ticks": ""
            },
            "type": "mesh3d"
           }
          ],
          "parcoords": [
           {
            "line": {
             "colorbar": {
              "outlinewidth": 0,
              "ticks": ""
             }
            },
            "type": "parcoords"
           }
          ],
          "pie": [
           {
            "automargin": true,
            "type": "pie"
           }
          ],
          "scatter": [
           {
            "marker": {
             "colorbar": {
              "outlinewidth": 0,
              "ticks": ""
             }
            },
            "type": "scatter"
           }
          ],
          "scatter3d": [
           {
            "line": {
             "colorbar": {
              "outlinewidth": 0,
              "ticks": ""
             }
            },
            "marker": {
             "colorbar": {
              "outlinewidth": 0,
              "ticks": ""
             }
            },
            "type": "scatter3d"
           }
          ],
          "scattercarpet": [
           {
            "marker": {
             "colorbar": {
              "outlinewidth": 0,
              "ticks": ""
             }
            },
            "type": "scattercarpet"
           }
          ],
          "scattergeo": [
           {
            "marker": {
             "colorbar": {
              "outlinewidth": 0,
              "ticks": ""
             }
            },
            "type": "scattergeo"
           }
          ],
          "scattergl": [
           {
            "marker": {
             "colorbar": {
              "outlinewidth": 0,
              "ticks": ""
             }
            },
            "type": "scattergl"
           }
          ],
          "scattermapbox": [
           {
            "marker": {
             "colorbar": {
              "outlinewidth": 0,
              "ticks": ""
             }
            },
            "type": "scattermapbox"
           }
          ],
          "scatterpolar": [
           {
            "marker": {
             "colorbar": {
              "outlinewidth": 0,
              "ticks": ""
             }
            },
            "type": "scatterpolar"
           }
          ],
          "scatterpolargl": [
           {
            "marker": {
             "colorbar": {
              "outlinewidth": 0,
              "ticks": ""
             }
            },
            "type": "scatterpolargl"
           }
          ],
          "scatterternary": [
           {
            "marker": {
             "colorbar": {
              "outlinewidth": 0,
              "ticks": ""
             }
            },
            "type": "scatterternary"
           }
          ],
          "surface": [
           {
            "colorbar": {
             "outlinewidth": 0,
             "ticks": ""
            },
            "colorscale": [
             [
              0,
              "#0d0887"
             ],
             [
              0.1111111111111111,
              "#46039f"
             ],
             [
              0.2222222222222222,
              "#7201a8"
             ],
             [
              0.3333333333333333,
              "#9c179e"
             ],
             [
              0.4444444444444444,
              "#bd3786"
             ],
             [
              0.5555555555555556,
              "#d8576b"
             ],
             [
              0.6666666666666666,
              "#ed7953"
             ],
             [
              0.7777777777777778,
              "#fb9f3a"
             ],
             [
              0.8888888888888888,
              "#fdca26"
             ],
             [
              1,
              "#f0f921"
             ]
            ],
            "type": "surface"
           }
          ],
          "table": [
           {
            "cells": {
             "fill": {
              "color": "#EBF0F8"
             },
             "line": {
              "color": "white"
             }
            },
            "header": {
             "fill": {
              "color": "#C8D4E3"
             },
             "line": {
              "color": "white"
             }
            },
            "type": "table"
           }
          ]
         },
         "layout": {
          "annotationdefaults": {
           "arrowcolor": "#2a3f5f",
           "arrowhead": 0,
           "arrowwidth": 1
          },
          "autotypenumbers": "strict",
          "coloraxis": {
           "colorbar": {
            "outlinewidth": 0,
            "ticks": ""
           }
          },
          "colorscale": {
           "diverging": [
            [
             0,
             "#8e0152"
            ],
            [
             0.1,
             "#c51b7d"
            ],
            [
             0.2,
             "#de77ae"
            ],
            [
             0.3,
             "#f1b6da"
            ],
            [
             0.4,
             "#fde0ef"
            ],
            [
             0.5,
             "#f7f7f7"
            ],
            [
             0.6,
             "#e6f5d0"
            ],
            [
             0.7,
             "#b8e186"
            ],
            [
             0.8,
             "#7fbc41"
            ],
            [
             0.9,
             "#4d9221"
            ],
            [
             1,
             "#276419"
            ]
           ],
           "sequential": [
            [
             0,
             "#0d0887"
            ],
            [
             0.1111111111111111,
             "#46039f"
            ],
            [
             0.2222222222222222,
             "#7201a8"
            ],
            [
             0.3333333333333333,
             "#9c179e"
            ],
            [
             0.4444444444444444,
             "#bd3786"
            ],
            [
             0.5555555555555556,
             "#d8576b"
            ],
            [
             0.6666666666666666,
             "#ed7953"
            ],
            [
             0.7777777777777778,
             "#fb9f3a"
            ],
            [
             0.8888888888888888,
             "#fdca26"
            ],
            [
             1,
             "#f0f921"
            ]
           ],
           "sequentialminus": [
            [
             0,
             "#0d0887"
            ],
            [
             0.1111111111111111,
             "#46039f"
            ],
            [
             0.2222222222222222,
             "#7201a8"
            ],
            [
             0.3333333333333333,
             "#9c179e"
            ],
            [
             0.4444444444444444,
             "#bd3786"
            ],
            [
             0.5555555555555556,
             "#d8576b"
            ],
            [
             0.6666666666666666,
             "#ed7953"
            ],
            [
             0.7777777777777778,
             "#fb9f3a"
            ],
            [
             0.8888888888888888,
             "#fdca26"
            ],
            [
             1,
             "#f0f921"
            ]
           ]
          },
          "colorway": [
           "#636efa",
           "#EF553B",
           "#00cc96",
           "#ab63fa",
           "#FFA15A",
           "#19d3f3",
           "#FF6692",
           "#B6E880",
           "#FF97FF",
           "#FECB52"
          ],
          "font": {
           "color": "#2a3f5f"
          },
          "geo": {
           "bgcolor": "white",
           "lakecolor": "white",
           "landcolor": "white",
           "showlakes": true,
           "showland": true,
           "subunitcolor": "#C8D4E3"
          },
          "hoverlabel": {
           "align": "left"
          },
          "hovermode": "closest",
          "mapbox": {
           "style": "light"
          },
          "paper_bgcolor": "white",
          "plot_bgcolor": "white",
          "polar": {
           "angularaxis": {
            "gridcolor": "#EBF0F8",
            "linecolor": "#EBF0F8",
            "ticks": ""
           },
           "bgcolor": "white",
           "radialaxis": {
            "gridcolor": "#EBF0F8",
            "linecolor": "#EBF0F8",
            "ticks": ""
           }
          },
          "scene": {
           "xaxis": {
            "backgroundcolor": "white",
            "gridcolor": "#DFE8F3",
            "gridwidth": 2,
            "linecolor": "#EBF0F8",
            "showbackground": true,
            "ticks": "",
            "zerolinecolor": "#EBF0F8"
           },
           "yaxis": {
            "backgroundcolor": "white",
            "gridcolor": "#DFE8F3",
            "gridwidth": 2,
            "linecolor": "#EBF0F8",
            "showbackground": true,
            "ticks": "",
            "zerolinecolor": "#EBF0F8"
           },
           "zaxis": {
            "backgroundcolor": "white",
            "gridcolor": "#DFE8F3",
            "gridwidth": 2,
            "linecolor": "#EBF0F8",
            "showbackground": true,
            "ticks": "",
            "zerolinecolor": "#EBF0F8"
           }
          },
          "shapedefaults": {
           "line": {
            "color": "#2a3f5f"
           }
          },
          "ternary": {
           "aaxis": {
            "gridcolor": "#DFE8F3",
            "linecolor": "#A2B1C6",
            "ticks": ""
           },
           "baxis": {
            "gridcolor": "#DFE8F3",
            "linecolor": "#A2B1C6",
            "ticks": ""
           },
           "bgcolor": "white",
           "caxis": {
            "gridcolor": "#DFE8F3",
            "linecolor": "#A2B1C6",
            "ticks": ""
           }
          },
          "title": {
           "x": 0.05
          },
          "xaxis": {
           "automargin": true,
           "gridcolor": "#EBF0F8",
           "linecolor": "#EBF0F8",
           "ticks": "",
           "title": {
            "standoff": 15
           },
           "zerolinecolor": "#EBF0F8",
           "zerolinewidth": 2
          },
          "yaxis": {
           "automargin": true,
           "gridcolor": "#EBF0F8",
           "linecolor": "#EBF0F8",
           "ticks": "",
           "title": {
            "standoff": 15
           },
           "zerolinecolor": "#EBF0F8",
           "zerolinewidth": 2
          }
         }
        },
        "width": 500,
        "xaxis": {
         "range": [
          0,
          101
         ],
         "title": {
          "text": "CDR Interactions (%)"
         }
        },
        "yaxis": {
         "title": {
          "text": "Probability Density"
         }
        }
       }
      }
     },
     "metadata": {},
     "output_type": "display_data"
    }
   ],
   "source": [
    "def get_cdr_perc(x):\n",
    "    hcdr = x['hcdr1'] + x['hcdr2'] + x['hcdr3']\n",
    "    lcdr = x['lcdr1'] + x['lcdr2'] + x['lcdr3']\n",
    "    cdr = hcdr + lcdr\n",
    "    total = x['hchains'] + x['lchains']\n",
    "    return cdr / total\n",
    "\n",
    "cdr_perc = buried_ab_ag_interface_res.apply(lambda x: get_cdr_perc(x), axis=1)\n",
    "cdr_hist = np.histogram(cdr_perc, bins=10, density=True)\n",
    "\n",
    "print(f'Avg CDR interaction: {round(cdr_perc.mean() * 100, 1)}%')\n",
    "print(cdr_hist)\n",
    "\n",
    "\n",
    "fig = go.Figure()\n",
    "fig.add_trace(go.Scatter(y=cdr_hist[0], x=cdr_hist[1]*100,\n",
    "                    mode='lines+markers', line_shape='spline',\n",
    "                    name='Heavy Chain'))\n",
    "fig.update_layout(\n",
    "    xaxis_title=\"CDR Interactions (%)\",\n",
    "    yaxis_title=\"Probability Density\",\n",
    "    template=\"plotly_white\",\n",
    "    autosize=False,\n",
    "    width=500,\n",
    "    height=500,\n",
    "    margin=dict(\n",
    "        l=50,\n",
    "        r=50,\n",
    "        b=100,\n",
    "        t=100,\n",
    "        pad=4\n",
    "    ),\n",
    "    xaxis_range=[0,101]\n",
    ")\n",
    "fig.show()"
   ]
  },
  {
   "cell_type": "code",
   "execution_count": 20,
   "metadata": {},
   "outputs": [
    {
     "name": "stdout",
     "output_type": "stream",
     "text": [
      "          All    CDR  Framework\n",
      " HEAVY:  9189   7144  2045\n",
      " LIGHT:  4820   4261   559\n",
      " TOTAL: 14009  11405  2604\n"
     ]
    }
   ],
   "source": [
    "tot_hchain_all = buried_ab_ag_interface_res['hchains'].sum()\n",
    "tot_lchain_all = buried_ab_ag_interface_res['lchains'].sum()\n",
    "print(\n",
    "    \"          All    CDR  Framework\\n \"\n",
    "    f\"HEAVY:  {int(tot_hchain_all)}   {int(tot_hchain_cdr)}  {int(tot_hchain_all - tot_hchain_cdr)}\\n\",\n",
    "    f\"LIGHT:  {int(tot_lchain_all)}   {int(tot_lchain_cdr)}   {int(tot_lchain_all - tot_lchain_cdr)}\\n\",\n",
    "    f\"TOTAL: {int(tot_hchain_all + tot_lchain_all)}  {int(tot_hchain_cdr + tot_lchain_cdr)}  {int((tot_hchain_all - tot_hchain_cdr) + (tot_lchain_all - tot_lchain_cdr))}\"\n",
    ")\n"
   ]
  },
  {
   "cell_type": "code",
   "execution_count": 21,
   "metadata": {},
   "outputs": [
    {
     "name": "stdout",
     "output_type": "stream",
     "text": [
      "Avg number of CDRs: 4.3\n",
      "(array([0.00211864, 0.04555085, 0.1875    , 0.31038136, 0.31567797,\n",
      "       0.13877119]), array([0.5, 1.5, 2.5, 3.5, 4.5, 5.5, 6.5]))\n"
     ]
    },
    {
     "data": {
      "application/vnd.plotly.v1+json": {
       "config": {
        "plotlyServerURL": "https://plot.ly"
       },
       "data": [
        {
         "line": {
          "shape": "spline"
         },
         "mode": "lines+markers",
         "name": "Heavy Chain",
         "type": "scatter",
         "x": [
          0.5,
          1.5,
          2.5,
          3.5,
          4.5,
          5.5,
          6.5
         ],
         "y": [
          0.00211864406779661,
          0.045550847457627115,
          0.1875,
          0.3103813559322034,
          0.3156779661016949,
          0.13877118644067796
         ]
        }
       ],
       "layout": {
        "autosize": false,
        "height": 500,
        "margin": {
         "b": 100,
         "l": 50,
         "pad": 4,
         "r": 50,
         "t": 100
        },
        "template": {
         "data": {
          "bar": [
           {
            "error_x": {
             "color": "#2a3f5f"
            },
            "error_y": {
             "color": "#2a3f5f"
            },
            "marker": {
             "line": {
              "color": "white",
              "width": 0.5
             },
             "pattern": {
              "fillmode": "overlay",
              "size": 10,
              "solidity": 0.2
             }
            },
            "type": "bar"
           }
          ],
          "barpolar": [
           {
            "marker": {
             "line": {
              "color": "white",
              "width": 0.5
             },
             "pattern": {
              "fillmode": "overlay",
              "size": 10,
              "solidity": 0.2
             }
            },
            "type": "barpolar"
           }
          ],
          "carpet": [
           {
            "aaxis": {
             "endlinecolor": "#2a3f5f",
             "gridcolor": "#C8D4E3",
             "linecolor": "#C8D4E3",
             "minorgridcolor": "#C8D4E3",
             "startlinecolor": "#2a3f5f"
            },
            "baxis": {
             "endlinecolor": "#2a3f5f",
             "gridcolor": "#C8D4E3",
             "linecolor": "#C8D4E3",
             "minorgridcolor": "#C8D4E3",
             "startlinecolor": "#2a3f5f"
            },
            "type": "carpet"
           }
          ],
          "choropleth": [
           {
            "colorbar": {
             "outlinewidth": 0,
             "ticks": ""
            },
            "type": "choropleth"
           }
          ],
          "contour": [
           {
            "colorbar": {
             "outlinewidth": 0,
             "ticks": ""
            },
            "colorscale": [
             [
              0,
              "#0d0887"
             ],
             [
              0.1111111111111111,
              "#46039f"
             ],
             [
              0.2222222222222222,
              "#7201a8"
             ],
             [
              0.3333333333333333,
              "#9c179e"
             ],
             [
              0.4444444444444444,
              "#bd3786"
             ],
             [
              0.5555555555555556,
              "#d8576b"
             ],
             [
              0.6666666666666666,
              "#ed7953"
             ],
             [
              0.7777777777777778,
              "#fb9f3a"
             ],
             [
              0.8888888888888888,
              "#fdca26"
             ],
             [
              1,
              "#f0f921"
             ]
            ],
            "type": "contour"
           }
          ],
          "contourcarpet": [
           {
            "colorbar": {
             "outlinewidth": 0,
             "ticks": ""
            },
            "type": "contourcarpet"
           }
          ],
          "heatmap": [
           {
            "colorbar": {
             "outlinewidth": 0,
             "ticks": ""
            },
            "colorscale": [
             [
              0,
              "#0d0887"
             ],
             [
              0.1111111111111111,
              "#46039f"
             ],
             [
              0.2222222222222222,
              "#7201a8"
             ],
             [
              0.3333333333333333,
              "#9c179e"
             ],
             [
              0.4444444444444444,
              "#bd3786"
             ],
             [
              0.5555555555555556,
              "#d8576b"
             ],
             [
              0.6666666666666666,
              "#ed7953"
             ],
             [
              0.7777777777777778,
              "#fb9f3a"
             ],
             [
              0.8888888888888888,
              "#fdca26"
             ],
             [
              1,
              "#f0f921"
             ]
            ],
            "type": "heatmap"
           }
          ],
          "heatmapgl": [
           {
            "colorbar": {
             "outlinewidth": 0,
             "ticks": ""
            },
            "colorscale": [
             [
              0,
              "#0d0887"
             ],
             [
              0.1111111111111111,
              "#46039f"
             ],
             [
              0.2222222222222222,
              "#7201a8"
             ],
             [
              0.3333333333333333,
              "#9c179e"
             ],
             [
              0.4444444444444444,
              "#bd3786"
             ],
             [
              0.5555555555555556,
              "#d8576b"
             ],
             [
              0.6666666666666666,
              "#ed7953"
             ],
             [
              0.7777777777777778,
              "#fb9f3a"
             ],
             [
              0.8888888888888888,
              "#fdca26"
             ],
             [
              1,
              "#f0f921"
             ]
            ],
            "type": "heatmapgl"
           }
          ],
          "histogram": [
           {
            "marker": {
             "pattern": {
              "fillmode": "overlay",
              "size": 10,
              "solidity": 0.2
             }
            },
            "type": "histogram"
           }
          ],
          "histogram2d": [
           {
            "colorbar": {
             "outlinewidth": 0,
             "ticks": ""
            },
            "colorscale": [
             [
              0,
              "#0d0887"
             ],
             [
              0.1111111111111111,
              "#46039f"
             ],
             [
              0.2222222222222222,
              "#7201a8"
             ],
             [
              0.3333333333333333,
              "#9c179e"
             ],
             [
              0.4444444444444444,
              "#bd3786"
             ],
             [
              0.5555555555555556,
              "#d8576b"
             ],
             [
              0.6666666666666666,
              "#ed7953"
             ],
             [
              0.7777777777777778,
              "#fb9f3a"
             ],
             [
              0.8888888888888888,
              "#fdca26"
             ],
             [
              1,
              "#f0f921"
             ]
            ],
            "type": "histogram2d"
           }
          ],
          "histogram2dcontour": [
           {
            "colorbar": {
             "outlinewidth": 0,
             "ticks": ""
            },
            "colorscale": [
             [
              0,
              "#0d0887"
             ],
             [
              0.1111111111111111,
              "#46039f"
             ],
             [
              0.2222222222222222,
              "#7201a8"
             ],
             [
              0.3333333333333333,
              "#9c179e"
             ],
             [
              0.4444444444444444,
              "#bd3786"
             ],
             [
              0.5555555555555556,
              "#d8576b"
             ],
             [
              0.6666666666666666,
              "#ed7953"
             ],
             [
              0.7777777777777778,
              "#fb9f3a"
             ],
             [
              0.8888888888888888,
              "#fdca26"
             ],
             [
              1,
              "#f0f921"
             ]
            ],
            "type": "histogram2dcontour"
           }
          ],
          "mesh3d": [
           {
            "colorbar": {
             "outlinewidth": 0,
             "ticks": ""
            },
            "type": "mesh3d"
           }
          ],
          "parcoords": [
           {
            "line": {
             "colorbar": {
              "outlinewidth": 0,
              "ticks": ""
             }
            },
            "type": "parcoords"
           }
          ],
          "pie": [
           {
            "automargin": true,
            "type": "pie"
           }
          ],
          "scatter": [
           {
            "marker": {
             "colorbar": {
              "outlinewidth": 0,
              "ticks": ""
             }
            },
            "type": "scatter"
           }
          ],
          "scatter3d": [
           {
            "line": {
             "colorbar": {
              "outlinewidth": 0,
              "ticks": ""
             }
            },
            "marker": {
             "colorbar": {
              "outlinewidth": 0,
              "ticks": ""
             }
            },
            "type": "scatter3d"
           }
          ],
          "scattercarpet": [
           {
            "marker": {
             "colorbar": {
              "outlinewidth": 0,
              "ticks": ""
             }
            },
            "type": "scattercarpet"
           }
          ],
          "scattergeo": [
           {
            "marker": {
             "colorbar": {
              "outlinewidth": 0,
              "ticks": ""
             }
            },
            "type": "scattergeo"
           }
          ],
          "scattergl": [
           {
            "marker": {
             "colorbar": {
              "outlinewidth": 0,
              "ticks": ""
             }
            },
            "type": "scattergl"
           }
          ],
          "scattermapbox": [
           {
            "marker": {
             "colorbar": {
              "outlinewidth": 0,
              "ticks": ""
             }
            },
            "type": "scattermapbox"
           }
          ],
          "scatterpolar": [
           {
            "marker": {
             "colorbar": {
              "outlinewidth": 0,
              "ticks": ""
             }
            },
            "type": "scatterpolar"
           }
          ],
          "scatterpolargl": [
           {
            "marker": {
             "colorbar": {
              "outlinewidth": 0,
              "ticks": ""
             }
            },
            "type": "scatterpolargl"
           }
          ],
          "scatterternary": [
           {
            "marker": {
             "colorbar": {
              "outlinewidth": 0,
              "ticks": ""
             }
            },
            "type": "scatterternary"
           }
          ],
          "surface": [
           {
            "colorbar": {
             "outlinewidth": 0,
             "ticks": ""
            },
            "colorscale": [
             [
              0,
              "#0d0887"
             ],
             [
              0.1111111111111111,
              "#46039f"
             ],
             [
              0.2222222222222222,
              "#7201a8"
             ],
             [
              0.3333333333333333,
              "#9c179e"
             ],
             [
              0.4444444444444444,
              "#bd3786"
             ],
             [
              0.5555555555555556,
              "#d8576b"
             ],
             [
              0.6666666666666666,
              "#ed7953"
             ],
             [
              0.7777777777777778,
              "#fb9f3a"
             ],
             [
              0.8888888888888888,
              "#fdca26"
             ],
             [
              1,
              "#f0f921"
             ]
            ],
            "type": "surface"
           }
          ],
          "table": [
           {
            "cells": {
             "fill": {
              "color": "#EBF0F8"
             },
             "line": {
              "color": "white"
             }
            },
            "header": {
             "fill": {
              "color": "#C8D4E3"
             },
             "line": {
              "color": "white"
             }
            },
            "type": "table"
           }
          ]
         },
         "layout": {
          "annotationdefaults": {
           "arrowcolor": "#2a3f5f",
           "arrowhead": 0,
           "arrowwidth": 1
          },
          "autotypenumbers": "strict",
          "coloraxis": {
           "colorbar": {
            "outlinewidth": 0,
            "ticks": ""
           }
          },
          "colorscale": {
           "diverging": [
            [
             0,
             "#8e0152"
            ],
            [
             0.1,
             "#c51b7d"
            ],
            [
             0.2,
             "#de77ae"
            ],
            [
             0.3,
             "#f1b6da"
            ],
            [
             0.4,
             "#fde0ef"
            ],
            [
             0.5,
             "#f7f7f7"
            ],
            [
             0.6,
             "#e6f5d0"
            ],
            [
             0.7,
             "#b8e186"
            ],
            [
             0.8,
             "#7fbc41"
            ],
            [
             0.9,
             "#4d9221"
            ],
            [
             1,
             "#276419"
            ]
           ],
           "sequential": [
            [
             0,
             "#0d0887"
            ],
            [
             0.1111111111111111,
             "#46039f"
            ],
            [
             0.2222222222222222,
             "#7201a8"
            ],
            [
             0.3333333333333333,
             "#9c179e"
            ],
            [
             0.4444444444444444,
             "#bd3786"
            ],
            [
             0.5555555555555556,
             "#d8576b"
            ],
            [
             0.6666666666666666,
             "#ed7953"
            ],
            [
             0.7777777777777778,
             "#fb9f3a"
            ],
            [
             0.8888888888888888,
             "#fdca26"
            ],
            [
             1,
             "#f0f921"
            ]
           ],
           "sequentialminus": [
            [
             0,
             "#0d0887"
            ],
            [
             0.1111111111111111,
             "#46039f"
            ],
            [
             0.2222222222222222,
             "#7201a8"
            ],
            [
             0.3333333333333333,
             "#9c179e"
            ],
            [
             0.4444444444444444,
             "#bd3786"
            ],
            [
             0.5555555555555556,
             "#d8576b"
            ],
            [
             0.6666666666666666,
             "#ed7953"
            ],
            [
             0.7777777777777778,
             "#fb9f3a"
            ],
            [
             0.8888888888888888,
             "#fdca26"
            ],
            [
             1,
             "#f0f921"
            ]
           ]
          },
          "colorway": [
           "#636efa",
           "#EF553B",
           "#00cc96",
           "#ab63fa",
           "#FFA15A",
           "#19d3f3",
           "#FF6692",
           "#B6E880",
           "#FF97FF",
           "#FECB52"
          ],
          "font": {
           "color": "#2a3f5f"
          },
          "geo": {
           "bgcolor": "white",
           "lakecolor": "white",
           "landcolor": "white",
           "showlakes": true,
           "showland": true,
           "subunitcolor": "#C8D4E3"
          },
          "hoverlabel": {
           "align": "left"
          },
          "hovermode": "closest",
          "mapbox": {
           "style": "light"
          },
          "paper_bgcolor": "white",
          "plot_bgcolor": "white",
          "polar": {
           "angularaxis": {
            "gridcolor": "#EBF0F8",
            "linecolor": "#EBF0F8",
            "ticks": ""
           },
           "bgcolor": "white",
           "radialaxis": {
            "gridcolor": "#EBF0F8",
            "linecolor": "#EBF0F8",
            "ticks": ""
           }
          },
          "scene": {
           "xaxis": {
            "backgroundcolor": "white",
            "gridcolor": "#DFE8F3",
            "gridwidth": 2,
            "linecolor": "#EBF0F8",
            "showbackground": true,
            "ticks": "",
            "zerolinecolor": "#EBF0F8"
           },
           "yaxis": {
            "backgroundcolor": "white",
            "gridcolor": "#DFE8F3",
            "gridwidth": 2,
            "linecolor": "#EBF0F8",
            "showbackground": true,
            "ticks": "",
            "zerolinecolor": "#EBF0F8"
           },
           "zaxis": {
            "backgroundcolor": "white",
            "gridcolor": "#DFE8F3",
            "gridwidth": 2,
            "linecolor": "#EBF0F8",
            "showbackground": true,
            "ticks": "",
            "zerolinecolor": "#EBF0F8"
           }
          },
          "shapedefaults": {
           "line": {
            "color": "#2a3f5f"
           }
          },
          "ternary": {
           "aaxis": {
            "gridcolor": "#DFE8F3",
            "linecolor": "#A2B1C6",
            "ticks": ""
           },
           "baxis": {
            "gridcolor": "#DFE8F3",
            "linecolor": "#A2B1C6",
            "ticks": ""
           },
           "bgcolor": "white",
           "caxis": {
            "gridcolor": "#DFE8F3",
            "linecolor": "#A2B1C6",
            "ticks": ""
           }
          },
          "title": {
           "x": 0.05
          },
          "xaxis": {
           "automargin": true,
           "gridcolor": "#EBF0F8",
           "linecolor": "#EBF0F8",
           "ticks": "",
           "title": {
            "standoff": 15
           },
           "zerolinecolor": "#EBF0F8",
           "zerolinewidth": 2
          },
          "yaxis": {
           "automargin": true,
           "gridcolor": "#EBF0F8",
           "linecolor": "#EBF0F8",
           "ticks": "",
           "title": {
            "standoff": 15
           },
           "zerolinecolor": "#EBF0F8",
           "zerolinewidth": 2
          }
         }
        },
        "width": 500,
        "xaxis": {
         "title": {
          "text": "Number of Interacting CDR Chains"
         }
        },
        "yaxis": {
         "title": {
          "text": "Probability Density"
         }
        }
       }
      }
     },
     "metadata": {},
     "output_type": "display_data"
    }
   ],
   "source": [
    "def count_cdrs(x):\n",
    "    n_cdrs = 0\n",
    "    for cdr_i in x[['hcdr1', 'hcdr2', 'hcdr3', 'lcdr1', 'lcdr2', 'lcdr3']]:\n",
    "        if cdr_i > 0:\n",
    "            n_cdrs += 1\n",
    "    return n_cdrs\n",
    "\n",
    "\n",
    "buried_ab_ag_interface_res['n_cdrs'] = buried_ab_ag_interface_res.apply(lambda x: count_cdrs(x), axis=1)\n",
    "\n",
    "n_cdrs_hist = np.histogram(buried_ab_ag_interface_res['n_cdrs'], range=(0.5,6.5), bins=6, density=True)\n",
    "print(f\"Avg number of CDRs: {round(buried_ab_ag_interface_res['n_cdrs'].mean(), 1)}\")\n",
    "print(n_cdrs_hist)\n",
    "\n",
    "fig = go.Figure()\n",
    "fig.add_trace(go.Scatter(y=n_cdrs_hist[0], x=n_cdrs_hist[1],\n",
    "                    mode='lines+markers', line_shape='spline',\n",
    "                    name='Heavy Chain'))\n",
    "fig.update_layout(\n",
    "    xaxis_title=\"Number of Interacting CDR Chains\",\n",
    "    yaxis_title=\"Probability Density\",\n",
    "    template=\"plotly_white\",\n",
    "    autosize=False,\n",
    "    width=500,\n",
    "    height=500,\n",
    "    margin=dict(\n",
    "        l=50,\n",
    "        r=50,\n",
    "        b=100,\n",
    "        t=100,\n",
    "        pad=4\n",
    "    )\n",
    ")\n",
    "fig.show()\n"
   ]
  },
  {
   "cell_type": "code",
   "execution_count": 22,
   "metadata": {},
   "outputs": [],
   "source": [
    "def get_cdr3_len(x):\n",
    "    ab_chains = protein_antigens.query(\n",
    "        f\"pdb == '{x['idcode']}' and {'L' if x['chain_type'] in 'LK' else 'H'}chain == '{x['chainID']}'\", engine = 'python')[['Hchain', 'Lchain']].values\n",
    "    assert len(ab_chains) == 1, print(ab_chains)\n",
    "    ab_chains = list(ab_chains[0])\n",
    "    \n",
    "    cdr3 = buried_fullab.query(\n",
    "        f'idcode == \"{x[\"idcode\"]}\" and chainID.isin({ab_chains}) and cdr == 3', engine = 'python')['cdr_seq'].values[0]\n",
    "    return len(cdr3)\n",
    "\n",
    "\n",
    "buried_ab_ag_interface_res['cdr3_len'] = buried_ab_ag_interface_res.apply(lambda x: get_cdr3_len(x), axis=1)"
   ]
  },
  {
   "cell_type": "code",
   "execution_count": 23,
   "metadata": {},
   "outputs": [
    {
     "name": "stdout",
     "output_type": "stream",
     "text": [
      "[0.         0.00812147 0.03742938 0.09922316 0.08933616 0.05049435\n",
      " 0.02860169 0.01129944 0.00847458 0.00035311] [ 0.  3.  6.  9. 12. 15. 18. 21. 24. 27. 30.]\n"
     ]
    },
    {
     "data": {
      "application/vnd.plotly.v1+json": {
       "config": {
        "plotlyServerURL": "https://plot.ly"
       },
       "data": [
        {
         "line": {
          "shape": "spline"
         },
         "mode": "lines+markers",
         "name": "Heavy Chain",
         "type": "scatter",
         "x": [
          0,
          3,
          6,
          9,
          12,
          15,
          18,
          21,
          24,
          27,
          30
         ],
         "y": [
          0,
          0.008121468926553672,
          0.03742937853107345,
          0.09922316384180792,
          0.08933615819209038,
          0.050494350282485875,
          0.028601694915254237,
          0.011299435028248588,
          0.00847457627118644,
          0.00035310734463276836
         ]
        }
       ],
       "layout": {
        "autosize": false,
        "height": 500,
        "margin": {
         "b": 100,
         "l": 50,
         "pad": 4,
         "r": 50,
         "t": 100
        },
        "template": {
         "data": {
          "bar": [
           {
            "error_x": {
             "color": "#2a3f5f"
            },
            "error_y": {
             "color": "#2a3f5f"
            },
            "marker": {
             "line": {
              "color": "white",
              "width": 0.5
             },
             "pattern": {
              "fillmode": "overlay",
              "size": 10,
              "solidity": 0.2
             }
            },
            "type": "bar"
           }
          ],
          "barpolar": [
           {
            "marker": {
             "line": {
              "color": "white",
              "width": 0.5
             },
             "pattern": {
              "fillmode": "overlay",
              "size": 10,
              "solidity": 0.2
             }
            },
            "type": "barpolar"
           }
          ],
          "carpet": [
           {
            "aaxis": {
             "endlinecolor": "#2a3f5f",
             "gridcolor": "#C8D4E3",
             "linecolor": "#C8D4E3",
             "minorgridcolor": "#C8D4E3",
             "startlinecolor": "#2a3f5f"
            },
            "baxis": {
             "endlinecolor": "#2a3f5f",
             "gridcolor": "#C8D4E3",
             "linecolor": "#C8D4E3",
             "minorgridcolor": "#C8D4E3",
             "startlinecolor": "#2a3f5f"
            },
            "type": "carpet"
           }
          ],
          "choropleth": [
           {
            "colorbar": {
             "outlinewidth": 0,
             "ticks": ""
            },
            "type": "choropleth"
           }
          ],
          "contour": [
           {
            "colorbar": {
             "outlinewidth": 0,
             "ticks": ""
            },
            "colorscale": [
             [
              0,
              "#0d0887"
             ],
             [
              0.1111111111111111,
              "#46039f"
             ],
             [
              0.2222222222222222,
              "#7201a8"
             ],
             [
              0.3333333333333333,
              "#9c179e"
             ],
             [
              0.4444444444444444,
              "#bd3786"
             ],
             [
              0.5555555555555556,
              "#d8576b"
             ],
             [
              0.6666666666666666,
              "#ed7953"
             ],
             [
              0.7777777777777778,
              "#fb9f3a"
             ],
             [
              0.8888888888888888,
              "#fdca26"
             ],
             [
              1,
              "#f0f921"
             ]
            ],
            "type": "contour"
           }
          ],
          "contourcarpet": [
           {
            "colorbar": {
             "outlinewidth": 0,
             "ticks": ""
            },
            "type": "contourcarpet"
           }
          ],
          "heatmap": [
           {
            "colorbar": {
             "outlinewidth": 0,
             "ticks": ""
            },
            "colorscale": [
             [
              0,
              "#0d0887"
             ],
             [
              0.1111111111111111,
              "#46039f"
             ],
             [
              0.2222222222222222,
              "#7201a8"
             ],
             [
              0.3333333333333333,
              "#9c179e"
             ],
             [
              0.4444444444444444,
              "#bd3786"
             ],
             [
              0.5555555555555556,
              "#d8576b"
             ],
             [
              0.6666666666666666,
              "#ed7953"
             ],
             [
              0.7777777777777778,
              "#fb9f3a"
             ],
             [
              0.8888888888888888,
              "#fdca26"
             ],
             [
              1,
              "#f0f921"
             ]
            ],
            "type": "heatmap"
           }
          ],
          "heatmapgl": [
           {
            "colorbar": {
             "outlinewidth": 0,
             "ticks": ""
            },
            "colorscale": [
             [
              0,
              "#0d0887"
             ],
             [
              0.1111111111111111,
              "#46039f"
             ],
             [
              0.2222222222222222,
              "#7201a8"
             ],
             [
              0.3333333333333333,
              "#9c179e"
             ],
             [
              0.4444444444444444,
              "#bd3786"
             ],
             [
              0.5555555555555556,
              "#d8576b"
             ],
             [
              0.6666666666666666,
              "#ed7953"
             ],
             [
              0.7777777777777778,
              "#fb9f3a"
             ],
             [
              0.8888888888888888,
              "#fdca26"
             ],
             [
              1,
              "#f0f921"
             ]
            ],
            "type": "heatmapgl"
           }
          ],
          "histogram": [
           {
            "marker": {
             "pattern": {
              "fillmode": "overlay",
              "size": 10,
              "solidity": 0.2
             }
            },
            "type": "histogram"
           }
          ],
          "histogram2d": [
           {
            "colorbar": {
             "outlinewidth": 0,
             "ticks": ""
            },
            "colorscale": [
             [
              0,
              "#0d0887"
             ],
             [
              0.1111111111111111,
              "#46039f"
             ],
             [
              0.2222222222222222,
              "#7201a8"
             ],
             [
              0.3333333333333333,
              "#9c179e"
             ],
             [
              0.4444444444444444,
              "#bd3786"
             ],
             [
              0.5555555555555556,
              "#d8576b"
             ],
             [
              0.6666666666666666,
              "#ed7953"
             ],
             [
              0.7777777777777778,
              "#fb9f3a"
             ],
             [
              0.8888888888888888,
              "#fdca26"
             ],
             [
              1,
              "#f0f921"
             ]
            ],
            "type": "histogram2d"
           }
          ],
          "histogram2dcontour": [
           {
            "colorbar": {
             "outlinewidth": 0,
             "ticks": ""
            },
            "colorscale": [
             [
              0,
              "#0d0887"
             ],
             [
              0.1111111111111111,
              "#46039f"
             ],
             [
              0.2222222222222222,
              "#7201a8"
             ],
             [
              0.3333333333333333,
              "#9c179e"
             ],
             [
              0.4444444444444444,
              "#bd3786"
             ],
             [
              0.5555555555555556,
              "#d8576b"
             ],
             [
              0.6666666666666666,
              "#ed7953"
             ],
             [
              0.7777777777777778,
              "#fb9f3a"
             ],
             [
              0.8888888888888888,
              "#fdca26"
             ],
             [
              1,
              "#f0f921"
             ]
            ],
            "type": "histogram2dcontour"
           }
          ],
          "mesh3d": [
           {
            "colorbar": {
             "outlinewidth": 0,
             "ticks": ""
            },
            "type": "mesh3d"
           }
          ],
          "parcoords": [
           {
            "line": {
             "colorbar": {
              "outlinewidth": 0,
              "ticks": ""
             }
            },
            "type": "parcoords"
           }
          ],
          "pie": [
           {
            "automargin": true,
            "type": "pie"
           }
          ],
          "scatter": [
           {
            "marker": {
             "colorbar": {
              "outlinewidth": 0,
              "ticks": ""
             }
            },
            "type": "scatter"
           }
          ],
          "scatter3d": [
           {
            "line": {
             "colorbar": {
              "outlinewidth": 0,
              "ticks": ""
             }
            },
            "marker": {
             "colorbar": {
              "outlinewidth": 0,
              "ticks": ""
             }
            },
            "type": "scatter3d"
           }
          ],
          "scattercarpet": [
           {
            "marker": {
             "colorbar": {
              "outlinewidth": 0,
              "ticks": ""
             }
            },
            "type": "scattercarpet"
           }
          ],
          "scattergeo": [
           {
            "marker": {
             "colorbar": {
              "outlinewidth": 0,
              "ticks": ""
             }
            },
            "type": "scattergeo"
           }
          ],
          "scattergl": [
           {
            "marker": {
             "colorbar": {
              "outlinewidth": 0,
              "ticks": ""
             }
            },
            "type": "scattergl"
           }
          ],
          "scattermapbox": [
           {
            "marker": {
             "colorbar": {
              "outlinewidth": 0,
              "ticks": ""
             }
            },
            "type": "scattermapbox"
           }
          ],
          "scatterpolar": [
           {
            "marker": {
             "colorbar": {
              "outlinewidth": 0,
              "ticks": ""
             }
            },
            "type": "scatterpolar"
           }
          ],
          "scatterpolargl": [
           {
            "marker": {
             "colorbar": {
              "outlinewidth": 0,
              "ticks": ""
             }
            },
            "type": "scatterpolargl"
           }
          ],
          "scatterternary": [
           {
            "marker": {
             "colorbar": {
              "outlinewidth": 0,
              "ticks": ""
             }
            },
            "type": "scatterternary"
           }
          ],
          "surface": [
           {
            "colorbar": {
             "outlinewidth": 0,
             "ticks": ""
            },
            "colorscale": [
             [
              0,
              "#0d0887"
             ],
             [
              0.1111111111111111,
              "#46039f"
             ],
             [
              0.2222222222222222,
              "#7201a8"
             ],
             [
              0.3333333333333333,
              "#9c179e"
             ],
             [
              0.4444444444444444,
              "#bd3786"
             ],
             [
              0.5555555555555556,
              "#d8576b"
             ],
             [
              0.6666666666666666,
              "#ed7953"
             ],
             [
              0.7777777777777778,
              "#fb9f3a"
             ],
             [
              0.8888888888888888,
              "#fdca26"
             ],
             [
              1,
              "#f0f921"
             ]
            ],
            "type": "surface"
           }
          ],
          "table": [
           {
            "cells": {
             "fill": {
              "color": "#EBF0F8"
             },
             "line": {
              "color": "white"
             }
            },
            "header": {
             "fill": {
              "color": "#C8D4E3"
             },
             "line": {
              "color": "white"
             }
            },
            "type": "table"
           }
          ]
         },
         "layout": {
          "annotationdefaults": {
           "arrowcolor": "#2a3f5f",
           "arrowhead": 0,
           "arrowwidth": 1
          },
          "autotypenumbers": "strict",
          "coloraxis": {
           "colorbar": {
            "outlinewidth": 0,
            "ticks": ""
           }
          },
          "colorscale": {
           "diverging": [
            [
             0,
             "#8e0152"
            ],
            [
             0.1,
             "#c51b7d"
            ],
            [
             0.2,
             "#de77ae"
            ],
            [
             0.3,
             "#f1b6da"
            ],
            [
             0.4,
             "#fde0ef"
            ],
            [
             0.5,
             "#f7f7f7"
            ],
            [
             0.6,
             "#e6f5d0"
            ],
            [
             0.7,
             "#b8e186"
            ],
            [
             0.8,
             "#7fbc41"
            ],
            [
             0.9,
             "#4d9221"
            ],
            [
             1,
             "#276419"
            ]
           ],
           "sequential": [
            [
             0,
             "#0d0887"
            ],
            [
             0.1111111111111111,
             "#46039f"
            ],
            [
             0.2222222222222222,
             "#7201a8"
            ],
            [
             0.3333333333333333,
             "#9c179e"
            ],
            [
             0.4444444444444444,
             "#bd3786"
            ],
            [
             0.5555555555555556,
             "#d8576b"
            ],
            [
             0.6666666666666666,
             "#ed7953"
            ],
            [
             0.7777777777777778,
             "#fb9f3a"
            ],
            [
             0.8888888888888888,
             "#fdca26"
            ],
            [
             1,
             "#f0f921"
            ]
           ],
           "sequentialminus": [
            [
             0,
             "#0d0887"
            ],
            [
             0.1111111111111111,
             "#46039f"
            ],
            [
             0.2222222222222222,
             "#7201a8"
            ],
            [
             0.3333333333333333,
             "#9c179e"
            ],
            [
             0.4444444444444444,
             "#bd3786"
            ],
            [
             0.5555555555555556,
             "#d8576b"
            ],
            [
             0.6666666666666666,
             "#ed7953"
            ],
            [
             0.7777777777777778,
             "#fb9f3a"
            ],
            [
             0.8888888888888888,
             "#fdca26"
            ],
            [
             1,
             "#f0f921"
            ]
           ]
          },
          "colorway": [
           "#636efa",
           "#EF553B",
           "#00cc96",
           "#ab63fa",
           "#FFA15A",
           "#19d3f3",
           "#FF6692",
           "#B6E880",
           "#FF97FF",
           "#FECB52"
          ],
          "font": {
           "color": "#2a3f5f"
          },
          "geo": {
           "bgcolor": "white",
           "lakecolor": "white",
           "landcolor": "white",
           "showlakes": true,
           "showland": true,
           "subunitcolor": "#C8D4E3"
          },
          "hoverlabel": {
           "align": "left"
          },
          "hovermode": "closest",
          "mapbox": {
           "style": "light"
          },
          "paper_bgcolor": "white",
          "plot_bgcolor": "white",
          "polar": {
           "angularaxis": {
            "gridcolor": "#EBF0F8",
            "linecolor": "#EBF0F8",
            "ticks": ""
           },
           "bgcolor": "white",
           "radialaxis": {
            "gridcolor": "#EBF0F8",
            "linecolor": "#EBF0F8",
            "ticks": ""
           }
          },
          "scene": {
           "xaxis": {
            "backgroundcolor": "white",
            "gridcolor": "#DFE8F3",
            "gridwidth": 2,
            "linecolor": "#EBF0F8",
            "showbackground": true,
            "ticks": "",
            "zerolinecolor": "#EBF0F8"
           },
           "yaxis": {
            "backgroundcolor": "white",
            "gridcolor": "#DFE8F3",
            "gridwidth": 2,
            "linecolor": "#EBF0F8",
            "showbackground": true,
            "ticks": "",
            "zerolinecolor": "#EBF0F8"
           },
           "zaxis": {
            "backgroundcolor": "white",
            "gridcolor": "#DFE8F3",
            "gridwidth": 2,
            "linecolor": "#EBF0F8",
            "showbackground": true,
            "ticks": "",
            "zerolinecolor": "#EBF0F8"
           }
          },
          "shapedefaults": {
           "line": {
            "color": "#2a3f5f"
           }
          },
          "ternary": {
           "aaxis": {
            "gridcolor": "#DFE8F3",
            "linecolor": "#A2B1C6",
            "ticks": ""
           },
           "baxis": {
            "gridcolor": "#DFE8F3",
            "linecolor": "#A2B1C6",
            "ticks": ""
           },
           "bgcolor": "white",
           "caxis": {
            "gridcolor": "#DFE8F3",
            "linecolor": "#A2B1C6",
            "ticks": ""
           }
          },
          "title": {
           "x": 0.05
          },
          "xaxis": {
           "automargin": true,
           "gridcolor": "#EBF0F8",
           "linecolor": "#EBF0F8",
           "ticks": "",
           "title": {
            "standoff": 15
           },
           "zerolinecolor": "#EBF0F8",
           "zerolinewidth": 2
          },
          "yaxis": {
           "automargin": true,
           "gridcolor": "#EBF0F8",
           "linecolor": "#EBF0F8",
           "ticks": "",
           "title": {
            "standoff": 15
           },
           "zerolinecolor": "#EBF0F8",
           "zerolinewidth": 2
          }
         }
        },
        "width": 500,
        "xaxis": {
         "title": {
          "text": "# of Residues in CDR3"
         }
        },
        "yaxis": {
         "title": {
          "text": "Probability Density"
         }
        }
       }
      }
     },
     "metadata": {},
     "output_type": "display_data"
    }
   ],
   "source": [
    "cdr3_hist, cdr3_bins = np.histogram(buried_ab_ag_interface_res['cdr3_len'], bins=10, range=(0, 30), density=True)\n",
    "print(cdr3_hist, cdr3_bins)\n",
    "fig = go.Figure()\n",
    "fig.add_trace(go.Scatter(y=cdr3_hist, x=cdr3_bins,\n",
    "                    mode='lines+markers', line_shape='spline',\n",
    "                    name='Heavy Chain'))\n",
    "fig.update_layout(\n",
    "    xaxis_title=\"# of Residues in CDR3\",\n",
    "    yaxis_title=\"Probability Density\",\n",
    "    template=\"plotly_white\",\n",
    "    autosize=False,\n",
    "    width=500,\n",
    "    height=500,\n",
    "    margin=dict(\n",
    "        l=50,\n",
    "        r=50,\n",
    "        b=100,\n",
    "        t=100,\n",
    "        pad=4\n",
    "    )\n",
    ")\n",
    "fig.show()"
   ]
  },
  {
   "cell_type": "code",
   "execution_count": 24,
   "metadata": {},
   "outputs": [],
   "source": [
    "bins = [[] for i in cdr3_bins[1:]]\n",
    "bins_i = list(enumerate(cdr3_bins[1:]))\n",
    "for n_int_cdrs, cdr3_len in buried_ab_ag_interface_res[['n_cdrs', 'cdr3_len']].values:\n",
    "    for i, upper_bound in bins_i:\n",
    "        if cdr3_len <= upper_bound:\n",
    "            bins[i].append(n_int_cdrs)"
   ]
  },
  {
   "cell_type": "code",
   "execution_count": 25,
   "metadata": {},
   "outputs": [
    {
     "name": "stdout",
     "output_type": "stream",
     "text": [
      "[5.0, 5.25, 4.86, 4.66, 4.52, 4.42, 4.37, 4.31, 4.31, 4.3]\n"
     ]
    }
   ],
   "source": [
    "avg_n_cdrs_bins = [round(sum(i)/len(i), 2) for i in bins]\n",
    "print(avg_n_cdrs_bins)"
   ]
  },
  {
   "cell_type": "code",
   "execution_count": 26,
   "metadata": {},
   "outputs": [
    {
     "data": {
      "text/plain": [
       "{'THR': 1574,\n",
       " 'SER': 3022,\n",
       " 'TRP': 3841,\n",
       " 'ASN': 1922,\n",
       " 'ARG': 1793,\n",
       " 'ILE': 697,\n",
       " 'GLY': 2215,\n",
       " 'PHE': 2160,\n",
       " 'LEU': 870,\n",
       " 'TYR': 10620,\n",
       " 'GLN': 496,\n",
       " 'GLU': 818,\n",
       " 'VAL': 680,\n",
       " 'ASP': 1763,\n",
       " 'LYS': 408,\n",
       " 'MET': 180,\n",
       " 'PRO': 554,\n",
       " 'CYS': 78,\n",
       " 'ALA': 758,\n",
       " 'HIS': 734}"
      ]
     },
     "execution_count": 26,
     "metadata": {},
     "output_type": "execute_result"
    }
   ],
   "source": [
    "def aa_dist(aa_lists):\n",
    "    dist = {}\n",
    "    for aas in aa_lists:\n",
    "        for aa in aas:\n",
    "            if aa not in dist:\n",
    "                dist[aa] = 0\n",
    "            dist[aa] += 1\n",
    "\n",
    "    return dist\n",
    "\n",
    "allaas_dist = aa_dist(buried_ab_ag_interface_res['ab_res'].values)\n",
    "allaas_dist"
   ]
  },
  {
   "cell_type": "code",
   "execution_count": 27,
   "metadata": {},
   "outputs": [
    {
     "data": {
      "text/plain": [
       "{'GLU': 1869,\n",
       " 'THR': 1923,\n",
       " 'PHE': 1744,\n",
       " 'HIS': 976,\n",
       " 'ARG': 2328,\n",
       " 'SER': 1691,\n",
       " 'PRO': 1474,\n",
       " 'LEU': 1464,\n",
       " 'GLN': 1555,\n",
       " 'VAL': 933,\n",
       " 'MET': 385,\n",
       " 'CYS': 377,\n",
       " 'ILE': 952,\n",
       " 'ALA': 1151,\n",
       " 'LYS': 1920,\n",
       " 'ASP': 2017,\n",
       " 'ASN': 2334,\n",
       " 'GLY': 2118,\n",
       " 'TRP': 1173,\n",
       " 'TYR': 2328}"
      ]
     },
     "execution_count": 27,
     "metadata": {},
     "output_type": "execute_result"
    }
   ],
   "source": [
    "allaas_dist = aa_dist(buried_ab_ag_interface_res['ag_res'].values)\n",
    "allaas_dist"
   ]
  },
  {
   "cell_type": "code",
   "execution_count": 28,
   "metadata": {},
   "outputs": [
    {
     "data": {
      "text/plain": [
       "{'MET': 7413,\n",
       " 'LEU': 39638,\n",
       " 'PRO': 22740,\n",
       " 'ARG': 19670,\n",
       " 'TRP': 7233,\n",
       " 'GLU': 23752,\n",
       " 'ALA': 27632,\n",
       " 'TYR': 18171,\n",
       " 'SER': 33797,\n",
       " 'GLY': 31418,\n",
       " 'PHE': 21932,\n",
       " 'HIS': 9456,\n",
       " 'VAL': 33016,\n",
       " 'LYS': 25870,\n",
       " 'ASP': 22109,\n",
       " 'GLN': 19620,\n",
       " 'THR': 33282,\n",
       " 'ILE': 28738,\n",
       " 'CYS': 14257,\n",
       " 'ASN': 30231}"
      ]
     },
     "execution_count": 28,
     "metadata": {},
     "output_type": "execute_result"
    }
   ],
   "source": [
    "import sys\n",
    "sys.path.append('scripts')\n",
    "\n",
    "from scripts.utils import read_pdb_line\n",
    "from Bio.Data.IUPACData import protein_letters_3to1 as AA_CONVERTER\n",
    "\n",
    "def get_sequence(pdb_path, chains):\n",
    "    prot_aas = []\n",
    "    last = None\n",
    "    with open(pdb_path) as f:\n",
    "        for line in f:\n",
    "            if line.startswith(\"ATOM\"):\n",
    "                chain, cdr_id, res, *_ = read_pdb_line(line)\n",
    "                (resname, resnumb) = res\n",
    "                new = resname, chain, resnumb, cdr_id\n",
    "                if chain in chains and last != new:\n",
    "                    res = AA_CONVERTER[resname.capitalize()]\n",
    "                    prot_aas.append(resname)\n",
    "                last = new[:]\n",
    "    return prot_aas\n",
    "\n",
    "aas = []\n",
    "for idcode in buried_ab_ag_interface_res.idcode.unique():\n",
    "    pdb_path = f\"structures/raw/{idcode}.pdb\"\n",
    "    chains = protein_antigens.query(f'pdb == \"{idcode}\"')['antigen_chain'].unique()\n",
    "    prot_aas = get_sequence(pdb_path, chains)\n",
    "    aas.append(prot_aas)\n",
    "\n",
    "aa_dist(aas)"
   ]
  },
  {
   "cell_type": "code",
   "execution_count": 29,
   "metadata": {},
   "outputs": [],
   "source": [
    "def filter_res(residues):\n",
    "    res = set()\n",
    "    for chain, resnumb, resname, aname, cdrnumb in residues:\n",
    "        if aname.startswith('H'):\n",
    "            continue\n",
    "        res.add((chain, resnumb, resname))\n",
    "    return res\n",
    "\n",
    "def count_interchain(x):\n",
    "    ab_chains = protein_antigens.query(\n",
    "        f\"pdb == '{x['idcode']}' and {'L' if x['chain_type'] in 'LK' else 'H'}chain == '{x['chainID']}'\", engine = 'python')[['Hchain', 'Lchain']].values\n",
    "    assert len(ab_chains) == 1, print(ab_chains)\n",
    "    ab_chains = list(ab_chains[0])\n",
    "    \n",
    "    \n",
    "    cdrs = buried_fullab.query(\n",
    "        f'idcode == \"{x[\"idcode\"]}\" and chainID.isin({ab_chains})', engine = 'python')\n",
    "    assert len(cdrs) == 6, print(cdrs)\n",
    "    cdr1, cdr2, cdr3, cdr4, cdr5, cdr6 = [filter_res(i) for i in cdrs['ag_cdr_interface_res'].values]\n",
    "    \n",
    "    shared_cdr = []\n",
    "    all_cdrs = (cdr1, cdr2, cdr3, cdr4, cdr5, cdr6)\n",
    "    for (i, j) in itertools.combinations(range(len(all_cdrs)), 2):\n",
    "        if i == j:\n",
    "            continue\n",
    "        cdr_i = all_cdrs[i]\n",
    "        cdr_j = all_cdrs[j]\n",
    "        shared_cdrij = len(cdr_i.intersection(cdr_j))\n",
    "        shared_cdr.append(shared_cdrij)\n",
    "\n",
    "    ag_cdr_res = filter_res([ii for i in cdrs['ag_cdr_interface_res'].values for ii in i])\n",
    "    ag_chain_res = filter_res([ii for i in cdrs['ag_cdrchain_interface_res'].values for ii in i])\n",
    "    ag_res = filter_res([ii for i in cdrs['ag_ab_interface_res'].values for ii in i])\n",
    "    inter_chain = ag_res - ag_chain_res\n",
    "    inter_cdr = ag_chain_res - ag_cdr_res\n",
    "    \n",
    "    return (len(inter_chain), len(inter_cdr), len(ag_res), *shared_cdr)\n",
    "\n",
    "buried_ab_ag_interface_res[\"cdr_info\"] = buried_ab_ag_interface_res.apply(lambda x: count_interchain(x), axis=1)\n",
    "buried_ab_ag_interface_res[\"inter_chain\"], buried_ab_ag_interface_res[\"inter_cdr\"], buried_ab_ag_interface_res[\"ag_res\"], buried_ab_ag_interface_res[\"cdr_12\"], buried_ab_ag_interface_res[\"cdr_13\"], buried_ab_ag_interface_res[\"cdr_14\"], buried_ab_ag_interface_res[\"cdr_15\"], buried_ab_ag_interface_res[\"cdr_16\"], buried_ab_ag_interface_res[\"cdr_23\"], buried_ab_ag_interface_res[\"cdr_24\"], buried_ab_ag_interface_res[\"cdr_25\"], buried_ab_ag_interface_res[\"cdr_26\"], buried_ab_ag_interface_res[\"cdr_34\"], buried_ab_ag_interface_res[\"cdr_35\"], buried_ab_ag_interface_res[\"cdr_36\"], buried_ab_ag_interface_res[\"cdr_45\"], buried_ab_ag_interface_res[\"cdr_46\"], buried_ab_ag_interface_res[\"cdr_56\"] = zip(*buried_ab_ag_interface_res.cdr_info)"
   ]
  },
  {
   "cell_type": "code",
   "execution_count": 30,
   "metadata": {},
   "outputs": [
    {
     "name": "stdout",
     "output_type": "stream",
     "text": [
      "(array([774, 154,  16,   2]), array([-0.5,  0.5,  1.5,  2.5,  3.5]))\n",
      "(array([314, 272, 143,  99,  37,  16,  64]), array([-0.5,  0.5,  1.5,  2.5,  3.5,  4.5,  5.5, 26. ]))\n",
      "(array([  4,  31, 220, 309, 251,  90,  31,   6,   1,   2]), array([ 0.,  4.,  8., 12., 16., 20., 24., 28., 32., 36., 40.]))\n",
      "14.662790697674419\n",
      "0.3023255813953488\n"
     ]
    }
   ],
   "source": [
    "print(np.histogram(buried_ab_ag_interface_res['inter_chain'], bins=[-0.5, 0.5, 1.5, 2.5, 3.5]))\n",
    "print(np.histogram(buried_ab_ag_interface_res['inter_cdr'], bins=[-0.5, 0.5, 1.5, 2.5, 3.5, 4.5, 5.5, 26]))\n",
    "print(np.histogram(buried_ab_ag_interface_res['ag_res'], range=(0, 40), bins=10))\n",
    "\n",
    "print(buried_ab_ag_interface_res['ag_res'].mean())\n",
    "print(buried_ab_ag_interface_res['inter_cdr'].mean() / 6)"
   ]
  },
  {
   "cell_type": "code",
   "execution_count": 31,
   "metadata": {},
   "outputs": [
    {
     "name": "stdout",
     "output_type": "stream",
     "text": [
      "(array([768, 156,  21,   1,   0]), array([-0.5,  0.5,  1.5,  2.5,  3.5,  4.5])) 0.2124735729386892\n",
      "(array([734, 154,  52,   6,   0]), array([-0.5,  0.5,  1.5,  2.5,  3.5,  4.5])) 0.2917547568710359\n",
      "(array([943,   2,   1,   0,   0]), array([-0.5,  0.5,  1.5,  2.5,  3.5,  4.5])) 0.004228329809725159\n",
      "(array([941,   5,   0,   0,   0]), array([-0.5,  0.5,  1.5,  2.5,  3.5,  4.5])) 0.005285412262156448\n",
      "(array([943,   3,   0,   0,   0]), array([-0.5,  0.5,  1.5,  2.5,  3.5,  4.5])) 0.003171247357293869\n",
      "(array([728, 180,  34,   4,   0]), array([-0.5,  0.5,  1.5,  2.5,  3.5,  4.5])) 0.2748414376321353\n",
      "(array([943,   3,   0,   0,   0]), array([-0.5,  0.5,  1.5,  2.5,  3.5,  4.5])) 0.003171247357293869\n",
      "(array([943,   3,   0,   0,   0]), array([-0.5,  0.5,  1.5,  2.5,  3.5,  4.5])) 0.003171247357293869\n",
      "(array([896,  47,   3,   0,   0]), array([-0.5,  0.5,  1.5,  2.5,  3.5,  4.5])) 0.056025369978858354\n",
      "(array([663, 229,  52,   2,   0]), array([-0.5,  0.5,  1.5,  2.5,  3.5,  4.5])) 0.3583509513742072\n",
      "(array([822, 104,  17,   3,   0]), array([-0.5,  0.5,  1.5,  2.5,  3.5,  4.5])) 0.1553911205073996\n",
      "(array([636, 256,  46,   7,   1]), array([-0.5,  0.5,  1.5,  2.5,  3.5,  4.5])) 0.39429175475687106\n",
      "(array([856,  75,  14,   1,   0]), array([-0.5,  0.5,  1.5,  2.5,  3.5,  4.5])) 0.11205073995771671\n",
      "(array([698, 205,  41,   2,   0]), array([-0.5,  0.5,  1.5,  2.5,  3.5,  4.5])) 0.3097251585623679\n",
      "(array([856,  75,  14,   1,   0]), array([-0.5,  0.5,  1.5,  2.5,  3.5,  4.5])) 0.11205073995771671\n",
      "3 3 2 1 1 3 1 1 2 3 3 4 3 3 3\n"
     ]
    }
   ],
   "source": [
    "print(np.histogram(buried_ab_ag_interface_res['cdr_12'], bins=[-0.5, 0.5, 1.5, 2.5, 3.5, 4.5]), buried_ab_ag_interface_res['cdr_12'].mean())\n",
    "print(np.histogram(buried_ab_ag_interface_res['cdr_13'], bins=[-0.5, 0.5, 1.5, 2.5, 3.5, 4.5]), buried_ab_ag_interface_res['cdr_13'].mean())\n",
    "print(np.histogram(buried_ab_ag_interface_res['cdr_14'], bins=[-0.5, 0.5, 1.5, 2.5, 3.5, 4.5]), buried_ab_ag_interface_res['cdr_14'].mean())\n",
    "print(np.histogram(buried_ab_ag_interface_res['cdr_15'], bins=[-0.5, 0.5, 1.5, 2.5, 3.5, 4.5]), buried_ab_ag_interface_res['cdr_15'].mean())\n",
    "print(np.histogram(buried_ab_ag_interface_res['cdr_16'], bins=[-0.5, 0.5, 1.5, 2.5, 3.5, 4.5]), buried_ab_ag_interface_res['cdr_16'].mean())\n",
    "print(np.histogram(buried_ab_ag_interface_res['cdr_23'], bins=[-0.5, 0.5, 1.5, 2.5, 3.5, 4.5]), buried_ab_ag_interface_res['cdr_23'].mean())\n",
    "print(np.histogram(buried_ab_ag_interface_res['cdr_24'], bins=[-0.5, 0.5, 1.5, 2.5, 3.5, 4.5]), buried_ab_ag_interface_res['cdr_24'].mean())\n",
    "print(np.histogram(buried_ab_ag_interface_res['cdr_25'], bins=[-0.5, 0.5, 1.5, 2.5, 3.5, 4.5]), buried_ab_ag_interface_res['cdr_25'].mean())\n",
    "print(np.histogram(buried_ab_ag_interface_res['cdr_26'], bins=[-0.5, 0.5, 1.5, 2.5, 3.5, 4.5]), buried_ab_ag_interface_res['cdr_26'].mean())\n",
    "print(np.histogram(buried_ab_ag_interface_res['cdr_34'], bins=[-0.5, 0.5, 1.5, 2.5, 3.5, 4.5]), buried_ab_ag_interface_res['cdr_34'].mean())\n",
    "print(np.histogram(buried_ab_ag_interface_res['cdr_35'], bins=[-0.5, 0.5, 1.5, 2.5, 3.5, 4.5]), buried_ab_ag_interface_res['cdr_35'].mean())\n",
    "print(np.histogram(buried_ab_ag_interface_res['cdr_36'], bins=[-0.5, 0.5, 1.5, 2.5, 3.5, 4.5]), buried_ab_ag_interface_res['cdr_36'].mean())\n",
    "print(np.histogram(buried_ab_ag_interface_res['cdr_45'], bins=[-0.5, 0.5, 1.5, 2.5, 3.5, 4.5]), buried_ab_ag_interface_res['cdr_45'].mean())\n",
    "print(np.histogram(buried_ab_ag_interface_res['cdr_46'], bins=[-0.5, 0.5, 1.5, 2.5, 3.5, 4.5]), buried_ab_ag_interface_res['cdr_46'].mean())\n",
    "print(np.histogram(buried_ab_ag_interface_res['cdr_45'], bins=[-0.5, 0.5, 1.5, 2.5, 3.5, 4.5]), buried_ab_ag_interface_res['cdr_45'].mean())\n",
    "\n",
    "print(max(buried_ab_ag_interface_res['cdr_12']), max(buried_ab_ag_interface_res['cdr_13']), max(buried_ab_ag_interface_res['cdr_14']), max(buried_ab_ag_interface_res['cdr_15']), max(buried_ab_ag_interface_res['cdr_16']), max(buried_ab_ag_interface_res['cdr_23']), max(buried_ab_ag_interface_res['cdr_24']), max(buried_ab_ag_interface_res['cdr_25']), max(buried_ab_ag_interface_res['cdr_26']), max(buried_ab_ag_interface_res['cdr_34']), max(buried_ab_ag_interface_res['cdr_35']), max(buried_ab_ag_interface_res['cdr_36']), max(buried_ab_ag_interface_res['cdr_45']), max(buried_ab_ag_interface_res['cdr_46']), max(buried_ab_ag_interface_res['cdr_45']))"
   ]
  },
  {
   "cell_type": "code",
   "execution_count": 32,
   "metadata": {},
   "outputs": [
    {
     "data": {
      "application/vnd.plotly.v1+json": {
       "config": {
        "plotlyServerURL": "https://plot.ly"
       },
       "data": [
        {
         "colorscale": [
          [
           0,
           "white"
          ],
          [
           1,
           "black"
          ]
         ],
         "type": "heatmap",
         "x": [
          "H CDR 1",
          "H CDR 2",
          "H CDR 3",
          "L CDR 1",
          "L CDR 2",
          "L CDR 3"
         ],
         "y": [
          "H CDR 1",
          "H CDR 2",
          "H CDR 3",
          "L CDR 1",
          "L CDR 2",
          "L CDR 3"
         ],
         "z": [
          [
           null,
           0.2124735729386892,
           0.2917547568710359,
           0.004228329809725159,
           0.005285412262156448,
           0.003171247357293869
          ],
          [
           0.2124735729386892,
           null,
           0.2748414376321353,
           0.003171247357293869,
           0.003171247357293869,
           0.056025369978858354
          ],
          [
           0.2917547568710359,
           0.2748414376321353,
           null,
           0.3583509513742072,
           0.1553911205073996,
           0.39429175475687106
          ],
          [
           0.004228329809725159,
           0.003171247357293869,
           0.3583509513742072,
           null,
           0.11205073995771671,
           0.3097251585623679
          ],
          [
           0.005285412262156448,
           0.003171247357293869,
           0.1553911205073996,
           0.11205073995771671,
           null,
           0.013742071881606765
          ],
          [
           0.003171247357293869,
           0.056025369978858354,
           0.39429175475687106,
           0.3097251585623679,
           0.013742071881606765,
           null
          ]
         ]
        }
       ],
       "layout": {
        "template": {
         "data": {
          "bar": [
           {
            "error_x": {
             "color": "#2a3f5f"
            },
            "error_y": {
             "color": "#2a3f5f"
            },
            "marker": {
             "line": {
              "color": "#E5ECF6",
              "width": 0.5
             },
             "pattern": {
              "fillmode": "overlay",
              "size": 10,
              "solidity": 0.2
             }
            },
            "type": "bar"
           }
          ],
          "barpolar": [
           {
            "marker": {
             "line": {
              "color": "#E5ECF6",
              "width": 0.5
             },
             "pattern": {
              "fillmode": "overlay",
              "size": 10,
              "solidity": 0.2
             }
            },
            "type": "barpolar"
           }
          ],
          "carpet": [
           {
            "aaxis": {
             "endlinecolor": "#2a3f5f",
             "gridcolor": "white",
             "linecolor": "white",
             "minorgridcolor": "white",
             "startlinecolor": "#2a3f5f"
            },
            "baxis": {
             "endlinecolor": "#2a3f5f",
             "gridcolor": "white",
             "linecolor": "white",
             "minorgridcolor": "white",
             "startlinecolor": "#2a3f5f"
            },
            "type": "carpet"
           }
          ],
          "choropleth": [
           {
            "colorbar": {
             "outlinewidth": 0,
             "ticks": ""
            },
            "type": "choropleth"
           }
          ],
          "contour": [
           {
            "colorbar": {
             "outlinewidth": 0,
             "ticks": ""
            },
            "colorscale": [
             [
              0,
              "#0d0887"
             ],
             [
              0.1111111111111111,
              "#46039f"
             ],
             [
              0.2222222222222222,
              "#7201a8"
             ],
             [
              0.3333333333333333,
              "#9c179e"
             ],
             [
              0.4444444444444444,
              "#bd3786"
             ],
             [
              0.5555555555555556,
              "#d8576b"
             ],
             [
              0.6666666666666666,
              "#ed7953"
             ],
             [
              0.7777777777777778,
              "#fb9f3a"
             ],
             [
              0.8888888888888888,
              "#fdca26"
             ],
             [
              1,
              "#f0f921"
             ]
            ],
            "type": "contour"
           }
          ],
          "contourcarpet": [
           {
            "colorbar": {
             "outlinewidth": 0,
             "ticks": ""
            },
            "type": "contourcarpet"
           }
          ],
          "heatmap": [
           {
            "colorbar": {
             "outlinewidth": 0,
             "ticks": ""
            },
            "colorscale": [
             [
              0,
              "#0d0887"
             ],
             [
              0.1111111111111111,
              "#46039f"
             ],
             [
              0.2222222222222222,
              "#7201a8"
             ],
             [
              0.3333333333333333,
              "#9c179e"
             ],
             [
              0.4444444444444444,
              "#bd3786"
             ],
             [
              0.5555555555555556,
              "#d8576b"
             ],
             [
              0.6666666666666666,
              "#ed7953"
             ],
             [
              0.7777777777777778,
              "#fb9f3a"
             ],
             [
              0.8888888888888888,
              "#fdca26"
             ],
             [
              1,
              "#f0f921"
             ]
            ],
            "type": "heatmap"
           }
          ],
          "heatmapgl": [
           {
            "colorbar": {
             "outlinewidth": 0,
             "ticks": ""
            },
            "colorscale": [
             [
              0,
              "#0d0887"
             ],
             [
              0.1111111111111111,
              "#46039f"
             ],
             [
              0.2222222222222222,
              "#7201a8"
             ],
             [
              0.3333333333333333,
              "#9c179e"
             ],
             [
              0.4444444444444444,
              "#bd3786"
             ],
             [
              0.5555555555555556,
              "#d8576b"
             ],
             [
              0.6666666666666666,
              "#ed7953"
             ],
             [
              0.7777777777777778,
              "#fb9f3a"
             ],
             [
              0.8888888888888888,
              "#fdca26"
             ],
             [
              1,
              "#f0f921"
             ]
            ],
            "type": "heatmapgl"
           }
          ],
          "histogram": [
           {
            "marker": {
             "pattern": {
              "fillmode": "overlay",
              "size": 10,
              "solidity": 0.2
             }
            },
            "type": "histogram"
           }
          ],
          "histogram2d": [
           {
            "colorbar": {
             "outlinewidth": 0,
             "ticks": ""
            },
            "colorscale": [
             [
              0,
              "#0d0887"
             ],
             [
              0.1111111111111111,
              "#46039f"
             ],
             [
              0.2222222222222222,
              "#7201a8"
             ],
             [
              0.3333333333333333,
              "#9c179e"
             ],
             [
              0.4444444444444444,
              "#bd3786"
             ],
             [
              0.5555555555555556,
              "#d8576b"
             ],
             [
              0.6666666666666666,
              "#ed7953"
             ],
             [
              0.7777777777777778,
              "#fb9f3a"
             ],
             [
              0.8888888888888888,
              "#fdca26"
             ],
             [
              1,
              "#f0f921"
             ]
            ],
            "type": "histogram2d"
           }
          ],
          "histogram2dcontour": [
           {
            "colorbar": {
             "outlinewidth": 0,
             "ticks": ""
            },
            "colorscale": [
             [
              0,
              "#0d0887"
             ],
             [
              0.1111111111111111,
              "#46039f"
             ],
             [
              0.2222222222222222,
              "#7201a8"
             ],
             [
              0.3333333333333333,
              "#9c179e"
             ],
             [
              0.4444444444444444,
              "#bd3786"
             ],
             [
              0.5555555555555556,
              "#d8576b"
             ],
             [
              0.6666666666666666,
              "#ed7953"
             ],
             [
              0.7777777777777778,
              "#fb9f3a"
             ],
             [
              0.8888888888888888,
              "#fdca26"
             ],
             [
              1,
              "#f0f921"
             ]
            ],
            "type": "histogram2dcontour"
           }
          ],
          "mesh3d": [
           {
            "colorbar": {
             "outlinewidth": 0,
             "ticks": ""
            },
            "type": "mesh3d"
           }
          ],
          "parcoords": [
           {
            "line": {
             "colorbar": {
              "outlinewidth": 0,
              "ticks": ""
             }
            },
            "type": "parcoords"
           }
          ],
          "pie": [
           {
            "automargin": true,
            "type": "pie"
           }
          ],
          "scatter": [
           {
            "marker": {
             "colorbar": {
              "outlinewidth": 0,
              "ticks": ""
             }
            },
            "type": "scatter"
           }
          ],
          "scatter3d": [
           {
            "line": {
             "colorbar": {
              "outlinewidth": 0,
              "ticks": ""
             }
            },
            "marker": {
             "colorbar": {
              "outlinewidth": 0,
              "ticks": ""
             }
            },
            "type": "scatter3d"
           }
          ],
          "scattercarpet": [
           {
            "marker": {
             "colorbar": {
              "outlinewidth": 0,
              "ticks": ""
             }
            },
            "type": "scattercarpet"
           }
          ],
          "scattergeo": [
           {
            "marker": {
             "colorbar": {
              "outlinewidth": 0,
              "ticks": ""
             }
            },
            "type": "scattergeo"
           }
          ],
          "scattergl": [
           {
            "marker": {
             "colorbar": {
              "outlinewidth": 0,
              "ticks": ""
             }
            },
            "type": "scattergl"
           }
          ],
          "scattermapbox": [
           {
            "marker": {
             "colorbar": {
              "outlinewidth": 0,
              "ticks": ""
             }
            },
            "type": "scattermapbox"
           }
          ],
          "scatterpolar": [
           {
            "marker": {
             "colorbar": {
              "outlinewidth": 0,
              "ticks": ""
             }
            },
            "type": "scatterpolar"
           }
          ],
          "scatterpolargl": [
           {
            "marker": {
             "colorbar": {
              "outlinewidth": 0,
              "ticks": ""
             }
            },
            "type": "scatterpolargl"
           }
          ],
          "scatterternary": [
           {
            "marker": {
             "colorbar": {
              "outlinewidth": 0,
              "ticks": ""
             }
            },
            "type": "scatterternary"
           }
          ],
          "surface": [
           {
            "colorbar": {
             "outlinewidth": 0,
             "ticks": ""
            },
            "colorscale": [
             [
              0,
              "#0d0887"
             ],
             [
              0.1111111111111111,
              "#46039f"
             ],
             [
              0.2222222222222222,
              "#7201a8"
             ],
             [
              0.3333333333333333,
              "#9c179e"
             ],
             [
              0.4444444444444444,
              "#bd3786"
             ],
             [
              0.5555555555555556,
              "#d8576b"
             ],
             [
              0.6666666666666666,
              "#ed7953"
             ],
             [
              0.7777777777777778,
              "#fb9f3a"
             ],
             [
              0.8888888888888888,
              "#fdca26"
             ],
             [
              1,
              "#f0f921"
             ]
            ],
            "type": "surface"
           }
          ],
          "table": [
           {
            "cells": {
             "fill": {
              "color": "#EBF0F8"
             },
             "line": {
              "color": "white"
             }
            },
            "header": {
             "fill": {
              "color": "#C8D4E3"
             },
             "line": {
              "color": "white"
             }
            },
            "type": "table"
           }
          ]
         },
         "layout": {
          "annotationdefaults": {
           "arrowcolor": "#2a3f5f",
           "arrowhead": 0,
           "arrowwidth": 1
          },
          "autotypenumbers": "strict",
          "coloraxis": {
           "colorbar": {
            "outlinewidth": 0,
            "ticks": ""
           }
          },
          "colorscale": {
           "diverging": [
            [
             0,
             "#8e0152"
            ],
            [
             0.1,
             "#c51b7d"
            ],
            [
             0.2,
             "#de77ae"
            ],
            [
             0.3,
             "#f1b6da"
            ],
            [
             0.4,
             "#fde0ef"
            ],
            [
             0.5,
             "#f7f7f7"
            ],
            [
             0.6,
             "#e6f5d0"
            ],
            [
             0.7,
             "#b8e186"
            ],
            [
             0.8,
             "#7fbc41"
            ],
            [
             0.9,
             "#4d9221"
            ],
            [
             1,
             "#276419"
            ]
           ],
           "sequential": [
            [
             0,
             "#0d0887"
            ],
            [
             0.1111111111111111,
             "#46039f"
            ],
            [
             0.2222222222222222,
             "#7201a8"
            ],
            [
             0.3333333333333333,
             "#9c179e"
            ],
            [
             0.4444444444444444,
             "#bd3786"
            ],
            [
             0.5555555555555556,
             "#d8576b"
            ],
            [
             0.6666666666666666,
             "#ed7953"
            ],
            [
             0.7777777777777778,
             "#fb9f3a"
            ],
            [
             0.8888888888888888,
             "#fdca26"
            ],
            [
             1,
             "#f0f921"
            ]
           ],
           "sequentialminus": [
            [
             0,
             "#0d0887"
            ],
            [
             0.1111111111111111,
             "#46039f"
            ],
            [
             0.2222222222222222,
             "#7201a8"
            ],
            [
             0.3333333333333333,
             "#9c179e"
            ],
            [
             0.4444444444444444,
             "#bd3786"
            ],
            [
             0.5555555555555556,
             "#d8576b"
            ],
            [
             0.6666666666666666,
             "#ed7953"
            ],
            [
             0.7777777777777778,
             "#fb9f3a"
            ],
            [
             0.8888888888888888,
             "#fdca26"
            ],
            [
             1,
             "#f0f921"
            ]
           ]
          },
          "colorway": [
           "#636efa",
           "#EF553B",
           "#00cc96",
           "#ab63fa",
           "#FFA15A",
           "#19d3f3",
           "#FF6692",
           "#B6E880",
           "#FF97FF",
           "#FECB52"
          ],
          "font": {
           "color": "#2a3f5f"
          },
          "geo": {
           "bgcolor": "white",
           "lakecolor": "white",
           "landcolor": "#E5ECF6",
           "showlakes": true,
           "showland": true,
           "subunitcolor": "white"
          },
          "hoverlabel": {
           "align": "left"
          },
          "hovermode": "closest",
          "mapbox": {
           "style": "light"
          },
          "paper_bgcolor": "white",
          "plot_bgcolor": "#E5ECF6",
          "polar": {
           "angularaxis": {
            "gridcolor": "white",
            "linecolor": "white",
            "ticks": ""
           },
           "bgcolor": "#E5ECF6",
           "radialaxis": {
            "gridcolor": "white",
            "linecolor": "white",
            "ticks": ""
           }
          },
          "scene": {
           "xaxis": {
            "backgroundcolor": "#E5ECF6",
            "gridcolor": "white",
            "gridwidth": 2,
            "linecolor": "white",
            "showbackground": true,
            "ticks": "",
            "zerolinecolor": "white"
           },
           "yaxis": {
            "backgroundcolor": "#E5ECF6",
            "gridcolor": "white",
            "gridwidth": 2,
            "linecolor": "white",
            "showbackground": true,
            "ticks": "",
            "zerolinecolor": "white"
           },
           "zaxis": {
            "backgroundcolor": "#E5ECF6",
            "gridcolor": "white",
            "gridwidth": 2,
            "linecolor": "white",
            "showbackground": true,
            "ticks": "",
            "zerolinecolor": "white"
           }
          },
          "shapedefaults": {
           "line": {
            "color": "#2a3f5f"
           }
          },
          "ternary": {
           "aaxis": {
            "gridcolor": "white",
            "linecolor": "white",
            "ticks": ""
           },
           "baxis": {
            "gridcolor": "white",
            "linecolor": "white",
            "ticks": ""
           },
           "bgcolor": "#E5ECF6",
           "caxis": {
            "gridcolor": "white",
            "linecolor": "white",
            "ticks": ""
           }
          },
          "title": {
           "x": 0.05
          },
          "xaxis": {
           "automargin": true,
           "gridcolor": "white",
           "linecolor": "white",
           "ticks": "",
           "title": {
            "standoff": 15
           },
           "zerolinecolor": "white",
           "zerolinewidth": 2
          },
          "yaxis": {
           "automargin": true,
           "gridcolor": "white",
           "linecolor": "white",
           "ticks": "",
           "title": {
            "standoff": 15
           },
           "zerolinecolor": "white",
           "zerolinewidth": 2
          }
         }
        }
       }
      }
     },
     "metadata": {},
     "output_type": "display_data"
    }
   ],
   "source": [
    "z = [\n",
    "    [None, buried_ab_ag_interface_res['cdr_12'].mean(),buried_ab_ag_interface_res['cdr_13'].mean(),buried_ab_ag_interface_res['cdr_14'].mean(),buried_ab_ag_interface_res['cdr_15'].mean(),buried_ab_ag_interface_res['cdr_16'].mean()],\n",
    "    [buried_ab_ag_interface_res['cdr_12'].mean(),None,buried_ab_ag_interface_res['cdr_23'].mean(),buried_ab_ag_interface_res['cdr_24'].mean(),buried_ab_ag_interface_res['cdr_25'].mean(),buried_ab_ag_interface_res['cdr_26'].mean()],\n",
    "    [buried_ab_ag_interface_res['cdr_13'].mean(),buried_ab_ag_interface_res['cdr_23'].mean(),None,buried_ab_ag_interface_res['cdr_34'].mean(),buried_ab_ag_interface_res['cdr_35'].mean(),buried_ab_ag_interface_res['cdr_36'].mean()],\n",
    "    [buried_ab_ag_interface_res['cdr_14'].mean(),buried_ab_ag_interface_res['cdr_24'].mean(),buried_ab_ag_interface_res['cdr_34'].mean(),None,buried_ab_ag_interface_res['cdr_45'].mean(),buried_ab_ag_interface_res['cdr_46'].mean()],\n",
    "    [buried_ab_ag_interface_res['cdr_15'].mean(),buried_ab_ag_interface_res['cdr_25'].mean(),buried_ab_ag_interface_res['cdr_35'].mean(),buried_ab_ag_interface_res['cdr_45'].mean(),None,buried_ab_ag_interface_res['cdr_56'].mean()],\n",
    "    [buried_ab_ag_interface_res['cdr_16'].mean(),buried_ab_ag_interface_res['cdr_26'].mean(),buried_ab_ag_interface_res['cdr_36'].mean(),buried_ab_ag_interface_res['cdr_46'].mean(),buried_ab_ag_interface_res['cdr_56'].mean(),None],\n",
    "]\n",
    "\n",
    "fig = go.Figure(data=go.Heatmap(colorscale=('white', 'black'), z=z, x=['H CDR 1', 'H CDR 2', 'H CDR 3', 'L CDR 1', 'L CDR 2', 'L CDR 3'], y=['H CDR 1', 'H CDR 2', 'H CDR 3', 'L CDR 1', 'L CDR 2', 'L CDR 3']))\n",
    "fig.show()"
   ]
  },
  {
   "cell_type": "code",
   "execution_count": 33,
   "metadata": {},
   "outputs": [
    {
     "name": "stdout",
     "output_type": "stream",
     "text": [
      "(array([ 7, 20, 53, 55, 48, 29, 13,  9,  3,  1]), array([ 0.,  4.,  8., 12., 16., 20., 24., 28., 32., 36., 40.]))\n",
      "14.974789915966387 238\n",
      "(array([ 1,  9, 46, 65, 50, 42, 13,  4,  6,  2]), array([  0.,  28.,  56.,  84., 112., 140., 168., 196., 224., 252., 280.]))\n",
      "116.8109243697479 238\n"
     ]
    }
   ],
   "source": [
    "clean_idcodes = set(buried_ab_ag_interface_res.idcode.values)\n",
    "hbonds = []\n",
    "wms = []\n",
    "for (idcode, ab_h_chain, ab_l_chain, ag_chain, interactions) in df_interactions:\n",
    "    if idcode not in clean_idcodes:\n",
    "        continue\n",
    "    _, _ , _, _, _, _, hhbonds, lhbonds, hwm, lwm = interactions\n",
    "    i_hbonds = len(hhbonds) + len(lhbonds)\n",
    "    hbonds.append(i_hbonds)\n",
    "\n",
    "    i_wms = len(hwm) + len(lwm)\n",
    "    wms.append(i_wms)\n",
    "\n",
    "print(np.histogram(hbonds, range=(0, 40), bins=10))\n",
    "print(sum(hbonds) / len(hbonds), len(hbonds))\n",
    "\n",
    "print(np.histogram(wms, range=(0, 280), bins=10))\n",
    "print(sum(wms) / len(wms), len(wms))\n"
   ]
  },
  {
   "cell_type": "code",
   "execution_count": 34,
   "metadata": {},
   "outputs": [],
   "source": [
    "def count_linear_seqs(x, tolerance):\n",
    "    ab_chains = protein_antigens.query(\n",
    "        f\"pdb == '{x['idcode']}' and {'L' if x['chain_type'] in 'LK' else 'H'}chain == '{x['chainID']}'\")[['Hchain', 'Lchain']].values\n",
    "    assert len(ab_chains) == 1, print(ab_chains)\n",
    "    ab_chains = list(ab_chains[0])\n",
    "    \n",
    "    cdr_epitope = buried_fullab.query(\n",
    "        f'idcode == \"{x[\"idcode\"]}\"')['ag_ab_interface_res'].values[0]\n",
    "    \n",
    "    epitope = {}\n",
    "    for atom in cdr_epitope:\n",
    "        chain, resnumb, resname, aname, _ = atom\n",
    "        if aname.startswith('H'):\n",
    "            continue\n",
    "        if chain not in epitope:\n",
    "            epitope[chain] = []\n",
    "        epitope[chain].append(resnumb)\n",
    "\n",
    "    seq_lens = []\n",
    "    for chain, res in epitope.items():\n",
    "        n_seqs = 0\n",
    "        prev = None\n",
    "        ep_seq = 0\n",
    "        res = sorted(set(res))\n",
    "        for i, resnumb in enumerate(res):\n",
    "            if prev and (resnumb != prev + 1 and resnumb > prev + 1 + tolerance):\n",
    "                seq_lens.append(ep_seq)\n",
    "                ep_seq = 0\n",
    "            prev = resnumb\n",
    "            ep_seq += 1\n",
    "        seq_lens.append(ep_seq)\n",
    "    \n",
    "    return seq_lens\n",
    "\n",
    "buried_ab_ag_interface_res[\"epi_seq_len_0\"] = buried_ab_ag_interface_res.apply(lambda x: count_linear_seqs(x, 0), axis=1)\n",
    "buried_ab_ag_interface_res[\"epi_seq_len_1\"] = buried_ab_ag_interface_res.apply(lambda x: count_linear_seqs(x, 1), axis=1)\n",
    "buried_ab_ag_interface_res[\"epi_seq_len_3\"] = buried_ab_ag_interface_res.apply(lambda x: count_linear_seqs(x, 3), axis=1)\n"
   ]
  },
  {
   "cell_type": "code",
   "execution_count": 35,
   "metadata": {},
   "outputs": [
    {
     "name": "stdout",
     "output_type": "stream",
     "text": [
      "(array([3892, 2160,  630,  204,   86,   13,    1,    0,    0,    0]), array([ 0.,  2.,  4.,  6.,  8., 10., 12., 14., 16., 18., 20.]))\n",
      "(array([ 25, 233, 393, 203,  80,   8,   3,   0,   1,   0]), array([ 0.,  3.,  6.,  9., 12., 15., 18., 21., 24., 27., 30.]))\n",
      "(array([1990, 1591,  776,  399,  150,   51,   14,    5,    0,    0]), array([ 0.,  2.,  4.,  6.,  8., 10., 12., 14., 16., 18., 20.]))\n",
      "(array([ 68, 511, 276,  83,   6,   2,   0,   0,   0,   0]), array([ 0.,  3.,  6.,  9., 12., 15., 18., 21., 24., 27., 30.]))\n",
      "(array([ 926, 1151,  759,  445,  225,   99,   46,   15,    6,    1]), array([ 0.,  2.,  4.,  6.,  8., 10., 12., 14., 16., 18., 20.]))\n",
      "(array([193, 609, 129,  13,   2,   0,   0,   0,   0,   0]), array([ 0.,  3.,  6.,  9., 12., 15., 18., 21., 24., 27., 30.]))\n"
     ]
    }
   ],
   "source": [
    "all_epi_seqs, epi_seqs_per_ab = [], []\n",
    "for epi_seqs in buried_ab_ag_interface_res[\"epi_seq_len_0\"]:\n",
    "    all_epi_seqs += epi_seqs\n",
    "    epi_seqs_per_ab.append(len(epi_seqs))\n",
    "\n",
    "print(np.histogram(all_epi_seqs, bins=10, range=(0, 20)))\n",
    "print(np.histogram(epi_seqs_per_ab, bins=10, range=(0, 30)))\n",
    "\n",
    "all_epi_seqs, epi_seqs_per_ab = [], []\n",
    "for epi_seqs in buried_ab_ag_interface_res[\"epi_seq_len_1\"]:\n",
    "    all_epi_seqs += epi_seqs\n",
    "    epi_seqs_per_ab.append(len(epi_seqs))\n",
    "\n",
    "print(np.histogram(all_epi_seqs, bins=10, range=(0, 20)))\n",
    "print(np.histogram(epi_seqs_per_ab, bins=10, range=(0, 30)))\n",
    "\n",
    "all_epi_seqs, epi_seqs_per_ab = [], []\n",
    "for epi_seqs in buried_ab_ag_interface_res[\"epi_seq_len_3\"]:\n",
    "    all_epi_seqs += epi_seqs\n",
    "    epi_seqs_per_ab.append(len(epi_seqs))\n",
    "\n",
    "print(np.histogram(all_epi_seqs, bins=10, range=(0, 20)))\n",
    "print(np.histogram(epi_seqs_per_ab, bins=10, range=(0, 30)))\n"
   ]
  },
  {
   "cell_type": "code",
   "execution_count": 36,
   "metadata": {},
   "outputs": [],
   "source": [
    "def count_atomtypes(x):\n",
    "    ab_chains = protein_antigens.query(\n",
    "        f\"pdb == '{x['idcode']}' and {'L' if x['chain_type'] in 'LK' else 'H'}chain == '{x['chainID']}'\", engine = 'python')[['Hchain', 'Lchain']].values\n",
    "    assert len(ab_chains) == 1, print(ab_chains)\n",
    "    ab_chains = list(ab_chains[0])\n",
    "    \n",
    "    epitope = buried_fullab.query(\n",
    "        f'idcode == \"{x[\"idcode\"]}\" and chainID.isin({ab_chains})', engine = 'python')['ag_ab_interface_res'].values[0]\n",
    "    \n",
    "    ag_atom_dist = {}\n",
    "    \n",
    "    for atom in epitope:\n",
    "        chain, resnumb, resname, aname, _ = atom\n",
    "        if aname.startswith('H'):\n",
    "            continue\n",
    "        if aname[0] not in ag_atom_dist:\n",
    "            ag_atom_dist[aname[0]] = 0\n",
    "        ag_atom_dist[aname[0]] += 1\n",
    "    \n",
    "    return ag_atom_dist\n",
    "\n",
    "buried_ab_ag_interface_res['atom_hist'] = buried_ab_ag_interface_res.apply(lambda x: count_atomtypes(x), axis=1)"
   ]
  },
  {
   "cell_type": "code",
   "execution_count": 37,
   "metadata": {},
   "outputs": [],
   "source": [
    "atom_hist = {'N': [], 'C': [], 'O': [], 'S': []}\n",
    "for atoms in buried_ab_ag_interface_res['atom_hist']:\n",
    "    for atom, count in atoms.items():\n",
    "        atom_hist[atom].append(count)"
   ]
  },
  {
   "cell_type": "code",
   "execution_count": 38,
   "metadata": {},
   "outputs": [
    {
     "name": "stdout",
     "output_type": "stream",
     "text": [
      "(array([  5,  30, 117, 230, 271, 169,  84,  28,   7,   4]), array([ 0.,  5., 10., 15., 20., 25., 30., 35., 40., 45., 50.]))\n"
     ]
    }
   ],
   "source": [
    "print(np.histogram(atom_hist['C'], range=(0, 50), bins=10))"
   ]
  }
 ],
 "metadata": {
  "interpreter": {
   "hash": "31f2aee4e71d21fbe5cf8b01ff0e069b9275f58929596ceb00d14d90e3e16cd6"
  },
  "kernelspec": {
   "display_name": "Python 3.8.10 64-bit",
   "name": "python3"
  },
  "language_info": {
   "codemirror_mode": {
    "name": "ipython",
    "version": 3
   },
   "file_extension": ".py",
   "mimetype": "text/x-python",
   "name": "python",
   "nbconvert_exporter": "python",
   "pygments_lexer": "ipython3",
   "version": "3.8.12"
  },
  "orig_nbformat": 4
 },
 "nbformat": 4,
 "nbformat_minor": 2
}
