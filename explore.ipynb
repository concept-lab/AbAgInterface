{
 "cells": [
  {
   "cell_type": "code",
   "execution_count": 81,
   "metadata": {},
   "outputs": [],
   "source": [
    "import pandas as pd\n",
    "import numpy as np\n",
    "import itertools\n",
    "\n",
    "import sys, os\n",
    "from pathlib import Path\n",
    "source_location = Path().resolve()\n",
    "sys.path.append(source_location)\n",
    "from scripts.utils import get_sabdab_details"
   ]
  },
  {
   "cell_type": "code",
   "execution_count": 2,
   "metadata": {},
   "outputs": [],
   "source": [
    "df_sabdab_all = pd.read_csv(Path.joinpath(source_location,\n",
    "    'structures/sabdab_summary_all.tsv'), sep=\"\\t\")\n",
    "df_sabdab_90 = pd.read_csv(Path.joinpath(source_location,\n",
    "    'structures/sabdab_summary_90.tsv'), sep=\"\\t\")\n",
    "\n",
    "df_buried = pd.read_pickle(Path.joinpath(source_location,\n",
    "    'data/epitope_buried.pickle'))\n",
    "\n",
    "df_interactions = pd.read_pickle(Path.joinpath(source_location,\n",
    "    'data/interactions.pickle'))"
   ]
  },
  {
   "cell_type": "code",
   "execution_count": 3,
   "metadata": {},
   "outputs": [
    {
     "name": "stdout",
     "output_type": "stream",
     "text": [
      "SabDab protein antigen:\n",
      "2715 proteins out of 4979, 54.5%\n"
     ]
    }
   ],
   "source": [
    "# protein_antigens = df_sabdab_all[df_sabdab_all['antigen_type'].str.contains(\"protein\", na = False)\n",
    "protein_antigens = df_sabdab_all.query(\"antigen_type == antigen_type and antigen_type.str.contains('protein')\", engine = 'python').drop_duplicates()\n",
    "ab_protein_antigens = set(protein_antigens.pdb.values)\n",
    "all_saddab_proteins = set(df_sabdab_all.pdb.values)\n",
    "print(\n",
    "    f\"SabDab protein antigen:\\n\"\n",
    "    f\"{len(ab_protein_antigens)} proteins out of {len(all_saddab_proteins)}, \"\n",
    "    f\"{round(len(ab_protein_antigens) / len(all_saddab_proteins) * 100, 1)}%\"\n",
    ")"
   ]
  },
  {
   "cell_type": "code",
   "execution_count": 4,
   "metadata": {},
   "outputs": [
    {
     "name": "stdout",
     "output_type": "stream",
     "text": [
      "All: 2715\n",
      "No Hchain: 10\n",
      "No Lchain: 528\n",
      "Both chains: 2177\n"
     ]
    }
   ],
   "source": [
    "ab_both_chains = set(protein_antigens.query(\"Hchain == Hchain and Lchain == Lchain\").pdb.values)\n",
    "ab_single_H_chain = set(protein_antigens.query(\"Hchain == Hchain\").pdb.values)\n",
    "ab_single_L_chain = set(protein_antigens.query(\"Lchain == Lchain\").pdb.values)\n",
    "\n",
    "n_ab_no_Hchain = len(ab_protein_antigens) - len(ab_single_H_chain)\n",
    "n_ab_no_Lchain = len(ab_protein_antigens) - len(ab_single_L_chain)\n",
    "\n",
    "print(f\"All: {len(ab_protein_antigens)}\\nNo Hchain: {n_ab_no_Hchain}\\nNo Lchain: {n_ab_no_Lchain}\\nBoth chains: {len(ab_both_chains)}\")"
   ]
  },
  {
   "cell_type": "code",
   "execution_count": 5,
   "metadata": {},
   "outputs": [
    {
     "name": "stdout",
     "output_type": "stream",
     "text": [
      "Buried surfaces of 2492 proteins\n",
      "with both chains: 1974\n"
     ]
    }
   ],
   "source": [
    "buried_fullab = df_buried[df_buried.idcode.isin(ab_both_chains)]\n",
    "print(\n",
    "    f\"Buried surfaces of {len(set(df_buried.idcode.values))} proteins\\n\"\n",
    "    f\"with both chains: {len(set(buried_fullab.idcode.values))}\"\n",
    ")"
   ]
  },
  {
   "cell_type": "code",
   "execution_count": 6,
   "metadata": {},
   "outputs": [
    {
     "data": {
      "text/plain": [
       "2148"
      ]
     },
     "execution_count": 6,
     "metadata": {},
     "output_type": "execute_result"
    }
   ],
   "source": [
    "buried_ab_ag_interface_res = buried_fullab[~buried_fullab[['idcode', 'ab_ag_interface']].astype(str).duplicated(keep='first')][['idcode', 'chainID', 'chain_type', 'ab_ag_interface_res', 'ag_ab_interface_res', 'cdr_seq']]\n",
    "buried_ab_ag_interface_res = buried_ab_ag_interface_res[~buried_ab_ag_interface_res[['idcode', 'cdr_seq']].astype(str).duplicated(keep='first')][['idcode', 'chainID', 'chain_type', 'ab_ag_interface_res', 'ag_ab_interface_res']]\n",
    "len(buried_ab_ag_interface_res)"
   ]
  },
  {
   "cell_type": "code",
   "execution_count": 7,
   "metadata": {},
   "outputs": [
    {
     "name": "stdout",
     "output_type": "stream",
     "text": [
      "SabDab protein antigen:\n",
      "1154 proteins out of 2017, 57.2%\n"
     ]
    }
   ],
   "source": [
    "# protein_antigens = df_sabdab_90[df_sabdab_90['antigen_type'].str.contains('protein', na = False)]\n",
    "protein_antigens = df_sabdab_90.query(\"antigen_type == antigen_type and antigen_type.str.contains('protein')\", engine = 'python').drop_duplicates()\n",
    "ab_protein_antigens = set(protein_antigens.pdb.values)\n",
    "all_saddab_proteins = set(df_sabdab_90.pdb.values)\n",
    "print(\n",
    "    f\"SabDab protein antigen:\\n\"\n",
    "    f\"{len(ab_protein_antigens)} proteins out of {len(all_saddab_proteins)}, \"\n",
    "    f\"{round(len(ab_protein_antigens) / len(all_saddab_proteins) * 100, 1)}%\"\n",
    ")"
   ]
  },
  {
   "cell_type": "code",
   "execution_count": 8,
   "metadata": {},
   "outputs": [
    {
     "name": "stdout",
     "output_type": "stream",
     "text": [
      "All: 1154\n",
      "No Hchain: 0\n",
      "No Lchain: 0\n",
      "Both chains: 1154\n"
     ]
    }
   ],
   "source": [
    "ab_both_chains = set(protein_antigens.query(\"Hchain == Hchain and Lchain == Lchain\").pdb.values)\n",
    "ab_single_H_chain = set(protein_antigens.query(\"Hchain == Hchain\").pdb.values)\n",
    "ab_single_L_chain = set(protein_antigens.query(\"Lchain == Lchain\").pdb.values)\n",
    "\n",
    "n_ab_no_Hchain = len(ab_protein_antigens) - len(ab_single_H_chain)\n",
    "n_ab_no_Lchain = len(ab_protein_antigens) - len(ab_single_L_chain)\n",
    "\n",
    "print(f\"All: {len(ab_protein_antigens)}\\nNo Hchain: {n_ab_no_Hchain}\\nNo Lchain: {n_ab_no_Lchain}\\nBoth chains: {len(ab_both_chains)}\")"
   ]
  },
  {
   "cell_type": "code",
   "execution_count": 9,
   "metadata": {},
   "outputs": [
    {
     "name": "stdout",
     "output_type": "stream",
     "text": [
      "Buried surfaces of 2492 proteins\n",
      "with both chains: 867\n"
     ]
    }
   ],
   "source": [
    "buried_fullab = df_buried[df_buried.idcode.isin(ab_both_chains)]\n",
    "print(\n",
    "    f\"Buried surfaces of {len(set(df_buried.idcode.values))} proteins\\n\"\n",
    "    f\"with both chains: {len(set(buried_fullab.idcode.values))}\"\n",
    ")"
   ]
  },
  {
   "cell_type": "code",
   "execution_count": 10,
   "metadata": {},
   "outputs": [
    {
     "data": {
      "text/plain": [
       "947"
      ]
     },
     "execution_count": 10,
     "metadata": {},
     "output_type": "execute_result"
    }
   ],
   "source": [
    "buried_ab_ag_interface_res = buried_fullab[~buried_fullab[['idcode', 'ab_ag_interface']].astype(str).duplicated(keep='first')][['idcode', 'chainID', 'chain_type', 'ab_ag_interface_res', 'ag_ab_interface_res', 'cdr_seq']]\n",
    "buried_ab_ag_interface_res = buried_ab_ag_interface_res[~buried_ab_ag_interface_res[['idcode', 'cdr_seq']].astype(str).duplicated(keep='first')][['idcode', 'chainID', 'chain_type', 'ab_ag_interface_res', 'ag_ab_interface_res']]\n",
    "len(buried_ab_ag_interface_res)"
   ]
  },
  {
   "cell_type": "code",
   "execution_count": 13,
   "metadata": {},
   "outputs": [],
   "source": [
    "def count_chains(x):\n",
    "    ab_chains = protein_antigens.query(f\"pdb == '{x['idcode']}' and {'L' if x['chain_type'] in 'LK' else 'H'}chain == '{x['chainID']}'\")[['Hchain', 'Lchain']].values\n",
    "    if len(ab_chains) != 1:\n",
    "        return (None, None, None, None, None, None, None, None, None, None, None)\n",
    "    assert len(ab_chains) == 1, print(x['idcode'], x['chain_type'], x['chainID'], ab_chains)\n",
    "    ab_chains = list(ab_chains[0])\n",
    "\n",
    "    cdrs = []\n",
    "    incomplete = False\n",
    "    for ab_chain in ab_chains:\n",
    "        if ab_chain != ab_chain:\n",
    "            cdrs.append((None, None))\n",
    "            incomplete = True\n",
    "            continue\n",
    "        for cdrnumb in (1, 2, 3):\n",
    "            cdr_info = buried_fullab.query(f\"idcode == '{x['idcode']}' and chainID == '{ab_chain}' and cdr == {cdrnumb}\")[['cdr_begin', 'cdr_end']].values\n",
    "            if len(cdr_info) == 1:\n",
    "                (cdr_b, cdr_e) = cdr_info[0]\n",
    "                cdrs.append((cdr_b, cdr_e))\n",
    "            else:\n",
    "                cdrs.append((None, None))\n",
    "                incomplete = True\n",
    "\n",
    "    ag_res = []\n",
    "    for (chain, resnumb, resname, aname, cdrnumb) in x['ag_ab_interface_res']:\n",
    "        if aname.startswith('H'):\n",
    "            continue\n",
    "\n",
    "        ag_res.append(resname)\n",
    "    \n",
    "    ab_res = []\n",
    "    chains_res = [set(), set()]\n",
    "    cdrnumbs_res = [set(), set(),  set(), set(), set(), set()]\n",
    "    for (chain, resnumb, resname, aname, cdrnumb) in x['ab_ag_interface_res']:\n",
    "        if aname.startswith('H'):\n",
    "            continue\n",
    "\n",
    "        ab_res.append(resname)\n",
    "\n",
    "        if chain == ab_chains[0]:\n",
    "            i_chain = 0\n",
    "        elif chain == ab_chains[1]:\n",
    "            i_chain = 1\n",
    "        else:\n",
    "            raise Exception\n",
    "        \n",
    "        chains_res[i_chain].add((resnumb))\n",
    "        for i_cdr in range(i_chain * 3, i_chain * 3 + 3):\n",
    "            b, e = cdrs[i_cdr]\n",
    "            if not b:\n",
    "                continue\n",
    "            if resnumb >= b and resnumb <= e:\n",
    "                cdrnumbs_res[i_cdr].add((resnumb))\n",
    "    \n",
    "    chains = [len(i) for i in chains_res]\n",
    "    cdrnumbs = [len(i) for i in cdrnumbs_res]\n",
    "    \n",
    "    return (*chains, *cdrnumbs, ab_res, ag_res, incomplete)\n",
    "\n",
    "buried_ab_ag_interface_res['chains'] =\\\n",
    "    buried_ab_ag_interface_res.apply(lambda x: count_chains(x), axis=1)"
   ]
  },
  {
   "cell_type": "code",
   "execution_count": 14,
   "metadata": {},
   "outputs": [
    {
     "data": {
      "text/plain": [
       "946"
      ]
     },
     "execution_count": 14,
     "metadata": {},
     "output_type": "execute_result"
    }
   ],
   "source": [
    "buried_ab_ag_interface_res['hchains'], buried_ab_ag_interface_res['lchains'],\\\n",
    "    buried_ab_ag_interface_res['hcdr1'], buried_ab_ag_interface_res['hcdr2'],\\\n",
    "    buried_ab_ag_interface_res['hcdr3'], buried_ab_ag_interface_res['lcdr1'],\\\n",
    "    buried_ab_ag_interface_res['lcdr2'], buried_ab_ag_interface_res['lcdr3'],\\\n",
    "    buried_ab_ag_interface_res['ab_res'], buried_ab_ag_interface_res['ag_res'],\\\n",
    "    buried_ab_ag_interface_res['incomplete'] = zip(*buried_ab_ag_interface_res.chains)\n",
    "\n",
    "# lost due to incompatibility between Full SabDab and Redudant nomenclature \n",
    "len(buried_ab_ag_interface_res.query('hchains == hchains')) "
   ]
  },
  {
   "cell_type": "code",
   "execution_count": 15,
   "metadata": {},
   "outputs": [],
   "source": [
    "buried_ab_ag_interface_res = buried_ab_ag_interface_res.query('incomplete == 0')"
   ]
  },
  {
   "cell_type": "code",
   "execution_count": 16,
   "metadata": {},
   "outputs": [
    {
     "name": "stdout",
     "output_type": "stream",
     "text": [
      "Total interfaces: 946\n",
      " H+L chains present: 897 94.8\n",
      " Only H chain present: 47 5.0\n",
      " Only L chain present: 2 0.2\n"
     ]
    },
    {
     "data": {
      "application/vnd.plotly.v1+json": {
       "config": {
        "plotlyServerURL": "https://plot.ly"
       },
       "data": [
        {
         "labels": [
          "H+L chains",
          "Only H chain",
          "Only L"
         ],
         "type": "pie",
         "values": [
          897,
          47,
          2
         ]
        }
       ],
       "layout": {
        "template": {
         "data": {
          "bar": [
           {
            "error_x": {
             "color": "#2a3f5f"
            },
            "error_y": {
             "color": "#2a3f5f"
            },
            "marker": {
             "line": {
              "color": "#E5ECF6",
              "width": 0.5
             },
             "pattern": {
              "fillmode": "overlay",
              "size": 10,
              "solidity": 0.2
             }
            },
            "type": "bar"
           }
          ],
          "barpolar": [
           {
            "marker": {
             "line": {
              "color": "#E5ECF6",
              "width": 0.5
             },
             "pattern": {
              "fillmode": "overlay",
              "size": 10,
              "solidity": 0.2
             }
            },
            "type": "barpolar"
           }
          ],
          "carpet": [
           {
            "aaxis": {
             "endlinecolor": "#2a3f5f",
             "gridcolor": "white",
             "linecolor": "white",
             "minorgridcolor": "white",
             "startlinecolor": "#2a3f5f"
            },
            "baxis": {
             "endlinecolor": "#2a3f5f",
             "gridcolor": "white",
             "linecolor": "white",
             "minorgridcolor": "white",
             "startlinecolor": "#2a3f5f"
            },
            "type": "carpet"
           }
          ],
          "choropleth": [
           {
            "colorbar": {
             "outlinewidth": 0,
             "ticks": ""
            },
            "type": "choropleth"
           }
          ],
          "contour": [
           {
            "colorbar": {
             "outlinewidth": 0,
             "ticks": ""
            },
            "colorscale": [
             [
              0,
              "#0d0887"
             ],
             [
              0.1111111111111111,
              "#46039f"
             ],
             [
              0.2222222222222222,
              "#7201a8"
             ],
             [
              0.3333333333333333,
              "#9c179e"
             ],
             [
              0.4444444444444444,
              "#bd3786"
             ],
             [
              0.5555555555555556,
              "#d8576b"
             ],
             [
              0.6666666666666666,
              "#ed7953"
             ],
             [
              0.7777777777777778,
              "#fb9f3a"
             ],
             [
              0.8888888888888888,
              "#fdca26"
             ],
             [
              1,
              "#f0f921"
             ]
            ],
            "type": "contour"
           }
          ],
          "contourcarpet": [
           {
            "colorbar": {
             "outlinewidth": 0,
             "ticks": ""
            },
            "type": "contourcarpet"
           }
          ],
          "heatmap": [
           {
            "colorbar": {
             "outlinewidth": 0,
             "ticks": ""
            },
            "colorscale": [
             [
              0,
              "#0d0887"
             ],
             [
              0.1111111111111111,
              "#46039f"
             ],
             [
              0.2222222222222222,
              "#7201a8"
             ],
             [
              0.3333333333333333,
              "#9c179e"
             ],
             [
              0.4444444444444444,
              "#bd3786"
             ],
             [
              0.5555555555555556,
              "#d8576b"
             ],
             [
              0.6666666666666666,
              "#ed7953"
             ],
             [
              0.7777777777777778,
              "#fb9f3a"
             ],
             [
              0.8888888888888888,
              "#fdca26"
             ],
             [
              1,
              "#f0f921"
             ]
            ],
            "type": "heatmap"
           }
          ],
          "heatmapgl": [
           {
            "colorbar": {
             "outlinewidth": 0,
             "ticks": ""
            },
            "colorscale": [
             [
              0,
              "#0d0887"
             ],
             [
              0.1111111111111111,
              "#46039f"
             ],
             [
              0.2222222222222222,
              "#7201a8"
             ],
             [
              0.3333333333333333,
              "#9c179e"
             ],
             [
              0.4444444444444444,
              "#bd3786"
             ],
             [
              0.5555555555555556,
              "#d8576b"
             ],
             [
              0.6666666666666666,
              "#ed7953"
             ],
             [
              0.7777777777777778,
              "#fb9f3a"
             ],
             [
              0.8888888888888888,
              "#fdca26"
             ],
             [
              1,
              "#f0f921"
             ]
            ],
            "type": "heatmapgl"
           }
          ],
          "histogram": [
           {
            "marker": {
             "pattern": {
              "fillmode": "overlay",
              "size": 10,
              "solidity": 0.2
             }
            },
            "type": "histogram"
           }
          ],
          "histogram2d": [
           {
            "colorbar": {
             "outlinewidth": 0,
             "ticks": ""
            },
            "colorscale": [
             [
              0,
              "#0d0887"
             ],
             [
              0.1111111111111111,
              "#46039f"
             ],
             [
              0.2222222222222222,
              "#7201a8"
             ],
             [
              0.3333333333333333,
              "#9c179e"
             ],
             [
              0.4444444444444444,
              "#bd3786"
             ],
             [
              0.5555555555555556,
              "#d8576b"
             ],
             [
              0.6666666666666666,
              "#ed7953"
             ],
             [
              0.7777777777777778,
              "#fb9f3a"
             ],
             [
              0.8888888888888888,
              "#fdca26"
             ],
             [
              1,
              "#f0f921"
             ]
            ],
            "type": "histogram2d"
           }
          ],
          "histogram2dcontour": [
           {
            "colorbar": {
             "outlinewidth": 0,
             "ticks": ""
            },
            "colorscale": [
             [
              0,
              "#0d0887"
             ],
             [
              0.1111111111111111,
              "#46039f"
             ],
             [
              0.2222222222222222,
              "#7201a8"
             ],
             [
              0.3333333333333333,
              "#9c179e"
             ],
             [
              0.4444444444444444,
              "#bd3786"
             ],
             [
              0.5555555555555556,
              "#d8576b"
             ],
             [
              0.6666666666666666,
              "#ed7953"
             ],
             [
              0.7777777777777778,
              "#fb9f3a"
             ],
             [
              0.8888888888888888,
              "#fdca26"
             ],
             [
              1,
              "#f0f921"
             ]
            ],
            "type": "histogram2dcontour"
           }
          ],
          "mesh3d": [
           {
            "colorbar": {
             "outlinewidth": 0,
             "ticks": ""
            },
            "type": "mesh3d"
           }
          ],
          "parcoords": [
           {
            "line": {
             "colorbar": {
              "outlinewidth": 0,
              "ticks": ""
             }
            },
            "type": "parcoords"
           }
          ],
          "pie": [
           {
            "automargin": true,
            "type": "pie"
           }
          ],
          "scatter": [
           {
            "marker": {
             "colorbar": {
              "outlinewidth": 0,
              "ticks": ""
             }
            },
            "type": "scatter"
           }
          ],
          "scatter3d": [
           {
            "line": {
             "colorbar": {
              "outlinewidth": 0,
              "ticks": ""
             }
            },
            "marker": {
             "colorbar": {
              "outlinewidth": 0,
              "ticks": ""
             }
            },
            "type": "scatter3d"
           }
          ],
          "scattercarpet": [
           {
            "marker": {
             "colorbar": {
              "outlinewidth": 0,
              "ticks": ""
             }
            },
            "type": "scattercarpet"
           }
          ],
          "scattergeo": [
           {
            "marker": {
             "colorbar": {
              "outlinewidth": 0,
              "ticks": ""
             }
            },
            "type": "scattergeo"
           }
          ],
          "scattergl": [
           {
            "marker": {
             "colorbar": {
              "outlinewidth": 0,
              "ticks": ""
             }
            },
            "type": "scattergl"
           }
          ],
          "scattermapbox": [
           {
            "marker": {
             "colorbar": {
              "outlinewidth": 0,
              "ticks": ""
             }
            },
            "type": "scattermapbox"
           }
          ],
          "scatterpolar": [
           {
            "marker": {
             "colorbar": {
              "outlinewidth": 0,
              "ticks": ""
             }
            },
            "type": "scatterpolar"
           }
          ],
          "scatterpolargl": [
           {
            "marker": {
             "colorbar": {
              "outlinewidth": 0,
              "ticks": ""
             }
            },
            "type": "scatterpolargl"
           }
          ],
          "scatterternary": [
           {
            "marker": {
             "colorbar": {
              "outlinewidth": 0,
              "ticks": ""
             }
            },
            "type": "scatterternary"
           }
          ],
          "surface": [
           {
            "colorbar": {
             "outlinewidth": 0,
             "ticks": ""
            },
            "colorscale": [
             [
              0,
              "#0d0887"
             ],
             [
              0.1111111111111111,
              "#46039f"
             ],
             [
              0.2222222222222222,
              "#7201a8"
             ],
             [
              0.3333333333333333,
              "#9c179e"
             ],
             [
              0.4444444444444444,
              "#bd3786"
             ],
             [
              0.5555555555555556,
              "#d8576b"
             ],
             [
              0.6666666666666666,
              "#ed7953"
             ],
             [
              0.7777777777777778,
              "#fb9f3a"
             ],
             [
              0.8888888888888888,
              "#fdca26"
             ],
             [
              1,
              "#f0f921"
             ]
            ],
            "type": "surface"
           }
          ],
          "table": [
           {
            "cells": {
             "fill": {
              "color": "#EBF0F8"
             },
             "line": {
              "color": "white"
             }
            },
            "header": {
             "fill": {
              "color": "#C8D4E3"
             },
             "line": {
              "color": "white"
             }
            },
            "type": "table"
           }
          ]
         },
         "layout": {
          "annotationdefaults": {
           "arrowcolor": "#2a3f5f",
           "arrowhead": 0,
           "arrowwidth": 1
          },
          "autotypenumbers": "strict",
          "coloraxis": {
           "colorbar": {
            "outlinewidth": 0,
            "ticks": ""
           }
          },
          "colorscale": {
           "diverging": [
            [
             0,
             "#8e0152"
            ],
            [
             0.1,
             "#c51b7d"
            ],
            [
             0.2,
             "#de77ae"
            ],
            [
             0.3,
             "#f1b6da"
            ],
            [
             0.4,
             "#fde0ef"
            ],
            [
             0.5,
             "#f7f7f7"
            ],
            [
             0.6,
             "#e6f5d0"
            ],
            [
             0.7,
             "#b8e186"
            ],
            [
             0.8,
             "#7fbc41"
            ],
            [
             0.9,
             "#4d9221"
            ],
            [
             1,
             "#276419"
            ]
           ],
           "sequential": [
            [
             0,
             "#0d0887"
            ],
            [
             0.1111111111111111,
             "#46039f"
            ],
            [
             0.2222222222222222,
             "#7201a8"
            ],
            [
             0.3333333333333333,
             "#9c179e"
            ],
            [
             0.4444444444444444,
             "#bd3786"
            ],
            [
             0.5555555555555556,
             "#d8576b"
            ],
            [
             0.6666666666666666,
             "#ed7953"
            ],
            [
             0.7777777777777778,
             "#fb9f3a"
            ],
            [
             0.8888888888888888,
             "#fdca26"
            ],
            [
             1,
             "#f0f921"
            ]
           ],
           "sequentialminus": [
            [
             0,
             "#0d0887"
            ],
            [
             0.1111111111111111,
             "#46039f"
            ],
            [
             0.2222222222222222,
             "#7201a8"
            ],
            [
             0.3333333333333333,
             "#9c179e"
            ],
            [
             0.4444444444444444,
             "#bd3786"
            ],
            [
             0.5555555555555556,
             "#d8576b"
            ],
            [
             0.6666666666666666,
             "#ed7953"
            ],
            [
             0.7777777777777778,
             "#fb9f3a"
            ],
            [
             0.8888888888888888,
             "#fdca26"
            ],
            [
             1,
             "#f0f921"
            ]
           ]
          },
          "colorway": [
           "#636efa",
           "#EF553B",
           "#00cc96",
           "#ab63fa",
           "#FFA15A",
           "#19d3f3",
           "#FF6692",
           "#B6E880",
           "#FF97FF",
           "#FECB52"
          ],
          "font": {
           "color": "#2a3f5f"
          },
          "geo": {
           "bgcolor": "white",
           "lakecolor": "white",
           "landcolor": "#E5ECF6",
           "showlakes": true,
           "showland": true,
           "subunitcolor": "white"
          },
          "hoverlabel": {
           "align": "left"
          },
          "hovermode": "closest",
          "mapbox": {
           "style": "light"
          },
          "paper_bgcolor": "white",
          "plot_bgcolor": "#E5ECF6",
          "polar": {
           "angularaxis": {
            "gridcolor": "white",
            "linecolor": "white",
            "ticks": ""
           },
           "bgcolor": "#E5ECF6",
           "radialaxis": {
            "gridcolor": "white",
            "linecolor": "white",
            "ticks": ""
           }
          },
          "scene": {
           "xaxis": {
            "backgroundcolor": "#E5ECF6",
            "gridcolor": "white",
            "gridwidth": 2,
            "linecolor": "white",
            "showbackground": true,
            "ticks": "",
            "zerolinecolor": "white"
           },
           "yaxis": {
            "backgroundcolor": "#E5ECF6",
            "gridcolor": "white",
            "gridwidth": 2,
            "linecolor": "white",
            "showbackground": true,
            "ticks": "",
            "zerolinecolor": "white"
           },
           "zaxis": {
            "backgroundcolor": "#E5ECF6",
            "gridcolor": "white",
            "gridwidth": 2,
            "linecolor": "white",
            "showbackground": true,
            "ticks": "",
            "zerolinecolor": "white"
           }
          },
          "shapedefaults": {
           "line": {
            "color": "#2a3f5f"
           }
          },
          "ternary": {
           "aaxis": {
            "gridcolor": "white",
            "linecolor": "white",
            "ticks": ""
           },
           "baxis": {
            "gridcolor": "white",
            "linecolor": "white",
            "ticks": ""
           },
           "bgcolor": "#E5ECF6",
           "caxis": {
            "gridcolor": "white",
            "linecolor": "white",
            "ticks": ""
           }
          },
          "title": {
           "x": 0.05
          },
          "xaxis": {
           "automargin": true,
           "gridcolor": "white",
           "linecolor": "white",
           "ticks": "",
           "title": {
            "standoff": 15
           },
           "zerolinecolor": "white",
           "zerolinewidth": 2
          },
          "yaxis": {
           "automargin": true,
           "gridcolor": "white",
           "linecolor": "white",
           "ticks": "",
           "title": {
            "standoff": 15
           },
           "zerolinecolor": "white",
           "zerolinewidth": 2
          }
         }
        }
       }
      }
     },
     "metadata": {},
     "output_type": "display_data"
    }
   ],
   "source": [
    "n_interfaces = len(buried_ab_ag_interface_res.query('incomplete == 0'))\n",
    "n_interfaces_bothchains = len(buried_ab_ag_interface_res.query('hchains != 0 and lchains != 0 and incomplete == 0'))\n",
    "n_interfaces_hchainonly = len(buried_ab_ag_interface_res.query('hchains != 0 and incomplete == 0')) - n_interfaces_bothchains\n",
    "n_interfaces_lchainonly = len(buried_ab_ag_interface_res.query('lchains != 0 and incomplete == 0')) - n_interfaces_bothchains\n",
    "print(\n",
    "    f\"Total interfaces: {n_interfaces}\\n\",\n",
    "    f\"H+L chains present: {n_interfaces_bothchains} {round(n_interfaces_bothchains / n_interfaces * 100, 1)}\\n\",\n",
    "    f\"Only H chain present: {n_interfaces_hchainonly} {round(n_interfaces_hchainonly / n_interfaces * 100, 1)}\\n\",\n",
    "    f\"Only L chain present: {n_interfaces_lchainonly} {round(n_interfaces_lchainonly / n_interfaces * 100, 1)}\",\n",
    ")\n",
    "\n",
    "import plotly.graph_objects as go\n",
    "\n",
    "labels = ['H+L chains','Only H chain','Only L']\n",
    "values = [n_interfaces_bothchains, n_interfaces_hchainonly, n_interfaces_lchainonly]\n",
    "\n",
    "fig = go.Figure(data=[go.Pie(labels=labels, values=values)])\n",
    "fig.show()"
   ]
  },
  {
   "cell_type": "code",
   "execution_count": 17,
   "metadata": {},
   "outputs": [
    {
     "name": "stdout",
     "output_type": "stream",
     "text": [
      "Number of Residues\n",
      "Avg Heavy chain: 9.7\n",
      "Avg Light chain: 5.1\n",
      "(array([0.01804671, 0.014862  , 0.03821656, 0.06794055, 0.09766454,\n",
      "       0.10721868, 0.07165605, 0.05467091, 0.01963907, 0.01008493]), array([ 0.,  2.,  4.,  6.,  8., 10., 12., 14., 16., 18., 20.]))\n",
      "(array([0.05720339, 0.10222458, 0.13930085, 0.10752119, 0.05773305,\n",
      "       0.02330508, 0.00635593, 0.00317797, 0.00264831, 0.00052966]), array([ 0.,  2.,  4.,  6.,  8., 10., 12., 14., 16., 18., 20.]))\n"
     ]
    },
    {
     "data": {
      "application/vnd.plotly.v1+json": {
       "config": {
        "plotlyServerURL": "https://plot.ly"
       },
       "data": [
        {
         "line": {
          "shape": "spline"
         },
         "mode": "lines+markers",
         "name": "Heavy Chain",
         "type": "scatter",
         "x": [
          0,
          2,
          4,
          6,
          8,
          10,
          12,
          14,
          16,
          18,
          20
         ],
         "y": [
          0.018046709129511677,
          0.014861995753715499,
          0.03821656050955414,
          0.06794055201698514,
          0.09766454352441614,
          0.10721868365180467,
          0.07165605095541401,
          0.05467091295116773,
          0.019639065817409766,
          0.010084925690021231
         ]
        },
        {
         "line": {
          "shape": "spline"
         },
         "mode": "lines+markers",
         "name": "Light Chain",
         "type": "scatter",
         "x": [
          0,
          2,
          4,
          6,
          8,
          10,
          12,
          14,
          16,
          18,
          20
         ],
         "y": [
          0.057203389830508475,
          0.10222457627118645,
          0.1393008474576271,
          0.10752118644067797,
          0.057733050847457626,
          0.023305084745762712,
          0.006355932203389831,
          0.0031779661016949155,
          0.0026483050847457626,
          0.0005296610169491525
         ]
        }
       ],
       "layout": {
        "autosize": false,
        "height": 500,
        "margin": {
         "b": 100,
         "l": 50,
         "pad": 4,
         "r": 50,
         "t": 100
        },
        "template": {
         "data": {
          "bar": [
           {
            "error_x": {
             "color": "#2a3f5f"
            },
            "error_y": {
             "color": "#2a3f5f"
            },
            "marker": {
             "line": {
              "color": "white",
              "width": 0.5
             },
             "pattern": {
              "fillmode": "overlay",
              "size": 10,
              "solidity": 0.2
             }
            },
            "type": "bar"
           }
          ],
          "barpolar": [
           {
            "marker": {
             "line": {
              "color": "white",
              "width": 0.5
             },
             "pattern": {
              "fillmode": "overlay",
              "size": 10,
              "solidity": 0.2
             }
            },
            "type": "barpolar"
           }
          ],
          "carpet": [
           {
            "aaxis": {
             "endlinecolor": "#2a3f5f",
             "gridcolor": "#C8D4E3",
             "linecolor": "#C8D4E3",
             "minorgridcolor": "#C8D4E3",
             "startlinecolor": "#2a3f5f"
            },
            "baxis": {
             "endlinecolor": "#2a3f5f",
             "gridcolor": "#C8D4E3",
             "linecolor": "#C8D4E3",
             "minorgridcolor": "#C8D4E3",
             "startlinecolor": "#2a3f5f"
            },
            "type": "carpet"
           }
          ],
          "choropleth": [
           {
            "colorbar": {
             "outlinewidth": 0,
             "ticks": ""
            },
            "type": "choropleth"
           }
          ],
          "contour": [
           {
            "colorbar": {
             "outlinewidth": 0,
             "ticks": ""
            },
            "colorscale": [
             [
              0,
              "#0d0887"
             ],
             [
              0.1111111111111111,
              "#46039f"
             ],
             [
              0.2222222222222222,
              "#7201a8"
             ],
             [
              0.3333333333333333,
              "#9c179e"
             ],
             [
              0.4444444444444444,
              "#bd3786"
             ],
             [
              0.5555555555555556,
              "#d8576b"
             ],
             [
              0.6666666666666666,
              "#ed7953"
             ],
             [
              0.7777777777777778,
              "#fb9f3a"
             ],
             [
              0.8888888888888888,
              "#fdca26"
             ],
             [
              1,
              "#f0f921"
             ]
            ],
            "type": "contour"
           }
          ],
          "contourcarpet": [
           {
            "colorbar": {
             "outlinewidth": 0,
             "ticks": ""
            },
            "type": "contourcarpet"
           }
          ],
          "heatmap": [
           {
            "colorbar": {
             "outlinewidth": 0,
             "ticks": ""
            },
            "colorscale": [
             [
              0,
              "#0d0887"
             ],
             [
              0.1111111111111111,
              "#46039f"
             ],
             [
              0.2222222222222222,
              "#7201a8"
             ],
             [
              0.3333333333333333,
              "#9c179e"
             ],
             [
              0.4444444444444444,
              "#bd3786"
             ],
             [
              0.5555555555555556,
              "#d8576b"
             ],
             [
              0.6666666666666666,
              "#ed7953"
             ],
             [
              0.7777777777777778,
              "#fb9f3a"
             ],
             [
              0.8888888888888888,
              "#fdca26"
             ],
             [
              1,
              "#f0f921"
             ]
            ],
            "type": "heatmap"
           }
          ],
          "heatmapgl": [
           {
            "colorbar": {
             "outlinewidth": 0,
             "ticks": ""
            },
            "colorscale": [
             [
              0,
              "#0d0887"
             ],
             [
              0.1111111111111111,
              "#46039f"
             ],
             [
              0.2222222222222222,
              "#7201a8"
             ],
             [
              0.3333333333333333,
              "#9c179e"
             ],
             [
              0.4444444444444444,
              "#bd3786"
             ],
             [
              0.5555555555555556,
              "#d8576b"
             ],
             [
              0.6666666666666666,
              "#ed7953"
             ],
             [
              0.7777777777777778,
              "#fb9f3a"
             ],
             [
              0.8888888888888888,
              "#fdca26"
             ],
             [
              1,
              "#f0f921"
             ]
            ],
            "type": "heatmapgl"
           }
          ],
          "histogram": [
           {
            "marker": {
             "pattern": {
              "fillmode": "overlay",
              "size": 10,
              "solidity": 0.2
             }
            },
            "type": "histogram"
           }
          ],
          "histogram2d": [
           {
            "colorbar": {
             "outlinewidth": 0,
             "ticks": ""
            },
            "colorscale": [
             [
              0,
              "#0d0887"
             ],
             [
              0.1111111111111111,
              "#46039f"
             ],
             [
              0.2222222222222222,
              "#7201a8"
             ],
             [
              0.3333333333333333,
              "#9c179e"
             ],
             [
              0.4444444444444444,
              "#bd3786"
             ],
             [
              0.5555555555555556,
              "#d8576b"
             ],
             [
              0.6666666666666666,
              "#ed7953"
             ],
             [
              0.7777777777777778,
              "#fb9f3a"
             ],
             [
              0.8888888888888888,
              "#fdca26"
             ],
             [
              1,
              "#f0f921"
             ]
            ],
            "type": "histogram2d"
           }
          ],
          "histogram2dcontour": [
           {
            "colorbar": {
             "outlinewidth": 0,
             "ticks": ""
            },
            "colorscale": [
             [
              0,
              "#0d0887"
             ],
             [
              0.1111111111111111,
              "#46039f"
             ],
             [
              0.2222222222222222,
              "#7201a8"
             ],
             [
              0.3333333333333333,
              "#9c179e"
             ],
             [
              0.4444444444444444,
              "#bd3786"
             ],
             [
              0.5555555555555556,
              "#d8576b"
             ],
             [
              0.6666666666666666,
              "#ed7953"
             ],
             [
              0.7777777777777778,
              "#fb9f3a"
             ],
             [
              0.8888888888888888,
              "#fdca26"
             ],
             [
              1,
              "#f0f921"
             ]
            ],
            "type": "histogram2dcontour"
           }
          ],
          "mesh3d": [
           {
            "colorbar": {
             "outlinewidth": 0,
             "ticks": ""
            },
            "type": "mesh3d"
           }
          ],
          "parcoords": [
           {
            "line": {
             "colorbar": {
              "outlinewidth": 0,
              "ticks": ""
             }
            },
            "type": "parcoords"
           }
          ],
          "pie": [
           {
            "automargin": true,
            "type": "pie"
           }
          ],
          "scatter": [
           {
            "marker": {
             "colorbar": {
              "outlinewidth": 0,
              "ticks": ""
             }
            },
            "type": "scatter"
           }
          ],
          "scatter3d": [
           {
            "line": {
             "colorbar": {
              "outlinewidth": 0,
              "ticks": ""
             }
            },
            "marker": {
             "colorbar": {
              "outlinewidth": 0,
              "ticks": ""
             }
            },
            "type": "scatter3d"
           }
          ],
          "scattercarpet": [
           {
            "marker": {
             "colorbar": {
              "outlinewidth": 0,
              "ticks": ""
             }
            },
            "type": "scattercarpet"
           }
          ],
          "scattergeo": [
           {
            "marker": {
             "colorbar": {
              "outlinewidth": 0,
              "ticks": ""
             }
            },
            "type": "scattergeo"
           }
          ],
          "scattergl": [
           {
            "marker": {
             "colorbar": {
              "outlinewidth": 0,
              "ticks": ""
             }
            },
            "type": "scattergl"
           }
          ],
          "scattermapbox": [
           {
            "marker": {
             "colorbar": {
              "outlinewidth": 0,
              "ticks": ""
             }
            },
            "type": "scattermapbox"
           }
          ],
          "scatterpolar": [
           {
            "marker": {
             "colorbar": {
              "outlinewidth": 0,
              "ticks": ""
             }
            },
            "type": "scatterpolar"
           }
          ],
          "scatterpolargl": [
           {
            "marker": {
             "colorbar": {
              "outlinewidth": 0,
              "ticks": ""
             }
            },
            "type": "scatterpolargl"
           }
          ],
          "scatterternary": [
           {
            "marker": {
             "colorbar": {
              "outlinewidth": 0,
              "ticks": ""
             }
            },
            "type": "scatterternary"
           }
          ],
          "surface": [
           {
            "colorbar": {
             "outlinewidth": 0,
             "ticks": ""
            },
            "colorscale": [
             [
              0,
              "#0d0887"
             ],
             [
              0.1111111111111111,
              "#46039f"
             ],
             [
              0.2222222222222222,
              "#7201a8"
             ],
             [
              0.3333333333333333,
              "#9c179e"
             ],
             [
              0.4444444444444444,
              "#bd3786"
             ],
             [
              0.5555555555555556,
              "#d8576b"
             ],
             [
              0.6666666666666666,
              "#ed7953"
             ],
             [
              0.7777777777777778,
              "#fb9f3a"
             ],
             [
              0.8888888888888888,
              "#fdca26"
             ],
             [
              1,
              "#f0f921"
             ]
            ],
            "type": "surface"
           }
          ],
          "table": [
           {
            "cells": {
             "fill": {
              "color": "#EBF0F8"
             },
             "line": {
              "color": "white"
             }
            },
            "header": {
             "fill": {
              "color": "#C8D4E3"
             },
             "line": {
              "color": "white"
             }
            },
            "type": "table"
           }
          ]
         },
         "layout": {
          "annotationdefaults": {
           "arrowcolor": "#2a3f5f",
           "arrowhead": 0,
           "arrowwidth": 1
          },
          "autotypenumbers": "strict",
          "coloraxis": {
           "colorbar": {
            "outlinewidth": 0,
            "ticks": ""
           }
          },
          "colorscale": {
           "diverging": [
            [
             0,
             "#8e0152"
            ],
            [
             0.1,
             "#c51b7d"
            ],
            [
             0.2,
             "#de77ae"
            ],
            [
             0.3,
             "#f1b6da"
            ],
            [
             0.4,
             "#fde0ef"
            ],
            [
             0.5,
             "#f7f7f7"
            ],
            [
             0.6,
             "#e6f5d0"
            ],
            [
             0.7,
             "#b8e186"
            ],
            [
             0.8,
             "#7fbc41"
            ],
            [
             0.9,
             "#4d9221"
            ],
            [
             1,
             "#276419"
            ]
           ],
           "sequential": [
            [
             0,
             "#0d0887"
            ],
            [
             0.1111111111111111,
             "#46039f"
            ],
            [
             0.2222222222222222,
             "#7201a8"
            ],
            [
             0.3333333333333333,
             "#9c179e"
            ],
            [
             0.4444444444444444,
             "#bd3786"
            ],
            [
             0.5555555555555556,
             "#d8576b"
            ],
            [
             0.6666666666666666,
             "#ed7953"
            ],
            [
             0.7777777777777778,
             "#fb9f3a"
            ],
            [
             0.8888888888888888,
             "#fdca26"
            ],
            [
             1,
             "#f0f921"
            ]
           ],
           "sequentialminus": [
            [
             0,
             "#0d0887"
            ],
            [
             0.1111111111111111,
             "#46039f"
            ],
            [
             0.2222222222222222,
             "#7201a8"
            ],
            [
             0.3333333333333333,
             "#9c179e"
            ],
            [
             0.4444444444444444,
             "#bd3786"
            ],
            [
             0.5555555555555556,
             "#d8576b"
            ],
            [
             0.6666666666666666,
             "#ed7953"
            ],
            [
             0.7777777777777778,
             "#fb9f3a"
            ],
            [
             0.8888888888888888,
             "#fdca26"
            ],
            [
             1,
             "#f0f921"
            ]
           ]
          },
          "colorway": [
           "#636efa",
           "#EF553B",
           "#00cc96",
           "#ab63fa",
           "#FFA15A",
           "#19d3f3",
           "#FF6692",
           "#B6E880",
           "#FF97FF",
           "#FECB52"
          ],
          "font": {
           "color": "#2a3f5f"
          },
          "geo": {
           "bgcolor": "white",
           "lakecolor": "white",
           "landcolor": "white",
           "showlakes": true,
           "showland": true,
           "subunitcolor": "#C8D4E3"
          },
          "hoverlabel": {
           "align": "left"
          },
          "hovermode": "closest",
          "mapbox": {
           "style": "light"
          },
          "paper_bgcolor": "white",
          "plot_bgcolor": "white",
          "polar": {
           "angularaxis": {
            "gridcolor": "#EBF0F8",
            "linecolor": "#EBF0F8",
            "ticks": ""
           },
           "bgcolor": "white",
           "radialaxis": {
            "gridcolor": "#EBF0F8",
            "linecolor": "#EBF0F8",
            "ticks": ""
           }
          },
          "scene": {
           "xaxis": {
            "backgroundcolor": "white",
            "gridcolor": "#DFE8F3",
            "gridwidth": 2,
            "linecolor": "#EBF0F8",
            "showbackground": true,
            "ticks": "",
            "zerolinecolor": "#EBF0F8"
           },
           "yaxis": {
            "backgroundcolor": "white",
            "gridcolor": "#DFE8F3",
            "gridwidth": 2,
            "linecolor": "#EBF0F8",
            "showbackground": true,
            "ticks": "",
            "zerolinecolor": "#EBF0F8"
           },
           "zaxis": {
            "backgroundcolor": "white",
            "gridcolor": "#DFE8F3",
            "gridwidth": 2,
            "linecolor": "#EBF0F8",
            "showbackground": true,
            "ticks": "",
            "zerolinecolor": "#EBF0F8"
           }
          },
          "shapedefaults": {
           "line": {
            "color": "#2a3f5f"
           }
          },
          "ternary": {
           "aaxis": {
            "gridcolor": "#DFE8F3",
            "linecolor": "#A2B1C6",
            "ticks": ""
           },
           "baxis": {
            "gridcolor": "#DFE8F3",
            "linecolor": "#A2B1C6",
            "ticks": ""
           },
           "bgcolor": "white",
           "caxis": {
            "gridcolor": "#DFE8F3",
            "linecolor": "#A2B1C6",
            "ticks": ""
           }
          },
          "title": {
           "x": 0.05
          },
          "xaxis": {
           "automargin": true,
           "gridcolor": "#EBF0F8",
           "linecolor": "#EBF0F8",
           "ticks": "",
           "title": {
            "standoff": 15
           },
           "zerolinecolor": "#EBF0F8",
           "zerolinewidth": 2
          },
          "yaxis": {
           "automargin": true,
           "gridcolor": "#EBF0F8",
           "linecolor": "#EBF0F8",
           "ticks": "",
           "title": {
            "standoff": 15
           },
           "zerolinecolor": "#EBF0F8",
           "zerolinewidth": 2
          }
         }
        },
        "width": 500,
        "xaxis": {
         "title": {
          "text": "# Residues"
         }
        },
        "yaxis": {
         "title": {
          "text": "Probability Density"
         }
        }
       }
      }
     },
     "metadata": {},
     "output_type": "display_data"
    }
   ],
   "source": [
    "heavy_hist = np.histogram(buried_ab_ag_interface_res['hchains'], range=(0, 20), bins=10, density=True)\n",
    "light_hist = np.histogram(buried_ab_ag_interface_res['lchains'], range=(0, 20), bins=10, density=True)\n",
    "heavy_mean, light_mean = buried_ab_ag_interface_res['hchains'].mean(), buried_ab_ag_interface_res['lchains'].mean()\n",
    "\n",
    "print(f'Number of Residues\\nAvg Heavy chain: {round(heavy_mean, 1)}\\nAvg Light chain: {round(light_mean, 1)}')\n",
    "print(heavy_hist)\n",
    "print(light_hist)\n",
    "\n",
    "fig = go.Figure()\n",
    "fig.add_trace(go.Scatter(y=heavy_hist[0], x=heavy_hist[1],\n",
    "                    mode='lines+markers', line_shape='spline',\n",
    "                    name='Heavy Chain'))\n",
    "fig.add_trace(go.Scatter(y=light_hist[0], x=light_hist[1],\n",
    "                    mode='lines+markers', line_shape='spline',\n",
    "                    name='Light Chain'))\n",
    "fig.update_layout(\n",
    "    xaxis_title=\"# Residues\",\n",
    "    yaxis_title=\"Probability Density\",\n",
    "    template=\"plotly_white\",\n",
    "    autosize=False,\n",
    "    width=500,\n",
    "    height=500,\n",
    "    margin=dict(\n",
    "        l=50,\n",
    "        r=50,\n",
    "        b=100,\n",
    "        t=100,\n",
    "        pad=4\n",
    "    ),\n",
    ")\n",
    "fig.show()"
   ]
  },
  {
   "cell_type": "code",
   "execution_count": 18,
   "metadata": {},
   "outputs": [
    {
     "name": "stdout",
     "output_type": "stream",
     "text": [
      "        TOTAL\n",
      "HEAVY: 7144 (62.6%)  \n",
      "LIGHT: 4261 (37.4%)  \n",
      "\n",
      "       CDR1    CDR2    CDR3\n",
      "HEAVY: 1446 (12.7%) 2009 (17.6%) 3689 (32.3%)\n",
      "LIGHT: 1608 (14.1%)  707  (6.2%) 1946 (17.1%)\n",
      "TOTAL: 3054 (26.8%) 2716 (23.8%) 5635 (49.4%)\n",
      "\n"
     ]
    }
   ],
   "source": [
    "\n",
    "tot_hcdr1, tot_hcdr2, tot_hcdr3 = buried_ab_ag_interface_res['hcdr1'].sum(), buried_ab_ag_interface_res['hcdr2'].sum(), buried_ab_ag_interface_res['hcdr3'].sum()\n",
    "tot_hchain_cdr = tot_hcdr1 + tot_hcdr2 + tot_hcdr3\n",
    "tot_lcdr1, tot_lcdr2, tot_lcdr3 = buried_ab_ag_interface_res['lcdr1'].sum(), buried_ab_ag_interface_res['lcdr2'].sum(), buried_ab_ag_interface_res['lcdr3'].sum()\n",
    "tot_lchain_cdr = tot_lcdr1 + tot_lcdr2 + tot_lcdr3\n",
    "tot_all = tot_hchain_cdr + tot_lchain_cdr\n",
    "print(\n",
    "    '        TOTAL\\n'\n",
    "    f'HEAVY: {int(tot_hchain_cdr)} ({round(tot_hchain_cdr / tot_all * 100, 1)}%)  \\n'\n",
    "    f'LIGHT: {int(tot_lchain_cdr)} ({round(tot_lchain_cdr / tot_all * 100, 1)}%)  \\n'\n",
    ")\n",
    "print(\n",
    "    f'       CDR1    CDR2    CDR3\\n'\n",
    "    'HEAVY: '\n",
    "    f'{int(tot_hcdr1)} ({round(tot_hcdr1 / tot_all * 100, 1)}%) '\n",
    "    f'{int(tot_hcdr2)} ({round(tot_hcdr2 / tot_all * 100, 1)}%) '\n",
    "    f'{int(tot_hcdr3)} ({round(tot_hcdr3 / tot_all * 100, 1)}%)\\n'\n",
    "    f'LIGHT: {int(tot_lcdr1)} ({round(tot_lcdr1 / tot_all * 100, 1)}%) '\n",
    "    f' {int(tot_lcdr2)}  ({round(tot_lcdr2 / tot_all * 100, 1)}%) '\n",
    "    f'{int(tot_lcdr3)} ({round(tot_lcdr3 / tot_all * 100, 1)}%)\\n'\n",
    "    'TOTAL: '\n",
    "    f'{int(tot_hcdr1 + tot_lcdr1)} ({round((tot_hcdr1 + tot_lcdr1) / tot_all * 100, 1)}%) '\n",
    "    f'{int(tot_hcdr2 + tot_lcdr2)} ({round((tot_hcdr2 + tot_lcdr2) / tot_all * 100, 1)}%) '\n",
    "    f'{int(tot_hcdr3 + tot_lcdr3)} ({round((tot_hcdr3 + tot_lcdr3) / tot_all * 100, 1)}%)\\n'\n",
    ")"
   ]
  },
  {
   "cell_type": "code",
   "execution_count": 19,
   "metadata": {},
   "outputs": [
    {
     "name": "stdout",
     "output_type": "stream",
     "text": [
      "Average CDR length (number of residues)\n",
      "   CDR1 CDR2 CDR3\n",
      "H : 1.5  2.1  3.9\n",
      "L : 1.7  0.7  2.1\n",
      "(array([341, 162, 206, 131,  63,  33,   8,   2,   0,   0]), array([ 0.,  1.,  2.,  3.,  4.,  5.,  6.,  7.,  8.,  9., 10.]))\n",
      "(array([179, 160, 202, 214, 156,  31,   4,   0,   0,   0]), array([ 0.,  1.,  2.,  3.,  4.,  5.,  6.,  7.,  8.,  9., 10.]))\n",
      "(array([ 23,  91, 109, 198, 214, 134,  81,  43,  28,  19]), array([ 0.,  1.,  2.,  3.,  4.,  5.,  6.,  7.,  8.,  9., 10.]))\n",
      "(array([272, 212, 191, 151,  67,  30,  19,   3,   1,   0]), array([ 0.,  1.,  2.,  3.,  4.,  5.,  6.,  7.,  8.,  9., 10.]))\n",
      "(array([557, 218,  88,  47,  17,  13,   3,   3,   0,   0]), array([ 0.,  1.,  2.,  3.,  4.,  5.,  6.,  7.,  8.,  9., 10.]))\n",
      "(array([237, 146, 182, 176, 138,  53,  11,   1,   0,   2]), array([ 0.,  1.,  2.,  3.,  4.,  5.,  6.,  7.,  8.,  9., 10.]))\n"
     ]
    },
    {
     "data": {
      "application/vnd.plotly.v1+json": {
       "config": {
        "plotlyServerURL": "https://plot.ly"
       },
       "data": [
        {
         "line": {
          "shape": "spline"
         },
         "mode": "lines+markers",
         "name": "H CDR 1",
         "type": "scatter",
         "x": [
          1,
          2,
          3,
          4,
          5,
          6,
          7,
          8,
          9,
          10
         ],
         "y": [
          162,
          206,
          131,
          63,
          33,
          8,
          2,
          0,
          0
         ]
        },
        {
         "line": {
          "shape": "spline"
         },
         "mode": "lines+markers",
         "name": "H CDR 2",
         "type": "scatter",
         "x": [
          1,
          2,
          3,
          4,
          5,
          6,
          7,
          8,
          9,
          10
         ],
         "y": [
          160,
          202,
          214,
          156,
          31,
          4,
          0,
          0,
          0
         ]
        },
        {
         "line": {
          "shape": "spline"
         },
         "mode": "lines+markers",
         "name": "H CDR 3",
         "type": "scatter",
         "x": [
          1,
          2,
          3,
          4,
          5,
          6,
          7,
          8,
          9,
          10
         ],
         "y": [
          91,
          109,
          198,
          214,
          134,
          81,
          43,
          28,
          19
         ]
        },
        {
         "line": {
          "shape": "spline"
         },
         "mode": "lines+markers",
         "name": "L CDR 1",
         "type": "scatter",
         "x": [
          1,
          2,
          3,
          4,
          5,
          6,
          7,
          8,
          9,
          10
         ],
         "y": [
          212,
          191,
          151,
          67,
          30,
          19,
          3,
          1,
          0
         ]
        },
        {
         "line": {
          "shape": "spline"
         },
         "mode": "lines+markers",
         "name": "L CDR 2",
         "type": "scatter",
         "x": [
          1,
          2,
          3,
          4,
          5,
          6,
          7,
          8,
          9,
          10
         ],
         "y": [
          218,
          88,
          47,
          17,
          13,
          3,
          3,
          0,
          0
         ]
        },
        {
         "line": {
          "shape": "spline"
         },
         "mode": "lines+markers",
         "name": "L CDR 3",
         "type": "scatter",
         "x": [
          1,
          2,
          3,
          4,
          5,
          6,
          7,
          8,
          9,
          10
         ],
         "y": [
          146,
          182,
          176,
          138,
          53,
          11,
          1,
          0,
          2
         ]
        }
       ],
       "layout": {
        "autosize": false,
        "height": 500,
        "margin": {
         "b": 100,
         "l": 50,
         "pad": 4,
         "r": 50,
         "t": 100
        },
        "template": {
         "data": {
          "bar": [
           {
            "error_x": {
             "color": "#2a3f5f"
            },
            "error_y": {
             "color": "#2a3f5f"
            },
            "marker": {
             "line": {
              "color": "white",
              "width": 0.5
             },
             "pattern": {
              "fillmode": "overlay",
              "size": 10,
              "solidity": 0.2
             }
            },
            "type": "bar"
           }
          ],
          "barpolar": [
           {
            "marker": {
             "line": {
              "color": "white",
              "width": 0.5
             },
             "pattern": {
              "fillmode": "overlay",
              "size": 10,
              "solidity": 0.2
             }
            },
            "type": "barpolar"
           }
          ],
          "carpet": [
           {
            "aaxis": {
             "endlinecolor": "#2a3f5f",
             "gridcolor": "#C8D4E3",
             "linecolor": "#C8D4E3",
             "minorgridcolor": "#C8D4E3",
             "startlinecolor": "#2a3f5f"
            },
            "baxis": {
             "endlinecolor": "#2a3f5f",
             "gridcolor": "#C8D4E3",
             "linecolor": "#C8D4E3",
             "minorgridcolor": "#C8D4E3",
             "startlinecolor": "#2a3f5f"
            },
            "type": "carpet"
           }
          ],
          "choropleth": [
           {
            "colorbar": {
             "outlinewidth": 0,
             "ticks": ""
            },
            "type": "choropleth"
           }
          ],
          "contour": [
           {
            "colorbar": {
             "outlinewidth": 0,
             "ticks": ""
            },
            "colorscale": [
             [
              0,
              "#0d0887"
             ],
             [
              0.1111111111111111,
              "#46039f"
             ],
             [
              0.2222222222222222,
              "#7201a8"
             ],
             [
              0.3333333333333333,
              "#9c179e"
             ],
             [
              0.4444444444444444,
              "#bd3786"
             ],
             [
              0.5555555555555556,
              "#d8576b"
             ],
             [
              0.6666666666666666,
              "#ed7953"
             ],
             [
              0.7777777777777778,
              "#fb9f3a"
             ],
             [
              0.8888888888888888,
              "#fdca26"
             ],
             [
              1,
              "#f0f921"
             ]
            ],
            "type": "contour"
           }
          ],
          "contourcarpet": [
           {
            "colorbar": {
             "outlinewidth": 0,
             "ticks": ""
            },
            "type": "contourcarpet"
           }
          ],
          "heatmap": [
           {
            "colorbar": {
             "outlinewidth": 0,
             "ticks": ""
            },
            "colorscale": [
             [
              0,
              "#0d0887"
             ],
             [
              0.1111111111111111,
              "#46039f"
             ],
             [
              0.2222222222222222,
              "#7201a8"
             ],
             [
              0.3333333333333333,
              "#9c179e"
             ],
             [
              0.4444444444444444,
              "#bd3786"
             ],
             [
              0.5555555555555556,
              "#d8576b"
             ],
             [
              0.6666666666666666,
              "#ed7953"
             ],
             [
              0.7777777777777778,
              "#fb9f3a"
             ],
             [
              0.8888888888888888,
              "#fdca26"
             ],
             [
              1,
              "#f0f921"
             ]
            ],
            "type": "heatmap"
           }
          ],
          "heatmapgl": [
           {
            "colorbar": {
             "outlinewidth": 0,
             "ticks": ""
            },
            "colorscale": [
             [
              0,
              "#0d0887"
             ],
             [
              0.1111111111111111,
              "#46039f"
             ],
             [
              0.2222222222222222,
              "#7201a8"
             ],
             [
              0.3333333333333333,
              "#9c179e"
             ],
             [
              0.4444444444444444,
              "#bd3786"
             ],
             [
              0.5555555555555556,
              "#d8576b"
             ],
             [
              0.6666666666666666,
              "#ed7953"
             ],
             [
              0.7777777777777778,
              "#fb9f3a"
             ],
             [
              0.8888888888888888,
              "#fdca26"
             ],
             [
              1,
              "#f0f921"
             ]
            ],
            "type": "heatmapgl"
           }
          ],
          "histogram": [
           {
            "marker": {
             "pattern": {
              "fillmode": "overlay",
              "size": 10,
              "solidity": 0.2
             }
            },
            "type": "histogram"
           }
          ],
          "histogram2d": [
           {
            "colorbar": {
             "outlinewidth": 0,
             "ticks": ""
            },
            "colorscale": [
             [
              0,
              "#0d0887"
             ],
             [
              0.1111111111111111,
              "#46039f"
             ],
             [
              0.2222222222222222,
              "#7201a8"
             ],
             [
              0.3333333333333333,
              "#9c179e"
             ],
             [
              0.4444444444444444,
              "#bd3786"
             ],
             [
              0.5555555555555556,
              "#d8576b"
             ],
             [
              0.6666666666666666,
              "#ed7953"
             ],
             [
              0.7777777777777778,
              "#fb9f3a"
             ],
             [
              0.8888888888888888,
              "#fdca26"
             ],
             [
              1,
              "#f0f921"
             ]
            ],
            "type": "histogram2d"
           }
          ],
          "histogram2dcontour": [
           {
            "colorbar": {
             "outlinewidth": 0,
             "ticks": ""
            },
            "colorscale": [
             [
              0,
              "#0d0887"
             ],
             [
              0.1111111111111111,
              "#46039f"
             ],
             [
              0.2222222222222222,
              "#7201a8"
             ],
             [
              0.3333333333333333,
              "#9c179e"
             ],
             [
              0.4444444444444444,
              "#bd3786"
             ],
             [
              0.5555555555555556,
              "#d8576b"
             ],
             [
              0.6666666666666666,
              "#ed7953"
             ],
             [
              0.7777777777777778,
              "#fb9f3a"
             ],
             [
              0.8888888888888888,
              "#fdca26"
             ],
             [
              1,
              "#f0f921"
             ]
            ],
            "type": "histogram2dcontour"
           }
          ],
          "mesh3d": [
           {
            "colorbar": {
             "outlinewidth": 0,
             "ticks": ""
            },
            "type": "mesh3d"
           }
          ],
          "parcoords": [
           {
            "line": {
             "colorbar": {
              "outlinewidth": 0,
              "ticks": ""
             }
            },
            "type": "parcoords"
           }
          ],
          "pie": [
           {
            "automargin": true,
            "type": "pie"
           }
          ],
          "scatter": [
           {
            "marker": {
             "colorbar": {
              "outlinewidth": 0,
              "ticks": ""
             }
            },
            "type": "scatter"
           }
          ],
          "scatter3d": [
           {
            "line": {
             "colorbar": {
              "outlinewidth": 0,
              "ticks": ""
             }
            },
            "marker": {
             "colorbar": {
              "outlinewidth": 0,
              "ticks": ""
             }
            },
            "type": "scatter3d"
           }
          ],
          "scattercarpet": [
           {
            "marker": {
             "colorbar": {
              "outlinewidth": 0,
              "ticks": ""
             }
            },
            "type": "scattercarpet"
           }
          ],
          "scattergeo": [
           {
            "marker": {
             "colorbar": {
              "outlinewidth": 0,
              "ticks": ""
             }
            },
            "type": "scattergeo"
           }
          ],
          "scattergl": [
           {
            "marker": {
             "colorbar": {
              "outlinewidth": 0,
              "ticks": ""
             }
            },
            "type": "scattergl"
           }
          ],
          "scattermapbox": [
           {
            "marker": {
             "colorbar": {
              "outlinewidth": 0,
              "ticks": ""
             }
            },
            "type": "scattermapbox"
           }
          ],
          "scatterpolar": [
           {
            "marker": {
             "colorbar": {
              "outlinewidth": 0,
              "ticks": ""
             }
            },
            "type": "scatterpolar"
           }
          ],
          "scatterpolargl": [
           {
            "marker": {
             "colorbar": {
              "outlinewidth": 0,
              "ticks": ""
             }
            },
            "type": "scatterpolargl"
           }
          ],
          "scatterternary": [
           {
            "marker": {
             "colorbar": {
              "outlinewidth": 0,
              "ticks": ""
             }
            },
            "type": "scatterternary"
           }
          ],
          "surface": [
           {
            "colorbar": {
             "outlinewidth": 0,
             "ticks": ""
            },
            "colorscale": [
             [
              0,
              "#0d0887"
             ],
             [
              0.1111111111111111,
              "#46039f"
             ],
             [
              0.2222222222222222,
              "#7201a8"
             ],
             [
              0.3333333333333333,
              "#9c179e"
             ],
             [
              0.4444444444444444,
              "#bd3786"
             ],
             [
              0.5555555555555556,
              "#d8576b"
             ],
             [
              0.6666666666666666,
              "#ed7953"
             ],
             [
              0.7777777777777778,
              "#fb9f3a"
             ],
             [
              0.8888888888888888,
              "#fdca26"
             ],
             [
              1,
              "#f0f921"
             ]
            ],
            "type": "surface"
           }
          ],
          "table": [
           {
            "cells": {
             "fill": {
              "color": "#EBF0F8"
             },
             "line": {
              "color": "white"
             }
            },
            "header": {
             "fill": {
              "color": "#C8D4E3"
             },
             "line": {
              "color": "white"
             }
            },
            "type": "table"
           }
          ]
         },
         "layout": {
          "annotationdefaults": {
           "arrowcolor": "#2a3f5f",
           "arrowhead": 0,
           "arrowwidth": 1
          },
          "autotypenumbers": "strict",
          "coloraxis": {
           "colorbar": {
            "outlinewidth": 0,
            "ticks": ""
           }
          },
          "colorscale": {
           "diverging": [
            [
             0,
             "#8e0152"
            ],
            [
             0.1,
             "#c51b7d"
            ],
            [
             0.2,
             "#de77ae"
            ],
            [
             0.3,
             "#f1b6da"
            ],
            [
             0.4,
             "#fde0ef"
            ],
            [
             0.5,
             "#f7f7f7"
            ],
            [
             0.6,
             "#e6f5d0"
            ],
            [
             0.7,
             "#b8e186"
            ],
            [
             0.8,
             "#7fbc41"
            ],
            [
             0.9,
             "#4d9221"
            ],
            [
             1,
             "#276419"
            ]
           ],
           "sequential": [
            [
             0,
             "#0d0887"
            ],
            [
             0.1111111111111111,
             "#46039f"
            ],
            [
             0.2222222222222222,
             "#7201a8"
            ],
            [
             0.3333333333333333,
             "#9c179e"
            ],
            [
             0.4444444444444444,
             "#bd3786"
            ],
            [
             0.5555555555555556,
             "#d8576b"
            ],
            [
             0.6666666666666666,
             "#ed7953"
            ],
            [
             0.7777777777777778,
             "#fb9f3a"
            ],
            [
             0.8888888888888888,
             "#fdca26"
            ],
            [
             1,
             "#f0f921"
            ]
           ],
           "sequentialminus": [
            [
             0,
             "#0d0887"
            ],
            [
             0.1111111111111111,
             "#46039f"
            ],
            [
             0.2222222222222222,
             "#7201a8"
            ],
            [
             0.3333333333333333,
             "#9c179e"
            ],
            [
             0.4444444444444444,
             "#bd3786"
            ],
            [
             0.5555555555555556,
             "#d8576b"
            ],
            [
             0.6666666666666666,
             "#ed7953"
            ],
            [
             0.7777777777777778,
             "#fb9f3a"
            ],
            [
             0.8888888888888888,
             "#fdca26"
            ],
            [
             1,
             "#f0f921"
            ]
           ]
          },
          "colorway": [
           "#636efa",
           "#EF553B",
           "#00cc96",
           "#ab63fa",
           "#FFA15A",
           "#19d3f3",
           "#FF6692",
           "#B6E880",
           "#FF97FF",
           "#FECB52"
          ],
          "font": {
           "color": "#2a3f5f"
          },
          "geo": {
           "bgcolor": "white",
           "lakecolor": "white",
           "landcolor": "white",
           "showlakes": true,
           "showland": true,
           "subunitcolor": "#C8D4E3"
          },
          "hoverlabel": {
           "align": "left"
          },
          "hovermode": "closest",
          "mapbox": {
           "style": "light"
          },
          "paper_bgcolor": "white",
          "plot_bgcolor": "white",
          "polar": {
           "angularaxis": {
            "gridcolor": "#EBF0F8",
            "linecolor": "#EBF0F8",
            "ticks": ""
           },
           "bgcolor": "white",
           "radialaxis": {
            "gridcolor": "#EBF0F8",
            "linecolor": "#EBF0F8",
            "ticks": ""
           }
          },
          "scene": {
           "xaxis": {
            "backgroundcolor": "white",
            "gridcolor": "#DFE8F3",
            "gridwidth": 2,
            "linecolor": "#EBF0F8",
            "showbackground": true,
            "ticks": "",
            "zerolinecolor": "#EBF0F8"
           },
           "yaxis": {
            "backgroundcolor": "white",
            "gridcolor": "#DFE8F3",
            "gridwidth": 2,
            "linecolor": "#EBF0F8",
            "showbackground": true,
            "ticks": "",
            "zerolinecolor": "#EBF0F8"
           },
           "zaxis": {
            "backgroundcolor": "white",
            "gridcolor": "#DFE8F3",
            "gridwidth": 2,
            "linecolor": "#EBF0F8",
            "showbackground": true,
            "ticks": "",
            "zerolinecolor": "#EBF0F8"
           }
          },
          "shapedefaults": {
           "line": {
            "color": "#2a3f5f"
           }
          },
          "ternary": {
           "aaxis": {
            "gridcolor": "#DFE8F3",
            "linecolor": "#A2B1C6",
            "ticks": ""
           },
           "baxis": {
            "gridcolor": "#DFE8F3",
            "linecolor": "#A2B1C6",
            "ticks": ""
           },
           "bgcolor": "white",
           "caxis": {
            "gridcolor": "#DFE8F3",
            "linecolor": "#A2B1C6",
            "ticks": ""
           }
          },
          "title": {
           "x": 0.05
          },
          "xaxis": {
           "automargin": true,
           "gridcolor": "#EBF0F8",
           "linecolor": "#EBF0F8",
           "ticks": "",
           "title": {
            "standoff": 15
           },
           "zerolinecolor": "#EBF0F8",
           "zerolinewidth": 2
          },
          "yaxis": {
           "automargin": true,
           "gridcolor": "#EBF0F8",
           "linecolor": "#EBF0F8",
           "ticks": "",
           "title": {
            "standoff": 15
           },
           "zerolinecolor": "#EBF0F8",
           "zerolinewidth": 2
          }
         }
        },
        "width": 500,
        "xaxis": {
         "dtick": 1,
         "range": [
          0.5,
          9.5
         ],
         "tick0": 1,
         "tickmode": "linear",
         "title": {
          "text": "# Residues"
         }
        },
        "yaxis": {
         "title": {
          "text": "Probability Density"
         }
        }
       }
      }
     },
     "metadata": {},
     "output_type": "display_data"
    }
   ],
   "source": [
    "hrange = (0, 10)\n",
    "hcdr1_hist = np.histogram(buried_ab_ag_interface_res['hcdr1'], range=hrange, bins=10)\n",
    "hcdr2_hist = np.histogram(buried_ab_ag_interface_res['hcdr2'], range=hrange, bins=10)\n",
    "hcdr3_hist = np.histogram(buried_ab_ag_interface_res['hcdr3'], range=hrange, bins=10)\n",
    "lcdr1_hist = np.histogram(buried_ab_ag_interface_res['lcdr1'], range=hrange, bins=10)\n",
    "lcdr2_hist = np.histogram(buried_ab_ag_interface_res['lcdr2'], range=hrange, bins=10)\n",
    "lcdr3_hist = np.histogram(buried_ab_ag_interface_res['lcdr3'], range=hrange, bins=10)\n",
    "\n",
    "print('Average CDR length (number of residues)')\n",
    "print(\n",
    "    '   CDR1 CDR2 CDR3\\n'\n",
    "    f'H : {round(buried_ab_ag_interface_res[\"hcdr1\"].mean(), 1)} '\n",
    "    f' {round(buried_ab_ag_interface_res[\"hcdr2\"].mean(), 1)} '\n",
    "    f' {round(buried_ab_ag_interface_res[\"hcdr3\"].mean(), 1)}\\n'\n",
    "    f'L : {round(buried_ab_ag_interface_res[\"lcdr1\"].mean(), 1)} '\n",
    "    f' {round(buried_ab_ag_interface_res[\"lcdr2\"].mean(), 1)} '\n",
    "    f' {round(buried_ab_ag_interface_res[\"lcdr3\"].mean(), 1)}'\n",
    ")\n",
    "print(hcdr1_hist)\n",
    "print(hcdr2_hist)\n",
    "print(hcdr3_hist)\n",
    "print(lcdr1_hist)\n",
    "print(lcdr2_hist)\n",
    "print(lcdr3_hist)\n",
    "\n",
    "fig = go.Figure()\n",
    "fig.add_trace(go.Scatter(y=hcdr1_hist[0][1:], x=hcdr1_hist[1][1:],\n",
    "                    mode='lines+markers', line_shape='spline',\n",
    "                    name='H CDR 1'))\n",
    "fig.add_trace(go.Scatter(y=hcdr2_hist[0][1:], x=hcdr2_hist[1][1:],\n",
    "                    mode='lines+markers', line_shape='spline',\n",
    "                    name='H CDR 2'))\n",
    "fig.add_trace(go.Scatter(y=hcdr3_hist[0][1:], x=hcdr3_hist[1][1:],\n",
    "                    mode='lines+markers', line_shape='spline',\n",
    "                    name='H CDR 3'))\n",
    "fig.add_trace(go.Scatter(y=lcdr1_hist[0][1:], x=lcdr1_hist[1][1:],\n",
    "                    mode='lines+markers', line_shape='spline',\n",
    "                    name='L CDR 1'))\n",
    "fig.add_trace(go.Scatter(y=lcdr2_hist[0][1:], x=lcdr2_hist[1][1:],\n",
    "                    mode='lines+markers', line_shape='spline',\n",
    "                    name='L CDR 2'))\n",
    "fig.add_trace(go.Scatter(y=lcdr3_hist[0][1:], x=lcdr3_hist[1][1:],\n",
    "                    mode='lines+markers', line_shape='spline',\n",
    "                    name='L CDR 3'))\n",
    "fig.update_layout(\n",
    "    xaxis_title=\"# Residues\",\n",
    "    yaxis_title=\"Probability Density\",\n",
    "    template=\"plotly_white\",\n",
    "    autosize=False,\n",
    "    width=500,\n",
    "    height=500,\n",
    "    margin=dict(\n",
    "        l=50,\n",
    "        r=50,\n",
    "        b=100,\n",
    "        t=100,\n",
    "        pad=4\n",
    "    ),\n",
    "    xaxis_range=(0.5, 9.5),\n",
    "    xaxis = dict(\n",
    "        tickmode = 'linear',\n",
    "        tick0 = 1,\n",
    "        dtick = 1\n",
    "    )\n",
    ")\n",
    "fig.show()"
   ]
  },
  {
   "cell_type": "code",
   "execution_count": 20,
   "metadata": {},
   "outputs": [
    {
     "name": "stdout",
     "output_type": "stream",
     "text": [
      "Only FRAMEWORK: 0.2%\n",
      "Only CDR: 14.0%\n",
      "CDR + Framework: 85.8%\n"
     ]
    }
   ],
   "source": [
    "only_framework = len(buried_ab_ag_interface_res.query('(hcdr1 + hcdr2 + hcdr3 + lcdr1 + lcdr2 + lcdr3) == 0'))\n",
    "only_cdr = len(buried_ab_ag_interface_res.query('(hcdr1 + hcdr2 + hcdr3 + lcdr1 + lcdr2 + lcdr3) == (hchains + lchains)'))\n",
    "\n",
    "print(\n",
    "    f'Only FRAMEWORK: {round(only_framework / len(buried_ab_ag_interface_res) * 100, 1)}%\\n'\n",
    "    f'Only CDR: {round(only_cdr / len(buried_ab_ag_interface_res) * 100, 1)}%\\n'\n",
    "    f'CDR + Framework: {round((len(buried_ab_ag_interface_res) - (only_framework + only_cdr)) / len(buried_ab_ag_interface_res) * 100, 1)}%'\n",
    ")"
   ]
  },
  {
   "cell_type": "code",
   "execution_count": 21,
   "metadata": {},
   "outputs": [
    {
     "name": "stdout",
     "output_type": "stream",
     "text": [
      "Avg CDR interaction: 82.8%\n",
      "(array([0.02114165, 0.        , 0.01057082, 0.0845666 , 0.26427061,\n",
      "       0.28541226, 0.6448203 , 1.80761099, 3.75264271, 3.12896406]), array([0. , 0.1, 0.2, 0.3, 0.4, 0.5, 0.6, 0.7, 0.8, 0.9, 1. ]))\n"
     ]
    },
    {
     "data": {
      "application/vnd.plotly.v1+json": {
       "config": {
        "plotlyServerURL": "https://plot.ly"
       },
       "data": [
        {
         "line": {
          "shape": "spline"
         },
         "mode": "lines+markers",
         "name": "Heavy Chain",
         "type": "scatter",
         "x": [
          0,
          10,
          20,
          30.000000000000004,
          40,
          50,
          60.00000000000001,
          70,
          80,
          90,
          100
         ],
         "y": [
          0.021141649048625793,
          0,
          0.010570824524312893,
          0.08456659619450319,
          0.26427061310782246,
          0.28541226215644794,
          0.6448202959830868,
          1.8076109936575058,
          3.752642706131079,
          3.1289640591966177
         ]
        }
       ],
       "layout": {
        "autosize": false,
        "height": 500,
        "margin": {
         "b": 100,
         "l": 50,
         "pad": 4,
         "r": 50,
         "t": 100
        },
        "template": {
         "data": {
          "bar": [
           {
            "error_x": {
             "color": "#2a3f5f"
            },
            "error_y": {
             "color": "#2a3f5f"
            },
            "marker": {
             "line": {
              "color": "white",
              "width": 0.5
             },
             "pattern": {
              "fillmode": "overlay",
              "size": 10,
              "solidity": 0.2
             }
            },
            "type": "bar"
           }
          ],
          "barpolar": [
           {
            "marker": {
             "line": {
              "color": "white",
              "width": 0.5
             },
             "pattern": {
              "fillmode": "overlay",
              "size": 10,
              "solidity": 0.2
             }
            },
            "type": "barpolar"
           }
          ],
          "carpet": [
           {
            "aaxis": {
             "endlinecolor": "#2a3f5f",
             "gridcolor": "#C8D4E3",
             "linecolor": "#C8D4E3",
             "minorgridcolor": "#C8D4E3",
             "startlinecolor": "#2a3f5f"
            },
            "baxis": {
             "endlinecolor": "#2a3f5f",
             "gridcolor": "#C8D4E3",
             "linecolor": "#C8D4E3",
             "minorgridcolor": "#C8D4E3",
             "startlinecolor": "#2a3f5f"
            },
            "type": "carpet"
           }
          ],
          "choropleth": [
           {
            "colorbar": {
             "outlinewidth": 0,
             "ticks": ""
            },
            "type": "choropleth"
           }
          ],
          "contour": [
           {
            "colorbar": {
             "outlinewidth": 0,
             "ticks": ""
            },
            "colorscale": [
             [
              0,
              "#0d0887"
             ],
             [
              0.1111111111111111,
              "#46039f"
             ],
             [
              0.2222222222222222,
              "#7201a8"
             ],
             [
              0.3333333333333333,
              "#9c179e"
             ],
             [
              0.4444444444444444,
              "#bd3786"
             ],
             [
              0.5555555555555556,
              "#d8576b"
             ],
             [
              0.6666666666666666,
              "#ed7953"
             ],
             [
              0.7777777777777778,
              "#fb9f3a"
             ],
             [
              0.8888888888888888,
              "#fdca26"
             ],
             [
              1,
              "#f0f921"
             ]
            ],
            "type": "contour"
           }
          ],
          "contourcarpet": [
           {
            "colorbar": {
             "outlinewidth": 0,
             "ticks": ""
            },
            "type": "contourcarpet"
           }
          ],
          "heatmap": [
           {
            "colorbar": {
             "outlinewidth": 0,
             "ticks": ""
            },
            "colorscale": [
             [
              0,
              "#0d0887"
             ],
             [
              0.1111111111111111,
              "#46039f"
             ],
             [
              0.2222222222222222,
              "#7201a8"
             ],
             [
              0.3333333333333333,
              "#9c179e"
             ],
             [
              0.4444444444444444,
              "#bd3786"
             ],
             [
              0.5555555555555556,
              "#d8576b"
             ],
             [
              0.6666666666666666,
              "#ed7953"
             ],
             [
              0.7777777777777778,
              "#fb9f3a"
             ],
             [
              0.8888888888888888,
              "#fdca26"
             ],
             [
              1,
              "#f0f921"
             ]
            ],
            "type": "heatmap"
           }
          ],
          "heatmapgl": [
           {
            "colorbar": {
             "outlinewidth": 0,
             "ticks": ""
            },
            "colorscale": [
             [
              0,
              "#0d0887"
             ],
             [
              0.1111111111111111,
              "#46039f"
             ],
             [
              0.2222222222222222,
              "#7201a8"
             ],
             [
              0.3333333333333333,
              "#9c179e"
             ],
             [
              0.4444444444444444,
              "#bd3786"
             ],
             [
              0.5555555555555556,
              "#d8576b"
             ],
             [
              0.6666666666666666,
              "#ed7953"
             ],
             [
              0.7777777777777778,
              "#fb9f3a"
             ],
             [
              0.8888888888888888,
              "#fdca26"
             ],
             [
              1,
              "#f0f921"
             ]
            ],
            "type": "heatmapgl"
           }
          ],
          "histogram": [
           {
            "marker": {
             "pattern": {
              "fillmode": "overlay",
              "size": 10,
              "solidity": 0.2
             }
            },
            "type": "histogram"
           }
          ],
          "histogram2d": [
           {
            "colorbar": {
             "outlinewidth": 0,
             "ticks": ""
            },
            "colorscale": [
             [
              0,
              "#0d0887"
             ],
             [
              0.1111111111111111,
              "#46039f"
             ],
             [
              0.2222222222222222,
              "#7201a8"
             ],
             [
              0.3333333333333333,
              "#9c179e"
             ],
             [
              0.4444444444444444,
              "#bd3786"
             ],
             [
              0.5555555555555556,
              "#d8576b"
             ],
             [
              0.6666666666666666,
              "#ed7953"
             ],
             [
              0.7777777777777778,
              "#fb9f3a"
             ],
             [
              0.8888888888888888,
              "#fdca26"
             ],
             [
              1,
              "#f0f921"
             ]
            ],
            "type": "histogram2d"
           }
          ],
          "histogram2dcontour": [
           {
            "colorbar": {
             "outlinewidth": 0,
             "ticks": ""
            },
            "colorscale": [
             [
              0,
              "#0d0887"
             ],
             [
              0.1111111111111111,
              "#46039f"
             ],
             [
              0.2222222222222222,
              "#7201a8"
             ],
             [
              0.3333333333333333,
              "#9c179e"
             ],
             [
              0.4444444444444444,
              "#bd3786"
             ],
             [
              0.5555555555555556,
              "#d8576b"
             ],
             [
              0.6666666666666666,
              "#ed7953"
             ],
             [
              0.7777777777777778,
              "#fb9f3a"
             ],
             [
              0.8888888888888888,
              "#fdca26"
             ],
             [
              1,
              "#f0f921"
             ]
            ],
            "type": "histogram2dcontour"
           }
          ],
          "mesh3d": [
           {
            "colorbar": {
             "outlinewidth": 0,
             "ticks": ""
            },
            "type": "mesh3d"
           }
          ],
          "parcoords": [
           {
            "line": {
             "colorbar": {
              "outlinewidth": 0,
              "ticks": ""
             }
            },
            "type": "parcoords"
           }
          ],
          "pie": [
           {
            "automargin": true,
            "type": "pie"
           }
          ],
          "scatter": [
           {
            "marker": {
             "colorbar": {
              "outlinewidth": 0,
              "ticks": ""
             }
            },
            "type": "scatter"
           }
          ],
          "scatter3d": [
           {
            "line": {
             "colorbar": {
              "outlinewidth": 0,
              "ticks": ""
             }
            },
            "marker": {
             "colorbar": {
              "outlinewidth": 0,
              "ticks": ""
             }
            },
            "type": "scatter3d"
           }
          ],
          "scattercarpet": [
           {
            "marker": {
             "colorbar": {
              "outlinewidth": 0,
              "ticks": ""
             }
            },
            "type": "scattercarpet"
           }
          ],
          "scattergeo": [
           {
            "marker": {
             "colorbar": {
              "outlinewidth": 0,
              "ticks": ""
             }
            },
            "type": "scattergeo"
           }
          ],
          "scattergl": [
           {
            "marker": {
             "colorbar": {
              "outlinewidth": 0,
              "ticks": ""
             }
            },
            "type": "scattergl"
           }
          ],
          "scattermapbox": [
           {
            "marker": {
             "colorbar": {
              "outlinewidth": 0,
              "ticks": ""
             }
            },
            "type": "scattermapbox"
           }
          ],
          "scatterpolar": [
           {
            "marker": {
             "colorbar": {
              "outlinewidth": 0,
              "ticks": ""
             }
            },
            "type": "scatterpolar"
           }
          ],
          "scatterpolargl": [
           {
            "marker": {
             "colorbar": {
              "outlinewidth": 0,
              "ticks": ""
             }
            },
            "type": "scatterpolargl"
           }
          ],
          "scatterternary": [
           {
            "marker": {
             "colorbar": {
              "outlinewidth": 0,
              "ticks": ""
             }
            },
            "type": "scatterternary"
           }
          ],
          "surface": [
           {
            "colorbar": {
             "outlinewidth": 0,
             "ticks": ""
            },
            "colorscale": [
             [
              0,
              "#0d0887"
             ],
             [
              0.1111111111111111,
              "#46039f"
             ],
             [
              0.2222222222222222,
              "#7201a8"
             ],
             [
              0.3333333333333333,
              "#9c179e"
             ],
             [
              0.4444444444444444,
              "#bd3786"
             ],
             [
              0.5555555555555556,
              "#d8576b"
             ],
             [
              0.6666666666666666,
              "#ed7953"
             ],
             [
              0.7777777777777778,
              "#fb9f3a"
             ],
             [
              0.8888888888888888,
              "#fdca26"
             ],
             [
              1,
              "#f0f921"
             ]
            ],
            "type": "surface"
           }
          ],
          "table": [
           {
            "cells": {
             "fill": {
              "color": "#EBF0F8"
             },
             "line": {
              "color": "white"
             }
            },
            "header": {
             "fill": {
              "color": "#C8D4E3"
             },
             "line": {
              "color": "white"
             }
            },
            "type": "table"
           }
          ]
         },
         "layout": {
          "annotationdefaults": {
           "arrowcolor": "#2a3f5f",
           "arrowhead": 0,
           "arrowwidth": 1
          },
          "autotypenumbers": "strict",
          "coloraxis": {
           "colorbar": {
            "outlinewidth": 0,
            "ticks": ""
           }
          },
          "colorscale": {
           "diverging": [
            [
             0,
             "#8e0152"
            ],
            [
             0.1,
             "#c51b7d"
            ],
            [
             0.2,
             "#de77ae"
            ],
            [
             0.3,
             "#f1b6da"
            ],
            [
             0.4,
             "#fde0ef"
            ],
            [
             0.5,
             "#f7f7f7"
            ],
            [
             0.6,
             "#e6f5d0"
            ],
            [
             0.7,
             "#b8e186"
            ],
            [
             0.8,
             "#7fbc41"
            ],
            [
             0.9,
             "#4d9221"
            ],
            [
             1,
             "#276419"
            ]
           ],
           "sequential": [
            [
             0,
             "#0d0887"
            ],
            [
             0.1111111111111111,
             "#46039f"
            ],
            [
             0.2222222222222222,
             "#7201a8"
            ],
            [
             0.3333333333333333,
             "#9c179e"
            ],
            [
             0.4444444444444444,
             "#bd3786"
            ],
            [
             0.5555555555555556,
             "#d8576b"
            ],
            [
             0.6666666666666666,
             "#ed7953"
            ],
            [
             0.7777777777777778,
             "#fb9f3a"
            ],
            [
             0.8888888888888888,
             "#fdca26"
            ],
            [
             1,
             "#f0f921"
            ]
           ],
           "sequentialminus": [
            [
             0,
             "#0d0887"
            ],
            [
             0.1111111111111111,
             "#46039f"
            ],
            [
             0.2222222222222222,
             "#7201a8"
            ],
            [
             0.3333333333333333,
             "#9c179e"
            ],
            [
             0.4444444444444444,
             "#bd3786"
            ],
            [
             0.5555555555555556,
             "#d8576b"
            ],
            [
             0.6666666666666666,
             "#ed7953"
            ],
            [
             0.7777777777777778,
             "#fb9f3a"
            ],
            [
             0.8888888888888888,
             "#fdca26"
            ],
            [
             1,
             "#f0f921"
            ]
           ]
          },
          "colorway": [
           "#636efa",
           "#EF553B",
           "#00cc96",
           "#ab63fa",
           "#FFA15A",
           "#19d3f3",
           "#FF6692",
           "#B6E880",
           "#FF97FF",
           "#FECB52"
          ],
          "font": {
           "color": "#2a3f5f"
          },
          "geo": {
           "bgcolor": "white",
           "lakecolor": "white",
           "landcolor": "white",
           "showlakes": true,
           "showland": true,
           "subunitcolor": "#C8D4E3"
          },
          "hoverlabel": {
           "align": "left"
          },
          "hovermode": "closest",
          "mapbox": {
           "style": "light"
          },
          "paper_bgcolor": "white",
          "plot_bgcolor": "white",
          "polar": {
           "angularaxis": {
            "gridcolor": "#EBF0F8",
            "linecolor": "#EBF0F8",
            "ticks": ""
           },
           "bgcolor": "white",
           "radialaxis": {
            "gridcolor": "#EBF0F8",
            "linecolor": "#EBF0F8",
            "ticks": ""
           }
          },
          "scene": {
           "xaxis": {
            "backgroundcolor": "white",
            "gridcolor": "#DFE8F3",
            "gridwidth": 2,
            "linecolor": "#EBF0F8",
            "showbackground": true,
            "ticks": "",
            "zerolinecolor": "#EBF0F8"
           },
           "yaxis": {
            "backgroundcolor": "white",
            "gridcolor": "#DFE8F3",
            "gridwidth": 2,
            "linecolor": "#EBF0F8",
            "showbackground": true,
            "ticks": "",
            "zerolinecolor": "#EBF0F8"
           },
           "zaxis": {
            "backgroundcolor": "white",
            "gridcolor": "#DFE8F3",
            "gridwidth": 2,
            "linecolor": "#EBF0F8",
            "showbackground": true,
            "ticks": "",
            "zerolinecolor": "#EBF0F8"
           }
          },
          "shapedefaults": {
           "line": {
            "color": "#2a3f5f"
           }
          },
          "ternary": {
           "aaxis": {
            "gridcolor": "#DFE8F3",
            "linecolor": "#A2B1C6",
            "ticks": ""
           },
           "baxis": {
            "gridcolor": "#DFE8F3",
            "linecolor": "#A2B1C6",
            "ticks": ""
           },
           "bgcolor": "white",
           "caxis": {
            "gridcolor": "#DFE8F3",
            "linecolor": "#A2B1C6",
            "ticks": ""
           }
          },
          "title": {
           "x": 0.05
          },
          "xaxis": {
           "automargin": true,
           "gridcolor": "#EBF0F8",
           "linecolor": "#EBF0F8",
           "ticks": "",
           "title": {
            "standoff": 15
           },
           "zerolinecolor": "#EBF0F8",
           "zerolinewidth": 2
          },
          "yaxis": {
           "automargin": true,
           "gridcolor": "#EBF0F8",
           "linecolor": "#EBF0F8",
           "ticks": "",
           "title": {
            "standoff": 15
           },
           "zerolinecolor": "#EBF0F8",
           "zerolinewidth": 2
          }
         }
        },
        "width": 500,
        "xaxis": {
         "range": [
          0,
          101
         ],
         "title": {
          "text": "CDR Interactions (%)"
         }
        },
        "yaxis": {
         "title": {
          "text": "Probability Density"
         }
        }
       }
      }
     },
     "metadata": {},
     "output_type": "display_data"
    }
   ],
   "source": [
    "def get_cdr_perc(x):\n",
    "    hcdr = x['hcdr1'] + x['hcdr2'] + x['hcdr3']\n",
    "    lcdr = x['lcdr1'] + x['lcdr2'] + x['lcdr3']\n",
    "    cdr = hcdr + lcdr\n",
    "    total = x['hchains'] + x['lchains']\n",
    "    return cdr / total\n",
    "\n",
    "cdr_perc = buried_ab_ag_interface_res.apply(lambda x: get_cdr_perc(x), axis=1)\n",
    "cdr_hist = np.histogram(cdr_perc, bins=10, density=True)\n",
    "\n",
    "print(f'Avg CDR interaction: {round(cdr_perc.mean() * 100, 1)}%')\n",
    "print(cdr_hist)\n",
    "\n",
    "\n",
    "fig = go.Figure()\n",
    "fig.add_trace(go.Scatter(y=cdr_hist[0], x=cdr_hist[1]*100,\n",
    "                    mode='lines+markers', line_shape='spline',\n",
    "                    name='Heavy Chain'))\n",
    "fig.update_layout(\n",
    "    xaxis_title=\"CDR Interactions (%)\",\n",
    "    yaxis_title=\"Probability Density\",\n",
    "    template=\"plotly_white\",\n",
    "    autosize=False,\n",
    "    width=500,\n",
    "    height=500,\n",
    "    margin=dict(\n",
    "        l=50,\n",
    "        r=50,\n",
    "        b=100,\n",
    "        t=100,\n",
    "        pad=4\n",
    "    ),\n",
    "    xaxis_range=[0,101]\n",
    ")\n",
    "fig.show()"
   ]
  },
  {
   "cell_type": "code",
   "execution_count": 22,
   "metadata": {},
   "outputs": [
    {
     "name": "stdout",
     "output_type": "stream",
     "text": [
      "          All    CDR  Framework\n",
      " HEAVY:  9189   7144  2045\n",
      " LIGHT:  4820   4261   559\n",
      " TOTAL: 14009  11405  2604\n"
     ]
    }
   ],
   "source": [
    "tot_hchain_all = buried_ab_ag_interface_res['hchains'].sum()\n",
    "tot_lchain_all = buried_ab_ag_interface_res['lchains'].sum()\n",
    "print(\n",
    "    \"          All    CDR  Framework\\n \"\n",
    "    f\"HEAVY:  {int(tot_hchain_all)}   {int(tot_hchain_cdr)}  {int(tot_hchain_all - tot_hchain_cdr)}\\n\",\n",
    "    f\"LIGHT:  {int(tot_lchain_all)}   {int(tot_lchain_cdr)}   {int(tot_lchain_all - tot_lchain_cdr)}\\n\",\n",
    "    f\"TOTAL: {int(tot_hchain_all + tot_lchain_all)}  {int(tot_hchain_cdr + tot_lchain_cdr)}  {int((tot_hchain_all - tot_hchain_cdr) + (tot_lchain_all - tot_lchain_cdr))}\"\n",
    ")\n"
   ]
  },
  {
   "cell_type": "code",
   "execution_count": 23,
   "metadata": {},
   "outputs": [
    {
     "name": "stdout",
     "output_type": "stream",
     "text": [
      "Avg number of CDRs: 4.3\n",
      "(array([0.00211864, 0.04555085, 0.1875    , 0.31038136, 0.31567797,\n",
      "       0.13877119]), array([0.5, 1.5, 2.5, 3.5, 4.5, 5.5, 6.5]))\n"
     ]
    },
    {
     "data": {
      "application/vnd.plotly.v1+json": {
       "config": {
        "plotlyServerURL": "https://plot.ly"
       },
       "data": [
        {
         "line": {
          "shape": "spline"
         },
         "mode": "lines+markers",
         "name": "Heavy Chain",
         "type": "scatter",
         "x": [
          0.5,
          1.5,
          2.5,
          3.5,
          4.5,
          5.5,
          6.5
         ],
         "y": [
          0.00211864406779661,
          0.045550847457627115,
          0.1875,
          0.3103813559322034,
          0.3156779661016949,
          0.13877118644067796
         ]
        }
       ],
       "layout": {
        "autosize": false,
        "height": 500,
        "margin": {
         "b": 100,
         "l": 50,
         "pad": 4,
         "r": 50,
         "t": 100
        },
        "template": {
         "data": {
          "bar": [
           {
            "error_x": {
             "color": "#2a3f5f"
            },
            "error_y": {
             "color": "#2a3f5f"
            },
            "marker": {
             "line": {
              "color": "white",
              "width": 0.5
             },
             "pattern": {
              "fillmode": "overlay",
              "size": 10,
              "solidity": 0.2
             }
            },
            "type": "bar"
           }
          ],
          "barpolar": [
           {
            "marker": {
             "line": {
              "color": "white",
              "width": 0.5
             },
             "pattern": {
              "fillmode": "overlay",
              "size": 10,
              "solidity": 0.2
             }
            },
            "type": "barpolar"
           }
          ],
          "carpet": [
           {
            "aaxis": {
             "endlinecolor": "#2a3f5f",
             "gridcolor": "#C8D4E3",
             "linecolor": "#C8D4E3",
             "minorgridcolor": "#C8D4E3",
             "startlinecolor": "#2a3f5f"
            },
            "baxis": {
             "endlinecolor": "#2a3f5f",
             "gridcolor": "#C8D4E3",
             "linecolor": "#C8D4E3",
             "minorgridcolor": "#C8D4E3",
             "startlinecolor": "#2a3f5f"
            },
            "type": "carpet"
           }
          ],
          "choropleth": [
           {
            "colorbar": {
             "outlinewidth": 0,
             "ticks": ""
            },
            "type": "choropleth"
           }
          ],
          "contour": [
           {
            "colorbar": {
             "outlinewidth": 0,
             "ticks": ""
            },
            "colorscale": [
             [
              0,
              "#0d0887"
             ],
             [
              0.1111111111111111,
              "#46039f"
             ],
             [
              0.2222222222222222,
              "#7201a8"
             ],
             [
              0.3333333333333333,
              "#9c179e"
             ],
             [
              0.4444444444444444,
              "#bd3786"
             ],
             [
              0.5555555555555556,
              "#d8576b"
             ],
             [
              0.6666666666666666,
              "#ed7953"
             ],
             [
              0.7777777777777778,
              "#fb9f3a"
             ],
             [
              0.8888888888888888,
              "#fdca26"
             ],
             [
              1,
              "#f0f921"
             ]
            ],
            "type": "contour"
           }
          ],
          "contourcarpet": [
           {
            "colorbar": {
             "outlinewidth": 0,
             "ticks": ""
            },
            "type": "contourcarpet"
           }
          ],
          "heatmap": [
           {
            "colorbar": {
             "outlinewidth": 0,
             "ticks": ""
            },
            "colorscale": [
             [
              0,
              "#0d0887"
             ],
             [
              0.1111111111111111,
              "#46039f"
             ],
             [
              0.2222222222222222,
              "#7201a8"
             ],
             [
              0.3333333333333333,
              "#9c179e"
             ],
             [
              0.4444444444444444,
              "#bd3786"
             ],
             [
              0.5555555555555556,
              "#d8576b"
             ],
             [
              0.6666666666666666,
              "#ed7953"
             ],
             [
              0.7777777777777778,
              "#fb9f3a"
             ],
             [
              0.8888888888888888,
              "#fdca26"
             ],
             [
              1,
              "#f0f921"
             ]
            ],
            "type": "heatmap"
           }
          ],
          "heatmapgl": [
           {
            "colorbar": {
             "outlinewidth": 0,
             "ticks": ""
            },
            "colorscale": [
             [
              0,
              "#0d0887"
             ],
             [
              0.1111111111111111,
              "#46039f"
             ],
             [
              0.2222222222222222,
              "#7201a8"
             ],
             [
              0.3333333333333333,
              "#9c179e"
             ],
             [
              0.4444444444444444,
              "#bd3786"
             ],
             [
              0.5555555555555556,
              "#d8576b"
             ],
             [
              0.6666666666666666,
              "#ed7953"
             ],
             [
              0.7777777777777778,
              "#fb9f3a"
             ],
             [
              0.8888888888888888,
              "#fdca26"
             ],
             [
              1,
              "#f0f921"
             ]
            ],
            "type": "heatmapgl"
           }
          ],
          "histogram": [
           {
            "marker": {
             "pattern": {
              "fillmode": "overlay",
              "size": 10,
              "solidity": 0.2
             }
            },
            "type": "histogram"
           }
          ],
          "histogram2d": [
           {
            "colorbar": {
             "outlinewidth": 0,
             "ticks": ""
            },
            "colorscale": [
             [
              0,
              "#0d0887"
             ],
             [
              0.1111111111111111,
              "#46039f"
             ],
             [
              0.2222222222222222,
              "#7201a8"
             ],
             [
              0.3333333333333333,
              "#9c179e"
             ],
             [
              0.4444444444444444,
              "#bd3786"
             ],
             [
              0.5555555555555556,
              "#d8576b"
             ],
             [
              0.6666666666666666,
              "#ed7953"
             ],
             [
              0.7777777777777778,
              "#fb9f3a"
             ],
             [
              0.8888888888888888,
              "#fdca26"
             ],
             [
              1,
              "#f0f921"
             ]
            ],
            "type": "histogram2d"
           }
          ],
          "histogram2dcontour": [
           {
            "colorbar": {
             "outlinewidth": 0,
             "ticks": ""
            },
            "colorscale": [
             [
              0,
              "#0d0887"
             ],
             [
              0.1111111111111111,
              "#46039f"
             ],
             [
              0.2222222222222222,
              "#7201a8"
             ],
             [
              0.3333333333333333,
              "#9c179e"
             ],
             [
              0.4444444444444444,
              "#bd3786"
             ],
             [
              0.5555555555555556,
              "#d8576b"
             ],
             [
              0.6666666666666666,
              "#ed7953"
             ],
             [
              0.7777777777777778,
              "#fb9f3a"
             ],
             [
              0.8888888888888888,
              "#fdca26"
             ],
             [
              1,
              "#f0f921"
             ]
            ],
            "type": "histogram2dcontour"
           }
          ],
          "mesh3d": [
           {
            "colorbar": {
             "outlinewidth": 0,
             "ticks": ""
            },
            "type": "mesh3d"
           }
          ],
          "parcoords": [
           {
            "line": {
             "colorbar": {
              "outlinewidth": 0,
              "ticks": ""
             }
            },
            "type": "parcoords"
           }
          ],
          "pie": [
           {
            "automargin": true,
            "type": "pie"
           }
          ],
          "scatter": [
           {
            "marker": {
             "colorbar": {
              "outlinewidth": 0,
              "ticks": ""
             }
            },
            "type": "scatter"
           }
          ],
          "scatter3d": [
           {
            "line": {
             "colorbar": {
              "outlinewidth": 0,
              "ticks": ""
             }
            },
            "marker": {
             "colorbar": {
              "outlinewidth": 0,
              "ticks": ""
             }
            },
            "type": "scatter3d"
           }
          ],
          "scattercarpet": [
           {
            "marker": {
             "colorbar": {
              "outlinewidth": 0,
              "ticks": ""
             }
            },
            "type": "scattercarpet"
           }
          ],
          "scattergeo": [
           {
            "marker": {
             "colorbar": {
              "outlinewidth": 0,
              "ticks": ""
             }
            },
            "type": "scattergeo"
           }
          ],
          "scattergl": [
           {
            "marker": {
             "colorbar": {
              "outlinewidth": 0,
              "ticks": ""
             }
            },
            "type": "scattergl"
           }
          ],
          "scattermapbox": [
           {
            "marker": {
             "colorbar": {
              "outlinewidth": 0,
              "ticks": ""
             }
            },
            "type": "scattermapbox"
           }
          ],
          "scatterpolar": [
           {
            "marker": {
             "colorbar": {
              "outlinewidth": 0,
              "ticks": ""
             }
            },
            "type": "scatterpolar"
           }
          ],
          "scatterpolargl": [
           {
            "marker": {
             "colorbar": {
              "outlinewidth": 0,
              "ticks": ""
             }
            },
            "type": "scatterpolargl"
           }
          ],
          "scatterternary": [
           {
            "marker": {
             "colorbar": {
              "outlinewidth": 0,
              "ticks": ""
             }
            },
            "type": "scatterternary"
           }
          ],
          "surface": [
           {
            "colorbar": {
             "outlinewidth": 0,
             "ticks": ""
            },
            "colorscale": [
             [
              0,
              "#0d0887"
             ],
             [
              0.1111111111111111,
              "#46039f"
             ],
             [
              0.2222222222222222,
              "#7201a8"
             ],
             [
              0.3333333333333333,
              "#9c179e"
             ],
             [
              0.4444444444444444,
              "#bd3786"
             ],
             [
              0.5555555555555556,
              "#d8576b"
             ],
             [
              0.6666666666666666,
              "#ed7953"
             ],
             [
              0.7777777777777778,
              "#fb9f3a"
             ],
             [
              0.8888888888888888,
              "#fdca26"
             ],
             [
              1,
              "#f0f921"
             ]
            ],
            "type": "surface"
           }
          ],
          "table": [
           {
            "cells": {
             "fill": {
              "color": "#EBF0F8"
             },
             "line": {
              "color": "white"
             }
            },
            "header": {
             "fill": {
              "color": "#C8D4E3"
             },
             "line": {
              "color": "white"
             }
            },
            "type": "table"
           }
          ]
         },
         "layout": {
          "annotationdefaults": {
           "arrowcolor": "#2a3f5f",
           "arrowhead": 0,
           "arrowwidth": 1
          },
          "autotypenumbers": "strict",
          "coloraxis": {
           "colorbar": {
            "outlinewidth": 0,
            "ticks": ""
           }
          },
          "colorscale": {
           "diverging": [
            [
             0,
             "#8e0152"
            ],
            [
             0.1,
             "#c51b7d"
            ],
            [
             0.2,
             "#de77ae"
            ],
            [
             0.3,
             "#f1b6da"
            ],
            [
             0.4,
             "#fde0ef"
            ],
            [
             0.5,
             "#f7f7f7"
            ],
            [
             0.6,
             "#e6f5d0"
            ],
            [
             0.7,
             "#b8e186"
            ],
            [
             0.8,
             "#7fbc41"
            ],
            [
             0.9,
             "#4d9221"
            ],
            [
             1,
             "#276419"
            ]
           ],
           "sequential": [
            [
             0,
             "#0d0887"
            ],
            [
             0.1111111111111111,
             "#46039f"
            ],
            [
             0.2222222222222222,
             "#7201a8"
            ],
            [
             0.3333333333333333,
             "#9c179e"
            ],
            [
             0.4444444444444444,
             "#bd3786"
            ],
            [
             0.5555555555555556,
             "#d8576b"
            ],
            [
             0.6666666666666666,
             "#ed7953"
            ],
            [
             0.7777777777777778,
             "#fb9f3a"
            ],
            [
             0.8888888888888888,
             "#fdca26"
            ],
            [
             1,
             "#f0f921"
            ]
           ],
           "sequentialminus": [
            [
             0,
             "#0d0887"
            ],
            [
             0.1111111111111111,
             "#46039f"
            ],
            [
             0.2222222222222222,
             "#7201a8"
            ],
            [
             0.3333333333333333,
             "#9c179e"
            ],
            [
             0.4444444444444444,
             "#bd3786"
            ],
            [
             0.5555555555555556,
             "#d8576b"
            ],
            [
             0.6666666666666666,
             "#ed7953"
            ],
            [
             0.7777777777777778,
             "#fb9f3a"
            ],
            [
             0.8888888888888888,
             "#fdca26"
            ],
            [
             1,
             "#f0f921"
            ]
           ]
          },
          "colorway": [
           "#636efa",
           "#EF553B",
           "#00cc96",
           "#ab63fa",
           "#FFA15A",
           "#19d3f3",
           "#FF6692",
           "#B6E880",
           "#FF97FF",
           "#FECB52"
          ],
          "font": {
           "color": "#2a3f5f"
          },
          "geo": {
           "bgcolor": "white",
           "lakecolor": "white",
           "landcolor": "white",
           "showlakes": true,
           "showland": true,
           "subunitcolor": "#C8D4E3"
          },
          "hoverlabel": {
           "align": "left"
          },
          "hovermode": "closest",
          "mapbox": {
           "style": "light"
          },
          "paper_bgcolor": "white",
          "plot_bgcolor": "white",
          "polar": {
           "angularaxis": {
            "gridcolor": "#EBF0F8",
            "linecolor": "#EBF0F8",
            "ticks": ""
           },
           "bgcolor": "white",
           "radialaxis": {
            "gridcolor": "#EBF0F8",
            "linecolor": "#EBF0F8",
            "ticks": ""
           }
          },
          "scene": {
           "xaxis": {
            "backgroundcolor": "white",
            "gridcolor": "#DFE8F3",
            "gridwidth": 2,
            "linecolor": "#EBF0F8",
            "showbackground": true,
            "ticks": "",
            "zerolinecolor": "#EBF0F8"
           },
           "yaxis": {
            "backgroundcolor": "white",
            "gridcolor": "#DFE8F3",
            "gridwidth": 2,
            "linecolor": "#EBF0F8",
            "showbackground": true,
            "ticks": "",
            "zerolinecolor": "#EBF0F8"
           },
           "zaxis": {
            "backgroundcolor": "white",
            "gridcolor": "#DFE8F3",
            "gridwidth": 2,
            "linecolor": "#EBF0F8",
            "showbackground": true,
            "ticks": "",
            "zerolinecolor": "#EBF0F8"
           }
          },
          "shapedefaults": {
           "line": {
            "color": "#2a3f5f"
           }
          },
          "ternary": {
           "aaxis": {
            "gridcolor": "#DFE8F3",
            "linecolor": "#A2B1C6",
            "ticks": ""
           },
           "baxis": {
            "gridcolor": "#DFE8F3",
            "linecolor": "#A2B1C6",
            "ticks": ""
           },
           "bgcolor": "white",
           "caxis": {
            "gridcolor": "#DFE8F3",
            "linecolor": "#A2B1C6",
            "ticks": ""
           }
          },
          "title": {
           "x": 0.05
          },
          "xaxis": {
           "automargin": true,
           "gridcolor": "#EBF0F8",
           "linecolor": "#EBF0F8",
           "ticks": "",
           "title": {
            "standoff": 15
           },
           "zerolinecolor": "#EBF0F8",
           "zerolinewidth": 2
          },
          "yaxis": {
           "automargin": true,
           "gridcolor": "#EBF0F8",
           "linecolor": "#EBF0F8",
           "ticks": "",
           "title": {
            "standoff": 15
           },
           "zerolinecolor": "#EBF0F8",
           "zerolinewidth": 2
          }
         }
        },
        "width": 500,
        "xaxis": {
         "title": {
          "text": "Number of Interacting CDR Chains"
         }
        },
        "yaxis": {
         "title": {
          "text": "Probability Density"
         }
        }
       }
      }
     },
     "metadata": {},
     "output_type": "display_data"
    }
   ],
   "source": [
    "def count_cdrs(x):\n",
    "    n_cdrs = 0\n",
    "    for cdr_i in x[['hcdr1', 'hcdr2', 'hcdr3', 'lcdr1', 'lcdr2', 'lcdr3']]:\n",
    "        if cdr_i > 0:\n",
    "            n_cdrs += 1\n",
    "    return n_cdrs\n",
    "\n",
    "\n",
    "buried_ab_ag_interface_res['n_cdrs'] = buried_ab_ag_interface_res.apply(lambda x: count_cdrs(x), axis=1)\n",
    "\n",
    "n_cdrs_hist = np.histogram(buried_ab_ag_interface_res['n_cdrs'], range=(0.5,6.5), bins=6, density=True)\n",
    "print(f\"Avg number of CDRs: {round(buried_ab_ag_interface_res['n_cdrs'].mean(), 1)}\")\n",
    "print(n_cdrs_hist)\n",
    "\n",
    "fig = go.Figure()\n",
    "fig.add_trace(go.Scatter(y=n_cdrs_hist[0], x=n_cdrs_hist[1],\n",
    "                    mode='lines+markers', line_shape='spline',\n",
    "                    name='Heavy Chain'))\n",
    "fig.update_layout(\n",
    "    xaxis_title=\"Number of Interacting CDR Chains\",\n",
    "    yaxis_title=\"Probability Density\",\n",
    "    template=\"plotly_white\",\n",
    "    autosize=False,\n",
    "    width=500,\n",
    "    height=500,\n",
    "    margin=dict(\n",
    "        l=50,\n",
    "        r=50,\n",
    "        b=100,\n",
    "        t=100,\n",
    "        pad=4\n",
    "    )\n",
    ")\n",
    "fig.show()\n"
   ]
  },
  {
   "cell_type": "code",
   "execution_count": 24,
   "metadata": {},
   "outputs": [],
   "source": [
    "def get_cdr3_len(x):\n",
    "    ab_chains = protein_antigens.query(\n",
    "        f\"pdb == '{x['idcode']}' and {'L' if x['chain_type'] in 'LK' else 'H'}chain == '{x['chainID']}'\", engine = 'python')[['Hchain', 'Lchain']].values\n",
    "    assert len(ab_chains) == 1, print(ab_chains)\n",
    "    ab_chains = list(ab_chains[0])\n",
    "    \n",
    "    cdr3 = buried_fullab.query(\n",
    "        f'idcode == \"{x[\"idcode\"]}\" and chainID.isin({ab_chains}) and cdr == 3', engine = 'python')['cdr_seq'].values[0]\n",
    "    return len(cdr3)\n",
    "\n",
    "\n",
    "buried_ab_ag_interface_res['cdr3_len'] = buried_ab_ag_interface_res.apply(lambda x: get_cdr3_len(x), axis=1)"
   ]
  },
  {
   "cell_type": "code",
   "execution_count": 25,
   "metadata": {},
   "outputs": [
    {
     "name": "stdout",
     "output_type": "stream",
     "text": [
      "[0.         0.00812147 0.03742938 0.09922316 0.08933616 0.05049435\n",
      " 0.02860169 0.01129944 0.00847458 0.00035311] [ 0.  3.  6.  9. 12. 15. 18. 21. 24. 27. 30.]\n"
     ]
    },
    {
     "data": {
      "application/vnd.plotly.v1+json": {
       "config": {
        "plotlyServerURL": "https://plot.ly"
       },
       "data": [
        {
         "line": {
          "shape": "spline"
         },
         "mode": "lines+markers",
         "name": "Heavy Chain",
         "type": "scatter",
         "x": [
          0,
          3,
          6,
          9,
          12,
          15,
          18,
          21,
          24,
          27,
          30
         ],
         "y": [
          0,
          0.008121468926553672,
          0.03742937853107345,
          0.09922316384180792,
          0.08933615819209038,
          0.050494350282485875,
          0.028601694915254237,
          0.011299435028248588,
          0.00847457627118644,
          0.00035310734463276836
         ]
        }
       ],
       "layout": {
        "autosize": false,
        "height": 500,
        "margin": {
         "b": 100,
         "l": 50,
         "pad": 4,
         "r": 50,
         "t": 100
        },
        "template": {
         "data": {
          "bar": [
           {
            "error_x": {
             "color": "#2a3f5f"
            },
            "error_y": {
             "color": "#2a3f5f"
            },
            "marker": {
             "line": {
              "color": "white",
              "width": 0.5
             },
             "pattern": {
              "fillmode": "overlay",
              "size": 10,
              "solidity": 0.2
             }
            },
            "type": "bar"
           }
          ],
          "barpolar": [
           {
            "marker": {
             "line": {
              "color": "white",
              "width": 0.5
             },
             "pattern": {
              "fillmode": "overlay",
              "size": 10,
              "solidity": 0.2
             }
            },
            "type": "barpolar"
           }
          ],
          "carpet": [
           {
            "aaxis": {
             "endlinecolor": "#2a3f5f",
             "gridcolor": "#C8D4E3",
             "linecolor": "#C8D4E3",
             "minorgridcolor": "#C8D4E3",
             "startlinecolor": "#2a3f5f"
            },
            "baxis": {
             "endlinecolor": "#2a3f5f",
             "gridcolor": "#C8D4E3",
             "linecolor": "#C8D4E3",
             "minorgridcolor": "#C8D4E3",
             "startlinecolor": "#2a3f5f"
            },
            "type": "carpet"
           }
          ],
          "choropleth": [
           {
            "colorbar": {
             "outlinewidth": 0,
             "ticks": ""
            },
            "type": "choropleth"
           }
          ],
          "contour": [
           {
            "colorbar": {
             "outlinewidth": 0,
             "ticks": ""
            },
            "colorscale": [
             [
              0,
              "#0d0887"
             ],
             [
              0.1111111111111111,
              "#46039f"
             ],
             [
              0.2222222222222222,
              "#7201a8"
             ],
             [
              0.3333333333333333,
              "#9c179e"
             ],
             [
              0.4444444444444444,
              "#bd3786"
             ],
             [
              0.5555555555555556,
              "#d8576b"
             ],
             [
              0.6666666666666666,
              "#ed7953"
             ],
             [
              0.7777777777777778,
              "#fb9f3a"
             ],
             [
              0.8888888888888888,
              "#fdca26"
             ],
             [
              1,
              "#f0f921"
             ]
            ],
            "type": "contour"
           }
          ],
          "contourcarpet": [
           {
            "colorbar": {
             "outlinewidth": 0,
             "ticks": ""
            },
            "type": "contourcarpet"
           }
          ],
          "heatmap": [
           {
            "colorbar": {
             "outlinewidth": 0,
             "ticks": ""
            },
            "colorscale": [
             [
              0,
              "#0d0887"
             ],
             [
              0.1111111111111111,
              "#46039f"
             ],
             [
              0.2222222222222222,
              "#7201a8"
             ],
             [
              0.3333333333333333,
              "#9c179e"
             ],
             [
              0.4444444444444444,
              "#bd3786"
             ],
             [
              0.5555555555555556,
              "#d8576b"
             ],
             [
              0.6666666666666666,
              "#ed7953"
             ],
             [
              0.7777777777777778,
              "#fb9f3a"
             ],
             [
              0.8888888888888888,
              "#fdca26"
             ],
             [
              1,
              "#f0f921"
             ]
            ],
            "type": "heatmap"
           }
          ],
          "heatmapgl": [
           {
            "colorbar": {
             "outlinewidth": 0,
             "ticks": ""
            },
            "colorscale": [
             [
              0,
              "#0d0887"
             ],
             [
              0.1111111111111111,
              "#46039f"
             ],
             [
              0.2222222222222222,
              "#7201a8"
             ],
             [
              0.3333333333333333,
              "#9c179e"
             ],
             [
              0.4444444444444444,
              "#bd3786"
             ],
             [
              0.5555555555555556,
              "#d8576b"
             ],
             [
              0.6666666666666666,
              "#ed7953"
             ],
             [
              0.7777777777777778,
              "#fb9f3a"
             ],
             [
              0.8888888888888888,
              "#fdca26"
             ],
             [
              1,
              "#f0f921"
             ]
            ],
            "type": "heatmapgl"
           }
          ],
          "histogram": [
           {
            "marker": {
             "pattern": {
              "fillmode": "overlay",
              "size": 10,
              "solidity": 0.2
             }
            },
            "type": "histogram"
           }
          ],
          "histogram2d": [
           {
            "colorbar": {
             "outlinewidth": 0,
             "ticks": ""
            },
            "colorscale": [
             [
              0,
              "#0d0887"
             ],
             [
              0.1111111111111111,
              "#46039f"
             ],
             [
              0.2222222222222222,
              "#7201a8"
             ],
             [
              0.3333333333333333,
              "#9c179e"
             ],
             [
              0.4444444444444444,
              "#bd3786"
             ],
             [
              0.5555555555555556,
              "#d8576b"
             ],
             [
              0.6666666666666666,
              "#ed7953"
             ],
             [
              0.7777777777777778,
              "#fb9f3a"
             ],
             [
              0.8888888888888888,
              "#fdca26"
             ],
             [
              1,
              "#f0f921"
             ]
            ],
            "type": "histogram2d"
           }
          ],
          "histogram2dcontour": [
           {
            "colorbar": {
             "outlinewidth": 0,
             "ticks": ""
            },
            "colorscale": [
             [
              0,
              "#0d0887"
             ],
             [
              0.1111111111111111,
              "#46039f"
             ],
             [
              0.2222222222222222,
              "#7201a8"
             ],
             [
              0.3333333333333333,
              "#9c179e"
             ],
             [
              0.4444444444444444,
              "#bd3786"
             ],
             [
              0.5555555555555556,
              "#d8576b"
             ],
             [
              0.6666666666666666,
              "#ed7953"
             ],
             [
              0.7777777777777778,
              "#fb9f3a"
             ],
             [
              0.8888888888888888,
              "#fdca26"
             ],
             [
              1,
              "#f0f921"
             ]
            ],
            "type": "histogram2dcontour"
           }
          ],
          "mesh3d": [
           {
            "colorbar": {
             "outlinewidth": 0,
             "ticks": ""
            },
            "type": "mesh3d"
           }
          ],
          "parcoords": [
           {
            "line": {
             "colorbar": {
              "outlinewidth": 0,
              "ticks": ""
             }
            },
            "type": "parcoords"
           }
          ],
          "pie": [
           {
            "automargin": true,
            "type": "pie"
           }
          ],
          "scatter": [
           {
            "marker": {
             "colorbar": {
              "outlinewidth": 0,
              "ticks": ""
             }
            },
            "type": "scatter"
           }
          ],
          "scatter3d": [
           {
            "line": {
             "colorbar": {
              "outlinewidth": 0,
              "ticks": ""
             }
            },
            "marker": {
             "colorbar": {
              "outlinewidth": 0,
              "ticks": ""
             }
            },
            "type": "scatter3d"
           }
          ],
          "scattercarpet": [
           {
            "marker": {
             "colorbar": {
              "outlinewidth": 0,
              "ticks": ""
             }
            },
            "type": "scattercarpet"
           }
          ],
          "scattergeo": [
           {
            "marker": {
             "colorbar": {
              "outlinewidth": 0,
              "ticks": ""
             }
            },
            "type": "scattergeo"
           }
          ],
          "scattergl": [
           {
            "marker": {
             "colorbar": {
              "outlinewidth": 0,
              "ticks": ""
             }
            },
            "type": "scattergl"
           }
          ],
          "scattermapbox": [
           {
            "marker": {
             "colorbar": {
              "outlinewidth": 0,
              "ticks": ""
             }
            },
            "type": "scattermapbox"
           }
          ],
          "scatterpolar": [
           {
            "marker": {
             "colorbar": {
              "outlinewidth": 0,
              "ticks": ""
             }
            },
            "type": "scatterpolar"
           }
          ],
          "scatterpolargl": [
           {
            "marker": {
             "colorbar": {
              "outlinewidth": 0,
              "ticks": ""
             }
            },
            "type": "scatterpolargl"
           }
          ],
          "scatterternary": [
           {
            "marker": {
             "colorbar": {
              "outlinewidth": 0,
              "ticks": ""
             }
            },
            "type": "scatterternary"
           }
          ],
          "surface": [
           {
            "colorbar": {
             "outlinewidth": 0,
             "ticks": ""
            },
            "colorscale": [
             [
              0,
              "#0d0887"
             ],
             [
              0.1111111111111111,
              "#46039f"
             ],
             [
              0.2222222222222222,
              "#7201a8"
             ],
             [
              0.3333333333333333,
              "#9c179e"
             ],
             [
              0.4444444444444444,
              "#bd3786"
             ],
             [
              0.5555555555555556,
              "#d8576b"
             ],
             [
              0.6666666666666666,
              "#ed7953"
             ],
             [
              0.7777777777777778,
              "#fb9f3a"
             ],
             [
              0.8888888888888888,
              "#fdca26"
             ],
             [
              1,
              "#f0f921"
             ]
            ],
            "type": "surface"
           }
          ],
          "table": [
           {
            "cells": {
             "fill": {
              "color": "#EBF0F8"
             },
             "line": {
              "color": "white"
             }
            },
            "header": {
             "fill": {
              "color": "#C8D4E3"
             },
             "line": {
              "color": "white"
             }
            },
            "type": "table"
           }
          ]
         },
         "layout": {
          "annotationdefaults": {
           "arrowcolor": "#2a3f5f",
           "arrowhead": 0,
           "arrowwidth": 1
          },
          "autotypenumbers": "strict",
          "coloraxis": {
           "colorbar": {
            "outlinewidth": 0,
            "ticks": ""
           }
          },
          "colorscale": {
           "diverging": [
            [
             0,
             "#8e0152"
            ],
            [
             0.1,
             "#c51b7d"
            ],
            [
             0.2,
             "#de77ae"
            ],
            [
             0.3,
             "#f1b6da"
            ],
            [
             0.4,
             "#fde0ef"
            ],
            [
             0.5,
             "#f7f7f7"
            ],
            [
             0.6,
             "#e6f5d0"
            ],
            [
             0.7,
             "#b8e186"
            ],
            [
             0.8,
             "#7fbc41"
            ],
            [
             0.9,
             "#4d9221"
            ],
            [
             1,
             "#276419"
            ]
           ],
           "sequential": [
            [
             0,
             "#0d0887"
            ],
            [
             0.1111111111111111,
             "#46039f"
            ],
            [
             0.2222222222222222,
             "#7201a8"
            ],
            [
             0.3333333333333333,
             "#9c179e"
            ],
            [
             0.4444444444444444,
             "#bd3786"
            ],
            [
             0.5555555555555556,
             "#d8576b"
            ],
            [
             0.6666666666666666,
             "#ed7953"
            ],
            [
             0.7777777777777778,
             "#fb9f3a"
            ],
            [
             0.8888888888888888,
             "#fdca26"
            ],
            [
             1,
             "#f0f921"
            ]
           ],
           "sequentialminus": [
            [
             0,
             "#0d0887"
            ],
            [
             0.1111111111111111,
             "#46039f"
            ],
            [
             0.2222222222222222,
             "#7201a8"
            ],
            [
             0.3333333333333333,
             "#9c179e"
            ],
            [
             0.4444444444444444,
             "#bd3786"
            ],
            [
             0.5555555555555556,
             "#d8576b"
            ],
            [
             0.6666666666666666,
             "#ed7953"
            ],
            [
             0.7777777777777778,
             "#fb9f3a"
            ],
            [
             0.8888888888888888,
             "#fdca26"
            ],
            [
             1,
             "#f0f921"
            ]
           ]
          },
          "colorway": [
           "#636efa",
           "#EF553B",
           "#00cc96",
           "#ab63fa",
           "#FFA15A",
           "#19d3f3",
           "#FF6692",
           "#B6E880",
           "#FF97FF",
           "#FECB52"
          ],
          "font": {
           "color": "#2a3f5f"
          },
          "geo": {
           "bgcolor": "white",
           "lakecolor": "white",
           "landcolor": "white",
           "showlakes": true,
           "showland": true,
           "subunitcolor": "#C8D4E3"
          },
          "hoverlabel": {
           "align": "left"
          },
          "hovermode": "closest",
          "mapbox": {
           "style": "light"
          },
          "paper_bgcolor": "white",
          "plot_bgcolor": "white",
          "polar": {
           "angularaxis": {
            "gridcolor": "#EBF0F8",
            "linecolor": "#EBF0F8",
            "ticks": ""
           },
           "bgcolor": "white",
           "radialaxis": {
            "gridcolor": "#EBF0F8",
            "linecolor": "#EBF0F8",
            "ticks": ""
           }
          },
          "scene": {
           "xaxis": {
            "backgroundcolor": "white",
            "gridcolor": "#DFE8F3",
            "gridwidth": 2,
            "linecolor": "#EBF0F8",
            "showbackground": true,
            "ticks": "",
            "zerolinecolor": "#EBF0F8"
           },
           "yaxis": {
            "backgroundcolor": "white",
            "gridcolor": "#DFE8F3",
            "gridwidth": 2,
            "linecolor": "#EBF0F8",
            "showbackground": true,
            "ticks": "",
            "zerolinecolor": "#EBF0F8"
           },
           "zaxis": {
            "backgroundcolor": "white",
            "gridcolor": "#DFE8F3",
            "gridwidth": 2,
            "linecolor": "#EBF0F8",
            "showbackground": true,
            "ticks": "",
            "zerolinecolor": "#EBF0F8"
           }
          },
          "shapedefaults": {
           "line": {
            "color": "#2a3f5f"
           }
          },
          "ternary": {
           "aaxis": {
            "gridcolor": "#DFE8F3",
            "linecolor": "#A2B1C6",
            "ticks": ""
           },
           "baxis": {
            "gridcolor": "#DFE8F3",
            "linecolor": "#A2B1C6",
            "ticks": ""
           },
           "bgcolor": "white",
           "caxis": {
            "gridcolor": "#DFE8F3",
            "linecolor": "#A2B1C6",
            "ticks": ""
           }
          },
          "title": {
           "x": 0.05
          },
          "xaxis": {
           "automargin": true,
           "gridcolor": "#EBF0F8",
           "linecolor": "#EBF0F8",
           "ticks": "",
           "title": {
            "standoff": 15
           },
           "zerolinecolor": "#EBF0F8",
           "zerolinewidth": 2
          },
          "yaxis": {
           "automargin": true,
           "gridcolor": "#EBF0F8",
           "linecolor": "#EBF0F8",
           "ticks": "",
           "title": {
            "standoff": 15
           },
           "zerolinecolor": "#EBF0F8",
           "zerolinewidth": 2
          }
         }
        },
        "width": 500,
        "xaxis": {
         "title": {
          "text": "# of Residues in CDR3"
         }
        },
        "yaxis": {
         "title": {
          "text": "Probability Density"
         }
        }
       }
      }
     },
     "metadata": {},
     "output_type": "display_data"
    }
   ],
   "source": [
    "cdr3_hist, cdr3_bins = np.histogram(buried_ab_ag_interface_res['cdr3_len'], bins=10, range=(0, 30), density=True)\n",
    "print(cdr3_hist, cdr3_bins)\n",
    "fig = go.Figure()\n",
    "fig.add_trace(go.Scatter(y=cdr3_hist, x=cdr3_bins,\n",
    "                    mode='lines+markers', line_shape='spline',\n",
    "                    name='Heavy Chain'))\n",
    "fig.update_layout(\n",
    "    xaxis_title=\"# of Residues in CDR3\",\n",
    "    yaxis_title=\"Probability Density\",\n",
    "    template=\"plotly_white\",\n",
    "    autosize=False,\n",
    "    width=500,\n",
    "    height=500,\n",
    "    margin=dict(\n",
    "        l=50,\n",
    "        r=50,\n",
    "        b=100,\n",
    "        t=100,\n",
    "        pad=4\n",
    "    )\n",
    ")\n",
    "fig.show()"
   ]
  },
  {
   "cell_type": "code",
   "execution_count": 26,
   "metadata": {},
   "outputs": [],
   "source": [
    "bins = [[] for i in cdr3_bins[1:]]\n",
    "bins_i = list(enumerate(cdr3_bins[1:]))\n",
    "for n_int_cdrs, cdr3_len in buried_ab_ag_interface_res[['n_cdrs', 'cdr3_len']].values:\n",
    "    for i, upper_bound in bins_i:\n",
    "        if cdr3_len <= upper_bound:\n",
    "            bins[i].append(n_int_cdrs)"
   ]
  },
  {
   "cell_type": "code",
   "execution_count": 27,
   "metadata": {},
   "outputs": [
    {
     "name": "stdout",
     "output_type": "stream",
     "text": [
      "[5.0, 5.25, 4.86, 4.66, 4.52, 4.42, 4.37, 4.31, 4.31, 4.3]\n"
     ]
    }
   ],
   "source": [
    "avg_n_cdrs_bins = [round(sum(i)/len(i), 2) for i in bins]\n",
    "print(avg_n_cdrs_bins)"
   ]
  },
  {
   "cell_type": "code",
   "execution_count": 28,
   "metadata": {},
   "outputs": [
    {
     "data": {
      "text/plain": [
       "{'THR': 1574,\n",
       " 'SER': 3022,\n",
       " 'TRP': 3841,\n",
       " 'ASN': 1922,\n",
       " 'ARG': 1793,\n",
       " 'ILE': 697,\n",
       " 'GLY': 2215,\n",
       " 'PHE': 2160,\n",
       " 'LEU': 870,\n",
       " 'TYR': 10620,\n",
       " 'GLN': 496,\n",
       " 'GLU': 818,\n",
       " 'VAL': 680,\n",
       " 'ASP': 1763,\n",
       " 'LYS': 408,\n",
       " 'MET': 180,\n",
       " 'PRO': 554,\n",
       " 'CYS': 78,\n",
       " 'ALA': 758,\n",
       " 'HIS': 734}"
      ]
     },
     "execution_count": 28,
     "metadata": {},
     "output_type": "execute_result"
    }
   ],
   "source": [
    "def aa_dist(aa_lists):\n",
    "    dist = {}\n",
    "    for aas in aa_lists:\n",
    "        for aa in aas:\n",
    "            if aa not in dist:\n",
    "                dist[aa] = 0\n",
    "            dist[aa] += 1\n",
    "\n",
    "    return dist\n",
    "\n",
    "allaas_dist = aa_dist(buried_ab_ag_interface_res['ab_res'].values)\n",
    "allaas_dist"
   ]
  },
  {
   "cell_type": "code",
   "execution_count": 29,
   "metadata": {},
   "outputs": [
    {
     "data": {
      "text/plain": [
       "{'GLU': 1869,\n",
       " 'THR': 1923,\n",
       " 'PHE': 1744,\n",
       " 'HIS': 976,\n",
       " 'ARG': 2328,\n",
       " 'SER': 1691,\n",
       " 'PRO': 1474,\n",
       " 'LEU': 1464,\n",
       " 'GLN': 1555,\n",
       " 'VAL': 933,\n",
       " 'MET': 385,\n",
       " 'CYS': 377,\n",
       " 'ILE': 952,\n",
       " 'ALA': 1151,\n",
       " 'LYS': 1920,\n",
       " 'ASP': 2017,\n",
       " 'ASN': 2334,\n",
       " 'GLY': 2118,\n",
       " 'TRP': 1173,\n",
       " 'TYR': 2328}"
      ]
     },
     "execution_count": 29,
     "metadata": {},
     "output_type": "execute_result"
    }
   ],
   "source": [
    "allaas_dist = aa_dist(buried_ab_ag_interface_res['ag_res'].values)\n",
    "allaas_dist"
   ]
  },
  {
   "cell_type": "code",
   "execution_count": 30,
   "metadata": {},
   "outputs": [
    {
     "data": {
      "text/plain": [
       "{'MET': 7413,\n",
       " 'LEU': 39638,\n",
       " 'PRO': 22740,\n",
       " 'ARG': 19670,\n",
       " 'TRP': 7233,\n",
       " 'GLU': 23752,\n",
       " 'ALA': 27632,\n",
       " 'TYR': 18171,\n",
       " 'SER': 33797,\n",
       " 'GLY': 31418,\n",
       " 'PHE': 21932,\n",
       " 'HIS': 9456,\n",
       " 'VAL': 33016,\n",
       " 'LYS': 25870,\n",
       " 'ASP': 22109,\n",
       " 'GLN': 19620,\n",
       " 'THR': 33282,\n",
       " 'ILE': 28738,\n",
       " 'CYS': 14257,\n",
       " 'ASN': 30231}"
      ]
     },
     "execution_count": 30,
     "metadata": {},
     "output_type": "execute_result"
    }
   ],
   "source": [
    "import sys\n",
    "sys.path.append('scripts')\n",
    "\n",
    "from scripts.utils import read_pdb_line\n",
    "from Bio.Data.IUPACData import protein_letters_3to1 as AA_CONVERTER\n",
    "\n",
    "def get_sequence(pdb_path, chains):\n",
    "    prot_aas = []\n",
    "    last = None\n",
    "    with open(pdb_path) as f:\n",
    "        for line in f:\n",
    "            if line.startswith(\"ATOM\"):\n",
    "                chain, cdr_id, res, *_ = read_pdb_line(line)\n",
    "                (resname, resnumb) = res\n",
    "                new = resname, chain, resnumb, cdr_id\n",
    "                if chain in chains and last != new:\n",
    "                    res = AA_CONVERTER[resname.capitalize()]\n",
    "                    prot_aas.append(resname)\n",
    "                last = new[:]\n",
    "    return prot_aas\n",
    "\n",
    "aas = []\n",
    "for idcode in buried_ab_ag_interface_res.idcode.unique():\n",
    "    pdb_path = f\"structures/raw/{idcode}.pdb\"\n",
    "    chains = protein_antigens.query(f'pdb == \"{idcode}\"')['antigen_chain'].unique()\n",
    "    prot_aas = get_sequence(pdb_path, chains)\n",
    "    aas.append(prot_aas)\n",
    "\n",
    "aa_dist(aas)"
   ]
  },
  {
   "cell_type": "code",
   "execution_count": 31,
   "metadata": {},
   "outputs": [],
   "source": [
    "def filter_res(residues):\n",
    "    res = set()\n",
    "    for chain, resnumb, resname, aname, cdrnumb in residues:\n",
    "        if aname.startswith('H'):\n",
    "            continue\n",
    "        res.add((chain, resnumb, resname))\n",
    "    return res\n",
    "\n",
    "def count_interchain(x):\n",
    "    ab_chains = protein_antigens.query(\n",
    "        f\"pdb == '{x['idcode']}' and {'L' if x['chain_type'] in 'LK' else 'H'}chain == '{x['chainID']}'\", engine = 'python')[['Hchain', 'Lchain']].values\n",
    "    assert len(ab_chains) == 1, print(ab_chains)\n",
    "    ab_chains = list(ab_chains[0])\n",
    "    \n",
    "    \n",
    "    cdrs = buried_fullab.query(\n",
    "        f'idcode == \"{x[\"idcode\"]}\" and chainID.isin({ab_chains})', engine = 'python')\n",
    "    assert len(cdrs) == 6, print(cdrs)\n",
    "    cdr1, cdr2, cdr3, cdr4, cdr5, cdr6 = [filter_res(i) for i in cdrs['ag_cdr_interface_res'].values]\n",
    "    \n",
    "    shared_cdr = []\n",
    "    all_cdrs = (cdr1, cdr2, cdr3, cdr4, cdr5, cdr6)\n",
    "    for (i, j) in itertools.combinations(range(len(all_cdrs)), 2):\n",
    "        if i == j:\n",
    "            continue\n",
    "        cdr_i = all_cdrs[i]\n",
    "        cdr_j = all_cdrs[j]\n",
    "        shared_cdrij = len(cdr_i.intersection(cdr_j))\n",
    "        shared_cdr.append(shared_cdrij)\n",
    "\n",
    "    ag_cdr_res = filter_res([ii for i in cdrs['ag_cdr_interface_res'].values for ii in i])\n",
    "    ag_chain_res = filter_res([ii for i in cdrs['ag_cdrchain_interface_res'].values for ii in i])\n",
    "    ag_res = filter_res([ii for i in cdrs['ag_ab_interface_res'].values for ii in i])\n",
    "    inter_chain = ag_res - ag_chain_res\n",
    "    inter_cdr = ag_chain_res - ag_cdr_res\n",
    "    \n",
    "    return (len(inter_chain), len(inter_cdr), len(ag_res), *shared_cdr)\n",
    "\n",
    "buried_ab_ag_interface_res[\"cdr_info\"] = buried_ab_ag_interface_res.apply(lambda x: count_interchain(x), axis=1)\n",
    "buried_ab_ag_interface_res[\"inter_chain\"], buried_ab_ag_interface_res[\"inter_cdr\"], buried_ab_ag_interface_res[\"ag_res\"], buried_ab_ag_interface_res[\"cdr_12\"], buried_ab_ag_interface_res[\"cdr_13\"], buried_ab_ag_interface_res[\"cdr_14\"], buried_ab_ag_interface_res[\"cdr_15\"], buried_ab_ag_interface_res[\"cdr_16\"], buried_ab_ag_interface_res[\"cdr_23\"], buried_ab_ag_interface_res[\"cdr_24\"], buried_ab_ag_interface_res[\"cdr_25\"], buried_ab_ag_interface_res[\"cdr_26\"], buried_ab_ag_interface_res[\"cdr_34\"], buried_ab_ag_interface_res[\"cdr_35\"], buried_ab_ag_interface_res[\"cdr_36\"], buried_ab_ag_interface_res[\"cdr_45\"], buried_ab_ag_interface_res[\"cdr_46\"], buried_ab_ag_interface_res[\"cdr_56\"] = zip(*buried_ab_ag_interface_res.cdr_info)"
   ]
  },
  {
   "cell_type": "code",
   "execution_count": 32,
   "metadata": {},
   "outputs": [
    {
     "name": "stdout",
     "output_type": "stream",
     "text": [
      "(array([774, 154,  16,   2]), array([-0.5,  0.5,  1.5,  2.5,  3.5]))\n",
      "(array([314, 272, 143,  99,  37,  16,  64]), array([-0.5,  0.5,  1.5,  2.5,  3.5,  4.5,  5.5, 26. ]))\n",
      "(array([  4,  31, 220, 309, 251,  90,  31,   6,   1,   2]), array([ 0.,  4.,  8., 12., 16., 20., 24., 28., 32., 36., 40.]))\n",
      "14.662790697674419\n",
      "0.3023255813953488\n"
     ]
    }
   ],
   "source": [
    "print(np.histogram(buried_ab_ag_interface_res['inter_chain'], bins=[-0.5, 0.5, 1.5, 2.5, 3.5]))\n",
    "print(np.histogram(buried_ab_ag_interface_res['inter_cdr'], bins=[-0.5, 0.5, 1.5, 2.5, 3.5, 4.5, 5.5, 26]))\n",
    "print(np.histogram(buried_ab_ag_interface_res['ag_res'], range=(0, 40), bins=10))\n",
    "\n",
    "print(buried_ab_ag_interface_res['ag_res'].mean())\n",
    "print(buried_ab_ag_interface_res['inter_cdr'].mean() / 6)"
   ]
  },
  {
   "cell_type": "code",
   "execution_count": 33,
   "metadata": {},
   "outputs": [
    {
     "name": "stdout",
     "output_type": "stream",
     "text": [
      "(array([768, 156,  21,   1,   0]), array([-0.5,  0.5,  1.5,  2.5,  3.5,  4.5])) 0.2124735729386892\n",
      "(array([734, 154,  52,   6,   0]), array([-0.5,  0.5,  1.5,  2.5,  3.5,  4.5])) 0.2917547568710359\n",
      "(array([943,   2,   1,   0,   0]), array([-0.5,  0.5,  1.5,  2.5,  3.5,  4.5])) 0.004228329809725159\n",
      "(array([941,   5,   0,   0,   0]), array([-0.5,  0.5,  1.5,  2.5,  3.5,  4.5])) 0.005285412262156448\n",
      "(array([943,   3,   0,   0,   0]), array([-0.5,  0.5,  1.5,  2.5,  3.5,  4.5])) 0.003171247357293869\n",
      "(array([728, 180,  34,   4,   0]), array([-0.5,  0.5,  1.5,  2.5,  3.5,  4.5])) 0.2748414376321353\n",
      "(array([943,   3,   0,   0,   0]), array([-0.5,  0.5,  1.5,  2.5,  3.5,  4.5])) 0.003171247357293869\n",
      "(array([943,   3,   0,   0,   0]), array([-0.5,  0.5,  1.5,  2.5,  3.5,  4.5])) 0.003171247357293869\n",
      "(array([896,  47,   3,   0,   0]), array([-0.5,  0.5,  1.5,  2.5,  3.5,  4.5])) 0.056025369978858354\n",
      "(array([663, 229,  52,   2,   0]), array([-0.5,  0.5,  1.5,  2.5,  3.5,  4.5])) 0.3583509513742072\n",
      "(array([822, 104,  17,   3,   0]), array([-0.5,  0.5,  1.5,  2.5,  3.5,  4.5])) 0.1553911205073996\n",
      "(array([636, 256,  46,   7,   1]), array([-0.5,  0.5,  1.5,  2.5,  3.5,  4.5])) 0.39429175475687106\n",
      "(array([856,  75,  14,   1,   0]), array([-0.5,  0.5,  1.5,  2.5,  3.5,  4.5])) 0.11205073995771671\n",
      "(array([698, 205,  41,   2,   0]), array([-0.5,  0.5,  1.5,  2.5,  3.5,  4.5])) 0.3097251585623679\n",
      "(array([856,  75,  14,   1,   0]), array([-0.5,  0.5,  1.5,  2.5,  3.5,  4.5])) 0.11205073995771671\n",
      "3 3 2 1 1 3 1 1 2 3 3 4 3 3 3\n"
     ]
    }
   ],
   "source": [
    "print(np.histogram(buried_ab_ag_interface_res['cdr_12'], bins=[-0.5, 0.5, 1.5, 2.5, 3.5, 4.5]), buried_ab_ag_interface_res['cdr_12'].mean())\n",
    "print(np.histogram(buried_ab_ag_interface_res['cdr_13'], bins=[-0.5, 0.5, 1.5, 2.5, 3.5, 4.5]), buried_ab_ag_interface_res['cdr_13'].mean())\n",
    "print(np.histogram(buried_ab_ag_interface_res['cdr_14'], bins=[-0.5, 0.5, 1.5, 2.5, 3.5, 4.5]), buried_ab_ag_interface_res['cdr_14'].mean())\n",
    "print(np.histogram(buried_ab_ag_interface_res['cdr_15'], bins=[-0.5, 0.5, 1.5, 2.5, 3.5, 4.5]), buried_ab_ag_interface_res['cdr_15'].mean())\n",
    "print(np.histogram(buried_ab_ag_interface_res['cdr_16'], bins=[-0.5, 0.5, 1.5, 2.5, 3.5, 4.5]), buried_ab_ag_interface_res['cdr_16'].mean())\n",
    "print(np.histogram(buried_ab_ag_interface_res['cdr_23'], bins=[-0.5, 0.5, 1.5, 2.5, 3.5, 4.5]), buried_ab_ag_interface_res['cdr_23'].mean())\n",
    "print(np.histogram(buried_ab_ag_interface_res['cdr_24'], bins=[-0.5, 0.5, 1.5, 2.5, 3.5, 4.5]), buried_ab_ag_interface_res['cdr_24'].mean())\n",
    "print(np.histogram(buried_ab_ag_interface_res['cdr_25'], bins=[-0.5, 0.5, 1.5, 2.5, 3.5, 4.5]), buried_ab_ag_interface_res['cdr_25'].mean())\n",
    "print(np.histogram(buried_ab_ag_interface_res['cdr_26'], bins=[-0.5, 0.5, 1.5, 2.5, 3.5, 4.5]), buried_ab_ag_interface_res['cdr_26'].mean())\n",
    "print(np.histogram(buried_ab_ag_interface_res['cdr_34'], bins=[-0.5, 0.5, 1.5, 2.5, 3.5, 4.5]), buried_ab_ag_interface_res['cdr_34'].mean())\n",
    "print(np.histogram(buried_ab_ag_interface_res['cdr_35'], bins=[-0.5, 0.5, 1.5, 2.5, 3.5, 4.5]), buried_ab_ag_interface_res['cdr_35'].mean())\n",
    "print(np.histogram(buried_ab_ag_interface_res['cdr_36'], bins=[-0.5, 0.5, 1.5, 2.5, 3.5, 4.5]), buried_ab_ag_interface_res['cdr_36'].mean())\n",
    "print(np.histogram(buried_ab_ag_interface_res['cdr_45'], bins=[-0.5, 0.5, 1.5, 2.5, 3.5, 4.5]), buried_ab_ag_interface_res['cdr_45'].mean())\n",
    "print(np.histogram(buried_ab_ag_interface_res['cdr_46'], bins=[-0.5, 0.5, 1.5, 2.5, 3.5, 4.5]), buried_ab_ag_interface_res['cdr_46'].mean())\n",
    "print(np.histogram(buried_ab_ag_interface_res['cdr_45'], bins=[-0.5, 0.5, 1.5, 2.5, 3.5, 4.5]), buried_ab_ag_interface_res['cdr_45'].mean())\n",
    "\n",
    "print(max(buried_ab_ag_interface_res['cdr_12']), max(buried_ab_ag_interface_res['cdr_13']), max(buried_ab_ag_interface_res['cdr_14']), max(buried_ab_ag_interface_res['cdr_15']), max(buried_ab_ag_interface_res['cdr_16']), max(buried_ab_ag_interface_res['cdr_23']), max(buried_ab_ag_interface_res['cdr_24']), max(buried_ab_ag_interface_res['cdr_25']), max(buried_ab_ag_interface_res['cdr_26']), max(buried_ab_ag_interface_res['cdr_34']), max(buried_ab_ag_interface_res['cdr_35']), max(buried_ab_ag_interface_res['cdr_36']), max(buried_ab_ag_interface_res['cdr_45']), max(buried_ab_ag_interface_res['cdr_46']), max(buried_ab_ag_interface_res['cdr_45']))"
   ]
  },
  {
   "cell_type": "code",
   "execution_count": 34,
   "metadata": {},
   "outputs": [
    {
     "data": {
      "application/vnd.plotly.v1+json": {
       "config": {
        "plotlyServerURL": "https://plot.ly"
       },
       "data": [
        {
         "colorscale": [
          [
           0,
           "white"
          ],
          [
           1,
           "black"
          ]
         ],
         "type": "heatmap",
         "x": [
          "H CDR 1",
          "H CDR 2",
          "H CDR 3",
          "L CDR 1",
          "L CDR 2",
          "L CDR 3"
         ],
         "y": [
          "H CDR 1",
          "H CDR 2",
          "H CDR 3",
          "L CDR 1",
          "L CDR 2",
          "L CDR 3"
         ],
         "z": [
          [
           null,
           0.2124735729386892,
           0.2917547568710359,
           0.004228329809725159,
           0.005285412262156448,
           0.003171247357293869
          ],
          [
           0.2124735729386892,
           null,
           0.2748414376321353,
           0.003171247357293869,
           0.003171247357293869,
           0.056025369978858354
          ],
          [
           0.2917547568710359,
           0.2748414376321353,
           null,
           0.3583509513742072,
           0.1553911205073996,
           0.39429175475687106
          ],
          [
           0.004228329809725159,
           0.003171247357293869,
           0.3583509513742072,
           null,
           0.11205073995771671,
           0.3097251585623679
          ],
          [
           0.005285412262156448,
           0.003171247357293869,
           0.1553911205073996,
           0.11205073995771671,
           null,
           0.013742071881606765
          ],
          [
           0.003171247357293869,
           0.056025369978858354,
           0.39429175475687106,
           0.3097251585623679,
           0.013742071881606765,
           null
          ]
         ]
        }
       ],
       "layout": {
        "template": {
         "data": {
          "bar": [
           {
            "error_x": {
             "color": "#2a3f5f"
            },
            "error_y": {
             "color": "#2a3f5f"
            },
            "marker": {
             "line": {
              "color": "#E5ECF6",
              "width": 0.5
             },
             "pattern": {
              "fillmode": "overlay",
              "size": 10,
              "solidity": 0.2
             }
            },
            "type": "bar"
           }
          ],
          "barpolar": [
           {
            "marker": {
             "line": {
              "color": "#E5ECF6",
              "width": 0.5
             },
             "pattern": {
              "fillmode": "overlay",
              "size": 10,
              "solidity": 0.2
             }
            },
            "type": "barpolar"
           }
          ],
          "carpet": [
           {
            "aaxis": {
             "endlinecolor": "#2a3f5f",
             "gridcolor": "white",
             "linecolor": "white",
             "minorgridcolor": "white",
             "startlinecolor": "#2a3f5f"
            },
            "baxis": {
             "endlinecolor": "#2a3f5f",
             "gridcolor": "white",
             "linecolor": "white",
             "minorgridcolor": "white",
             "startlinecolor": "#2a3f5f"
            },
            "type": "carpet"
           }
          ],
          "choropleth": [
           {
            "colorbar": {
             "outlinewidth": 0,
             "ticks": ""
            },
            "type": "choropleth"
           }
          ],
          "contour": [
           {
            "colorbar": {
             "outlinewidth": 0,
             "ticks": ""
            },
            "colorscale": [
             [
              0,
              "#0d0887"
             ],
             [
              0.1111111111111111,
              "#46039f"
             ],
             [
              0.2222222222222222,
              "#7201a8"
             ],
             [
              0.3333333333333333,
              "#9c179e"
             ],
             [
              0.4444444444444444,
              "#bd3786"
             ],
             [
              0.5555555555555556,
              "#d8576b"
             ],
             [
              0.6666666666666666,
              "#ed7953"
             ],
             [
              0.7777777777777778,
              "#fb9f3a"
             ],
             [
              0.8888888888888888,
              "#fdca26"
             ],
             [
              1,
              "#f0f921"
             ]
            ],
            "type": "contour"
           }
          ],
          "contourcarpet": [
           {
            "colorbar": {
             "outlinewidth": 0,
             "ticks": ""
            },
            "type": "contourcarpet"
           }
          ],
          "heatmap": [
           {
            "colorbar": {
             "outlinewidth": 0,
             "ticks": ""
            },
            "colorscale": [
             [
              0,
              "#0d0887"
             ],
             [
              0.1111111111111111,
              "#46039f"
             ],
             [
              0.2222222222222222,
              "#7201a8"
             ],
             [
              0.3333333333333333,
              "#9c179e"
             ],
             [
              0.4444444444444444,
              "#bd3786"
             ],
             [
              0.5555555555555556,
              "#d8576b"
             ],
             [
              0.6666666666666666,
              "#ed7953"
             ],
             [
              0.7777777777777778,
              "#fb9f3a"
             ],
             [
              0.8888888888888888,
              "#fdca26"
             ],
             [
              1,
              "#f0f921"
             ]
            ],
            "type": "heatmap"
           }
          ],
          "heatmapgl": [
           {
            "colorbar": {
             "outlinewidth": 0,
             "ticks": ""
            },
            "colorscale": [
             [
              0,
              "#0d0887"
             ],
             [
              0.1111111111111111,
              "#46039f"
             ],
             [
              0.2222222222222222,
              "#7201a8"
             ],
             [
              0.3333333333333333,
              "#9c179e"
             ],
             [
              0.4444444444444444,
              "#bd3786"
             ],
             [
              0.5555555555555556,
              "#d8576b"
             ],
             [
              0.6666666666666666,
              "#ed7953"
             ],
             [
              0.7777777777777778,
              "#fb9f3a"
             ],
             [
              0.8888888888888888,
              "#fdca26"
             ],
             [
              1,
              "#f0f921"
             ]
            ],
            "type": "heatmapgl"
           }
          ],
          "histogram": [
           {
            "marker": {
             "pattern": {
              "fillmode": "overlay",
              "size": 10,
              "solidity": 0.2
             }
            },
            "type": "histogram"
           }
          ],
          "histogram2d": [
           {
            "colorbar": {
             "outlinewidth": 0,
             "ticks": ""
            },
            "colorscale": [
             [
              0,
              "#0d0887"
             ],
             [
              0.1111111111111111,
              "#46039f"
             ],
             [
              0.2222222222222222,
              "#7201a8"
             ],
             [
              0.3333333333333333,
              "#9c179e"
             ],
             [
              0.4444444444444444,
              "#bd3786"
             ],
             [
              0.5555555555555556,
              "#d8576b"
             ],
             [
              0.6666666666666666,
              "#ed7953"
             ],
             [
              0.7777777777777778,
              "#fb9f3a"
             ],
             [
              0.8888888888888888,
              "#fdca26"
             ],
             [
              1,
              "#f0f921"
             ]
            ],
            "type": "histogram2d"
           }
          ],
          "histogram2dcontour": [
           {
            "colorbar": {
             "outlinewidth": 0,
             "ticks": ""
            },
            "colorscale": [
             [
              0,
              "#0d0887"
             ],
             [
              0.1111111111111111,
              "#46039f"
             ],
             [
              0.2222222222222222,
              "#7201a8"
             ],
             [
              0.3333333333333333,
              "#9c179e"
             ],
             [
              0.4444444444444444,
              "#bd3786"
             ],
             [
              0.5555555555555556,
              "#d8576b"
             ],
             [
              0.6666666666666666,
              "#ed7953"
             ],
             [
              0.7777777777777778,
              "#fb9f3a"
             ],
             [
              0.8888888888888888,
              "#fdca26"
             ],
             [
              1,
              "#f0f921"
             ]
            ],
            "type": "histogram2dcontour"
           }
          ],
          "mesh3d": [
           {
            "colorbar": {
             "outlinewidth": 0,
             "ticks": ""
            },
            "type": "mesh3d"
           }
          ],
          "parcoords": [
           {
            "line": {
             "colorbar": {
              "outlinewidth": 0,
              "ticks": ""
             }
            },
            "type": "parcoords"
           }
          ],
          "pie": [
           {
            "automargin": true,
            "type": "pie"
           }
          ],
          "scatter": [
           {
            "marker": {
             "colorbar": {
              "outlinewidth": 0,
              "ticks": ""
             }
            },
            "type": "scatter"
           }
          ],
          "scatter3d": [
           {
            "line": {
             "colorbar": {
              "outlinewidth": 0,
              "ticks": ""
             }
            },
            "marker": {
             "colorbar": {
              "outlinewidth": 0,
              "ticks": ""
             }
            },
            "type": "scatter3d"
           }
          ],
          "scattercarpet": [
           {
            "marker": {
             "colorbar": {
              "outlinewidth": 0,
              "ticks": ""
             }
            },
            "type": "scattercarpet"
           }
          ],
          "scattergeo": [
           {
            "marker": {
             "colorbar": {
              "outlinewidth": 0,
              "ticks": ""
             }
            },
            "type": "scattergeo"
           }
          ],
          "scattergl": [
           {
            "marker": {
             "colorbar": {
              "outlinewidth": 0,
              "ticks": ""
             }
            },
            "type": "scattergl"
           }
          ],
          "scattermapbox": [
           {
            "marker": {
             "colorbar": {
              "outlinewidth": 0,
              "ticks": ""
             }
            },
            "type": "scattermapbox"
           }
          ],
          "scatterpolar": [
           {
            "marker": {
             "colorbar": {
              "outlinewidth": 0,
              "ticks": ""
             }
            },
            "type": "scatterpolar"
           }
          ],
          "scatterpolargl": [
           {
            "marker": {
             "colorbar": {
              "outlinewidth": 0,
              "ticks": ""
             }
            },
            "type": "scatterpolargl"
           }
          ],
          "scatterternary": [
           {
            "marker": {
             "colorbar": {
              "outlinewidth": 0,
              "ticks": ""
             }
            },
            "type": "scatterternary"
           }
          ],
          "surface": [
           {
            "colorbar": {
             "outlinewidth": 0,
             "ticks": ""
            },
            "colorscale": [
             [
              0,
              "#0d0887"
             ],
             [
              0.1111111111111111,
              "#46039f"
             ],
             [
              0.2222222222222222,
              "#7201a8"
             ],
             [
              0.3333333333333333,
              "#9c179e"
             ],
             [
              0.4444444444444444,
              "#bd3786"
             ],
             [
              0.5555555555555556,
              "#d8576b"
             ],
             [
              0.6666666666666666,
              "#ed7953"
             ],
             [
              0.7777777777777778,
              "#fb9f3a"
             ],
             [
              0.8888888888888888,
              "#fdca26"
             ],
             [
              1,
              "#f0f921"
             ]
            ],
            "type": "surface"
           }
          ],
          "table": [
           {
            "cells": {
             "fill": {
              "color": "#EBF0F8"
             },
             "line": {
              "color": "white"
             }
            },
            "header": {
             "fill": {
              "color": "#C8D4E3"
             },
             "line": {
              "color": "white"
             }
            },
            "type": "table"
           }
          ]
         },
         "layout": {
          "annotationdefaults": {
           "arrowcolor": "#2a3f5f",
           "arrowhead": 0,
           "arrowwidth": 1
          },
          "autotypenumbers": "strict",
          "coloraxis": {
           "colorbar": {
            "outlinewidth": 0,
            "ticks": ""
           }
          },
          "colorscale": {
           "diverging": [
            [
             0,
             "#8e0152"
            ],
            [
             0.1,
             "#c51b7d"
            ],
            [
             0.2,
             "#de77ae"
            ],
            [
             0.3,
             "#f1b6da"
            ],
            [
             0.4,
             "#fde0ef"
            ],
            [
             0.5,
             "#f7f7f7"
            ],
            [
             0.6,
             "#e6f5d0"
            ],
            [
             0.7,
             "#b8e186"
            ],
            [
             0.8,
             "#7fbc41"
            ],
            [
             0.9,
             "#4d9221"
            ],
            [
             1,
             "#276419"
            ]
           ],
           "sequential": [
            [
             0,
             "#0d0887"
            ],
            [
             0.1111111111111111,
             "#46039f"
            ],
            [
             0.2222222222222222,
             "#7201a8"
            ],
            [
             0.3333333333333333,
             "#9c179e"
            ],
            [
             0.4444444444444444,
             "#bd3786"
            ],
            [
             0.5555555555555556,
             "#d8576b"
            ],
            [
             0.6666666666666666,
             "#ed7953"
            ],
            [
             0.7777777777777778,
             "#fb9f3a"
            ],
            [
             0.8888888888888888,
             "#fdca26"
            ],
            [
             1,
             "#f0f921"
            ]
           ],
           "sequentialminus": [
            [
             0,
             "#0d0887"
            ],
            [
             0.1111111111111111,
             "#46039f"
            ],
            [
             0.2222222222222222,
             "#7201a8"
            ],
            [
             0.3333333333333333,
             "#9c179e"
            ],
            [
             0.4444444444444444,
             "#bd3786"
            ],
            [
             0.5555555555555556,
             "#d8576b"
            ],
            [
             0.6666666666666666,
             "#ed7953"
            ],
            [
             0.7777777777777778,
             "#fb9f3a"
            ],
            [
             0.8888888888888888,
             "#fdca26"
            ],
            [
             1,
             "#f0f921"
            ]
           ]
          },
          "colorway": [
           "#636efa",
           "#EF553B",
           "#00cc96",
           "#ab63fa",
           "#FFA15A",
           "#19d3f3",
           "#FF6692",
           "#B6E880",
           "#FF97FF",
           "#FECB52"
          ],
          "font": {
           "color": "#2a3f5f"
          },
          "geo": {
           "bgcolor": "white",
           "lakecolor": "white",
           "landcolor": "#E5ECF6",
           "showlakes": true,
           "showland": true,
           "subunitcolor": "white"
          },
          "hoverlabel": {
           "align": "left"
          },
          "hovermode": "closest",
          "mapbox": {
           "style": "light"
          },
          "paper_bgcolor": "white",
          "plot_bgcolor": "#E5ECF6",
          "polar": {
           "angularaxis": {
            "gridcolor": "white",
            "linecolor": "white",
            "ticks": ""
           },
           "bgcolor": "#E5ECF6",
           "radialaxis": {
            "gridcolor": "white",
            "linecolor": "white",
            "ticks": ""
           }
          },
          "scene": {
           "xaxis": {
            "backgroundcolor": "#E5ECF6",
            "gridcolor": "white",
            "gridwidth": 2,
            "linecolor": "white",
            "showbackground": true,
            "ticks": "",
            "zerolinecolor": "white"
           },
           "yaxis": {
            "backgroundcolor": "#E5ECF6",
            "gridcolor": "white",
            "gridwidth": 2,
            "linecolor": "white",
            "showbackground": true,
            "ticks": "",
            "zerolinecolor": "white"
           },
           "zaxis": {
            "backgroundcolor": "#E5ECF6",
            "gridcolor": "white",
            "gridwidth": 2,
            "linecolor": "white",
            "showbackground": true,
            "ticks": "",
            "zerolinecolor": "white"
           }
          },
          "shapedefaults": {
           "line": {
            "color": "#2a3f5f"
           }
          },
          "ternary": {
           "aaxis": {
            "gridcolor": "white",
            "linecolor": "white",
            "ticks": ""
           },
           "baxis": {
            "gridcolor": "white",
            "linecolor": "white",
            "ticks": ""
           },
           "bgcolor": "#E5ECF6",
           "caxis": {
            "gridcolor": "white",
            "linecolor": "white",
            "ticks": ""
           }
          },
          "title": {
           "x": 0.05
          },
          "xaxis": {
           "automargin": true,
           "gridcolor": "white",
           "linecolor": "white",
           "ticks": "",
           "title": {
            "standoff": 15
           },
           "zerolinecolor": "white",
           "zerolinewidth": 2
          },
          "yaxis": {
           "automargin": true,
           "gridcolor": "white",
           "linecolor": "white",
           "ticks": "",
           "title": {
            "standoff": 15
           },
           "zerolinecolor": "white",
           "zerolinewidth": 2
          }
         }
        }
       }
      }
     },
     "metadata": {},
     "output_type": "display_data"
    }
   ],
   "source": [
    "z = [\n",
    "    [None, buried_ab_ag_interface_res['cdr_12'].mean(),buried_ab_ag_interface_res['cdr_13'].mean(),buried_ab_ag_interface_res['cdr_14'].mean(),buried_ab_ag_interface_res['cdr_15'].mean(),buried_ab_ag_interface_res['cdr_16'].mean()],\n",
    "    [buried_ab_ag_interface_res['cdr_12'].mean(),None,buried_ab_ag_interface_res['cdr_23'].mean(),buried_ab_ag_interface_res['cdr_24'].mean(),buried_ab_ag_interface_res['cdr_25'].mean(),buried_ab_ag_interface_res['cdr_26'].mean()],\n",
    "    [buried_ab_ag_interface_res['cdr_13'].mean(),buried_ab_ag_interface_res['cdr_23'].mean(),None,buried_ab_ag_interface_res['cdr_34'].mean(),buried_ab_ag_interface_res['cdr_35'].mean(),buried_ab_ag_interface_res['cdr_36'].mean()],\n",
    "    [buried_ab_ag_interface_res['cdr_14'].mean(),buried_ab_ag_interface_res['cdr_24'].mean(),buried_ab_ag_interface_res['cdr_34'].mean(),None,buried_ab_ag_interface_res['cdr_45'].mean(),buried_ab_ag_interface_res['cdr_46'].mean()],\n",
    "    [buried_ab_ag_interface_res['cdr_15'].mean(),buried_ab_ag_interface_res['cdr_25'].mean(),buried_ab_ag_interface_res['cdr_35'].mean(),buried_ab_ag_interface_res['cdr_45'].mean(),None,buried_ab_ag_interface_res['cdr_56'].mean()],\n",
    "    [buried_ab_ag_interface_res['cdr_16'].mean(),buried_ab_ag_interface_res['cdr_26'].mean(),buried_ab_ag_interface_res['cdr_36'].mean(),buried_ab_ag_interface_res['cdr_46'].mean(),buried_ab_ag_interface_res['cdr_56'].mean(),None],\n",
    "]\n",
    "\n",
    "fig = go.Figure(data=go.Heatmap(colorscale=('white', 'black'), z=z, x=['H CDR 1', 'H CDR 2', 'H CDR 3', 'L CDR 1', 'L CDR 2', 'L CDR 3'], y=['H CDR 1', 'H CDR 2', 'H CDR 3', 'L CDR 1', 'L CDR 2', 'L CDR 3']))\n",
    "fig.show()"
   ]
  },
  {
   "cell_type": "code",
   "execution_count": 35,
   "metadata": {},
   "outputs": [
    {
     "name": "stdout",
     "output_type": "stream",
     "text": [
      "(array([ 7, 20, 53, 55, 48, 29, 13,  9,  3,  1]), array([ 0.,  4.,  8., 12., 16., 20., 24., 28., 32., 36., 40.]))\n",
      "14.974789915966387 238\n",
      "(array([ 1,  9, 46, 65, 50, 42, 13,  4,  6,  2]), array([  0.,  28.,  56.,  84., 112., 140., 168., 196., 224., 252., 280.]))\n",
      "116.8109243697479 238\n"
     ]
    }
   ],
   "source": [
    "clean_idcodes = set(buried_ab_ag_interface_res.idcode.values)\n",
    "hbonds = []\n",
    "wms = []\n",
    "for (idcode, ab_h_chain, ab_l_chain, ag_chain, interactions) in df_interactions:\n",
    "    if idcode not in clean_idcodes:\n",
    "        continue\n",
    "    _, _ , _, _, _, _, hhbonds, lhbonds, hwm, lwm = interactions\n",
    "    i_hbonds = len(hhbonds) + len(lhbonds)\n",
    "    hbonds.append(i_hbonds)\n",
    "\n",
    "    i_wms = len(hwm) + len(lwm)\n",
    "    wms.append(i_wms)\n",
    "\n",
    "print(np.histogram(hbonds, range=(0, 40), bins=10))\n",
    "print(sum(hbonds) / len(hbonds), len(hbonds))\n",
    "\n",
    "print(np.histogram(wms, range=(0, 280), bins=10))\n",
    "print(sum(wms) / len(wms), len(wms))\n"
   ]
  },
  {
   "cell_type": "code",
   "execution_count": 36,
   "metadata": {},
   "outputs": [],
   "source": [
    "def count_linear_seqs(x, tolerance):\n",
    "    ab_chains = protein_antigens.query(\n",
    "        f\"pdb == '{x['idcode']}' and {'L' if x['chain_type'] in 'LK' else 'H'}chain == '{x['chainID']}'\")[['Hchain', 'Lchain']].values\n",
    "    assert len(ab_chains) == 1, print(ab_chains)\n",
    "    ab_chains = list(ab_chains[0])\n",
    "    \n",
    "    cdr_epitope = buried_fullab.query(\n",
    "        f'idcode == \"{x[\"idcode\"]}\"')['ag_ab_interface_res'].values[0]\n",
    "    \n",
    "    epitope = {}\n",
    "    for atom in cdr_epitope:\n",
    "        chain, resnumb, resname, aname, _ = atom\n",
    "        if aname.startswith('H'):\n",
    "            continue\n",
    "        if chain not in epitope:\n",
    "            epitope[chain] = []\n",
    "        epitope[chain].append(resnumb)\n",
    "\n",
    "    seq_lens = []\n",
    "    for chain, res in epitope.items():\n",
    "        n_seqs = 0\n",
    "        prev = None\n",
    "        ep_seq = 0\n",
    "        res = sorted(set(res))\n",
    "        for i, resnumb in enumerate(res):\n",
    "            if prev and (resnumb != prev + 1 and resnumb > prev + 1 + tolerance):\n",
    "                seq_lens.append(ep_seq)\n",
    "                ep_seq = 0\n",
    "            prev = resnumb\n",
    "            ep_seq += 1\n",
    "        seq_lens.append(ep_seq)\n",
    "    \n",
    "    return seq_lens\n",
    "\n",
    "buried_ab_ag_interface_res[\"epi_seq_len_0\"] = buried_ab_ag_interface_res.apply(lambda x: count_linear_seqs(x, 0), axis=1)\n",
    "buried_ab_ag_interface_res[\"epi_seq_len_1\"] = buried_ab_ag_interface_res.apply(lambda x: count_linear_seqs(x, 1), axis=1)\n",
    "buried_ab_ag_interface_res[\"epi_seq_len_3\"] = buried_ab_ag_interface_res.apply(lambda x: count_linear_seqs(x, 3), axis=1)\n"
   ]
  },
  {
   "cell_type": "code",
   "execution_count": 37,
   "metadata": {},
   "outputs": [
    {
     "name": "stdout",
     "output_type": "stream",
     "text": [
      "(array([3892, 2160,  630,  204,   86,   13,    1,    0,    0,    0]), array([ 0.,  2.,  4.,  6.,  8., 10., 12., 14., 16., 18., 20.]))\n",
      "(array([ 25, 233, 393, 203,  80,   8,   3,   0,   1,   0]), array([ 0.,  3.,  6.,  9., 12., 15., 18., 21., 24., 27., 30.]))\n",
      "(array([1990, 1591,  776,  399,  150,   51,   14,    5,    0,    0]), array([ 0.,  2.,  4.,  6.,  8., 10., 12., 14., 16., 18., 20.]))\n",
      "(array([ 68, 511, 276,  83,   6,   2,   0,   0,   0,   0]), array([ 0.,  3.,  6.,  9., 12., 15., 18., 21., 24., 27., 30.]))\n",
      "(array([ 926, 1151,  759,  445,  225,   99,   46,   15,    6,    1]), array([ 0.,  2.,  4.,  6.,  8., 10., 12., 14., 16., 18., 20.]))\n",
      "(array([193, 609, 129,  13,   2,   0,   0,   0,   0,   0]), array([ 0.,  3.,  6.,  9., 12., 15., 18., 21., 24., 27., 30.]))\n"
     ]
    }
   ],
   "source": [
    "all_epi_seqs, epi_seqs_per_ab = [], []\n",
    "for epi_seqs in buried_ab_ag_interface_res[\"epi_seq_len_0\"]:\n",
    "    all_epi_seqs += epi_seqs\n",
    "    epi_seqs_per_ab.append(len(epi_seqs))\n",
    "\n",
    "print(np.histogram(all_epi_seqs, bins=10, range=(0, 20)))\n",
    "print(np.histogram(epi_seqs_per_ab, bins=10, range=(0, 30)))\n",
    "\n",
    "all_epi_seqs, epi_seqs_per_ab = [], []\n",
    "for epi_seqs in buried_ab_ag_interface_res[\"epi_seq_len_1\"]:\n",
    "    all_epi_seqs += epi_seqs\n",
    "    epi_seqs_per_ab.append(len(epi_seqs))\n",
    "\n",
    "print(np.histogram(all_epi_seqs, bins=10, range=(0, 20)))\n",
    "print(np.histogram(epi_seqs_per_ab, bins=10, range=(0, 30)))\n",
    "\n",
    "all_epi_seqs, epi_seqs_per_ab = [], []\n",
    "for epi_seqs in buried_ab_ag_interface_res[\"epi_seq_len_3\"]:\n",
    "    all_epi_seqs += epi_seqs\n",
    "    epi_seqs_per_ab.append(len(epi_seqs))\n",
    "\n",
    "print(np.histogram(all_epi_seqs, bins=10, range=(0, 20)))\n",
    "print(np.histogram(epi_seqs_per_ab, bins=10, range=(0, 30)))\n"
   ]
  },
  {
   "cell_type": "code",
   "execution_count": 38,
   "metadata": {},
   "outputs": [],
   "source": [
    "def count_atomtypes(x):\n",
    "    ab_chains = protein_antigens.query(\n",
    "        f\"pdb == '{x['idcode']}' and {'L' if x['chain_type'] in 'LK' else 'H'}chain == '{x['chainID']}'\", engine = 'python')[['Hchain', 'Lchain']].values\n",
    "    assert len(ab_chains) == 1, print(ab_chains)\n",
    "    ab_chains = list(ab_chains[0])\n",
    "    \n",
    "    epitope = buried_fullab.query(\n",
    "        f'idcode == \"{x[\"idcode\"]}\" and chainID.isin({ab_chains})', engine = 'python')['ag_ab_interface_res'].values[0]\n",
    "    \n",
    "    ag_atom_dist = {}\n",
    "    \n",
    "    for atom in epitope:\n",
    "        chain, resnumb, resname, aname, _ = atom\n",
    "        if aname.startswith('H'):\n",
    "            continue\n",
    "        if aname[0] not in ag_atom_dist:\n",
    "            ag_atom_dist[aname[0]] = 0\n",
    "        ag_atom_dist[aname[0]] += 1\n",
    "    \n",
    "    return ag_atom_dist\n",
    "\n",
    "buried_ab_ag_interface_res['atom_hist'] = buried_ab_ag_interface_res.apply(lambda x: count_atomtypes(x), axis=1)"
   ]
  },
  {
   "cell_type": "code",
   "execution_count": 39,
   "metadata": {},
   "outputs": [],
   "source": [
    "atom_hist = {'N': [], 'C': [], 'O': [], 'S': []}\n",
    "for atoms in buried_ab_ag_interface_res['atom_hist']:\n",
    "    for atom, count in atoms.items():\n",
    "        atom_hist[atom].append(count)"
   ]
  },
  {
   "cell_type": "code",
   "execution_count": 40,
   "metadata": {},
   "outputs": [
    {
     "name": "stdout",
     "output_type": "stream",
     "text": [
      "(array([  5,  30, 117, 230, 271, 169,  84,  28,   7,   4]), array([ 0.,  5., 10., 15., 20., 25., 30., 35., 40., 45., 50.]))\n"
     ]
    }
   ],
   "source": [
    "print(np.histogram(atom_hist['C'], range=(0, 50), bins=10))"
   ]
  },
  {
   "cell_type": "markdown",
   "metadata": {},
   "source": [
    "----------"
   ]
  },
  {
   "cell_type": "code",
   "execution_count": null,
   "metadata": {},
   "outputs": [],
   "source": [
    "import mdtraj as md\n",
    "casa_dir = Path(\"/home/pbarletta/labo/22/AbAgInterface\")"
   ]
  },
  {
   "cell_type": "code",
   "execution_count": 181,
   "metadata": {},
   "outputs": [
    {
     "data": {
      "text/plain": [
       "idcode                                                                    4ydk\n",
       "chainID                                                                      H\n",
       "chain_type                                                                   H\n",
       "cdr                                                                          3\n",
       "cdr_seq                                                   VTFYHEGSGYYYRAGNYFDS\n",
       "cdr_begin                                                                   95\n",
       "cdr_end                                                                    102\n",
       "cdr_atoms                    [6701, 6702, 6703, 6704, 6705, 6706, 6707, 670...\n",
       "epitope_atoms                [950, 2128, 2133, 2134, 2135, 2414, 2483, 2484...\n",
       "epitope_residues             [105, 257, 257, 257, 257, 275, 280, 280, 280, ...\n",
       "ag_ab_interface              {3584, 3592, 3593, 3596, 3597, 3599, 3600, 360...\n",
       "ag_cdrchain_interface        {3584, 4738, 3582, 4742, 4358, 3592, 3593, 436...\n",
       "ag_cdr_interface             {3584, 4738, 4742, 4358, 3592, 3593, 4745, 474...\n",
       "ab_ag_interface              {6323, 6338, 6851, 6853, 6855, 6857, 6859, 686...\n",
       "ag_ab_interface_res          [(G, 370, GLU, HG2, 3), (G, 371, ILE, CG2, 3),...\n",
       "ag_cdrchain_interface_res    [(G, 370, GLU, HG2, 3), (G, 455, THR, HB, 3), ...\n",
       "ag_cdr_interface_res         [(G, 370, GLU, HG2, 3), (G, 455, THR, HB, 3), ...\n",
       "ab_ag_interface_res          [(H, 71, ARG, N, 3), (H, 71, ARG, HG2, 3), (H,...\n",
       "Name: 10763, dtype: object"
      ]
     },
     "execution_count": 181,
     "metadata": {},
     "output_type": "execute_result"
    }
   ],
   "source": [
    "buried_fullab.iloc[4805]"
   ]
  },
  {
   "cell_type": "code",
   "execution_count": 448,
   "metadata": {},
   "outputs": [],
   "source": [
    "pdb_filename = Path.joinpath(casa_dir, \"tempo\", buried_fullab.iloc[4805].idcode + \".pdb\")\n",
    "trj_in = md.load(pdb_filename)\n",
    "serial_to_id = {}\n",
    "for atomo in trj_in.topology.atoms:\n",
    "    serial_to_id[atomo.serial] = atomo.index\n",
    "\n",
    "ids_epitope_atoms = []\n",
    "elementos_epitope_atoms = []\n",
    "for id in buried_fullab.iloc[4805].epitope_atoms:\n",
    "    elemento = trj_in.topology.atom(serial_to_id[id]).element.symbol\n",
    "    if elemento != 'H':\n",
    "        ids_epitope_atoms.append(serial_to_id[id])\n",
    "        elementos_epitope_atoms.append(elemento)\n",
    "ids_cdr_atoms = []\n",
    "elementos_cdr_atoms = []\n",
    "for id in buried_fullab.iloc[4805].cdr_atoms:\n",
    "    elemento = trj_in.topology.atom(serial_to_id[id]).element.symbol\n",
    "    if elemento != 'H':\n",
    "        ids_cdr_atoms.append(serial_to_id[id])\n",
    "        elementos_cdr_atoms.append(elemento)\n",
    "\n",
    "ids_all_pairs = np.array(list(itertools.product(ids_cdr_atoms, ids_epitope_atoms)))\n",
    "elementos_all_pairs = np.array(list(itertools.product(elementos_cdr_atoms,\n",
    "    elementos_epitope_atoms)))\n",
    "\n",
    "distancias = md.compute_distances(trj_in, ids_all_pairs).reshape((len(ids_cdr_atoms), len(ids_epitope_atoms)))"
   ]
  },
  {
   "cell_type": "code",
   "execution_count": 419,
   "metadata": {},
   "outputs": [
    {
     "data": {
      "text/plain": [
       "array([0.39248687, 0.37735313, 0.38968605, 0.3754475 , 0.38218588,\n",
       "       0.35952342, 0.3839783 , 0.3733516 , 0.38643512, 0.35887206,\n",
       "       0.38658956, 0.33757603, 0.3927317 , 0.39385   , 0.36813802,\n",
       "       0.37953225, 0.387109  , 0.37213486, 0.36197805, 0.33804545,\n",
       "       0.35399514, 0.38675603, 0.39775527, 0.36955428, 0.3806687 ,\n",
       "       0.39368492, 0.35291353, 0.3768543 , 0.3686144 , 0.37549788,\n",
       "       0.37686017, 0.36656833, 0.36433494], dtype=float32)"
      ]
     },
     "execution_count": 419,
     "metadata": {},
     "output_type": "execute_result"
    }
   ],
   "source": [
    "cutoff = 0.4\n",
    "cc_indices = np.array([ i for i, (epi, cdr) in enumerate(elementos_all_pairs) if (epi == 'C' and cdr == 'C') ])\n",
    "\n",
    "mask_contacto = distancias[0][cc_indices] < cutoff\n",
    "distancias[0][cc_indices][mask_contacto]        "
   ]
  },
  {
   "cell_type": "code",
   "execution_count": 371,
   "metadata": {},
   "outputs": [
    {
     "name": "stdout",
     "output_type": "stream",
     "text": [
      "cmd.show(\"spheres\", \"id 6753\")\n",
      "cmd.show(\"spheres\", \"id 2497\")\n",
      "cmd.show(\"spheres\", \"id 6753\")\n",
      "cmd.show(\"spheres\", \"id 2500\")\n",
      "cmd.show(\"spheres\", \"id 6773\")\n",
      "cmd.show(\"spheres\", \"id 2497\")\n",
      "cmd.show(\"spheres\", \"id 6773\")\n",
      "cmd.show(\"spheres\", \"id 2498\")\n",
      "cmd.show(\"spheres\", \"id 6773\")\n",
      "cmd.show(\"spheres\", \"id 2500\")\n",
      "cmd.show(\"spheres\", \"id 6774\")\n",
      "cmd.show(\"spheres\", \"id 2497\")\n",
      "cmd.show(\"spheres\", \"id 6774\")\n",
      "cmd.show(\"spheres\", \"id 2498\")\n",
      "cmd.show(\"spheres\", \"id 6776\")\n",
      "cmd.show(\"spheres\", \"id 2497\")\n",
      "cmd.show(\"spheres\", \"id 6776\")\n",
      "cmd.show(\"spheres\", \"id 2498\")\n",
      "cmd.show(\"spheres\", \"id 6776\")\n",
      "cmd.show(\"spheres\", \"id 4653\")\n",
      "cmd.show(\"spheres\", \"id 6776\")\n",
      "cmd.show(\"spheres\", \"id 4655\")\n",
      "cmd.show(\"spheres\", \"id 6777\")\n",
      "cmd.show(\"spheres\", \"id 2497\")\n",
      "cmd.show(\"spheres\", \"id 6777\")\n",
      "cmd.show(\"spheres\", \"id 4653\")\n",
      "cmd.show(\"spheres\", \"id 6777\")\n",
      "cmd.show(\"spheres\", \"id 4655\")\n",
      "cmd.show(\"spheres\", \"id 6779\")\n",
      "cmd.show(\"spheres\", \"id 2484\")\n",
      "cmd.show(\"spheres\", \"id 6779\")\n",
      "cmd.show(\"spheres\", \"id 2487\")\n",
      "cmd.show(\"spheres\", \"id 6779\")\n",
      "cmd.show(\"spheres\", \"id 2497\")\n",
      "cmd.show(\"spheres\", \"id 6779\")\n",
      "cmd.show(\"spheres\", \"id 2498\")\n",
      "cmd.show(\"spheres\", \"id 6779\")\n",
      "cmd.show(\"spheres\", \"id 4650\")\n",
      "cmd.show(\"spheres\", \"id 6779\")\n",
      "cmd.show(\"spheres\", \"id 4651\")\n",
      "cmd.show(\"spheres\", \"id 6779\")\n",
      "cmd.show(\"spheres\", \"id 4653\")\n",
      "cmd.show(\"spheres\", \"id 6779\")\n",
      "cmd.show(\"spheres\", \"id 4655\")\n",
      "cmd.show(\"spheres\", \"id 6779\")\n",
      "cmd.show(\"spheres\", \"id 4664\")\n",
      "cmd.show(\"spheres\", \"id 6779\")\n",
      "cmd.show(\"spheres\", \"id 4665\")\n",
      "cmd.show(\"spheres\", \"id 6780\")\n",
      "cmd.show(\"spheres\", \"id 4653\")\n",
      "cmd.show(\"spheres\", \"id 6780\")\n",
      "cmd.show(\"spheres\", \"id 4665\")\n",
      "cmd.show(\"spheres\", \"id 6780\")\n",
      "cmd.show(\"spheres\", \"id 4688\")\n",
      "cmd.show(\"spheres\", \"id 6791\")\n",
      "cmd.show(\"spheres\", \"id 2498\")\n",
      "cmd.show(\"spheres\", \"id 6792\")\n",
      "cmd.show(\"spheres\", \"id 2532\")\n",
      "cmd.show(\"spheres\", \"id 6794\")\n",
      "cmd.show(\"spheres\", \"id 2498\")\n",
      "cmd.show(\"spheres\", \"id 6794\")\n",
      "cmd.show(\"spheres\", \"id 2507\")\n",
      "cmd.show(\"spheres\", \"id 6795\")\n",
      "cmd.show(\"spheres\", \"id 2498\")\n",
      "cmd.show(\"spheres\", \"id 6795\")\n",
      "cmd.show(\"spheres\", \"id 2500\")\n",
      "cmd.show(\"spheres\", \"id 6795\")\n",
      "cmd.show(\"spheres\", \"id 2512\")\n",
      "cmd.show(\"spheres\", \"id 6796\")\n",
      "cmd.show(\"spheres\", \"id 2498\")\n",
      "cmd.show(\"spheres\", \"id 6796\")\n",
      "cmd.show(\"spheres\", \"id 2507\")\n",
      "cmd.show(\"spheres\", \"id 6796\")\n",
      "cmd.show(\"spheres\", \"id 2512\")\n",
      "cmd.show(\"spheres\", \"id 6796\")\n",
      "cmd.show(\"spheres\", \"id 2513\")\n",
      "cmd.show(\"spheres\", \"id 6806\")\n",
      "cmd.show(\"spheres\", \"id 2532\")\n",
      "cmd.show(\"spheres\", \"id 6806\")\n",
      "cmd.show(\"spheres\", \"id 2534\")\n",
      "cmd.show(\"spheres\", \"id 6806\")\n",
      "cmd.show(\"spheres\", \"id 4888\")\n",
      "cmd.show(\"spheres\", \"id 6807\")\n",
      "cmd.show(\"spheres\", \"id 4871\")\n",
      "cmd.show(\"spheres\", \"id 6807\")\n",
      "cmd.show(\"spheres\", \"id 4872\")\n",
      "cmd.show(\"spheres\", \"id 6807\")\n",
      "cmd.show(\"spheres\", \"id 4878\")\n",
      "cmd.show(\"spheres\", \"id 6807\")\n",
      "cmd.show(\"spheres\", \"id 4879\")\n",
      "cmd.show(\"spheres\", \"id 6807\")\n",
      "cmd.show(\"spheres\", \"id 4885\")\n",
      "cmd.show(\"spheres\", \"id 6807\")\n",
      "cmd.show(\"spheres\", \"id 4888\")\n",
      "cmd.show(\"spheres\", \"id 6813\")\n",
      "cmd.show(\"spheres\", \"id 4872\")\n",
      "cmd.show(\"spheres\", \"id 6813\")\n",
      "cmd.show(\"spheres\", \"id 4878\")\n",
      "cmd.show(\"spheres\", \"id 6813\")\n",
      "cmd.show(\"spheres\", \"id 4879\")\n",
      "cmd.show(\"spheres\", \"id 6813\")\n",
      "cmd.show(\"spheres\", \"id 4885\")\n",
      "cmd.show(\"spheres\", \"id 6813\")\n",
      "cmd.show(\"spheres\", \"id 4888\")\n",
      "cmd.show(\"spheres\", \"id 6814\")\n",
      "cmd.show(\"spheres\", \"id 4872\")\n",
      "cmd.show(\"spheres\", \"id 6814\")\n",
      "cmd.show(\"spheres\", \"id 4878\")\n",
      "cmd.show(\"spheres\", \"id 6814\")\n",
      "cmd.show(\"spheres\", \"id 4879\")\n",
      "cmd.show(\"spheres\", \"id 6814\")\n",
      "cmd.show(\"spheres\", \"id 4885\")\n",
      "cmd.show(\"spheres\", \"id 6814\")\n",
      "cmd.show(\"spheres\", \"id 4888\")\n",
      "cmd.show(\"spheres\", \"id 6816\")\n",
      "cmd.show(\"spheres\", \"id 3581\")\n",
      "cmd.show(\"spheres\", \"id 6824\")\n",
      "cmd.show(\"spheres\", \"id 4879\")\n",
      "cmd.show(\"spheres\", \"id 6824\")\n",
      "cmd.show(\"spheres\", \"id 4885\")\n",
      "cmd.show(\"spheres\", \"id 6824\")\n",
      "cmd.show(\"spheres\", \"id 4888\")\n",
      "cmd.show(\"spheres\", \"id 6824\")\n",
      "cmd.show(\"spheres\", \"id 4889\")\n",
      "cmd.show(\"spheres\", \"id 6834\")\n",
      "cmd.show(\"spheres\", \"id 4279\")\n",
      "cmd.show(\"spheres\", \"id 6835\")\n",
      "cmd.show(\"spheres\", \"id 4263\")\n",
      "cmd.show(\"spheres\", \"id 6835\")\n",
      "cmd.show(\"spheres\", \"id 4279\")\n",
      "cmd.show(\"spheres\", \"id 6835\")\n",
      "cmd.show(\"spheres\", \"id 4280\")\n",
      "cmd.show(\"spheres\", \"id 6836\")\n",
      "cmd.show(\"spheres\", \"id 4239\")\n",
      "cmd.show(\"spheres\", \"id 6836\")\n",
      "cmd.show(\"spheres\", \"id 4262\")\n",
      "cmd.show(\"spheres\", \"id 6836\")\n",
      "cmd.show(\"spheres\", \"id 4263\")\n",
      "cmd.show(\"spheres\", \"id 6836\")\n",
      "cmd.show(\"spheres\", \"id 4279\")\n",
      "cmd.show(\"spheres\", \"id 6836\")\n",
      "cmd.show(\"spheres\", \"id 4280\")\n",
      "cmd.show(\"spheres\", \"id 6837\")\n",
      "cmd.show(\"spheres\", \"id 4279\")\n",
      "cmd.show(\"spheres\", \"id 6838\")\n",
      "cmd.show(\"spheres\", \"id 4262\")\n",
      "cmd.show(\"spheres\", \"id 6838\")\n",
      "cmd.show(\"spheres\", \"id 4263\")\n",
      "cmd.show(\"spheres\", \"id 6838\")\n",
      "cmd.show(\"spheres\", \"id 4279\")\n",
      "cmd.show(\"spheres\", \"id 6839\")\n",
      "cmd.show(\"spheres\", \"id 4279\")\n",
      "cmd.show(\"spheres\", \"id 6840\")\n",
      "cmd.show(\"spheres\", \"id 4263\")\n",
      "cmd.show(\"spheres\", \"id 6840\")\n",
      "cmd.show(\"spheres\", \"id 4279\")\n",
      "cmd.show(\"spheres\", \"id 6852\")\n",
      "cmd.show(\"spheres\", \"id 3533\")\n",
      "cmd.show(\"spheres\", \"id 6852\")\n",
      "cmd.show(\"spheres\", \"id 3534\")\n",
      "cmd.show(\"spheres\", \"id 6853\")\n",
      "cmd.show(\"spheres\", \"id 3534\")\n",
      "cmd.show(\"spheres\", \"id 6855\")\n",
      "cmd.show(\"spheres\", \"id 3533\")\n",
      "cmd.show(\"spheres\", \"id 6855\")\n",
      "cmd.show(\"spheres\", \"id 3534\")\n",
      "cmd.show(\"spheres\", \"id 6855\")\n",
      "cmd.show(\"spheres\", \"id 3579\")\n",
      "cmd.show(\"spheres\", \"id 6855\")\n",
      "cmd.show(\"spheres\", \"id 3580\")\n",
      "cmd.show(\"spheres\", \"id 6855\")\n",
      "cmd.show(\"spheres\", \"id 3581\")\n",
      "cmd.show(\"spheres\", \"id 6856\")\n",
      "cmd.show(\"spheres\", \"id 3533\")\n",
      "cmd.show(\"spheres\", \"id 6856\")\n",
      "cmd.show(\"spheres\", \"id 3534\")\n",
      "cmd.show(\"spheres\", \"id 6856\")\n",
      "cmd.show(\"spheres\", \"id 3564\")\n",
      "cmd.show(\"spheres\", \"id 6856\")\n",
      "cmd.show(\"spheres\", \"id 3581\")\n",
      "cmd.show(\"spheres\", \"id 6856\")\n",
      "cmd.show(\"spheres\", \"id 4878\")\n",
      "cmd.show(\"spheres\", \"id 6857\")\n",
      "cmd.show(\"spheres\", \"id 3533\")\n",
      "cmd.show(\"spheres\", \"id 6857\")\n",
      "cmd.show(\"spheres\", \"id 3534\")\n",
      "cmd.show(\"spheres\", \"id 6857\")\n",
      "cmd.show(\"spheres\", \"id 3564\")\n",
      "cmd.show(\"spheres\", \"id 6857\")\n",
      "cmd.show(\"spheres\", \"id 3565\")\n",
      "cmd.show(\"spheres\", \"id 6857\")\n",
      "cmd.show(\"spheres\", \"id 3566\")\n",
      "cmd.show(\"spheres\", \"id 6857\")\n",
      "cmd.show(\"spheres\", \"id 3581\")\n",
      "cmd.show(\"spheres\", \"id 6857\")\n",
      "cmd.show(\"spheres\", \"id 4210\")\n",
      "cmd.show(\"spheres\", \"id 6858\")\n",
      "cmd.show(\"spheres\", \"id 3564\")\n",
      "cmd.show(\"spheres\", \"id 6858\")\n",
      "cmd.show(\"spheres\", \"id 3581\")\n",
      "cmd.show(\"spheres\", \"id 6858\")\n",
      "cmd.show(\"spheres\", \"id 4238\")\n",
      "cmd.show(\"spheres\", \"id 6858\")\n",
      "cmd.show(\"spheres\", \"id 4878\")\n",
      "cmd.show(\"spheres\", \"id 6858\")\n",
      "cmd.show(\"spheres\", \"id 4879\")\n",
      "cmd.show(\"spheres\", \"id 6859\")\n",
      "cmd.show(\"spheres\", \"id 3533\")\n",
      "cmd.show(\"spheres\", \"id 6859\")\n",
      "cmd.show(\"spheres\", \"id 3561\")\n",
      "cmd.show(\"spheres\", \"id 6859\")\n",
      "cmd.show(\"spheres\", \"id 3564\")\n",
      "cmd.show(\"spheres\", \"id 6859\")\n",
      "cmd.show(\"spheres\", \"id 3565\")\n",
      "cmd.show(\"spheres\", \"id 6859\")\n",
      "cmd.show(\"spheres\", \"id 3566\")\n",
      "cmd.show(\"spheres\", \"id 6859\")\n",
      "cmd.show(\"spheres\", \"id 4207\")\n",
      "cmd.show(\"spheres\", \"id 6859\")\n",
      "cmd.show(\"spheres\", \"id 4208\")\n",
      "cmd.show(\"spheres\", \"id 6859\")\n",
      "cmd.show(\"spheres\", \"id 4210\")\n",
      "cmd.show(\"spheres\", \"id 6859\")\n",
      "cmd.show(\"spheres\", \"id 4211\")\n",
      "cmd.show(\"spheres\", \"id 6859\")\n",
      "cmd.show(\"spheres\", \"id 4222\")\n",
      "cmd.show(\"spheres\", \"id 6859\")\n",
      "cmd.show(\"spheres\", \"id 4238\")\n",
      "cmd.show(\"spheres\", \"id 6860\")\n",
      "cmd.show(\"spheres\", \"id 2128\")\n",
      "cmd.show(\"spheres\", \"id 6860\")\n",
      "cmd.show(\"spheres\", \"id 3564\")\n",
      "cmd.show(\"spheres\", \"id 6860\")\n",
      "cmd.show(\"spheres\", \"id 3565\")\n",
      "cmd.show(\"spheres\", \"id 6860\")\n",
      "cmd.show(\"spheres\", \"id 3581\")\n",
      "cmd.show(\"spheres\", \"id 6860\")\n",
      "cmd.show(\"spheres\", \"id 4222\")\n",
      "cmd.show(\"spheres\", \"id 6860\")\n",
      "cmd.show(\"spheres\", \"id 4238\")\n",
      "cmd.show(\"spheres\", \"id 6860\")\n",
      "cmd.show(\"spheres\", \"id 4239\")\n",
      "cmd.show(\"spheres\", \"id 6860\")\n",
      "cmd.show(\"spheres\", \"id 4241\")\n",
      "cmd.show(\"spheres\", \"id 6860\")\n",
      "cmd.show(\"spheres\", \"id 4878\")\n",
      "cmd.show(\"spheres\", \"id 6860\")\n",
      "cmd.show(\"spheres\", \"id 4879\")\n",
      "cmd.show(\"spheres\", \"id 6861\")\n",
      "cmd.show(\"spheres\", \"id 3561\")\n",
      "cmd.show(\"spheres\", \"id 6861\")\n",
      "cmd.show(\"spheres\", \"id 3564\")\n",
      "cmd.show(\"spheres\", \"id 6861\")\n",
      "cmd.show(\"spheres\", \"id 3565\")\n",
      "cmd.show(\"spheres\", \"id 6861\")\n",
      "cmd.show(\"spheres\", \"id 3566\")\n",
      "cmd.show(\"spheres\", \"id 6861\")\n",
      "cmd.show(\"spheres\", \"id 4208\")\n",
      "cmd.show(\"spheres\", \"id 6861\")\n",
      "cmd.show(\"spheres\", \"id 4210\")\n",
      "cmd.show(\"spheres\", \"id 6861\")\n",
      "cmd.show(\"spheres\", \"id 4222\")\n",
      "cmd.show(\"spheres\", \"id 6861\")\n",
      "cmd.show(\"spheres\", \"id 4238\")\n",
      "cmd.show(\"spheres\", \"id 6861\")\n",
      "cmd.show(\"spheres\", \"id 4239\")\n",
      "cmd.show(\"spheres\", \"id 6861\")\n",
      "cmd.show(\"spheres\", \"id 4241\")\n",
      "cmd.show(\"spheres\", \"id 6873\")\n",
      "cmd.show(\"spheres\", \"id 3533\")\n",
      "cmd.show(\"spheres\", \"id 6873\")\n",
      "cmd.show(\"spheres\", \"id 3534\")\n",
      "cmd.show(\"spheres\", \"id 6874\")\n",
      "cmd.show(\"spheres\", \"id 3523\")\n",
      "cmd.show(\"spheres\", \"id 6874\")\n",
      "cmd.show(\"spheres\", \"id 3524\")\n",
      "cmd.show(\"spheres\", \"id 6874\")\n",
      "cmd.show(\"spheres\", \"id 3530\")\n",
      "cmd.show(\"spheres\", \"id 6874\")\n",
      "cmd.show(\"spheres\", \"id 3533\")\n",
      "cmd.show(\"spheres\", \"id 6874\")\n",
      "cmd.show(\"spheres\", \"id 3534\")\n",
      "cmd.show(\"spheres\", \"id 6874\")\n",
      "cmd.show(\"spheres\", \"id 3580\")\n",
      "cmd.show(\"spheres\", \"id 6874\")\n",
      "cmd.show(\"spheres\", \"id 3582\")\n",
      "cmd.show(\"spheres\", \"id 6876\")\n",
      "cmd.show(\"spheres\", \"id 3534\")\n",
      "cmd.show(\"spheres\", \"id 6877\")\n",
      "cmd.show(\"spheres\", \"id 3523\")\n",
      "cmd.show(\"spheres\", \"id 6879\")\n",
      "cmd.show(\"spheres\", \"id 3523\")\n",
      "cmd.show(\"spheres\", \"id 6879\")\n",
      "cmd.show(\"spheres\", \"id 3524\")\n",
      "cmd.show(\"spheres\", \"id 6881\")\n",
      "cmd.show(\"spheres\", \"id 3523\")\n",
      "cmd.show(\"spheres\", \"id 6894\")\n",
      "cmd.show(\"spheres\", \"id 3517\")\n",
      "cmd.show(\"spheres\", \"id 6894\")\n",
      "cmd.show(\"spheres\", \"id 3523\")\n",
      "cmd.show(\"spheres\", \"id 6894\")\n",
      "cmd.show(\"spheres\", \"id 3524\")\n",
      "cmd.show(\"spheres\", \"id 6894\")\n",
      "cmd.show(\"spheres\", \"id 3580\")\n",
      "cmd.show(\"spheres\", \"id 6894\")\n",
      "cmd.show(\"spheres\", \"id 3582\")\n",
      "cmd.show(\"spheres\", \"id 6895\")\n",
      "cmd.show(\"spheres\", \"id 3517\")\n",
      "cmd.show(\"spheres\", \"id 6895\")\n",
      "cmd.show(\"spheres\", \"id 3523\")\n",
      "cmd.show(\"spheres\", \"id 6897\")\n",
      "cmd.show(\"spheres\", \"id 3523\")\n",
      "cmd.show(\"spheres\", \"id 6897\")\n",
      "cmd.show(\"spheres\", \"id 3580\")\n",
      "cmd.show(\"spheres\", \"id 6897\")\n",
      "cmd.show(\"spheres\", \"id 3582\")\n",
      "cmd.show(\"spheres\", \"id 6901\")\n",
      "cmd.show(\"spheres\", \"id 4653\")\n",
      "cmd.show(\"spheres\", \"id 6901\")\n",
      "cmd.show(\"spheres\", \"id 4655\")\n",
      "cmd.show(\"spheres\", \"id 6918\")\n",
      "cmd.show(\"spheres\", \"id 3516\")\n",
      "cmd.show(\"spheres\", \"id 6918\")\n",
      "cmd.show(\"spheres\", \"id 3517\")\n",
      "cmd.show(\"spheres\", \"id 6921\")\n",
      "cmd.show(\"spheres\", \"id 3505\")\n",
      "cmd.show(\"spheres\", \"id 6921\")\n",
      "cmd.show(\"spheres\", \"id 3506\")\n",
      "cmd.show(\"spheres\", \"id 6921\")\n",
      "cmd.show(\"spheres\", \"id 3508\")\n",
      "cmd.show(\"spheres\", \"id 6921\")\n",
      "cmd.show(\"spheres\", \"id 3516\")\n",
      "cmd.show(\"spheres\", \"id 6921\")\n",
      "cmd.show(\"spheres\", \"id 3517\")\n"
     ]
    }
   ],
   "source": [
    "for x, y in ids_all_pairs[cc_indices[masc]]:\n",
    "    print(f'cmd.show(\"spheres\", \"id ' + str(trj_in.topology.atom(x).serial) + f'\")')\n",
    "    print(f'cmd.show(\"spheres\", \"id ' + str(trj_in.topology.atom(y).serial) + f'\")')"
   ]
  },
  {
   "cell_type": "code",
   "execution_count": 374,
   "metadata": {},
   "outputs": [
    {
     "data": {
      "text/plain": [
       "array([False, False, False, ..., False, False, False])"
      ]
     },
     "execution_count": 374,
     "metadata": {},
     "output_type": "execute_result"
    }
   ],
   "source": [
    "masc = distancias[0] < cutoff\n",
    "masc"
   ]
  },
  {
   "cell_type": "code",
   "execution_count": 390,
   "metadata": {},
   "outputs": [
    {
     "data": {
      "text/plain": [
       "array([0.39248687, 0.37735313, 0.38968605, 0.3754475 , 0.38218588,\n",
       "       0.35952342, 0.3839783 , 0.3733516 , 0.38643512, 0.35887206,\n",
       "       0.38658956, 0.33757603, 0.3927317 , 0.39385   , 0.36813802,\n",
       "       0.37953225, 0.387109  , 0.37213486, 0.36197805, 0.33804545,\n",
       "       0.35399514, 0.38675603, 0.39775527, 0.36955428, 0.3806687 ,\n",
       "       0.39368492, 0.35291353, 0.3768543 , 0.3686144 , 0.37549788,\n",
       "       0.37686017, 0.36656833, 0.36433494], dtype=float32)"
      ]
     },
     "execution_count": 390,
     "metadata": {},
     "output_type": "execute_result"
    }
   ],
   "source": [
    "distancias[0][cc_indices][masc]"
   ]
  },
  {
   "cell_type": "code",
   "execution_count": 389,
   "metadata": {},
   "outputs": [
    {
     "data": {
      "text/plain": [
       "array([['C', 'C'],\n",
       "       ['C', 'C'],\n",
       "       ['C', 'C'],\n",
       "       ['C', 'C'],\n",
       "       ['C', 'C'],\n",
       "       ['C', 'C'],\n",
       "       ['C', 'C'],\n",
       "       ['C', 'C'],\n",
       "       ['C', 'C'],\n",
       "       ['C', 'C'],\n",
       "       ['C', 'C'],\n",
       "       ['C', 'C'],\n",
       "       ['C', 'C'],\n",
       "       ['C', 'C'],\n",
       "       ['C', 'C'],\n",
       "       ['C', 'C'],\n",
       "       ['C', 'C'],\n",
       "       ['C', 'C'],\n",
       "       ['C', 'C'],\n",
       "       ['C', 'C'],\n",
       "       ['C', 'C'],\n",
       "       ['C', 'C'],\n",
       "       ['C', 'C'],\n",
       "       ['C', 'C'],\n",
       "       ['C', 'C'],\n",
       "       ['C', 'C'],\n",
       "       ['C', 'C'],\n",
       "       ['C', 'C'],\n",
       "       ['C', 'C'],\n",
       "       ['C', 'C'],\n",
       "       ['C', 'C'],\n",
       "       ['C', 'C'],\n",
       "       ['C', 'C']], dtype='<U1')"
      ]
     },
     "execution_count": 389,
     "metadata": {},
     "output_type": "execute_result"
    }
   ],
   "source": [
    "elementos_all_pairs[cc_indices][masc]"
   ]
  },
  {
   "cell_type": "code",
   "execution_count": 406,
   "metadata": {},
   "outputs": [
    {
     "data": {
      "text/plain": [
       "array([[6764, 4652],\n",
       "       [6766, 4652],\n",
       "       [6783, 2511],\n",
       "       [6794, 4887],\n",
       "       [6801, 4877],\n",
       "       [6801, 4878],\n",
       "       [6811, 4884],\n",
       "       [6811, 4887],\n",
       "       [6821, 4278],\n",
       "       [6822, 4278]])"
      ]
     },
     "execution_count": 406,
     "metadata": {},
     "output_type": "execute_result"
    }
   ],
   "source": [
    "ids_all_pairs[cc_indices][masc][0:10]"
   ]
  },
  {
   "cell_type": "code",
   "execution_count": 399,
   "metadata": {},
   "outputs": [
    {
     "data": {
      "text/plain": [
       "array([ True,  True,  True,  True,  True,  True,  True,  True,  True,\n",
       "        True,  True,  True,  True,  True,  True,  True,  True,  True,\n",
       "        True,  True,  True,  True,  True,  True,  True,  True,  True,\n",
       "        True,  True,  True,  True,  True,  True])"
      ]
     },
     "execution_count": 399,
     "metadata": {},
     "output_type": "execute_result"
    }
   ],
   "source": [
    "cc_indices[np.where(masc)] == cc_indices[masc]"
   ]
  },
  {
   "cell_type": "code",
   "execution_count": 442,
   "metadata": {},
   "outputs": [],
   "source": [
    "a = distancias.reshape((len(ids_cdr_atoms), len(ids_epitope_atoms)))"
   ]
  },
  {
   "cell_type": "code",
   "execution_count": 460,
   "metadata": {},
   "outputs": [
    {
     "data": {
      "text/plain": [
       "2"
      ]
     },
     "execution_count": 460,
     "metadata": {},
     "output_type": "execute_result"
    }
   ],
   "source": [
    "sum((distancias < cutoff)[50, :])"
   ]
  },
  {
   "cell_type": "code",
   "execution_count": 472,
   "metadata": {},
   "outputs": [
    {
     "name": "stdout",
     "output_type": "stream",
     "text": [
      "(array([], dtype=int64),)\n",
      "(array([], dtype=int64),)\n",
      "(array([], dtype=int64),)\n",
      "(array([], dtype=int64),)\n",
      "(array([], dtype=int64),)\n",
      "(array([], dtype=int64),)\n",
      "(array([], dtype=int64),)\n",
      "(array([], dtype=int64),)\n",
      "(array([], dtype=int64),)\n",
      "(array([], dtype=int64),)\n",
      "(array([], dtype=int64),)\n",
      "(array([], dtype=int64),)\n",
      "(array([], dtype=int64),)\n",
      "(array([], dtype=int64),)\n",
      "(array([], dtype=int64),)\n",
      "(array([], dtype=int64),)\n",
      "(array([], dtype=int64),)\n",
      "(array([], dtype=int64),)\n",
      "(array([], dtype=int64),)\n",
      "(array([], dtype=int64),)\n",
      "(array([], dtype=int64),)\n",
      "(array([], dtype=int64),)\n",
      "(array([], dtype=int64),)\n",
      "(array([], dtype=int64),)\n",
      "(array([], dtype=int64),)\n",
      "(array([], dtype=int64),)\n",
      "(array([], dtype=int64),)\n",
      "(array([], dtype=int64),)\n",
      "(array([ 9, 12]),)\n",
      "(array([], dtype=int64),)\n",
      "(array([], dtype=int64),)\n",
      "(array([], dtype=int64),)\n",
      "(array([], dtype=int64),)\n",
      "(array([], dtype=int64),)\n",
      "(array([], dtype=int64),)\n",
      "(array([], dtype=int64),)\n",
      "(array([], dtype=int64),)\n",
      "(array([], dtype=int64),)\n",
      "(array([11]),)\n",
      "(array([11]),)\n",
      "(array([], dtype=int64),)\n",
      "(array([], dtype=int64),)\n",
      "(array([88]),)\n",
      "(array([], dtype=int64),)\n",
      "(array([ 4,  7, 88, 94]),)\n",
      "(array([], dtype=int64),)\n",
      "(array([ 4,  7, 93, 94]),)\n",
      "(array([10, 11]),)\n",
      "(array([11]),)\n",
      "(array([23]),)\n",
      "(array([11, 23]),)\n",
      "(array([11]),)\n",
      "(array([11]),)\n",
      "(array([17, 19]),)\n",
      "(array([17, 18, 19]),)\n",
      "(array([17, 18, 19]),)\n",
      "(array([23]),)\n",
      "(array([23]),)\n",
      "(array([111, 116, 120]),)\n",
      "(array([109, 110, 111, 112, 113, 114, 116, 117, 120]),)\n",
      "(array([], dtype=int64),)\n",
      "(array([111, 116]),)\n",
      "(array([113, 114, 116]),)\n",
      "(array([113, 114, 115, 116]),)\n",
      "(array([], dtype=int64),)\n",
      "(array([], dtype=int64),)\n",
      "(array([114, 116, 117, 120]),)\n",
      "(array([116, 117, 120]),)\n",
      "(array([], dtype=int64),)\n",
      "(array([], dtype=int64),)\n",
      "(array([], dtype=int64),)\n",
      "(array([], dtype=int64),)\n",
      "(array([], dtype=int64),)\n",
      "(array([], dtype=int64),)\n",
      "(array([83]),)\n",
      "(array([83]),)\n",
      "(array([74, 80, 81, 82, 83]),)\n",
      "(array([], dtype=int64),)\n",
      "(array([80, 81, 83]),)\n",
      "(array([], dtype=int64),)\n",
      "(array([], dtype=int64),)\n",
      "(array([], dtype=int64),)\n",
      "(array([], dtype=int64),)\n",
      "(array([46]),)\n",
      "(array([46]),)\n",
      "(array([], dtype=int64),)\n",
      "(array([46, 56]),)\n",
      "(array([56]),)\n",
      "(array([46, 48]),)\n",
      "(array([ 56, 113, 115]),)\n",
      "(array([48, 49, 50, 51, 62, 63, 64]),)\n",
      "(array([ 72,  75, 115]),)\n",
      "(array([48, 49, 63, 71, 72]),)\n",
      "(array([48, 49, 62, 63, 69, 71, 72, 75]),)\n",
      "(array([44, 46]),)\n",
      "(array([46]),)\n",
      "(array([39]),)\n",
      "(array([36, 37, 39, 40, 43, 44, 46, 55, 57]),)\n",
      "(array([45, 46]),)\n",
      "(array([], dtype=int64),)\n",
      "(array([], dtype=int64),)\n",
      "(array([], dtype=int64),)\n",
      "(array([], dtype=int64),)\n",
      "(array([], dtype=int64),)\n",
      "(array([], dtype=int64),)\n",
      "(array([], dtype=int64),)\n",
      "(array([], dtype=int64),)\n",
      "(array([34, 36]),)\n",
      "(array([34]),)\n",
      "(array([], dtype=int64),)\n",
      "(array([57]),)\n",
      "(array([], dtype=int64),)\n",
      "(array([], dtype=int64),)\n",
      "(array([], dtype=int64),)\n",
      "(array([], dtype=int64),)\n",
      "(array([89]),)\n",
      "(array([], dtype=int64),)\n",
      "(array([33, 34, 35, 36]),)\n",
      "(array([34]),)\n",
      "(array([], dtype=int64),)\n",
      "(array([], dtype=int64),)\n",
      "(array([30, 31, 32, 33, 34]),)\n",
      "(array([], dtype=int64),)\n",
      "(array([], dtype=int64),)\n",
      "(array([], dtype=int64),)\n",
      "(array([], dtype=int64),)\n",
      "(array([], dtype=int64),)\n",
      "(array([], dtype=int64),)\n",
      "(array([], dtype=int64),)\n",
      "(array([], dtype=int64),)\n",
      "(array([], dtype=int64),)\n",
      "(array([], dtype=int64),)\n",
      "(array([], dtype=int64),)\n",
      "(array([], dtype=int64),)\n",
      "(array([], dtype=int64),)\n",
      "(array([], dtype=int64),)\n",
      "(array([], dtype=int64),)\n",
      "(array([], dtype=int64),)\n",
      "(array([], dtype=int64),)\n",
      "(array([], dtype=int64),)\n",
      "(array([], dtype=int64),)\n",
      "(array([], dtype=int64),)\n",
      "(array([], dtype=int64),)\n",
      "(array([], dtype=int64),)\n",
      "(array([], dtype=int64),)\n",
      "(array([], dtype=int64),)\n",
      "(array([], dtype=int64),)\n",
      "(array([], dtype=int64),)\n",
      "(array([], dtype=int64),)\n",
      "(array([], dtype=int64),)\n",
      "(array([], dtype=int64),)\n",
      "(array([], dtype=int64),)\n",
      "(array([], dtype=int64),)\n",
      "(array([], dtype=int64),)\n",
      "(array([], dtype=int64),)\n",
      "(array([], dtype=int64),)\n",
      "(array([], dtype=int64),)\n",
      "(array([], dtype=int64),)\n",
      "(array([], dtype=int64),)\n",
      "(array([], dtype=int64),)\n",
      "(array([], dtype=int64),)\n",
      "(array([], dtype=int64),)\n",
      "(array([], dtype=int64),)\n",
      "(array([], dtype=int64),)\n",
      "(array([], dtype=int64),)\n",
      "(array([], dtype=int64),)\n",
      "(array([], dtype=int64),)\n",
      "(array([], dtype=int64),)\n",
      "(array([], dtype=int64),)\n",
      "(array([], dtype=int64),)\n",
      "(array([], dtype=int64),)\n"
     ]
    },
    {
     "data": {
      "text/plain": [
       "array([None, None, None, None, None, None, None, None, None, None, None,\n",
       "       None, None, None, None, None, None, None, None, None, None, None,\n",
       "       None, None, None, None, None, None, None, None, None, None, None,\n",
       "       None, None, None, None, None, None, None, None, None, None, None,\n",
       "       None, None, None, None, None, None, None, None, None, None, None,\n",
       "       None, None, None, None, None, None, None, None, None, None, None,\n",
       "       None, None, None, None, None, None, None, None, None, None, None,\n",
       "       None, None, None, None, None, None, None, None, None, None, None,\n",
       "       None, None, None, None, None, None, None, None, None, None, None,\n",
       "       None, None, None, None, None, None, None, None, None, None, None,\n",
       "       None, None, None, None, None, None, None, None, None, None, None,\n",
       "       None, None, None, None, None, None, None, None, None, None, None,\n",
       "       None, None, None, None, None, None, None, None, None, None, None,\n",
       "       None, None, None, None, None, None, None, None, None, None, None,\n",
       "       None, None, None, None, None, None, None, None, None, None, None,\n",
       "       None, None, None, None, None, None], dtype=object)"
      ]
     },
     "execution_count": 472,
     "metadata": {},
     "output_type": "execute_result"
    }
   ],
   "source": [
    "np.apply_along_axis(lambda x: print(np.where(x < cutoff)), axis = 1, arr = distancias)"
   ]
  },
  {
   "cell_type": "code",
   "execution_count": 471,
   "metadata": {},
   "outputs": [
    {
     "data": {
      "text/plain": [
       "(array([11, 23]),)"
      ]
     },
     "execution_count": 471,
     "metadata": {},
     "output_type": "execute_result"
    }
   ],
   "source": [
    "np.where(distancias[50, :] < cutoff)"
   ]
  },
  {
   "cell_type": "code",
   "execution_count": 454,
   "metadata": {},
   "outputs": [
    {
     "data": {
      "text/plain": [
       "['N',\n",
       " 'C',\n",
       " 'C',\n",
       " 'O',\n",
       " 'C',\n",
       " 'C',\n",
       " 'C',\n",
       " 'N',\n",
       " 'C',\n",
       " 'C',\n",
       " 'O',\n",
       " 'C',\n",
       " 'O',\n",
       " 'C',\n",
       " 'N',\n",
       " 'C',\n",
       " 'C',\n",
       " 'O',\n",
       " 'C',\n",
       " 'C',\n",
       " 'C',\n",
       " 'C',\n",
       " 'C',\n",
       " 'C',\n",
       " 'C',\n",
       " 'N',\n",
       " 'C',\n",
       " 'C',\n",
       " 'O',\n",
       " 'C',\n",
       " 'C',\n",
       " 'C',\n",
       " 'C',\n",
       " 'C',\n",
       " 'C',\n",
       " 'C',\n",
       " 'O',\n",
       " 'N',\n",
       " 'C',\n",
       " 'C',\n",
       " 'O',\n",
       " 'C',\n",
       " 'C',\n",
       " 'N',\n",
       " 'C',\n",
       " 'C',\n",
       " 'N',\n",
       " 'N',\n",
       " 'C',\n",
       " 'C',\n",
       " 'O',\n",
       " 'C',\n",
       " 'C',\n",
       " 'C',\n",
       " 'O',\n",
       " 'O',\n",
       " 'N',\n",
       " 'C',\n",
       " 'C',\n",
       " 'O',\n",
       " 'N',\n",
       " 'C',\n",
       " 'C',\n",
       " 'O',\n",
       " 'C',\n",
       " 'O',\n",
       " 'N',\n",
       " 'C',\n",
       " 'C',\n",
       " 'O',\n",
       " 'N',\n",
       " 'C',\n",
       " 'C',\n",
       " 'O',\n",
       " 'C',\n",
       " 'C',\n",
       " 'C',\n",
       " 'C',\n",
       " 'C',\n",
       " 'C',\n",
       " 'C',\n",
       " 'O',\n",
       " 'N',\n",
       " 'C',\n",
       " 'C',\n",
       " 'O',\n",
       " 'C',\n",
       " 'C',\n",
       " 'C',\n",
       " 'C',\n",
       " 'C',\n",
       " 'C',\n",
       " 'C',\n",
       " 'O',\n",
       " 'N',\n",
       " 'C',\n",
       " 'C',\n",
       " 'O',\n",
       " 'C',\n",
       " 'C',\n",
       " 'C',\n",
       " 'C',\n",
       " 'C',\n",
       " 'C',\n",
       " 'C',\n",
       " 'O',\n",
       " 'N',\n",
       " 'C',\n",
       " 'C',\n",
       " 'O',\n",
       " 'C',\n",
       " 'C',\n",
       " 'C',\n",
       " 'N',\n",
       " 'C',\n",
       " 'N',\n",
       " 'N',\n",
       " 'N',\n",
       " 'C',\n",
       " 'C',\n",
       " 'O',\n",
       " 'C',\n",
       " 'N',\n",
       " 'C',\n",
       " 'C',\n",
       " 'O',\n",
       " 'N',\n",
       " 'C',\n",
       " 'C',\n",
       " 'O',\n",
       " 'C',\n",
       " 'C',\n",
       " 'O',\n",
       " 'N',\n",
       " 'N',\n",
       " 'C',\n",
       " 'C',\n",
       " 'O',\n",
       " 'C',\n",
       " 'C',\n",
       " 'C',\n",
       " 'C',\n",
       " 'C',\n",
       " 'C',\n",
       " 'C',\n",
       " 'O',\n",
       " 'N',\n",
       " 'C',\n",
       " 'C',\n",
       " 'O',\n",
       " 'C',\n",
       " 'C',\n",
       " 'C',\n",
       " 'C',\n",
       " 'C',\n",
       " 'C',\n",
       " 'C',\n",
       " 'N',\n",
       " 'C',\n",
       " 'C',\n",
       " 'O',\n",
       " 'C',\n",
       " 'C',\n",
       " 'O',\n",
       " 'O',\n",
       " 'N',\n",
       " 'C',\n",
       " 'C',\n",
       " 'O',\n",
       " 'C',\n",
       " 'O']"
      ]
     },
     "execution_count": 454,
     "metadata": {},
     "output_type": "execute_result"
    }
   ],
   "source": [
    "elementos_cdr_atoms"
   ]
  },
  {
   "cell_type": "code",
   "execution_count": 445,
   "metadata": {},
   "outputs": [
    {
     "data": {
      "text/plain": [
       "array([2.0432978, 1.9861699, 1.8967518, 1.7675161, 1.7450075, 1.8973789,\n",
       "       1.7724223, 1.7072827, 1.6933233, 1.5735302, 1.6184837, 1.5498374,\n",
       "       1.4964718, 1.7436111, 1.8082712, 1.8674103, 1.8940282, 1.815763 ,\n",
       "       1.8056486, 1.7375678, 1.8614877, 1.9240737, 1.898266 , 1.7621412,\n",
       "       1.9415541, 1.81661  , 1.8086228, 1.7376409, 1.767165 , 1.7528114,\n",
       "       1.6175566, 1.6570061, 1.5980407, 1.5017939, 1.4761211, 1.4629812,\n",
       "       1.3859426, 1.465231 , 1.5618888, 1.437118 , 1.5287368, 1.6672165,\n",
       "       1.686091 , 1.4903144, 1.3741217, 1.3565539, 1.3136454, 1.9362253,\n",
       "       1.8841699, 1.951203 , 1.9008027, 1.793962 , 1.9764191, 1.8239864,\n",
       "       1.6744343, 1.5642012, 1.6518394, 1.5424112, 2.2270265, 2.2814355,\n",
       "       1.9755428, 1.8588523, 1.8894477, 1.9248799, 1.7337414, 1.7110059,\n",
       "       1.7018033, 1.8892237, 1.951364 , 1.8684572, 1.7560893, 1.9335456,\n",
       "       1.8826832, 1.8626165, 1.7952182, 1.9880223, 2.124367 , 2.2282302,\n",
       "       1.9329923, 1.9370219, 1.8112104, 1.800142 , 1.7273306, 1.6044136,\n",
       "       1.6323855, 1.5496947, 1.926913 , 1.990336 , 1.7842538, 1.7940093,\n",
       "       1.7341125, 1.9847318, 2.0543864, 1.9618955, 1.8676397, 1.9985934,\n",
       "       1.932133 , 1.9334502, 1.8385015, 2.0119226, 1.9184946, 2.0502086,\n",
       "       2.0545459, 1.9451346, 2.067382 , 1.9847779, 2.047598 , 1.9216163,\n",
       "       1.881097 , 1.9049766, 1.7950075, 1.6960464, 1.8222601, 1.737786 ,\n",
       "       1.7255024, 1.731931 , 1.7212522, 1.7469378, 1.8982537, 1.9671104,\n",
       "       1.6946632, 1.724377 , 1.7972168, 1.6821302, 2.0891664, 2.1080778,\n",
       "       2.0248268, 1.9212476], dtype=float32)"
      ]
     },
     "execution_count": 445,
     "metadata": {},
     "output_type": "execute_result"
    }
   ],
   "source": [
    "a[0, :]"
   ]
  },
  {
   "cell_type": "code",
   "execution_count": 446,
   "metadata": {},
   "outputs": [
    {
     "data": {
      "text/plain": [
       "[6688,\n",
       " 6689,\n",
       " 6690,\n",
       " 6691,\n",
       " 6692,\n",
       " 6693,\n",
       " 6694,\n",
       " 6704,\n",
       " 6705,\n",
       " 6706,\n",
       " 6707,\n",
       " 6708,\n",
       " 6709,\n",
       " 6710,\n",
       " 6718,\n",
       " 6719,\n",
       " 6720,\n",
       " 6721,\n",
       " 6722,\n",
       " 6723,\n",
       " 6724,\n",
       " 6725,\n",
       " 6726,\n",
       " 6727,\n",
       " 6728,\n",
       " 6738,\n",
       " 6739,\n",
       " 6740,\n",
       " 6741,\n",
       " 6742,\n",
       " 6743,\n",
       " 6744,\n",
       " 6745,\n",
       " 6746,\n",
       " 6747,\n",
       " 6748,\n",
       " 6749,\n",
       " 6759,\n",
       " 6760,\n",
       " 6761,\n",
       " 6762,\n",
       " 6763,\n",
       " 6764,\n",
       " 6765,\n",
       " 6766,\n",
       " 6767,\n",
       " 6768,\n",
       " 6777,\n",
       " 6778,\n",
       " 6779,\n",
       " 6780,\n",
       " 6781,\n",
       " 6782,\n",
       " 6783,\n",
       " 6784,\n",
       " 6785,\n",
       " 6792,\n",
       " 6793,\n",
       " 6794,\n",
       " 6795,\n",
       " 6799,\n",
       " 6800,\n",
       " 6801,\n",
       " 6802,\n",
       " 6803,\n",
       " 6804,\n",
       " 6810,\n",
       " 6811,\n",
       " 6812,\n",
       " 6813,\n",
       " 6817,\n",
       " 6818,\n",
       " 6819,\n",
       " 6820,\n",
       " 6821,\n",
       " 6822,\n",
       " 6823,\n",
       " 6824,\n",
       " 6825,\n",
       " 6826,\n",
       " 6827,\n",
       " 6828,\n",
       " 6838,\n",
       " 6839,\n",
       " 6840,\n",
       " 6841,\n",
       " 6842,\n",
       " 6843,\n",
       " 6844,\n",
       " 6845,\n",
       " 6846,\n",
       " 6847,\n",
       " 6848,\n",
       " 6849,\n",
       " 6859,\n",
       " 6860,\n",
       " 6861,\n",
       " 6862,\n",
       " 6863,\n",
       " 6864,\n",
       " 6865,\n",
       " 6866,\n",
       " 6867,\n",
       " 6868,\n",
       " 6869,\n",
       " 6870,\n",
       " 6880,\n",
       " 6881,\n",
       " 6882,\n",
       " 6883,\n",
       " 6884,\n",
       " 6885,\n",
       " 6886,\n",
       " 6887,\n",
       " 6888,\n",
       " 6889,\n",
       " 6890,\n",
       " 6904,\n",
       " 6905,\n",
       " 6906,\n",
       " 6907,\n",
       " 6908,\n",
       " 6914,\n",
       " 6915,\n",
       " 6916,\n",
       " 6917,\n",
       " 6921,\n",
       " 6922,\n",
       " 6923,\n",
       " 6924,\n",
       " 6925,\n",
       " 6926,\n",
       " 6927,\n",
       " 6928,\n",
       " 6935,\n",
       " 6936,\n",
       " 6937,\n",
       " 6938,\n",
       " 6939,\n",
       " 6940,\n",
       " 6941,\n",
       " 6942,\n",
       " 6943,\n",
       " 6944,\n",
       " 6945,\n",
       " 6946,\n",
       " 6956,\n",
       " 6957,\n",
       " 6958,\n",
       " 6959,\n",
       " 6960,\n",
       " 6961,\n",
       " 6962,\n",
       " 6963,\n",
       " 6964,\n",
       " 6965,\n",
       " 6966,\n",
       " 6976,\n",
       " 6977,\n",
       " 6978,\n",
       " 6979,\n",
       " 6980,\n",
       " 6981,\n",
       " 6982,\n",
       " 6983,\n",
       " 6988,\n",
       " 6989,\n",
       " 6990,\n",
       " 6991,\n",
       " 6992,\n",
       " 6993]"
      ]
     },
     "execution_count": 446,
     "metadata": {},
     "output_type": "execute_result"
    }
   ],
   "source": [
    "ids_cdr_atoms"
   ]
  },
  {
   "cell_type": "code",
   "execution_count": 431,
   "metadata": {},
   "outputs": [
    {
     "data": {
      "text/plain": [
       "[2127,\n",
       " 2413,\n",
       " 2482,\n",
       " 2483,\n",
       " 2484,\n",
       " 2485,\n",
       " 2486,\n",
       " 2488,\n",
       " 2495,\n",
       " 2496,\n",
       " 2497,\n",
       " 2498,\n",
       " 2499,\n",
       " 2505,\n",
       " 2506,\n",
       " 2507,\n",
       " 2510,\n",
       " 2511,\n",
       " 2512,\n",
       " 2513,\n",
       " 2527,\n",
       " 2528,\n",
       " 2531,\n",
       " 2532,\n",
       " 2533,\n",
       " 3503,\n",
       " 3504,\n",
       " 3505,\n",
       " 3506,\n",
       " 3507,\n",
       " 3508,\n",
       " 3514,\n",
       " 3515,\n",
       " 3516,\n",
       " 3517,\n",
       " 3521,\n",
       " 3522,\n",
       " 3523,\n",
       " 3524,\n",
       " 3528,\n",
       " 3529,\n",
       " 3530,\n",
       " 3531,\n",
       " 3532,\n",
       " 3533,\n",
       " 3534,\n",
       " 3535,\n",
       " 3560,\n",
       " 3563,\n",
       " 3564,\n",
       " 3565,\n",
       " 3566,\n",
       " 3567,\n",
       " 3574,\n",
       " 3578,\n",
       " 3579,\n",
       " 3580,\n",
       " 3581,\n",
       " 3649,\n",
       " 3651,\n",
       " 4205,\n",
       " 4206,\n",
       " 4207,\n",
       " 4208,\n",
       " 4209,\n",
       " 4210,\n",
       " 4212,\n",
       " 4219,\n",
       " 4220,\n",
       " 4221,\n",
       " 4222,\n",
       " 4236,\n",
       " 4237,\n",
       " 4238,\n",
       " 4239,\n",
       " 4240,\n",
       " 4241,\n",
       " 4242,\n",
       " 4260,\n",
       " 4261,\n",
       " 4262,\n",
       " 4263,\n",
       " 4277,\n",
       " 4278,\n",
       " 4279,\n",
       " 4280,\n",
       " 4649,\n",
       " 4650,\n",
       " 4652,\n",
       " 4653,\n",
       " 4654,\n",
       " 4662,\n",
       " 4663,\n",
       " 4664,\n",
       " 4665,\n",
       " 4686,\n",
       " 4687,\n",
       " 4688,\n",
       " 4689,\n",
       " 4690,\n",
       " 4693,\n",
       " 4698,\n",
       " 4828,\n",
       " 4830,\n",
       " 4850,\n",
       " 4851,\n",
       " 4862,\n",
       " 4863,\n",
       " 4869,\n",
       " 4870,\n",
       " 4871,\n",
       " 4872,\n",
       " 4876,\n",
       " 4877,\n",
       " 4878,\n",
       " 4879,\n",
       " 4883,\n",
       " 4884,\n",
       " 4885,\n",
       " 4886,\n",
       " 4887,\n",
       " 4888,\n",
       " 4889,\n",
       " 4890,\n",
       " 4898,\n",
       " 4900,\n",
       " 4939,\n",
       " 4941]"
      ]
     },
     "execution_count": 431,
     "metadata": {},
     "output_type": "execute_result"
    }
   ],
   "source": [
    "# for carbono in cc_indices[masc]:\n",
    "\n",
    "carbono_cdr = ids_all_pairs[cc_indices[mask_contacto]][0][0]\n",
    "[ y for x, y in ids_all_pairs if x == carbono_cdr]"
   ]
  },
  {
   "cell_type": "code",
   "execution_count": 416,
   "metadata": {},
   "outputs": [
    {
     "data": {
      "text/plain": [
       "array([[6763, 4889],\n",
       "       [6763, 4890],\n",
       "       [6763, 4898],\n",
       "       [6763, 4900],\n",
       "       [6763, 4939],\n",
       "       [6763, 4941],\n",
       "       [6764, 2127],\n",
       "       [6764, 2413],\n",
       "       [6764, 2482],\n",
       "       [6764, 2483]])"
      ]
     },
     "execution_count": 416,
     "metadata": {},
     "output_type": "execute_result"
    }
   ],
   "source": [
    "# Find starting y end index de 6764\n",
    "# tomar la máscara de todas sus distancias que sean menores que el cutoff\n",
    "# Fijarse en los IDs del elemento [1] de esos pares q sean O o N y también los q sean C (p/ inclurlos)\n",
    "\n",
    "# Fijar criterios!\n",
    "\n",
    "ids_all_pairs[5370:5380]"
   ]
  },
  {
   "cell_type": "code",
   "execution_count": 550,
   "metadata": {},
   "outputs": [],
   "source": [
    "# Collect all contacts of the CDR carbons, in a dict of dicts. \n",
    "# Keys of the outer dict are the IDs of each CDR carbon.\n",
    "# The corresponding values are also dicts, with 3 keys each, \n",
    "# the element of the interacting epitope atom: O, N and S\n",
    "# The corresponding values are numpy arrays of tuples. Each tuple corresponds\n",
    "# to an interacting epitope atom. The first element is the ID of the epitope atom\n",
    "# and the second element is its distance from the corresponding CDR atom.\n",
    "# So, cdr_C_contacts[6761]['C'] is a numpy array of tuples with all the epitope atoms that\n",
    "# are interacting with the CDR carbon with an ID of 6761 and that are also carbons themselves.\n",
    "cdr_C_contacts = {}\n",
    "for i, j in zip(*np.where(distancias < cutoff)):\n",
    "    if elementos_cdr_atoms[i] == 'C':\n",
    "        cdr_atom_id = ids_cdr_atoms[i]\n",
    "        epitope_atom_id = ids_epitope_atoms[j]\n",
    "        epitope_atom_element = elementos_epitope_atoms[j]\n",
    "\n",
    "        if cdr_atom_id not in cdr_C_contacts:\n",
    "            cdr_C_contacts[cdr_atom_id] = {}\n",
    "\n",
    "        if epitope_atom_element in cdr_C_contacts[cdr_atom_id]:\n",
    "            cdr_C_contacts[cdr_atom_id][epitope_atom_element].append(\n",
    "                (epitope_atom_id, distancias[i, j]))\n",
    "        else:\n",
    "            cdr_C_contacts[cdr_atom_id][epitope_atom_element] = [(epitope_atom_id, distancias[i, j])]"
   ]
  },
  {
   "cell_type": "code",
   "execution_count": 557,
   "metadata": {},
   "outputs": [
    {
     "data": {
      "text/plain": [
       "{'C': [(4652, 0.39248687)]}"
      ]
     },
     "execution_count": 557,
     "metadata": {},
     "output_type": "execute_result"
    }
   ],
   "source": [
    "cdr_C_contacts[6764]"
   ]
  },
  {
   "cell_type": "code",
   "execution_count": 564,
   "metadata": {},
   "outputs": [
    {
     "data": {
      "text/plain": [
       "array([-3.3322,  2.8615,  0.7918], dtype=float32)"
      ]
     },
     "execution_count": 564,
     "metadata": {},
     "output_type": "execute_result"
    }
   ],
   "source": [
    "trj_in.xyz[0][6764, :]"
   ]
  },
  {
   "cell_type": "code",
   "execution_count": 558,
   "metadata": {},
   "outputs": [
    {
     "data": {
      "text/plain": [
       "(HIS99-CG, THR455-CB)"
      ]
     },
     "execution_count": 558,
     "metadata": {},
     "output_type": "execute_result"
    }
   ],
   "source": [
    "(al[6764], al[4652])"
   ]
  },
  {
   "cell_type": "code",
   "execution_count": 559,
   "metadata": {},
   "outputs": [
    {
     "data": {
      "text/plain": [
       "(6777, 4653)"
      ]
     },
     "execution_count": 559,
     "metadata": {},
     "output_type": "execute_result"
    }
   ],
   "source": [
    "(al[6764].serial, al[4652].serial)"
   ]
  },
  {
   "cell_type": "code",
   "execution_count": 383,
   "metadata": {},
   "outputs": [],
   "source": [
    "masc = distancias[0][cc_indices] < cutoff"
   ]
  },
  {
   "cell_type": "code",
   "execution_count": 151,
   "metadata": {},
   "outputs": [],
   "source": [
    "a = next(trj_in.topology.atoms)"
   ]
  },
  {
   "cell_type": "code",
   "execution_count": 208,
   "metadata": {},
   "outputs": [
    {
     "data": {
      "text/plain": [
       "<generator object Topology.atoms at 0x7fc481e07c10>"
      ]
     },
     "execution_count": 208,
     "metadata": {},
     "output_type": "execute_result"
    }
   ],
   "source": [
    "trj_in.topology.atoms"
   ]
  },
  {
   "cell_type": "code",
   "execution_count": 222,
   "metadata": {},
   "outputs": [],
   "source": []
  },
  {
   "cell_type": "code",
   "execution_count": 225,
   "metadata": {},
   "outputs": [],
   "source": []
  },
  {
   "cell_type": "code",
   "execution_count": 68,
   "metadata": {},
   "outputs": [
    {
     "data": {
      "text/html": [
       "<div>\n",
       "<style scoped>\n",
       "    .dataframe tbody tr th:only-of-type {\n",
       "        vertical-align: middle;\n",
       "    }\n",
       "\n",
       "    .dataframe tbody tr th {\n",
       "        vertical-align: top;\n",
       "    }\n",
       "\n",
       "    .dataframe thead th {\n",
       "        text-align: right;\n",
       "    }\n",
       "</style>\n",
       "<table border=\"1\" class=\"dataframe\">\n",
       "  <thead>\n",
       "    <tr style=\"text-align: right;\">\n",
       "      <th></th>\n",
       "      <th>idcode</th>\n",
       "      <th>chainID</th>\n",
       "      <th>chain_type</th>\n",
       "      <th>cdr</th>\n",
       "      <th>cdr_seq</th>\n",
       "      <th>cdr_begin</th>\n",
       "      <th>cdr_end</th>\n",
       "      <th>cdr_atoms</th>\n",
       "      <th>epitope_atoms</th>\n",
       "      <th>epitope_residues</th>\n",
       "      <th>ag_ab_interface</th>\n",
       "      <th>ag_cdrchain_interface</th>\n",
       "      <th>ag_cdr_interface</th>\n",
       "      <th>ab_ag_interface</th>\n",
       "      <th>ag_ab_interface_res</th>\n",
       "      <th>ag_cdrchain_interface_res</th>\n",
       "      <th>ag_cdr_interface_res</th>\n",
       "      <th>ab_ag_interface_res</th>\n",
       "    </tr>\n",
       "  </thead>\n",
       "  <tbody>\n",
       "    <tr>\n",
       "      <th>10761</th>\n",
       "      <td>4ydk</td>\n",
       "      <td>H</td>\n",
       "      <td>H</td>\n",
       "      <td>1</td>\n",
       "      <td>GFTFNNY</td>\n",
       "      <td>26</td>\n",
       "      <td>32</td>\n",
       "      <td>[5552, 5553, 5554, 5555, 5556, 5557, 5558, 555...</td>\n",
       "      <td>[]</td>\n",
       "      <td>[]</td>\n",
       "      <td>{3584, 3592, 3593, 3596, 3597, 3599, 3600, 360...</td>\n",
       "      <td>{3584, 4738, 3582, 4742, 4358, 3592, 3593, 436...</td>\n",
       "      <td>{}</td>\n",
       "      <td>{6323, 6338, 6851, 6853, 6855, 6857, 6859, 686...</td>\n",
       "      <td>[(G, 370, GLU, HG2, 1), (G, 371, ILE, CG2, 1),...</td>\n",
       "      <td>[(G, 370, GLU, HG2, 1), (G, 455, THR, HB, 1), ...</td>\n",
       "      <td>[]</td>\n",
       "      <td>[(H, 71, ARG, N, 1), (H, 71, ARG, HG2, 1), (H,...</td>\n",
       "    </tr>\n",
       "    <tr>\n",
       "      <th>10762</th>\n",
       "      <td>4ydk</td>\n",
       "      <td>H</td>\n",
       "      <td>H</td>\n",
       "      <td>2</td>\n",
       "      <td>SAHGGS</td>\n",
       "      <td>52</td>\n",
       "      <td>56</td>\n",
       "      <td>[5963, 5964, 5965, 5966, 5967, 5968, 5969, 597...</td>\n",
       "      <td>[1209, 1233, 1238, 1243, 1244, 3530, 3533, 353...</td>\n",
       "      <td>[122, 123, 123, 124, 124, 368, 368, 368, 368, ...</td>\n",
       "      <td>{3584, 3592, 3593, 3596, 3597, 3599, 3600, 360...</td>\n",
       "      <td>{3584, 4738, 3582, 4742, 4358, 3592, 3593, 436...</td>\n",
       "      <td>{4397, 4378, 4379, 4380, 4381, 4383}</td>\n",
       "      <td>{6323, 6338, 6851, 6853, 6855, 6857, 6859, 686...</td>\n",
       "      <td>[(G, 370, GLU, HG2, 2), (G, 371, ILE, CG2, 2),...</td>\n",
       "      <td>[(G, 370, GLU, HG2, 2), (G, 455, THR, HB, 2), ...</td>\n",
       "      <td>[(G, 432, GLN, HB3, 2), (G, 431, GLY, N, 2), (...</td>\n",
       "      <td>[(H, 71, ARG, N, 2), (H, 71, ARG, HG2, 2), (H,...</td>\n",
       "    </tr>\n",
       "    <tr>\n",
       "      <th>10763</th>\n",
       "      <td>4ydk</td>\n",
       "      <td>H</td>\n",
       "      <td>H</td>\n",
       "      <td>3</td>\n",
       "      <td>VTFYHEGSGYYYRAGNYFDS</td>\n",
       "      <td>95</td>\n",
       "      <td>102</td>\n",
       "      <td>[6701, 6702, 6703, 6704, 6705, 6706, 6707, 670...</td>\n",
       "      <td>[950, 2128, 2133, 2134, 2135, 2414, 2483, 2484...</td>\n",
       "      <td>[105, 257, 257, 257, 257, 275, 280, 280, 280, ...</td>\n",
       "      <td>{3584, 3592, 3593, 3596, 3597, 3599, 3600, 360...</td>\n",
       "      <td>{3584, 4738, 3582, 4742, 4358, 3592, 3593, 436...</td>\n",
       "      <td>{3584, 4738, 4742, 4358, 3592, 3593, 4745, 474...</td>\n",
       "      <td>{6323, 6338, 6851, 6853, 6855, 6857, 6859, 686...</td>\n",
       "      <td>[(G, 370, GLU, HG2, 3), (G, 371, ILE, CG2, 3),...</td>\n",
       "      <td>[(G, 370, GLU, HG2, 3), (G, 455, THR, HB, 3), ...</td>\n",
       "      <td>[(G, 370, GLU, HG2, 3), (G, 455, THR, HB, 3), ...</td>\n",
       "      <td>[(H, 71, ARG, N, 3), (H, 71, ARG, HG2, 3), (H,...</td>\n",
       "    </tr>\n",
       "    <tr>\n",
       "      <th>10764</th>\n",
       "      <td>4ydk</td>\n",
       "      <td>L</td>\n",
       "      <td>K</td>\n",
       "      <td>1</td>\n",
       "      <td>RASQDIANYLN</td>\n",
       "      <td>24</td>\n",
       "      <td>34</td>\n",
       "      <td>[8957, 8958, 8959, 8960, 8961, 8962, 8963, 896...</td>\n",
       "      <td>[2489, 2494, 2495, 3508, 3509, 3510, 3512, 351...</td>\n",
       "      <td>[280, 280, 280, 365, 365, 365, 365, 365, 365, ...</td>\n",
       "      <td>{3584, 3592, 3593, 3596, 3597, 3599, 3600, 360...</td>\n",
       "      <td>{3523, 3524, 4772, 4771, 4778, 4781, 4912, 491...</td>\n",
       "      <td>{4912, 4913, 4772, 4781}</td>\n",
       "      <td>{6323, 6338, 6851, 6853, 6855, 6857, 6859, 686...</td>\n",
       "      <td>[(G, 370, GLU, HG2, 1), (G, 371, ILE, CG2, 1),...</td>\n",
       "      <td>[(G, 365, SER, HB2, 1), (G, 457, ASP, CG, 1), ...</td>\n",
       "      <td>[(G, 469, ARG, NE, 1), (G, 469, ARG, CZ, 1), (...</td>\n",
       "      <td>[(H, 71, ARG, N, 1), (H, 71, ARG, HG2, 1), (H,...</td>\n",
       "    </tr>\n",
       "    <tr>\n",
       "      <th>10765</th>\n",
       "      <td>4ydk</td>\n",
       "      <td>L</td>\n",
       "      <td>K</td>\n",
       "      <td>2</td>\n",
       "      <td>GATNLHH</td>\n",
       "      <td>50</td>\n",
       "      <td>56</td>\n",
       "      <td>[9393, 9394, 9395, 9396, 9397, 9398, 9399, 940...</td>\n",
       "      <td>[2488, 2494, 4708, 4711, 4713, 4714, 4715, 471...</td>\n",
       "      <td>[280, 280, 459, 459, 460, 460, 460, 460, 460, ...</td>\n",
       "      <td>{3584, 3592, 3593, 3596, 3597, 3599, 3600, 360...</td>\n",
       "      <td>{3523, 3524, 4772, 4771, 4778, 4781, 4912, 491...</td>\n",
       "      <td>{}</td>\n",
       "      <td>{6323, 6338, 6851, 6853, 6855, 6857, 6859, 686...</td>\n",
       "      <td>[(G, 370, GLU, HG2, 2), (G, 371, ILE, CG2, 2),...</td>\n",
       "      <td>[(G, 365, SER, HB2, 2), (G, 457, ASP, CG, 2), ...</td>\n",
       "      <td>[]</td>\n",
       "      <td>[(H, 71, ARG, N, 2), (H, 71, ARG, HG2, 2), (H,...</td>\n",
       "    </tr>\n",
       "    <tr>\n",
       "      <th>10766</th>\n",
       "      <td>4ydk</td>\n",
       "      <td>L</td>\n",
       "      <td>K</td>\n",
       "      <td>3</td>\n",
       "      <td>QQSFQTVGS</td>\n",
       "      <td>89</td>\n",
       "      <td>97</td>\n",
       "      <td>[9962, 9963, 9964, 9965, 9966, 9967, 9968, 996...</td>\n",
       "      <td>[3504, 3505, 3506, 3507, 3508, 3509, 3510, 351...</td>\n",
       "      <td>[365, 365, 365, 365, 365, 365, 365, 365, 365, ...</td>\n",
       "      <td>{3584, 3592, 3593, 3596, 3597, 3599, 3600, 360...</td>\n",
       "      <td>{3523, 3524, 4772, 4771, 4778, 4781, 4912, 491...</td>\n",
       "      <td>{3523, 3524, 3519}</td>\n",
       "      <td>{6323, 6338, 6851, 6853, 6855, 6857, 6859, 686...</td>\n",
       "      <td>[(G, 370, GLU, HG2, 3), (G, 371, ILE, CG2, 3),...</td>\n",
       "      <td>[(G, 365, SER, HB2, 3), (G, 457, ASP, CG, 3), ...</td>\n",
       "      <td>[(G, 365, SER, HB2, 3), (G, 365, SER, HB3, 3),...</td>\n",
       "      <td>[(H, 71, ARG, N, 3), (H, 71, ARG, HG2, 3), (H,...</td>\n",
       "    </tr>\n",
       "  </tbody>\n",
       "</table>\n",
       "</div>"
      ],
      "text/plain": [
       "      idcode chainID chain_type  cdr               cdr_seq  cdr_begin  \\\n",
       "10761   4ydk       H          H    1               GFTFNNY         26   \n",
       "10762   4ydk       H          H    2                SAHGGS         52   \n",
       "10763   4ydk       H          H    3  VTFYHEGSGYYYRAGNYFDS         95   \n",
       "10764   4ydk       L          K    1           RASQDIANYLN         24   \n",
       "10765   4ydk       L          K    2               GATNLHH         50   \n",
       "10766   4ydk       L          K    3             QQSFQTVGS         89   \n",
       "\n",
       "       cdr_end                                          cdr_atoms  \\\n",
       "10761       32  [5552, 5553, 5554, 5555, 5556, 5557, 5558, 555...   \n",
       "10762       56  [5963, 5964, 5965, 5966, 5967, 5968, 5969, 597...   \n",
       "10763      102  [6701, 6702, 6703, 6704, 6705, 6706, 6707, 670...   \n",
       "10764       34  [8957, 8958, 8959, 8960, 8961, 8962, 8963, 896...   \n",
       "10765       56  [9393, 9394, 9395, 9396, 9397, 9398, 9399, 940...   \n",
       "10766       97  [9962, 9963, 9964, 9965, 9966, 9967, 9968, 996...   \n",
       "\n",
       "                                           epitope_atoms  \\\n",
       "10761                                                 []   \n",
       "10762  [1209, 1233, 1238, 1243, 1244, 3530, 3533, 353...   \n",
       "10763  [950, 2128, 2133, 2134, 2135, 2414, 2483, 2484...   \n",
       "10764  [2489, 2494, 2495, 3508, 3509, 3510, 3512, 351...   \n",
       "10765  [2488, 2494, 4708, 4711, 4713, 4714, 4715, 471...   \n",
       "10766  [3504, 3505, 3506, 3507, 3508, 3509, 3510, 351...   \n",
       "\n",
       "                                        epitope_residues  \\\n",
       "10761                                                 []   \n",
       "10762  [122, 123, 123, 124, 124, 368, 368, 368, 368, ...   \n",
       "10763  [105, 257, 257, 257, 257, 275, 280, 280, 280, ...   \n",
       "10764  [280, 280, 280, 365, 365, 365, 365, 365, 365, ...   \n",
       "10765  [280, 280, 459, 459, 460, 460, 460, 460, 460, ...   \n",
       "10766  [365, 365, 365, 365, 365, 365, 365, 365, 365, ...   \n",
       "\n",
       "                                         ag_ab_interface  \\\n",
       "10761  {3584, 3592, 3593, 3596, 3597, 3599, 3600, 360...   \n",
       "10762  {3584, 3592, 3593, 3596, 3597, 3599, 3600, 360...   \n",
       "10763  {3584, 3592, 3593, 3596, 3597, 3599, 3600, 360...   \n",
       "10764  {3584, 3592, 3593, 3596, 3597, 3599, 3600, 360...   \n",
       "10765  {3584, 3592, 3593, 3596, 3597, 3599, 3600, 360...   \n",
       "10766  {3584, 3592, 3593, 3596, 3597, 3599, 3600, 360...   \n",
       "\n",
       "                                   ag_cdrchain_interface  \\\n",
       "10761  {3584, 4738, 3582, 4742, 4358, 3592, 3593, 436...   \n",
       "10762  {3584, 4738, 3582, 4742, 4358, 3592, 3593, 436...   \n",
       "10763  {3584, 4738, 3582, 4742, 4358, 3592, 3593, 436...   \n",
       "10764  {3523, 3524, 4772, 4771, 4778, 4781, 4912, 491...   \n",
       "10765  {3523, 3524, 4772, 4771, 4778, 4781, 4912, 491...   \n",
       "10766  {3523, 3524, 4772, 4771, 4778, 4781, 4912, 491...   \n",
       "\n",
       "                                        ag_cdr_interface  \\\n",
       "10761                                                 {}   \n",
       "10762               {4397, 4378, 4379, 4380, 4381, 4383}   \n",
       "10763  {3584, 4738, 4742, 4358, 3592, 3593, 4745, 474...   \n",
       "10764                           {4912, 4913, 4772, 4781}   \n",
       "10765                                                 {}   \n",
       "10766                                 {3523, 3524, 3519}   \n",
       "\n",
       "                                         ab_ag_interface  \\\n",
       "10761  {6323, 6338, 6851, 6853, 6855, 6857, 6859, 686...   \n",
       "10762  {6323, 6338, 6851, 6853, 6855, 6857, 6859, 686...   \n",
       "10763  {6323, 6338, 6851, 6853, 6855, 6857, 6859, 686...   \n",
       "10764  {6323, 6338, 6851, 6853, 6855, 6857, 6859, 686...   \n",
       "10765  {6323, 6338, 6851, 6853, 6855, 6857, 6859, 686...   \n",
       "10766  {6323, 6338, 6851, 6853, 6855, 6857, 6859, 686...   \n",
       "\n",
       "                                     ag_ab_interface_res  \\\n",
       "10761  [(G, 370, GLU, HG2, 1), (G, 371, ILE, CG2, 1),...   \n",
       "10762  [(G, 370, GLU, HG2, 2), (G, 371, ILE, CG2, 2),...   \n",
       "10763  [(G, 370, GLU, HG2, 3), (G, 371, ILE, CG2, 3),...   \n",
       "10764  [(G, 370, GLU, HG2, 1), (G, 371, ILE, CG2, 1),...   \n",
       "10765  [(G, 370, GLU, HG2, 2), (G, 371, ILE, CG2, 2),...   \n",
       "10766  [(G, 370, GLU, HG2, 3), (G, 371, ILE, CG2, 3),...   \n",
       "\n",
       "                               ag_cdrchain_interface_res  \\\n",
       "10761  [(G, 370, GLU, HG2, 1), (G, 455, THR, HB, 1), ...   \n",
       "10762  [(G, 370, GLU, HG2, 2), (G, 455, THR, HB, 2), ...   \n",
       "10763  [(G, 370, GLU, HG2, 3), (G, 455, THR, HB, 3), ...   \n",
       "10764  [(G, 365, SER, HB2, 1), (G, 457, ASP, CG, 1), ...   \n",
       "10765  [(G, 365, SER, HB2, 2), (G, 457, ASP, CG, 2), ...   \n",
       "10766  [(G, 365, SER, HB2, 3), (G, 457, ASP, CG, 3), ...   \n",
       "\n",
       "                                    ag_cdr_interface_res  \\\n",
       "10761                                                 []   \n",
       "10762  [(G, 432, GLN, HB3, 2), (G, 431, GLY, N, 2), (...   \n",
       "10763  [(G, 370, GLU, HG2, 3), (G, 455, THR, HB, 3), ...   \n",
       "10764  [(G, 469, ARG, NE, 1), (G, 469, ARG, CZ, 1), (...   \n",
       "10765                                                 []   \n",
       "10766  [(G, 365, SER, HB2, 3), (G, 365, SER, HB3, 3),...   \n",
       "\n",
       "                                     ab_ag_interface_res  \n",
       "10761  [(H, 71, ARG, N, 1), (H, 71, ARG, HG2, 1), (H,...  \n",
       "10762  [(H, 71, ARG, N, 2), (H, 71, ARG, HG2, 2), (H,...  \n",
       "10763  [(H, 71, ARG, N, 3), (H, 71, ARG, HG2, 3), (H,...  \n",
       "10764  [(H, 71, ARG, N, 1), (H, 71, ARG, HG2, 1), (H,...  \n",
       "10765  [(H, 71, ARG, N, 2), (H, 71, ARG, HG2, 2), (H,...  \n",
       "10766  [(H, 71, ARG, N, 3), (H, 71, ARG, HG2, 3), (H,...  "
      ]
     },
     "execution_count": 68,
     "metadata": {},
     "output_type": "execute_result"
    }
   ],
   "source": [
    "buried_fullab.query(f\"idcode == '4ydk'\").\n"
   ]
  }
 ],
 "metadata": {
  "interpreter": {
   "hash": "31f2aee4e71d21fbe5cf8b01ff0e069b9275f58929596ceb00d14d90e3e16cd6"
  },
  "kernelspec": {
   "display_name": "Python 3.8.10 64-bit",
   "name": "python3"
  },
  "language_info": {
   "codemirror_mode": {
    "name": "ipython",
    "version": 3
   },
   "file_extension": ".py",
   "mimetype": "text/x-python",
   "name": "python",
   "nbconvert_exporter": "python",
   "pygments_lexer": "ipython3",
   "version": "3.8.12"
  },
  "orig_nbformat": 4
 },
 "nbformat": 4,
 "nbformat_minor": 2
}
