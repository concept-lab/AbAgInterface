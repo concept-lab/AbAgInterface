{
 "cells": [
  {
   "cell_type": "code",
   "execution_count": 1,
   "metadata": {},
   "outputs": [],
   "source": [
    "import sys\n",
    "import glob\n",
    "import imp\n",
    "from pathlib import Path\n",
    "import itertools\n",
    "import pandas as pd\n",
    "import mdtraj as md\n",
    "import logging\n",
    "import plotly.graph_objects as go\n",
    "import plotly.express as px\n",
    "import plotly.express as px\n",
    "import plotly.io as pio\n",
    "px.defaults.template = 'ggplot2'\n",
    "px.defaults.template = 'simple_white'\n",
    "pio.templates.default = 'simple_white'\n",
    "cdr_colors = [\"#74D2F5\", \"#5495D6\", \"#3763F5\", \"#CF81EB\", \"#E564F5\", \"#A04AD6\",\n",
    "    'Aqua', 'AquaMarine']\n",
    "from collections import Counter\n",
    "import pickle\n",
    "import subprocess\n",
    "from joblib import Parallel, delayed\n",
    "import importlib\n",
    "from collections import namedtuple\n",
    "TYRs = namedtuple('TYRs', ['heavy', 'light', 'antigen'])\n",
    "ResiCount = namedtuple('ResiCount', ['antibody', 'antigen'])\n",
    "PolarCount = namedtuple('PolarCount', ['cdr_SC', 'cdr_BB', 'epi_SC', 'epi_BB'])\n",
    "Chains = namedtuple('Chains', ['antibody', 'antigen'])\n",
    "InterfaceAtoms = namedtuple('InterfaceAtoms', ['antibody', 'antigen'])\n",
    "PiPiPair = namedtuple('PiPiPair', ['antibody', 'antigen'])\n",
    "PionPair = namedtuple('PionPair', ['ring', 'ion'])\n",
    "HBondAtom = namedtuple('HBondAtom', ['chainID', 'chain_type',\n",
    "                       'CDR', 'resSeq', 'resname', 'index', 'serial', 'element', 'is_sidechain'])\n",
    "HBond = namedtuple('HBond', ['donor', 'acceptor'])\n",
    "Atom = namedtuple('Atom', ['index', 'serial', 'element', 'is_sidechain', 'resSeq',\n",
    "                  'resSeq_str', 'resname', 'chain_ID', 'chain_type', 'CDR'])\n",
    "Ring = namedtuple('Ring', ['indices', 'serials', 'resSeq', 'resSeq_str',\n",
    "                           'resname', 'chain_ID', 'chain_type', 'CDR'])\n",
    "ShieldingAtom = namedtuple(\n",
    "    'ShieldingAtom', ['chainID', 'chain_type', 'CDR', 'resSeq', 'resname', 'index',\n",
    "                      'serial', 'element', 'is_sidechain'])\n",
    "res_SSE = namedtuple('res_SSE', ['index', 'resSeq', 'name', 'DSSP'])\n",
    "\n",
    "source_location = Path().resolve()\n",
    "sys.path.append(source_location)\n",
    "\n",
    "from abag_interactions_hydrophobic import *\n",
    "from abag_interactions_rings import *\n",
    "from interactions_polar import *\n",
    "\n",
    "casa_dir = Path(\"/home/pbarletta/labo/22/AbAgInterface\")\n",
    "data_dir = Path.joinpath(casa_dir, \"data\")\n",
    "str_dir = Path.joinpath(casa_dir, \"structures/raw\")\n",
    "exposed_dir = Path.joinpath(casa_dir, \"structures/exposed\")"
   ]
  },
  {
   "cell_type": "code",
   "execution_count": 2,
   "metadata": {},
   "outputs": [
    {
     "name": "stdout",
     "output_type": "stream",
     "text": [
      "Reading epitope_buried_cleaned.pickle\n",
      "Reading buried_interface_res.pickle\n"
     ]
    }
   ],
   "source": [
    "print(\"Reading epitope_buried_cleaned.pickle\")\n",
    "with open(Path.joinpath(\n",
    "        casa_dir, \"data\", 'epitope_buried_cleaned.pickle'), 'rb') as file:\n",
    "    epitope_buried_cleaned = pickle.load(file)\n",
    "\n",
    "print(\"Reading buried_interface_res.pickle\")\n",
    "with open(Path.joinpath(casa_dir, \"data\", 'buried_interface_res.pickle'), 'rb') as file:\n",
    "    buried_interface_res = pickle.load(file)\n",
    "\n",
    "with open(Path.joinpath(data_dir, 'pdb.list'), 'r') as file:\n",
    "    pdb_list = [ linea.strip() for linea in file ]\n",
    "\n",
    "with open(Path.joinpath(data_dir, 'interface_atoms.pkl'), 'rb') as file:\n",
    "        interface_atoms = pickle.load(file)"
   ]
  },
  {
   "cell_type": "markdown",
   "metadata": {},
   "source": [
    "----"
   ]
  },
  {
   "cell_type": "markdown",
   "metadata": {},
   "source": [
    "## Hydrophobic"
   ]
  },
  {
   "cell_type": "code",
   "execution_count": 3,
   "metadata": {},
   "outputs": [],
   "source": [
    "with open(Path.joinpath(casa_dir, 'data', 'chains.pkl'), 'rb') as file:\n",
    "    chains = pickle.load(file)\n",
    "with(open(Path.joinpath(data_dir, 'pdb.list'), 'r')) as file:\n",
    "    pdb_list = [ linea.strip() for linea in file ]\n",
    "with open(Path.joinpath(casa_dir, 'data', 'filenames.pkl'), 'rb') as file:\n",
    "    filenames = pickle.load(file)\n",
    "with open(Path.joinpath(data_dir, 'interface_atoms.pkl'), 'rb') as file:\n",
    "    interface_atoms = pickle.load(file)\n",
    "with open(Path.joinpath(data_dir, 'hydrophobic.pkl'), 'rb') as file:\n",
    "    hydrophobic = pickle.load(file)"
   ]
  },
  {
   "cell_type": "code",
   "execution_count": 12,
   "metadata": {},
   "outputs": [],
   "source": [
    "import abag_interactions_hydrophobic\n",
    "imp.reload(abag_interactions_hydrophobic)\n",
    "from abag_interactions_hydrophobic import *"
   ]
  },
  {
   "cell_type": "code",
   "execution_count": 93,
   "metadata": {},
   "outputs": [],
   "source": [
    "check_pdb = '3cvh'\n",
    "idx = pdb_list.index(check_pdb)\n",
    "for pdb_idcode in [pdb_list[idx]]:\n",
    "# for pdb_idcode in pdb_list:\n",
    "    logging.info(pdb_idcode)\n",
    "\n",
    "    pdb_filename = Path(filenames[pdb_idcode])\n",
    "    trj_in = md.load(Path.joinpath(exposed_dir, pdb_idcode, pdb_filename))\n",
    "    ab_chains = chains[pdb_idcode].antibody \n",
    "    ag_chains = chains[pdb_idcode].antigen\n",
    "    #\n",
    "    # Hydrophobic clusters\n",
    "    #\n",
    "    try:\n",
    "        G = get_carbons_graph(trj_in, interface_atoms[pdb_idcode], cutoff_carbons)\n",
    "        pre_clusteres = get_putative_clusters(G)\n",
    "        clusters = merge_clusters(trj_in, pre_clusteres, cutoff_clusters)\n",
    "    except Exception as e:\n",
    "        logging.warning(\n",
    "            f\"- {pdb_idcode} raised: {e.__class__}, saying: {e}, during hydrophobic \"\n",
    "            f\"interactions calculation. Probably has no hydrophobic interactions.\")\n",
    "        raise e"
   ]
  },
  {
   "cell_type": "code",
   "execution_count": 94,
   "metadata": {},
   "outputs": [],
   "source": [
    "draw_clusters(Path.joinpath(exposed_dir, pdb_idcode, pdb_filename),\n",
    "    interface_atoms[pdb_idcode], ag_chains, clusters,\n",
    "    str( Path.joinpath(casa_dir, 'aux', \"clusters.py\")))"
   ]
  },
  {
   "cell_type": "code",
   "execution_count": 88,
   "metadata": {},
   "outputs": [
    {
     "data": {
      "text/plain": [
       "(PionPair(ring=Ring(indices=(2970, 2971, 2972, 2973, 2974, 2975, 2976, 2977, 2978, 2979, 2980, 2981), serials=(2972, 2973, 2974, 2975, 2976, 2977, 2978, 2979, 2980, 2981, 2982, 2983), resSeq=52, resSeq_str='', resname='TYR', chain_ID='H', chain_type='H', CDR=2), ion=Atom(index=1094, serial=1095, element='N', is_sidechain=True, resSeq=148, resSeq_str='148', resname='ARG', chain_ID='A', chain_type='.', CDR=-1)),)"
      ]
     },
     "execution_count": 88,
     "metadata": {},
     "output_type": "execute_result"
    }
   ],
   "source": [
    "PiCation[pdb_idcode]"
   ]
  },
  {
   "cell_type": "code",
   "execution_count": 285,
   "metadata": {},
   "outputs": [
    {
     "name": "stdout",
     "output_type": "stream",
     "text": [
      "cdrH1 = 'resi 26 and chain H or resi 27 and chain H or resi 28 and chain H or resi 29 and chain H or resi 30 and chain H or resi 31 and chain H or resi 31 and chain H'\n",
      "cdrH2 = 'resi 52 and chain H or resi 53 and chain H or resi 54 and chain H or resi 55 and chain H or resi 56 and chain H or resi 56 and chain H'\n",
      "cdrH3 = 'resi 99 and chain H or resi 100 and chain H or resi 101 and chain H or resi 102 and chain H or resi 103 and chain H or resi 104 and chain H or resi 105 and chain H or resi 106 and chain H or resi 107 and chain H or resi 108 and chain H or resi 109 and chain H or resi 110 and chain H or resi 111 and chain H or resi 112 and chain H or resi 113 and chain H or resi 114 and chain H or resi 114 and chain H'\n",
      "cdrL1 = 'resi 23 and chain L or resi 24 and chain L or resi 25 and chain L or resi 26 and chain L or resi 27 and chain L or resi 28 and chain L or resi 29 and chain L or resi 30 and chain L or resi 31 and chain L or resi 32 and chain L or resi 32 and chain L'\n",
      "cdrL2 = 'resi 49 and chain L or resi 50 and chain L or resi 51 and chain L or resi 52 and chain L or resi 53 and chain L or resi 54 and chain L or resi 54 and chain L'\n",
      "cdrL3 = 'resi 88 and chain L or resi 89 and chain L or resi 90 and chain L or resi 91 and chain L or resi 92 and chain L or resi 93 and chain L or resi 94 and chain L or resi 95 and chain L or resi 96 and chain L or resi 96 and chain L'\n"
     ]
    }
   ],
   "source": [
    "cadenas = []\n",
    "for i, row in enumerate(epitope_buried_cleaned.query(f\"idcode == '{check_pdb}'\").iterrows()):\n",
    "    beg = int(row[1].cdr_begin)\n",
    "    end = int(row[1].cdr_end) + 1\n",
    "    chainID = row[1].chainID\n",
    "    chain_type = row[1].chain_type\n",
    "    resis = range(beg, end)\n",
    "    cadena = chain_type + str(i%3+1)\n",
    "    cadenas.append(cadena)\n",
    "\n",
    "    print(f\"cdr{cadena} = '\", end='')\n",
    "    for resi in resis[:-1]:\n",
    "        print(f\"resi {resi} and chain {chainID}\", end = ' or ')\n",
    "    print(f\"resi {resi} and chain {chainID}'\")"
   ]
  },
  {
   "cell_type": "code",
   "execution_count": 286,
   "metadata": {},
   "outputs": [
    {
     "name": "stdout",
     "output_type": "stream",
     "text": [
      "cmd.color('0x74D2F5', cdrH1)\n",
      "cmd.color('0x5495D6', cdrH2)\n",
      "cmd.color('0x3763F5', cdrH3)\n",
      "cmd.color('0xCF81EB', cdrL1)\n",
      "cmd.color('0xE564F5', cdrL2)\n",
      "cmd.color('0xA04AD6', cdrL3)\n"
     ]
    }
   ],
   "source": [
    "for i, (color, cadena) in enumerate(zip(cdr_colors, cadenas)):\n",
    "    print(f\"cmd.color('0x{color.lstrip('#')}', cdr{cadena})\")"
   ]
  },
  {
   "cell_type": "code",
   "execution_count": 221,
   "metadata": {},
   "outputs": [
    {
     "name": "stdout",
     "output_type": "stream",
     "text": [
      "polares = 'id 5313 or id 5304 or id 7922 or id 5305 or id 5291 or id 6198 or id 5314 or id 5308 or id 4848 or id 5303 or id 5296 or id 5312 or id 4839 or id 4849 or id 5277 or id 4901 or id 5274 or id 4879 or id 4872 or id 7899 or id 4911 or id 4875 or id 5346 or id 4910 or id 5738 or id 5738'\n",
      "cmd.show('spheres', polares)\n"
     ]
    }
   ],
   "source": [
    "polars = list(shielding_dict['1lk3'].keys())\n",
    "print(f\"polares = '\", end='')\n",
    "for pp in polars[:-1]:\n",
    "    p =  trj_in.topology.atom(pp).serial\n",
    "    print(f\"id {p}\", end = ' or ')\n",
    "print(f\"id {p}'\")\n",
    "print(f\"cmd.show('spheres', polares)\")"
   ]
  },
  {
   "cell_type": "code",
   "execution_count": 220,
   "metadata": {},
   "outputs": [
    {
     "data": {
      "text/plain": [
       "5738"
      ]
     },
     "execution_count": 220,
     "metadata": {},
     "output_type": "execute_result"
    }
   ],
   "source": [
    "'0x74D2F5'\n",
    "'0x5495D6'\n",
    "'0x3763F5'\n",
    "'0xCF81EB'\n",
    "'0xE564F5'\n",
    "'0xA04AD6'"
   ]
  },
  {
   "cell_type": "code",
   "execution_count": 217,
   "metadata": {},
   "outputs": [],
   "source": [
    "with open(Path.joinpath(casa_dir, 'data', 'shielding.pkl'), 'rb') as file:\n",
    "    shielding_dict = pickle.load(file)"
   ]
  },
  {
   "cell_type": "code",
   "execution_count": 201,
   "metadata": {},
   "outputs": [
    {
     "data": {
      "text/plain": [
       "['H1', 'H2', 'H3', 'K1', 'K2', 'K3']"
      ]
     },
     "execution_count": 201,
     "metadata": {},
     "output_type": "execute_result"
    }
   ],
   "source": [
    "cadenas"
   ]
  },
  {
   "cell_type": "code",
   "execution_count": 127,
   "metadata": {},
   "outputs": [
    {
     "data": {
      "text/plain": [
       "[(255, HIS79-CB)]"
      ]
     },
     "execution_count": 127,
     "metadata": {},
     "output_type": "execute_result"
    }
   ],
   "source": [
    "[ (atm.index, atm)  for atm in trj_in.topology.atoms if atm.serial == 261]"
   ]
  },
  {
   "cell_type": "code",
   "execution_count": 173,
   "metadata": {},
   "outputs": [
    {
     "data": {
      "text/html": [
       "<div>\n",
       "<style scoped>\n",
       "    .dataframe tbody tr th:only-of-type {\n",
       "        vertical-align: middle;\n",
       "    }\n",
       "\n",
       "    .dataframe tbody tr th {\n",
       "        vertical-align: top;\n",
       "    }\n",
       "\n",
       "    .dataframe thead th {\n",
       "        text-align: right;\n",
       "    }\n",
       "</style>\n",
       "<table border=\"1\" class=\"dataframe\">\n",
       "  <thead>\n",
       "    <tr style=\"text-align: right;\">\n",
       "      <th></th>\n",
       "      <th>idcode</th>\n",
       "      <th>chainID</th>\n",
       "      <th>chain_type</th>\n",
       "      <th>cdr</th>\n",
       "      <th>cdr_seq</th>\n",
       "      <th>cdr_begin</th>\n",
       "      <th>cdr_end</th>\n",
       "      <th>cdr_atoms</th>\n",
       "      <th>epitope_atoms</th>\n",
       "      <th>epitope_residues</th>\n",
       "      <th>ag_ab_interface</th>\n",
       "      <th>ag_cdrchain_interface</th>\n",
       "      <th>ag_cdr_interface</th>\n",
       "      <th>ab_ag_interface</th>\n",
       "      <th>ag_interface</th>\n",
       "      <th>ag_ab_interface_res</th>\n",
       "      <th>ag_cdrchain_interface_res</th>\n",
       "      <th>ag_cdr_interface_res</th>\n",
       "      <th>ab_ag_interface_res</th>\n",
       "      <th>ag_interface_res</th>\n",
       "    </tr>\n",
       "  </thead>\n",
       "  <tbody>\n",
       "    <tr>\n",
       "      <th>6090</th>\n",
       "      <td>1fbi</td>\n",
       "      <td>H</td>\n",
       "      <td>H</td>\n",
       "      <td>1</td>\n",
       "      <td>GYTFTSY</td>\n",
       "      <td>26</td>\n",
       "      <td>32</td>\n",
       "      <td>[1807, 1808, 1809, 1810, 1811, 1812, 1813, 181...</td>\n",
       "      <td>[3409, 3415, 3416, 3419, 3421, 3422, 3423, 342...</td>\n",
       "      <td>[  19 ,   20 ,   20 ,   20 ,   20 ,   20 ,   2...</td>\n",
       "      <td>{6785, 6786, 7938, 6788, 6789, 7687, 7943, 769...</td>\n",
       "      <td>{6785, 6786, 7938, 6788, 6789, 7943, 6795, 769...</td>\n",
       "      <td>{6880, 6882, 6889, 6860, 6892, 6862, 6863, 6874}</td>\n",
       "      <td>{1544, 791, 4760, 792, 793, 3736, 3737, 794, 1...</td>\n",
       "      <td>{8204, 8205, 8206, 8210, 8212, 8213, 8214, 821...</td>\n",
       "      <td>[(X,   15 , HIS, CA, 1), (X,   15 , HIS, C, 1)...</td>\n",
       "      <td>[(X,   15 , HIS, CA, 1), (X,   15 , HIS, C, 1)...</td>\n",
       "      <td>[(X,   21 , ARG, CD, 1), (X,   21 , ARG, CZ, 1...</td>\n",
       "      <td>[(H,  102 , TYR, O, 1), (H,   52 , ASP, CB, 1)...</td>\n",
       "      <td>[(X,  111 , TRP, HZ2, 1), (X,  111 , TRP, HZ3,...</td>\n",
       "    </tr>\n",
       "    <tr>\n",
       "      <th>6091</th>\n",
       "      <td>1fbi</td>\n",
       "      <td>H</td>\n",
       "      <td>H</td>\n",
       "      <td>2</td>\n",
       "      <td>DPSDSY</td>\n",
       "      <td>52</td>\n",
       "      <td>57</td>\n",
       "      <td>[2025, 2026, 2027, 2028, 2029, 2030, 2031, 203...</td>\n",
       "      <td>[3367, 3368, 3376, 3377, 3378, 3379, 3380, 338...</td>\n",
       "      <td>[  14 ,   14 ,   15 ,   15 ,   15 ,   15 ,   1...</td>\n",
       "      <td>{6785, 6786, 7938, 6788, 6789, 7687, 7943, 769...</td>\n",
       "      <td>{6785, 6786, 7938, 6788, 6789, 7943, 6795, 769...</td>\n",
       "      <td>{7968, 6785, 6786, 7938, 6788, 6789, 7970, 794...</td>\n",
       "      <td>{1544, 791, 4760, 792, 793, 3736, 3737, 794, 1...</td>\n",
       "      <td>{8204, 8205, 8206, 8210, 8212, 8213, 8214, 821...</td>\n",
       "      <td>[(X,   15 , HIS, CA, 2), (X,   15 , HIS, C, 2)...</td>\n",
       "      <td>[(X,   15 , HIS, CA, 2), (X,   15 , HIS, C, 2)...</td>\n",
       "      <td>[(X,   96 , LYS, CD, 2), (X,   15 , HIS, CA, 2...</td>\n",
       "      <td>[(H,  102 , TYR, O, 2), (H,   52 , ASP, CB, 2)...</td>\n",
       "      <td>[(X,  111 , TRP, HZ2, 2), (X,  111 , TRP, HZ3,...</td>\n",
       "    </tr>\n",
       "    <tr>\n",
       "      <th>6092</th>\n",
       "      <td>1fbi</td>\n",
       "      <td>H</td>\n",
       "      <td>H</td>\n",
       "      <td>3</td>\n",
       "      <td>LYYYGTSYGVLDY</td>\n",
       "      <td>99</td>\n",
       "      <td>111</td>\n",
       "      <td>[2376, 2377, 2378, 2379, 2380, 2381, 2382, 238...</td>\n",
       "      <td>[3434, 3436, 3751, 3753, 3769, 3771, 3772, 384...</td>\n",
       "      <td>[  21 ,   21 ,   62 ,   62 ,   63 ,   63 ,   6...</td>\n",
       "      <td>{6785, 6786, 7938, 6788, 6789, 7687, 7943, 769...</td>\n",
       "      <td>{6785, 6786, 7938, 6788, 6789, 7943, 6795, 769...</td>\n",
       "      <td>{7522, 7691, 7532, 7531, 8049, 7987, 7700, 770...</td>\n",
       "      <td>{1544, 791, 4760, 792, 793, 3736, 3737, 794, 1...</td>\n",
       "      <td>{8204, 8205, 8206, 8210, 8212, 8213, 8214, 821...</td>\n",
       "      <td>[(X,   15 , HIS, CA, 3), (X,   15 , HIS, C, 3)...</td>\n",
       "      <td>[(X,   15 , HIS, CA, 3), (X,   15 , HIS, C, 3)...</td>\n",
       "      <td>[(X,   63 , TRP, CH2, 3), (X,   75 , LEU, CD2,...</td>\n",
       "      <td>[(H,  102 , TYR, O, 3), (H,   52 , ASP, CB, 3)...</td>\n",
       "      <td>[(X,  111 , TRP, HZ2, 3), (X,  111 , TRP, HZ3,...</td>\n",
       "    </tr>\n",
       "    <tr>\n",
       "      <th>6093</th>\n",
       "      <td>1fbi</td>\n",
       "      <td>L</td>\n",
       "      <td>K</td>\n",
       "      <td>1</td>\n",
       "      <td>RASQDISNYLN</td>\n",
       "      <td>24</td>\n",
       "      <td>34</td>\n",
       "      <td>[157, 158, 159, 160, 161, 162, 163, 164, 165, ...</td>\n",
       "      <td>[3753, 3754, 3756, 3758, 3841, 3842, 3843, 3844]</td>\n",
       "      <td>[  62 ,   62 ,   62 ,   62 ,   73 ,   73 ,   7...</td>\n",
       "      <td>{6785, 6786, 7938, 6788, 6789, 7687, 7943, 769...</td>\n",
       "      <td>{7649, 7651, 7652, 7653, 7654, 7497, 7658, 769...</td>\n",
       "      <td>{7654}</td>\n",
       "      <td>{1544, 791, 4760, 792, 793, 3736, 3737, 794, 1...</td>\n",
       "      <td>{8204, 8205, 8206, 8210, 8212, 8213, 8214, 821...</td>\n",
       "      <td>[(X,   15 , HIS, CA, 1), (X,   15 , HIS, C, 1)...</td>\n",
       "      <td>[(X,   73 , ARG, O, 1), (X,   73 , ARG, CG, 1)...</td>\n",
       "      <td>[(X,   73 , ARG, CZ, 1)]</td>\n",
       "      <td>[(H,  102 , TYR, O, 1), (H,   52 , ASP, CB, 1)...</td>\n",
       "      <td>[(X,  111 , TRP, HZ2, 1), (X,  111 , TRP, HZ3,...</td>\n",
       "    </tr>\n",
       "    <tr>\n",
       "      <th>6094</th>\n",
       "      <td>1fbi</td>\n",
       "      <td>L</td>\n",
       "      <td>K</td>\n",
       "      <td>2</td>\n",
       "      <td>YTSRLHS</td>\n",
       "      <td>50</td>\n",
       "      <td>56</td>\n",
       "      <td>[377, 378, 379, 380, 381, 382, 383, 384, 385, ...</td>\n",
       "      <td>[]</td>\n",
       "      <td>[]</td>\n",
       "      <td>{6785, 6786, 7938, 6788, 6789, 7687, 7943, 769...</td>\n",
       "      <td>{7649, 7651, 7652, 7653, 7654, 7497, 7658, 769...</td>\n",
       "      <td>{}</td>\n",
       "      <td>{1544, 791, 4760, 792, 793, 3736, 3737, 794, 1...</td>\n",
       "      <td>{8204, 8205, 8206, 8210, 8212, 8213, 8214, 821...</td>\n",
       "      <td>[(X,   15 , HIS, CA, 2), (X,   15 , HIS, C, 2)...</td>\n",
       "      <td>[(X,   73 , ARG, O, 2), (X,   73 , ARG, CG, 2)...</td>\n",
       "      <td>[]</td>\n",
       "      <td>[(H,  102 , TYR, O, 2), (H,   52 , ASP, CB, 2)...</td>\n",
       "      <td>[(X,  111 , TRP, HZ2, 2), (X,  111 , TRP, HZ3,...</td>\n",
       "    </tr>\n",
       "    <tr>\n",
       "      <th>6095</th>\n",
       "      <td>1fbi</td>\n",
       "      <td>L</td>\n",
       "      <td>K</td>\n",
       "      <td>3</td>\n",
       "      <td>QQGYTLPYT</td>\n",
       "      <td>89</td>\n",
       "      <td>97</td>\n",
       "      <td>[670, 671, 672, 673, 674, 675, 676, 677, 678, ...</td>\n",
       "      <td>[3825, 3826, 3827, 3828, 3830, 3831, 3835, 383...</td>\n",
       "      <td>[  71 ,   71 ,   71 ,   72 ,   72 ,   72 ,   7...</td>\n",
       "      <td>{6785, 6786, 7938, 6788, 6789, 7687, 7943, 769...</td>\n",
       "      <td>{7649, 7651, 7652, 7653, 7654, 7497, 7658, 769...</td>\n",
       "      <td>{7649, 7651, 7652, 7653, 7497, 7658, 7690, 766...</td>\n",
       "      <td>{1544, 791, 4760, 792, 793, 3736, 3737, 794, 1...</td>\n",
       "      <td>{8204, 8205, 8206, 8210, 8212, 8213, 8214, 821...</td>\n",
       "      <td>[(X,   15 , HIS, CA, 3), (X,   15 , HIS, C, 3)...</td>\n",
       "      <td>[(X,   73 , ARG, O, 3), (X,   73 , ARG, CG, 3)...</td>\n",
       "      <td>[(X,   73 , ARG, O, 3), (X,   73 , ARG, CG, 3)...</td>\n",
       "      <td>[(H,  102 , TYR, O, 3), (H,   52 , ASP, CB, 3)...</td>\n",
       "      <td>[(X,  111 , TRP, HZ2, 3), (X,  111 , TRP, HZ3,...</td>\n",
       "    </tr>\n",
       "  </tbody>\n",
       "</table>\n",
       "</div>"
      ],
      "text/plain": [
       "     idcode chainID chain_type  cdr        cdr_seq cdr_begin cdr_end  \\\n",
       "6090   1fbi       H          H    1        GYTFTSY       26      32    \n",
       "6091   1fbi       H          H    2         DPSDSY       52      57    \n",
       "6092   1fbi       H          H    3  LYYYGTSYGVLDY       99     111    \n",
       "6093   1fbi       L          K    1    RASQDISNYLN       24      34    \n",
       "6094   1fbi       L          K    2        YTSRLHS       50      56    \n",
       "6095   1fbi       L          K    3      QQGYTLPYT       89      97    \n",
       "\n",
       "                                              cdr_atoms  \\\n",
       "6090  [1807, 1808, 1809, 1810, 1811, 1812, 1813, 181...   \n",
       "6091  [2025, 2026, 2027, 2028, 2029, 2030, 2031, 203...   \n",
       "6092  [2376, 2377, 2378, 2379, 2380, 2381, 2382, 238...   \n",
       "6093  [157, 158, 159, 160, 161, 162, 163, 164, 165, ...   \n",
       "6094  [377, 378, 379, 380, 381, 382, 383, 384, 385, ...   \n",
       "6095  [670, 671, 672, 673, 674, 675, 676, 677, 678, ...   \n",
       "\n",
       "                                          epitope_atoms  \\\n",
       "6090  [3409, 3415, 3416, 3419, 3421, 3422, 3423, 342...   \n",
       "6091  [3367, 3368, 3376, 3377, 3378, 3379, 3380, 338...   \n",
       "6092  [3434, 3436, 3751, 3753, 3769, 3771, 3772, 384...   \n",
       "6093   [3753, 3754, 3756, 3758, 3841, 3842, 3843, 3844]   \n",
       "6094                                                 []   \n",
       "6095  [3825, 3826, 3827, 3828, 3830, 3831, 3835, 383...   \n",
       "\n",
       "                                       epitope_residues  \\\n",
       "6090  [  19 ,   20 ,   20 ,   20 ,   20 ,   20 ,   2...   \n",
       "6091  [  14 ,   14 ,   15 ,   15 ,   15 ,   15 ,   1...   \n",
       "6092  [  21 ,   21 ,   62 ,   62 ,   63 ,   63 ,   6...   \n",
       "6093  [  62 ,   62 ,   62 ,   62 ,   73 ,   73 ,   7...   \n",
       "6094                                                 []   \n",
       "6095  [  71 ,   71 ,   71 ,   72 ,   72 ,   72 ,   7...   \n",
       "\n",
       "                                        ag_ab_interface  \\\n",
       "6090  {6785, 6786, 7938, 6788, 6789, 7687, 7943, 769...   \n",
       "6091  {6785, 6786, 7938, 6788, 6789, 7687, 7943, 769...   \n",
       "6092  {6785, 6786, 7938, 6788, 6789, 7687, 7943, 769...   \n",
       "6093  {6785, 6786, 7938, 6788, 6789, 7687, 7943, 769...   \n",
       "6094  {6785, 6786, 7938, 6788, 6789, 7687, 7943, 769...   \n",
       "6095  {6785, 6786, 7938, 6788, 6789, 7687, 7943, 769...   \n",
       "\n",
       "                                  ag_cdrchain_interface  \\\n",
       "6090  {6785, 6786, 7938, 6788, 6789, 7943, 6795, 769...   \n",
       "6091  {6785, 6786, 7938, 6788, 6789, 7943, 6795, 769...   \n",
       "6092  {6785, 6786, 7938, 6788, 6789, 7943, 6795, 769...   \n",
       "6093  {7649, 7651, 7652, 7653, 7654, 7497, 7658, 769...   \n",
       "6094  {7649, 7651, 7652, 7653, 7654, 7497, 7658, 769...   \n",
       "6095  {7649, 7651, 7652, 7653, 7654, 7497, 7658, 769...   \n",
       "\n",
       "                                       ag_cdr_interface  \\\n",
       "6090   {6880, 6882, 6889, 6860, 6892, 6862, 6863, 6874}   \n",
       "6091  {7968, 6785, 6786, 7938, 6788, 6789, 7970, 794...   \n",
       "6092  {7522, 7691, 7532, 7531, 8049, 7987, 7700, 770...   \n",
       "6093                                             {7654}   \n",
       "6094                                                 {}   \n",
       "6095  {7649, 7651, 7652, 7653, 7497, 7658, 7690, 766...   \n",
       "\n",
       "                                        ab_ag_interface  \\\n",
       "6090  {1544, 791, 4760, 792, 793, 3736, 3737, 794, 1...   \n",
       "6091  {1544, 791, 4760, 792, 793, 3736, 3737, 794, 1...   \n",
       "6092  {1544, 791, 4760, 792, 793, 3736, 3737, 794, 1...   \n",
       "6093  {1544, 791, 4760, 792, 793, 3736, 3737, 794, 1...   \n",
       "6094  {1544, 791, 4760, 792, 793, 3736, 3737, 794, 1...   \n",
       "6095  {1544, 791, 4760, 792, 793, 3736, 3737, 794, 1...   \n",
       "\n",
       "                                           ag_interface  \\\n",
       "6090  {8204, 8205, 8206, 8210, 8212, 8213, 8214, 821...   \n",
       "6091  {8204, 8205, 8206, 8210, 8212, 8213, 8214, 821...   \n",
       "6092  {8204, 8205, 8206, 8210, 8212, 8213, 8214, 821...   \n",
       "6093  {8204, 8205, 8206, 8210, 8212, 8213, 8214, 821...   \n",
       "6094  {8204, 8205, 8206, 8210, 8212, 8213, 8214, 821...   \n",
       "6095  {8204, 8205, 8206, 8210, 8212, 8213, 8214, 821...   \n",
       "\n",
       "                                    ag_ab_interface_res  \\\n",
       "6090  [(X,   15 , HIS, CA, 1), (X,   15 , HIS, C, 1)...   \n",
       "6091  [(X,   15 , HIS, CA, 2), (X,   15 , HIS, C, 2)...   \n",
       "6092  [(X,   15 , HIS, CA, 3), (X,   15 , HIS, C, 3)...   \n",
       "6093  [(X,   15 , HIS, CA, 1), (X,   15 , HIS, C, 1)...   \n",
       "6094  [(X,   15 , HIS, CA, 2), (X,   15 , HIS, C, 2)...   \n",
       "6095  [(X,   15 , HIS, CA, 3), (X,   15 , HIS, C, 3)...   \n",
       "\n",
       "                              ag_cdrchain_interface_res  \\\n",
       "6090  [(X,   15 , HIS, CA, 1), (X,   15 , HIS, C, 1)...   \n",
       "6091  [(X,   15 , HIS, CA, 2), (X,   15 , HIS, C, 2)...   \n",
       "6092  [(X,   15 , HIS, CA, 3), (X,   15 , HIS, C, 3)...   \n",
       "6093  [(X,   73 , ARG, O, 1), (X,   73 , ARG, CG, 1)...   \n",
       "6094  [(X,   73 , ARG, O, 2), (X,   73 , ARG, CG, 2)...   \n",
       "6095  [(X,   73 , ARG, O, 3), (X,   73 , ARG, CG, 3)...   \n",
       "\n",
       "                                   ag_cdr_interface_res  \\\n",
       "6090  [(X,   21 , ARG, CD, 1), (X,   21 , ARG, CZ, 1...   \n",
       "6091  [(X,   96 , LYS, CD, 2), (X,   15 , HIS, CA, 2...   \n",
       "6092  [(X,   63 , TRP, CH2, 3), (X,   75 , LEU, CD2,...   \n",
       "6093                           [(X,   73 , ARG, CZ, 1)]   \n",
       "6094                                                 []   \n",
       "6095  [(X,   73 , ARG, O, 3), (X,   73 , ARG, CG, 3)...   \n",
       "\n",
       "                                    ab_ag_interface_res  \\\n",
       "6090  [(H,  102 , TYR, O, 1), (H,   52 , ASP, CB, 1)...   \n",
       "6091  [(H,  102 , TYR, O, 2), (H,   52 , ASP, CB, 2)...   \n",
       "6092  [(H,  102 , TYR, O, 3), (H,   52 , ASP, CB, 3)...   \n",
       "6093  [(H,  102 , TYR, O, 1), (H,   52 , ASP, CB, 1)...   \n",
       "6094  [(H,  102 , TYR, O, 2), (H,   52 , ASP, CB, 2)...   \n",
       "6095  [(H,  102 , TYR, O, 3), (H,   52 , ASP, CB, 3)...   \n",
       "\n",
       "                                       ag_interface_res  \n",
       "6090  [(X,  111 , TRP, HZ2, 1), (X,  111 , TRP, HZ3,...  \n",
       "6091  [(X,  111 , TRP, HZ2, 2), (X,  111 , TRP, HZ3,...  \n",
       "6092  [(X,  111 , TRP, HZ2, 3), (X,  111 , TRP, HZ3,...  \n",
       "6093  [(X,  111 , TRP, HZ2, 1), (X,  111 , TRP, HZ3,...  \n",
       "6094  [(X,  111 , TRP, HZ2, 2), (X,  111 , TRP, HZ3,...  \n",
       "6095  [(X,  111 , TRP, HZ2, 3), (X,  111 , TRP, HZ3,...  "
      ]
     },
     "execution_count": 173,
     "metadata": {},
     "output_type": "execute_result"
    }
   ],
   "source": [
    "epitope_buried_cleaned.query(f\"idcode == '1fbi'\")"
   ]
  },
  {
   "cell_type": "markdown",
   "metadata": {},
   "source": [
    "### Interface CDRs vs fr"
   ]
  },
  {
   "cell_type": "code",
   "execution_count": 20,
   "metadata": {},
   "outputs": [],
   "source": [
    "with open(Path.joinpath(data_dir, '2interface_atoms.pkl'), 'rb') as file:\n",
    "        interface_atoms2 = pickle.load(file)"
   ]
  },
  {
   "cell_type": "code",
   "execution_count": 21,
   "metadata": {},
   "outputs": [
    {
     "data": {
      "application/vnd.plotly.v1+json": {
       "config": {
        "plotlyServerURL": "https://plot.ly"
       },
       "data": [
        {
         "alignmentgroup": "True",
         "bingroup": "x",
         "hovertemplate": "variable=0<br>value=%{x}<br>count=%{y}<extra></extra>",
         "legendgroup": "0",
         "marker": {
          "color": "#1F77B4",
          "pattern": {
           "shape": ""
          }
         },
         "name": "0",
         "offsetgroup": "0",
         "orientation": "v",
         "showlegend": true,
         "type": "histogram",
         "x": [
          0.05,
          0.16666666666666666,
          0.07339449541284404,
          0.4035433070866142,
          0,
          0.1282051282051282,
          0.075,
          0.128,
          0.09550561797752809,
          0,
          0.06451612903225806,
          0.11282051282051282,
          0.042328042328042326,
          0.1223021582733813,
          0.14285714285714285,
          0.049689440993788817,
          0.13513513513513514,
          0.09595959595959595,
          0.1590909090909091,
          0.0967741935483871,
          0.19883040935672514,
          0.2235294117647059,
          0.058091286307053944,
          0.12299465240641712,
          0,
          0.07692307692307693,
          0.12213740458015267,
          0.33986928104575165,
          0,
          0.06040268456375839,
          0.049723756906077346,
          0.10294117647058823,
          0.2426470588235294,
          0.06976744186046512,
          0.35714285714285715,
          0.21559633027522937,
          0.10526315789473684,
          0.06790123456790123,
          0.17647058823529413,
          0.09326424870466321,
          0.047619047619047616,
          0,
          0.5236363636363637,
          0.04580152671755725,
          0,
          0.09333333333333334,
          0.1751412429378531,
          0.0641025641025641,
          0.12017167381974249,
          0.06547619047619048,
          0.08433734939759036,
          0,
          0,
          0.20754716981132076,
          0.02717391304347826,
          0.04827586206896552,
          0.06521739130434782,
          0.20670391061452514,
          0.7521929824561403,
          0.12138728323699421,
          0.0457516339869281,
          0.0979381443298969,
          0.09326424870466321,
          0.16393442622950818,
          0.12562814070351758,
          0.13526570048309178,
          0.26244343891402716,
          0.05291005291005291,
          0.07453416149068323,
          0,
          0,
          0.10062893081761007,
          0.1411764705882353,
          0.07692307692307693,
          0.0547945205479452,
          0.16591928251121077,
          0.1694915254237288,
          0.039603960396039604,
          0.041666666666666664,
          0.038461538461538464,
          0.2929936305732484,
          0,
          0.19672131147540983,
          0.08583690987124463,
          0,
          0.2992125984251969,
          0.09876543209876543,
          0.05660377358490566,
          0.08045977011494253,
          0.08095238095238096,
          0,
          0.18110236220472442,
          0.10326086956521739,
          0.17791411042944785,
          0.16230366492146597,
          0,
          0.5428571428571428,
          0.0365296803652968,
          0,
          0.032520325203252036,
          0.13095238095238096,
          0.08974358974358974,
          0.14349775784753363,
          0,
          0.14102564102564102,
          0,
          0.1116751269035533,
          0,
          0.2222222222222222,
          0.056451612903225805,
          0.13333333333333333,
          0,
          0.10784313725490197,
          0,
          0.09722222222222222,
          0.4095238095238095,
          0,
          0.05,
          0.11180124223602485,
          0.17647058823529413,
          0.09821428571428571,
          0.08870967741935484,
          0.1005586592178771,
          0,
          0.0228310502283105,
          0.06341463414634146,
          0.1589958158995816,
          0,
          0.164021164021164,
          0.20930232558139536,
          0.1643192488262911,
          0,
          0,
          0.06741573033707865,
          0.15294117647058825,
          0.0945945945945946,
          0.16875,
          0,
          0.11875,
          0.10526315789473684,
          0.14344262295081966,
          0.20512820512820512,
          0.10619469026548672,
          0.1103448275862069,
          0.2328042328042328,
          0.1415525114155251,
          0.2127659574468085,
          0.041916167664670656,
          0.051094890510948905,
          0,
          0,
          0.10080645161290322,
          0,
          0.055900621118012424,
          0.21933085501858737,
          0.0730593607305936,
          0.14482758620689656,
          0.2235294117647059,
          0.05970149253731343,
          0.09090909090909091,
          0.13714285714285715,
          0,
          0.24761904761904763,
          0.2879581151832461,
          0,
          0.0736196319018405,
          0.11834319526627218,
          0.07389162561576355,
          0.06878306878306878,
          0.08085106382978724,
          0.15037593984962405,
          0.328,
          0.07106598984771574,
          0.050955414012738856,
          0.07368421052631578,
          0.056338028169014086,
          0.1388888888888889,
          0.09655172413793103,
          0.14285714285714285,
          0.26515151515151514,
          0,
          0,
          0.1896551724137931,
          0.20168067226890757,
          0.15037593984962405,
          0.12341772151898735,
          0.041884816753926704,
          0.04245283018867924,
          0,
          0,
          0.22631578947368422,
          0.08955223880597014,
          0,
          0.06875,
          0,
          0.2,
          0.10152284263959391,
          0.13414634146341464,
          0.07575757575757576,
          0.14285714285714285,
          0.3,
          0.20588235294117646,
          0.1592920353982301,
          0.2112676056338028,
          0.0881057268722467,
          0.03763440860215054,
          0,
          0.20430107526881722,
          0,
          0.03896103896103896,
          0.1,
          0.04395604395604396,
          0.10289389067524116,
          0.06779661016949153,
          0,
          0,
          0,
          0.0427807486631016,
          0,
          0,
          0.10059171597633136,
          0.29133858267716534,
          0,
          0.10869565217391304,
          0.04567307692307692,
          0.16842105263157894,
          0.4305239179954442,
          0.1565217391304348,
          0.54,
          0.5,
          0.06711409395973154,
          0.4505928853754941,
          0.09395973154362416,
          0.19444444444444445,
          0,
          0.11557788944723618,
          0.15416666666666667,
          0.18446601941747573,
          0,
          0.10240963855421686,
          0.10884353741496598,
          0.058823529411764705,
          0.22110552763819097,
          0.06716417910447761,
          0.10526315789473684,
          0.36666666666666664,
          0.046875,
          0.25806451612903225,
          0.41359773371104813,
          0.45622119815668205,
          0.18181818181818182,
          0.2802547770700637,
          0.12290502793296089,
          0.16037735849056603,
          0.042328042328042326,
          0,
          0.17204301075268819,
          0.07207207207207207,
          0.091324200913242,
          0.11042944785276074,
          0.06285714285714286,
          0.12244897959183673,
          0.6748971193415638,
          0.08695652173913043,
          0.07058823529411765,
          0.06395348837209303,
          0.15948275862068967,
          0.06626506024096386,
          0.3068181818181818,
          0,
          0,
          0.45038167938931295,
          0.22302158273381295,
          0,
          0.0594059405940594,
          0.25,
          0.06866952789699571,
          0.1366906474820144,
          0.10091743119266056,
          0.052941176470588235,
          0,
          0,
          0.4147058823529412,
          0,
          0.1267605633802817,
          0.07174887892376682,
          0.18134715025906736,
          0.07407407407407407,
          0.2813141683778234,
          0.5785714285714286,
          0.29225352112676056,
          0.3907563025210084,
          0.08275862068965517,
          0.14814814814814814,
          0.07643312101910828,
          0.0916030534351145,
          0.1968503937007874,
          0.04861111111111111,
          0,
          0,
          0.08695652173913043,
          0.23036649214659685,
          0.18012422360248448,
          0.096875,
          0.031746031746031744,
          0.05521472392638037,
          0.20903954802259886,
          0.37087378640776697,
          0.05555555555555555,
          0.341747572815534,
          0.5662100456621004,
          0.4398148148148148,
          0.06179775280898876,
          0.11764705882352941,
          0.09090909090909091,
          0.05660377358490566,
          0.08,
          0,
          0.07518796992481203,
          0.4354066985645933,
          0,
          0.1044776119402985,
          0.558974358974359,
          0.04216867469879518,
          0.49842271293375395,
          0,
          0.12626262626262627,
          0.1297709923664122,
          0.23204419889502761,
          0.18232044198895028,
          0,
          0,
          0.16417910447761194,
          0.15384615384615385,
          0.05741626794258373,
          0.06666666666666667,
          0.3209302325581395,
          0,
          0,
          0.10526315789473684,
          0.1348314606741573,
          0.07453416149068323,
          0.15873015873015872,
          0,
          0.047619047619047616,
          0.07964601769911504,
          0.11888111888111888,
          0.5347593582887701,
          0.04375,
          0.11940298507462686,
          0.15950920245398773,
          0.15763546798029557,
          0.21153846153846154,
          0.13986013986013987,
          0.10612244897959183,
          0.09803921568627451,
          0.18229166666666666,
          0.11805555555555555,
          0.10160427807486631,
          0,
          0.06896551724137931,
          0.05309734513274336,
          0.06569343065693431,
          0,
          0.06593406593406594,
          0.05238095238095238,
          0,
          0,
          0.06802721088435375,
          0.17708333333333334,
          0.07602339181286549,
          0.15286624203821655,
          0.11458333333333333,
          0.16666666666666666,
          0.028089887640449437,
          0,
          0.22777777777777777,
          0,
          0.06521739130434782,
          0.06666666666666667,
          0.1393939393939394,
          0.07586206896551724,
          0.09765625,
          0.125,
          0.1712962962962963,
          0.23880597014925373,
          0.06976744186046512,
          0,
          0.05232558139534884,
          0.5,
          0,
          0.0963302752293578,
          0,
          0,
          0.2465753424657534,
          0.09523809523809523,
          0.08088235294117647,
          0.0963855421686747,
          0,
          0.10638297872340426,
          0.12727272727272726,
          0.18110236220472442,
          0.049689440993788817,
          0.10191082802547771,
          0,
          0.15625,
          0.04597701149425287,
          0,
          0.11724137931034483,
          0.030973451327433628,
          0.09326424870466321,
          0.08653846153846154,
          0.11764705882352941,
          0.031007751937984496,
          0.3780487804878049,
          0.027586206896551724,
          0.34375,
          0.31343283582089554,
          0.18536585365853658,
          0.1,
          0.11235955056179775,
          0,
          0.044585987261146494,
          0.08130081300813008,
          0.08176100628930817,
          0.06417112299465241,
          0.4161676646706587,
          0.21631878557874762,
          0,
          0,
          0.20987654320987653,
          0,
          0,
          0.07692307692307693,
          0.1524390243902439,
          0.26666666666666666,
          0.12244897959183673,
          0.15024630541871922,
          0,
          0.3349282296650718,
          0.0931174089068826,
          0.13138686131386862,
          0.04680851063829787,
          0.050314465408805034,
          0.12650602409638553,
          0.125,
          0,
          0,
          0,
          0.15865384615384615,
          0.11004784688995216,
          0.11242603550295859,
          0.05405405405405406,
          0.9444444444444444,
          0.15337423312883436,
          0.05429864253393665,
          0.16842105263157894,
          0.12337662337662338,
          0.06511627906976744,
          0.32954545454545453,
          0.037037037037037035,
          0.07894736842105263,
          0,
          0.18269230769230768,
          0,
          0.14906832298136646,
          0.45,
          0,
          0,
          0.19213973799126638,
          0,
          0.11799410029498525,
          0.06629834254143646,
          0.20642201834862386,
          0.12631578947368421,
          0,
          0.22433460076045628,
          0.1497584541062802,
          0.03461538461538462,
          0.053475935828877004,
          0,
          0.1872791519434629,
          0,
          0,
          0.21388888888888888,
          0.21243523316062177,
          0.10382513661202186,
          0,
          0.057971014492753624,
          0.1761904761904762,
          0.11728395061728394,
          0.2962962962962963,
          0.1267605633802817,
          0.0670391061452514,
          0.03365384615384615,
          0.47668393782383417,
          0.3441295546558704,
          0.12903225806451613,
          0.08208955223880597,
          0.0875,
          0.22395833333333334,
          0.058823529411764705,
          0.1259259259259259,
          0.13157894736842105,
          0,
          0.12254901960784313,
          0,
          0,
          0,
          0.2608695652173913,
          0.2698412698412698,
          0.09230769230769231,
          0,
          0.08808290155440414,
          0.0893854748603352,
          0.21787709497206703,
          0.17486338797814208,
          0.13380281690140844,
          0.0979381443298969,
          0.07894736842105263,
          0.10526315789473684,
          0.18787878787878787,
          0.07741935483870968,
          0.07086614173228346,
          0,
          0.08670520231213873,
          0,
          0.3020833333333333,
          0,
          0.07407407407407407,
          0.06578947368421052,
          0.049079754601226995,
          0.0916030534351145,
          0.1324200913242009,
          0.10674157303370786,
          0,
          0,
          0,
          0.4743083003952569,
          0,
          0,
          0.13756613756613756,
          0.18562874251497005,
          0.08029197080291971,
          0.22767857142857142,
          0.05517241379310345,
          0,
          0.13855421686746988,
          0.17010309278350516,
          0.17194570135746606,
          0,
          0,
          0.06779661016949153,
          0.05343511450381679,
          0,
          0.17829457364341086,
          0.1724137931034483,
          0,
          0.08270676691729323,
          0.08056872037914692,
          0.5482866043613707,
          0.1037037037037037,
          0,
          0.06976744186046512,
          0.17763157894736842,
          0.5555555555555556,
          0.5777027027027027,
          0.03260869565217391,
          0,
          0,
          0.10096153846153846,
          0.06611570247933884,
          0.15425531914893617,
          0.08125,
          0.07291666666666667,
          0.09210526315789473,
          0.06806282722513089,
          0.06493506493506493,
          0.10909090909090909,
          0.041666666666666664,
          0.07236842105263158,
          0.13612565445026178,
          0.07547169811320754,
          0.07947019867549669,
          0.0861244019138756,
          0.21714285714285714,
          0,
          0.3783783783783784,
          0.10091743119266056,
          0.1459227467811159,
          0.13114754098360656,
          0.2074468085106383,
          0,
          0.13013698630136986,
          0.031180400890868598,
          0.04040404040404041,
          0.2631578947368421,
          0.048484848484848485,
          0.047244094488188976,
          0.07894736842105263,
          0,
          0.1,
          0.10687022900763359,
          0.05106382978723404,
          0,
          0.07643312101910828,
          0,
          0.288135593220339,
          0.10362694300518134,
          0.05263157894736842,
          0.24731182795698925,
          0.15789473684210525,
          0.075,
          0.1477832512315271,
          0.07317073170731707,
          0.1270718232044199,
          0.059113300492610835,
          0.18452380952380953,
          0.1276595744680851,
          0.041666666666666664,
          0,
          0.05194805194805195,
          0,
          0,
          0.08108108108108109,
          0.11377245508982035,
          0.08888888888888889,
          0.1411042944785276,
          0.06395348837209303,
          0.13559322033898305,
          0.07575757575757576,
          0.13725490196078433,
          0.07894736842105263,
          0.15789473684210525,
          0.0658682634730539,
          0.06790123456790123,
          0.06832298136645963,
          0.06321839080459771,
          0.12149532710280374,
          0.2151394422310757,
          0.08888888888888889,
          0.043010752688172046,
          0.13253012048192772,
          0.08695652173913043,
          0.1956521739130435,
          0.08205128205128205,
          0.12698412698412698,
          0,
          0,
          0,
          0.11940298507462686,
          0.21428571428571427,
          0,
          0.2804878048780488,
          0.15584415584415584,
          0.12429378531073447,
          0,
          0.14375,
          0,
          0,
          0.06578947368421052,
          0.09,
          0.0594059405940594,
          0.06993006993006994,
          0,
          0,
          0.037037037037037035,
          0.07239819004524888,
          0.5694444444444444,
          0.16304347826086957,
          0.1638418079096045,
          0.1310344827586207,
          0.11678832116788321,
          0.0918918918918919,
          0.0663265306122449,
          0.18719211822660098,
          0.29896907216494845,
          0.5799373040752351,
          0.5572519083969466,
          0.125,
          0.16336633663366337,
          0.12556053811659193,
          0.11764705882352941,
          0.07079646017699115,
          0.5822784810126582,
          0.5709876543209876,
          0.0916030534351145,
          0.22093023255813954,
          0.08152173913043478,
          0,
          0.03211009174311927,
          0.09482758620689655,
          0.1111111111111111,
          0.06432748538011696,
          0.0736196319018405,
          0.13218390804597702,
          0.11585365853658537,
          0.5863309352517986,
          0.1595744680851064,
          0.08333333333333333,
          0.10909090909090909,
          0.07857142857142857,
          0.1797752808988764,
          0.6176470588235294,
          0.417910447761194,
          0.2229965156794425,
          0.1651376146788991,
          0.08661417322834646,
          0.16875,
          0.07453416149068323,
          0.12376237623762376,
          0.0966183574879227,
          0.14659685863874344,
          0.11666666666666667,
          0.144,
          0.16129032258064516,
          0.07936507936507936,
          0.05527638190954774,
          0,
          0.0759493670886076,
          0,
          0.08275862068965517,
          0.17253521126760563,
          0.17253521126760563,
          0.6060606060606061,
          0.5825825825825826,
          0.07913669064748201,
          0.1564245810055866,
          0.41621621621621624,
          0.29537366548042704,
          0,
          0.0759493670886076,
          0,
          0.4433497536945813,
          0.08759124087591241,
          0,
          0.16990291262135923,
          0.12340425531914893,
          0,
          0.14814814814814814,
          0.16580310880829016,
          0.10828025477707007,
          0.0916030534351145,
          0.059782608695652176,
          0.112,
          0.23863636363636365,
          0.07228915662650602,
          0.02702702702702703,
          0.0872093023255814,
          0.23529411764705882,
          0.047872340425531915,
          0,
          0.029850746268656716,
          0.2755102040816326,
          0,
          0,
          0.1099476439790576,
          0.06578947368421052,
          0.058823529411764705,
          0.10884353741496598,
          0.06766917293233082,
          0.11627906976744186,
          0.07913669064748201,
          0.050955414012738856,
          0.1452513966480447,
          0.17435897435897435,
          0.08181818181818182,
          0.07279693486590039,
          0.08955223880597014,
          0,
          0.07207207207207207,
          0.08870967741935484,
          0,
          0.1386861313868613,
          0.09051724137931035,
          0.06321839080459771,
          0,
          0.06748466257668712,
          0.39864864864864863,
          0,
          0.12053571428571429,
          0.05232558139534884,
          0.20491803278688525,
          0,
          0.17083333333333334,
          0.0660377358490566,
          0.21578947368421053,
          0.2828282828282828,
          0.145985401459854,
          0.1070110701107011,
          0,
          0.2948717948717949,
          0.11666666666666667,
          0,
          0,
          0,
          0.03870967741935484,
          0.06779661016949153,
          0.08759124087591241,
          0.15546218487394958,
          0,
          0.10810810810810811,
          0,
          0.09859154929577464,
          0.22346368715083798,
          0,
          0,
          0.14788732394366197,
          0.1689497716894977,
          0.1951219512195122,
          0.06015037593984962,
          0.11731843575418995,
          0.1348314606741573,
          0,
          0.06629834254143646,
          0.08092485549132948,
          0.4357142857142857,
          0.049773755656108594,
          0.03773584905660377,
          0.03305785123966942,
          0.13592233009708737,
          0.14516129032258066,
          0.08247422680412371,
          0.09767441860465116,
          0,
          0,
          1,
          0.10591133004926108,
          0.0759493670886076,
          0.06626506024096386,
          0.12690355329949238,
          0,
          0.09523809523809523,
          0.1674641148325359,
          0.0625,
          0.1134020618556701,
          0.3050847457627119,
          0,
          0,
          0,
          0.04371584699453552,
          0,
          0.12021857923497267,
          0.1286549707602339,
          0,
          0.13636363636363635,
          0,
          0.046357615894039736,
          0.15934065934065933,
          0,
          0.13013698630136986,
          0.13333333333333333,
          0.14705882352941177,
          0.12903225806451613,
          0.056338028169014086,
          0,
          0.04395604395604396,
          0.06666666666666667,
          0.23880597014925373,
          0.03910614525139665,
          0,
          0,
          0.05825242718446602,
          0.1618798955613577,
          0.06857142857142857,
          0.24519230769230768,
          0.14736842105263157,
          0,
          0.1837837837837838,
          0.1366120218579235,
          0.13953488372093023,
          0.030303030303030304,
          0.11578947368421053,
          0.11363636363636363,
          0.1347517730496454,
          0.05405405405405406,
          0,
          0,
          0.19285714285714287,
          0.08633093525179857,
          0.1270718232044199,
          0.11320754716981132,
          0,
          0.06217616580310881,
          0.16299559471365638,
          0,
          0.07924528301886792,
          0.02877697841726619,
          0,
          0.1267605633802817,
          0,
          0.08333333333333333,
          0,
          0.08053691275167785,
          0.22761194029850745,
          0.2671232876712329,
          0.23376623376623376,
          0.03296703296703297,
          0.1111111111111111,
          0.07860262008733625,
          0,
          0.05405405405405406,
          0,
          0.0425531914893617,
          0.05235602094240838,
          0.04,
          0,
          0.3695652173913043,
          0.07051282051282051,
          0.24242424242424243,
          0.17647058823529413,
          0,
          0.08163265306122448,
          0.22727272727272727,
          0,
          0.046296296296296294,
          0.17486338797814208,
          0.23333333333333334,
          0,
          0.4074074074074074,
          0.15979381443298968,
          0.21052631578947367,
          0.12738853503184713,
          0.14054054054054055,
          0.0625,
          0.0374331550802139,
          0.08284023668639054,
          0.3069306930693069,
          0.06976744186046512,
          0,
          0.06338028169014084,
          0.05240174672489083,
          0.1346153846153846,
          0.08333333333333333,
          0.17,
          0.1511627906976744,
          0,
          0.09649122807017543,
          0.10526315789473684,
          0.1962025316455696,
          0.08461538461538462,
          0.15337423312883436,
          0.07100591715976332,
          0,
          0.49110320284697506,
          0.3395061728395062,
          0.10497237569060773,
          0.3641025641025641,
          0,
          0.1289198606271777,
          0.050359712230215826,
          0.08333333333333333,
          0,
          0.125,
          0.2727272727272727,
          0.049079754601226995,
          0,
          0.12931034482758622,
          0.06790123456790123,
          0.06060606060606061,
          0.14173228346456693,
          0.08670520231213873,
          0.23333333333333334,
          0.055,
          0.07614213197969544,
          0.2626728110599078,
          0.23376623376623376,
          0.28169014084507044,
          0.07017543859649122,
          0.06043956043956044,
          0,
          0.0903954802259887,
          0.14720812182741116,
          0.1326530612244898,
          0.48322147651006714,
          0,
          0,
          0.15819209039548024,
          0.26993865030674846,
          0.3031674208144796,
          0.15862068965517243,
          0.11979166666666667,
          0,
          0,
          0.05789473684210526,
          0.1111111111111111,
          0,
          0.19095477386934673,
          0.11643835616438356,
          0,
          0.054455445544554455,
          0.08235294117647059,
          0.5406976744186046,
          0.06470588235294118,
          0,
          0,
          0.421259842519685,
          0.3951612903225806,
          0.15204678362573099,
          0,
          0,
          0.16279069767441862,
          0,
          0,
          0,
          0.15625,
          0.23728813559322035,
          0.1358695652173913,
          0.26903553299492383,
          0.08108108108108109,
          0.061224489795918366,
          0.24675324675324675,
          0.07377049180327869,
          0.061946902654867256,
          0.07865168539325842,
          0.052980132450331126,
          0.10638297872340426,
          0.4008438818565401,
          0.06875,
          0.17553191489361702,
          0,
          0,
          0,
          0.13861386138613863,
          0.4166666666666667,
          0.10576923076923077,
          0.05921052631578947,
          0,
          0.15862068965517243,
          0.2,
          0.11737089201877934,
          0.36,
          0.06666666666666667,
          0.05154639175257732,
          0.1864406779661017,
          0.12612612612612611,
          0.1032258064516129,
          0.0625,
          0.16666666666666666,
          0.94,
          0.22277227722772278,
          0.09893048128342247,
          0.13274336283185842,
          0.06153846153846154,
          0.10317460317460317,
          0,
          0,
          0.20512820512820512,
          0,
          0,
          0.09271523178807947,
          0.06069364161849711,
          0.06766917293233082,
          0.16447368421052633,
          0.11188811188811189,
          0.12802768166089964,
          0,
          0.15730337078651685,
          0.25925925925925924,
          0.11038961038961038,
          0,
          0.05806451612903226,
          0.16170212765957448,
          0,
          0.05128205128205128,
          0.288,
          0.12380952380952381,
          0.04435483870967742,
          0,
          0.16184971098265896,
          0.07253886010362694,
          0.0958904109589041,
          0,
          0.08139534883720931,
          0.3424657534246575,
          0,
          0.10112359550561797,
          0.22395833333333334,
          0,
          0,
          0.05,
          0.1527777777777778,
          0.16184971098265896,
          0,
          0.07352941176470588,
          0,
          0,
          1,
          0.05263157894736842,
          0.0871559633027523,
          0,
          0.22950819672131148,
          0.08018867924528301,
          0.49019607843137253,
          0.09289617486338798,
          0.3864734299516908,
          0.06201550387596899,
          0,
          0,
          0.046413502109704644,
          0.17616580310880828,
          0.17490494296577946,
          0.34459459459459457,
          0,
          0,
          0,
          0.12162162162162163,
          0.03723404255319149,
          0.03286384976525822,
          0.0947867298578199,
          0.1111111111111111,
          0.06829268292682927,
          0.09743589743589744,
          0.07407407407407407,
          0.09659090909090909,
          0.08771929824561403,
          0.031496062992125984,
          0.16666666666666666,
          0,
          0.15606936416184972,
          0.26046511627906976,
          0.13559322033898305,
          0.5431472081218274,
          0.13901345291479822,
          0.11165048543689321,
          0.165,
          0.1572052401746725,
          0.06521739130434782,
          0.14622641509433962,
          0.18018018018018017,
          0.18681318681318682,
          0.422680412371134,
          0.12206572769953052,
          0,
          0,
          0.08391608391608392,
          0.16666666666666666,
          0.29508196721311475,
          0.06557377049180328,
          0.037914691943127965,
          0.6419753086419753,
          0,
          0.1935483870967742,
          0.16759776536312848,
          0.23015873015873015,
          0.04784688995215311,
          0.13636363636363635,
          0,
          0.08737864077669903,
          0.14427860696517414,
          0.12179487179487179,
          0.08095238095238096,
          0,
          0.17777777777777778,
          0.09032258064516129,
          0.16753926701570682,
          0,
          0.2611111111111111,
          0.0891089108910891,
          0.5373134328358209,
          0.041666666666666664,
          0,
          0,
          0.045112781954887216,
          0.188,
          0.1038961038961039,
          0.06716417910447761,
          0.041176470588235294,
          0,
          0.035,
          0.10457516339869281,
          0.15584415584415584,
          0.10426540284360189,
          0,
          0.18571428571428572,
          0.08536585365853659,
          0.0763888888888889,
          0.11214953271028037,
          0,
          0.14285714285714285,
          0.027777777777777776,
          0,
          0.112,
          0,
          0.1588235294117647,
          0.5242290748898678,
          0,
          0.11891891891891893,
          0.1452991452991453,
          0.05228758169934641,
          0.18705035971223022,
          0.057971014492753624,
          0.12650602409638553,
          0.07482993197278912,
          0,
          0.0625,
          0,
          0.13953488372093023,
          0.17687074829931973,
          0.029166666666666667,
          0.08241758241758242,
          0.08791208791208792,
          0.11764705882352941,
          0.05,
          0.952054794520548,
          0,
          0.06521739130434782,
          0,
          0.25,
          0,
          0,
          0.1258741258741259,
          0.11702127659574468,
          0.1111111111111111,
          0.20168067226890757,
          0.062146892655367235,
          0,
          0,
          0.05042016806722689,
          0.2815533980582524,
          0,
          0.06486486486486487,
          0.06015037593984962,
          0.1564625850340136,
          0.18181818181818182,
          0,
          0.07692307692307693,
          0.08968609865470852,
          0,
          0.2457627118644068,
          0.08139534883720931,
          0,
          0.04294478527607362,
          0.10270270270270271,
          0.09246575342465753,
          0.11940298507462686,
          0.17218543046357615,
          0.19230769230769232,
          0,
          0.0449438202247191,
          0.17117117117117117,
          0.06806282722513089,
          0.1774193548387097,
          0.14375,
          0.17326732673267325,
          0.024844720496894408,
          0.2426470588235294,
          0.24725274725274726,
          0.10294117647058823,
          0.05333333333333334,
          0,
          0.09401709401709402,
          0.04519774011299435,
          0.10303030303030303,
          0.15862068965517243,
          0.07947019867549669,
          0.08527131782945736,
          0.1340782122905028,
          0.05675675675675676,
          0.1758957654723127
         ],
         "xaxis": "x",
         "yaxis": "y"
        }
       ],
       "layout": {
        "barmode": "relative",
        "legend": {
         "title": {
          "text": "variable"
         },
         "tracegroupgap": 0
        },
        "margin": {
         "t": 60
        },
        "template": {
         "data": {
          "bar": [
           {
            "error_x": {
             "color": "rgb(36,36,36)"
            },
            "error_y": {
             "color": "rgb(36,36,36)"
            },
            "marker": {
             "line": {
              "color": "white",
              "width": 0.5
             },
             "pattern": {
              "fillmode": "overlay",
              "size": 10,
              "solidity": 0.2
             }
            },
            "type": "bar"
           }
          ],
          "barpolar": [
           {
            "marker": {
             "line": {
              "color": "white",
              "width": 0.5
             },
             "pattern": {
              "fillmode": "overlay",
              "size": 10,
              "solidity": 0.2
             }
            },
            "type": "barpolar"
           }
          ],
          "carpet": [
           {
            "aaxis": {
             "endlinecolor": "rgb(36,36,36)",
             "gridcolor": "white",
             "linecolor": "white",
             "minorgridcolor": "white",
             "startlinecolor": "rgb(36,36,36)"
            },
            "baxis": {
             "endlinecolor": "rgb(36,36,36)",
             "gridcolor": "white",
             "linecolor": "white",
             "minorgridcolor": "white",
             "startlinecolor": "rgb(36,36,36)"
            },
            "type": "carpet"
           }
          ],
          "choropleth": [
           {
            "colorbar": {
             "outlinewidth": 1,
             "tickcolor": "rgb(36,36,36)",
             "ticks": "outside"
            },
            "type": "choropleth"
           }
          ],
          "contour": [
           {
            "colorbar": {
             "outlinewidth": 1,
             "tickcolor": "rgb(36,36,36)",
             "ticks": "outside"
            },
            "colorscale": [
             [
              0,
              "#440154"
             ],
             [
              0.1111111111111111,
              "#482878"
             ],
             [
              0.2222222222222222,
              "#3e4989"
             ],
             [
              0.3333333333333333,
              "#31688e"
             ],
             [
              0.4444444444444444,
              "#26828e"
             ],
             [
              0.5555555555555556,
              "#1f9e89"
             ],
             [
              0.6666666666666666,
              "#35b779"
             ],
             [
              0.7777777777777778,
              "#6ece58"
             ],
             [
              0.8888888888888888,
              "#b5de2b"
             ],
             [
              1,
              "#fde725"
             ]
            ],
            "type": "contour"
           }
          ],
          "contourcarpet": [
           {
            "colorbar": {
             "outlinewidth": 1,
             "tickcolor": "rgb(36,36,36)",
             "ticks": "outside"
            },
            "type": "contourcarpet"
           }
          ],
          "heatmap": [
           {
            "colorbar": {
             "outlinewidth": 1,
             "tickcolor": "rgb(36,36,36)",
             "ticks": "outside"
            },
            "colorscale": [
             [
              0,
              "#440154"
             ],
             [
              0.1111111111111111,
              "#482878"
             ],
             [
              0.2222222222222222,
              "#3e4989"
             ],
             [
              0.3333333333333333,
              "#31688e"
             ],
             [
              0.4444444444444444,
              "#26828e"
             ],
             [
              0.5555555555555556,
              "#1f9e89"
             ],
             [
              0.6666666666666666,
              "#35b779"
             ],
             [
              0.7777777777777778,
              "#6ece58"
             ],
             [
              0.8888888888888888,
              "#b5de2b"
             ],
             [
              1,
              "#fde725"
             ]
            ],
            "type": "heatmap"
           }
          ],
          "heatmapgl": [
           {
            "colorbar": {
             "outlinewidth": 1,
             "tickcolor": "rgb(36,36,36)",
             "ticks": "outside"
            },
            "colorscale": [
             [
              0,
              "#440154"
             ],
             [
              0.1111111111111111,
              "#482878"
             ],
             [
              0.2222222222222222,
              "#3e4989"
             ],
             [
              0.3333333333333333,
              "#31688e"
             ],
             [
              0.4444444444444444,
              "#26828e"
             ],
             [
              0.5555555555555556,
              "#1f9e89"
             ],
             [
              0.6666666666666666,
              "#35b779"
             ],
             [
              0.7777777777777778,
              "#6ece58"
             ],
             [
              0.8888888888888888,
              "#b5de2b"
             ],
             [
              1,
              "#fde725"
             ]
            ],
            "type": "heatmapgl"
           }
          ],
          "histogram": [
           {
            "marker": {
             "line": {
              "color": "white",
              "width": 0.6
             }
            },
            "type": "histogram"
           }
          ],
          "histogram2d": [
           {
            "colorbar": {
             "outlinewidth": 1,
             "tickcolor": "rgb(36,36,36)",
             "ticks": "outside"
            },
            "colorscale": [
             [
              0,
              "#440154"
             ],
             [
              0.1111111111111111,
              "#482878"
             ],
             [
              0.2222222222222222,
              "#3e4989"
             ],
             [
              0.3333333333333333,
              "#31688e"
             ],
             [
              0.4444444444444444,
              "#26828e"
             ],
             [
              0.5555555555555556,
              "#1f9e89"
             ],
             [
              0.6666666666666666,
              "#35b779"
             ],
             [
              0.7777777777777778,
              "#6ece58"
             ],
             [
              0.8888888888888888,
              "#b5de2b"
             ],
             [
              1,
              "#fde725"
             ]
            ],
            "type": "histogram2d"
           }
          ],
          "histogram2dcontour": [
           {
            "colorbar": {
             "outlinewidth": 1,
             "tickcolor": "rgb(36,36,36)",
             "ticks": "outside"
            },
            "colorscale": [
             [
              0,
              "#440154"
             ],
             [
              0.1111111111111111,
              "#482878"
             ],
             [
              0.2222222222222222,
              "#3e4989"
             ],
             [
              0.3333333333333333,
              "#31688e"
             ],
             [
              0.4444444444444444,
              "#26828e"
             ],
             [
              0.5555555555555556,
              "#1f9e89"
             ],
             [
              0.6666666666666666,
              "#35b779"
             ],
             [
              0.7777777777777778,
              "#6ece58"
             ],
             [
              0.8888888888888888,
              "#b5de2b"
             ],
             [
              1,
              "#fde725"
             ]
            ],
            "type": "histogram2dcontour"
           }
          ],
          "mesh3d": [
           {
            "colorbar": {
             "outlinewidth": 1,
             "tickcolor": "rgb(36,36,36)",
             "ticks": "outside"
            },
            "type": "mesh3d"
           }
          ],
          "parcoords": [
           {
            "line": {
             "colorbar": {
              "outlinewidth": 1,
              "tickcolor": "rgb(36,36,36)",
              "ticks": "outside"
             }
            },
            "type": "parcoords"
           }
          ],
          "pie": [
           {
            "automargin": true,
            "type": "pie"
           }
          ],
          "scatter": [
           {
            "marker": {
             "colorbar": {
              "outlinewidth": 1,
              "tickcolor": "rgb(36,36,36)",
              "ticks": "outside"
             }
            },
            "type": "scatter"
           }
          ],
          "scatter3d": [
           {
            "line": {
             "colorbar": {
              "outlinewidth": 1,
              "tickcolor": "rgb(36,36,36)",
              "ticks": "outside"
             }
            },
            "marker": {
             "colorbar": {
              "outlinewidth": 1,
              "tickcolor": "rgb(36,36,36)",
              "ticks": "outside"
             }
            },
            "type": "scatter3d"
           }
          ],
          "scattercarpet": [
           {
            "marker": {
             "colorbar": {
              "outlinewidth": 1,
              "tickcolor": "rgb(36,36,36)",
              "ticks": "outside"
             }
            },
            "type": "scattercarpet"
           }
          ],
          "scattergeo": [
           {
            "marker": {
             "colorbar": {
              "outlinewidth": 1,
              "tickcolor": "rgb(36,36,36)",
              "ticks": "outside"
             }
            },
            "type": "scattergeo"
           }
          ],
          "scattergl": [
           {
            "marker": {
             "colorbar": {
              "outlinewidth": 1,
              "tickcolor": "rgb(36,36,36)",
              "ticks": "outside"
             }
            },
            "type": "scattergl"
           }
          ],
          "scattermapbox": [
           {
            "marker": {
             "colorbar": {
              "outlinewidth": 1,
              "tickcolor": "rgb(36,36,36)",
              "ticks": "outside"
             }
            },
            "type": "scattermapbox"
           }
          ],
          "scatterpolar": [
           {
            "marker": {
             "colorbar": {
              "outlinewidth": 1,
              "tickcolor": "rgb(36,36,36)",
              "ticks": "outside"
             }
            },
            "type": "scatterpolar"
           }
          ],
          "scatterpolargl": [
           {
            "marker": {
             "colorbar": {
              "outlinewidth": 1,
              "tickcolor": "rgb(36,36,36)",
              "ticks": "outside"
             }
            },
            "type": "scatterpolargl"
           }
          ],
          "scatterternary": [
           {
            "marker": {
             "colorbar": {
              "outlinewidth": 1,
              "tickcolor": "rgb(36,36,36)",
              "ticks": "outside"
             }
            },
            "type": "scatterternary"
           }
          ],
          "surface": [
           {
            "colorbar": {
             "outlinewidth": 1,
             "tickcolor": "rgb(36,36,36)",
             "ticks": "outside"
            },
            "colorscale": [
             [
              0,
              "#440154"
             ],
             [
              0.1111111111111111,
              "#482878"
             ],
             [
              0.2222222222222222,
              "#3e4989"
             ],
             [
              0.3333333333333333,
              "#31688e"
             ],
             [
              0.4444444444444444,
              "#26828e"
             ],
             [
              0.5555555555555556,
              "#1f9e89"
             ],
             [
              0.6666666666666666,
              "#35b779"
             ],
             [
              0.7777777777777778,
              "#6ece58"
             ],
             [
              0.8888888888888888,
              "#b5de2b"
             ],
             [
              1,
              "#fde725"
             ]
            ],
            "type": "surface"
           }
          ],
          "table": [
           {
            "cells": {
             "fill": {
              "color": "rgb(237,237,237)"
             },
             "line": {
              "color": "white"
             }
            },
            "header": {
             "fill": {
              "color": "rgb(217,217,217)"
             },
             "line": {
              "color": "white"
             }
            },
            "type": "table"
           }
          ]
         },
         "layout": {
          "annotationdefaults": {
           "arrowhead": 0,
           "arrowwidth": 1
          },
          "autotypenumbers": "strict",
          "coloraxis": {
           "colorbar": {
            "outlinewidth": 1,
            "tickcolor": "rgb(36,36,36)",
            "ticks": "outside"
           }
          },
          "colorscale": {
           "diverging": [
            [
             0,
             "rgb(103,0,31)"
            ],
            [
             0.1,
             "rgb(178,24,43)"
            ],
            [
             0.2,
             "rgb(214,96,77)"
            ],
            [
             0.3,
             "rgb(244,165,130)"
            ],
            [
             0.4,
             "rgb(253,219,199)"
            ],
            [
             0.5,
             "rgb(247,247,247)"
            ],
            [
             0.6,
             "rgb(209,229,240)"
            ],
            [
             0.7,
             "rgb(146,197,222)"
            ],
            [
             0.8,
             "rgb(67,147,195)"
            ],
            [
             0.9,
             "rgb(33,102,172)"
            ],
            [
             1,
             "rgb(5,48,97)"
            ]
           ],
           "sequential": [
            [
             0,
             "#440154"
            ],
            [
             0.1111111111111111,
             "#482878"
            ],
            [
             0.2222222222222222,
             "#3e4989"
            ],
            [
             0.3333333333333333,
             "#31688e"
            ],
            [
             0.4444444444444444,
             "#26828e"
            ],
            [
             0.5555555555555556,
             "#1f9e89"
            ],
            [
             0.6666666666666666,
             "#35b779"
            ],
            [
             0.7777777777777778,
             "#6ece58"
            ],
            [
             0.8888888888888888,
             "#b5de2b"
            ],
            [
             1,
             "#fde725"
            ]
           ],
           "sequentialminus": [
            [
             0,
             "#440154"
            ],
            [
             0.1111111111111111,
             "#482878"
            ],
            [
             0.2222222222222222,
             "#3e4989"
            ],
            [
             0.3333333333333333,
             "#31688e"
            ],
            [
             0.4444444444444444,
             "#26828e"
            ],
            [
             0.5555555555555556,
             "#1f9e89"
            ],
            [
             0.6666666666666666,
             "#35b779"
            ],
            [
             0.7777777777777778,
             "#6ece58"
            ],
            [
             0.8888888888888888,
             "#b5de2b"
            ],
            [
             1,
             "#fde725"
            ]
           ]
          },
          "colorway": [
           "#1F77B4",
           "#FF7F0E",
           "#2CA02C",
           "#D62728",
           "#9467BD",
           "#8C564B",
           "#E377C2",
           "#7F7F7F",
           "#BCBD22",
           "#17BECF"
          ],
          "font": {
           "color": "rgb(36,36,36)"
          },
          "geo": {
           "bgcolor": "white",
           "lakecolor": "white",
           "landcolor": "white",
           "showlakes": true,
           "showland": true,
           "subunitcolor": "white"
          },
          "hoverlabel": {
           "align": "left"
          },
          "hovermode": "closest",
          "mapbox": {
           "style": "light"
          },
          "paper_bgcolor": "white",
          "plot_bgcolor": "white",
          "polar": {
           "angularaxis": {
            "gridcolor": "rgb(232,232,232)",
            "linecolor": "rgb(36,36,36)",
            "showgrid": false,
            "showline": true,
            "ticks": "outside"
           },
           "bgcolor": "white",
           "radialaxis": {
            "gridcolor": "rgb(232,232,232)",
            "linecolor": "rgb(36,36,36)",
            "showgrid": false,
            "showline": true,
            "ticks": "outside"
           }
          },
          "scene": {
           "xaxis": {
            "backgroundcolor": "white",
            "gridcolor": "rgb(232,232,232)",
            "gridwidth": 2,
            "linecolor": "rgb(36,36,36)",
            "showbackground": true,
            "showgrid": false,
            "showline": true,
            "ticks": "outside",
            "zeroline": false,
            "zerolinecolor": "rgb(36,36,36)"
           },
           "yaxis": {
            "backgroundcolor": "white",
            "gridcolor": "rgb(232,232,232)",
            "gridwidth": 2,
            "linecolor": "rgb(36,36,36)",
            "showbackground": true,
            "showgrid": false,
            "showline": true,
            "ticks": "outside",
            "zeroline": false,
            "zerolinecolor": "rgb(36,36,36)"
           },
           "zaxis": {
            "backgroundcolor": "white",
            "gridcolor": "rgb(232,232,232)",
            "gridwidth": 2,
            "linecolor": "rgb(36,36,36)",
            "showbackground": true,
            "showgrid": false,
            "showline": true,
            "ticks": "outside",
            "zeroline": false,
            "zerolinecolor": "rgb(36,36,36)"
           }
          },
          "shapedefaults": {
           "fillcolor": "black",
           "line": {
            "width": 0
           },
           "opacity": 0.3
          },
          "ternary": {
           "aaxis": {
            "gridcolor": "rgb(232,232,232)",
            "linecolor": "rgb(36,36,36)",
            "showgrid": false,
            "showline": true,
            "ticks": "outside"
           },
           "baxis": {
            "gridcolor": "rgb(232,232,232)",
            "linecolor": "rgb(36,36,36)",
            "showgrid": false,
            "showline": true,
            "ticks": "outside"
           },
           "bgcolor": "white",
           "caxis": {
            "gridcolor": "rgb(232,232,232)",
            "linecolor": "rgb(36,36,36)",
            "showgrid": false,
            "showline": true,
            "ticks": "outside"
           }
          },
          "title": {
           "x": 0.05
          },
          "xaxis": {
           "automargin": true,
           "gridcolor": "rgb(232,232,232)",
           "linecolor": "rgb(36,36,36)",
           "showgrid": false,
           "showline": true,
           "ticks": "outside",
           "title": {
            "standoff": 15
           },
           "zeroline": false,
           "zerolinecolor": "rgb(36,36,36)"
          },
          "yaxis": {
           "automargin": true,
           "gridcolor": "rgb(232,232,232)",
           "linecolor": "rgb(36,36,36)",
           "showgrid": false,
           "showline": true,
           "ticks": "outside",
           "title": {
            "standoff": 15
           },
           "zeroline": false,
           "zerolinecolor": "rgb(36,36,36)"
          }
         }
        },
        "xaxis": {
         "anchor": "y",
         "domain": [
          0,
          1
         ],
         "title": {
          "text": "value"
         }
        },
        "yaxis": {
         "anchor": "x",
         "domain": [
          0,
          1
         ],
         "title": {
          "text": "count"
         }
        }
       }
      }
     },
     "metadata": {},
     "output_type": "display_data"
    }
   ],
   "source": [
    "# Check how many atoms belong to framework.\n",
    "cola = []\n",
    "for pdb_idcode in interface_atoms2.keys():\n",
    "    cderes = [atm.CDR for atm in interface_atoms2[pdb_idcode].antibody.values()]\n",
    "    cola.append(cderes.count(0) / len(cderes))\n",
    "px.histogram(cola)"
   ]
  },
  {
   "cell_type": "code",
   "execution_count": 22,
   "metadata": {},
   "outputs": [],
   "source": [
    "with open(Path.joinpath(data_dir, 'interface_atoms.pkl'), 'rb') as file:\n",
    "        interface_atoms = pickle.load(file)"
   ]
  },
  {
   "cell_type": "code",
   "execution_count": 24,
   "metadata": {},
   "outputs": [
    {
     "data": {
      "application/vnd.plotly.v1+json": {
       "config": {
        "plotlyServerURL": "https://plot.ly"
       },
       "data": [
        {
         "alignmentgroup": "True",
         "bingroup": "x",
         "hovertemplate": "variable=0<br>value=%{x}<br>count=%{y}<extra></extra>",
         "legendgroup": "0",
         "marker": {
          "color": "#1F77B4",
          "pattern": {
           "shape": ""
          }
         },
         "name": "0",
         "offsetgroup": "0",
         "orientation": "v",
         "showlegend": true,
         "type": "histogram",
         "x": [
          0.05,
          0.25308641975308643,
          0.17889908256880735,
          0.5177165354330708,
          0.09302325581395349,
          0.22435897435897437,
          0.175,
          0.216,
          0.17415730337078653,
          0.09302325581395349,
          0.12903225806451613,
          0.2512820512820513,
          0.1164021164021164,
          0.20863309352517986,
          0.31336405529953915,
          0.2236024844720497,
          0.21621621621621623,
          0.09595959595959595,
          0.19545454545454546,
          0.1935483870967742,
          0.26900584795321636,
          0.3058823529411765,
          0.12448132780082988,
          0.2620320855614973,
          0,
          0.15384615384615385,
          0.12213740458015267,
          0.37254901960784315,
          0.044642857142857144,
          0.11409395973154363,
          0.16574585635359115,
          0.1715686274509804,
          0.33088235294117646,
          0.17829457364341086,
          0.4340659340659341,
          0.30275229357798167,
          0.16666666666666666,
          0.06790123456790123,
          0.2620320855614973,
          0.15544041450777202,
          0.20238095238095238,
          0,
          0.5454545454545454,
          0.1183206106870229,
          0,
          0.12,
          0.2542372881355932,
          0.0641025641025641,
          0.12017167381974249,
          0.1488095238095238,
          0.14457831325301204,
          0.17266187050359713,
          0.07947019867549669,
          0.25157232704402516,
          0.02717391304347826,
          0.2482758620689655,
          0.19021739130434784,
          0.2849162011173184,
          0.8201754385964912,
          0.24277456647398843,
          0.19607843137254902,
          0.15979381443298968,
          0.11917098445595854,
          0.29508196721311475,
          0.18592964824120603,
          0.28019323671497587,
          0.38009049773755654,
          0.05291005291005291,
          0.07453416149068323,
          0,
          0.0851063829787234,
          0.25157232704402516,
          0.17647058823529413,
          0.07692307692307693,
          0.2191780821917808,
          0.34977578475336324,
          0.21468926553672316,
          0.09900990099009901,
          0.19642857142857142,
          0.06593406593406594,
          0.2929936305732484,
          0.056451612903225805,
          0.3114754098360656,
          0.15450643776824036,
          0.06741573033707865,
          0.2992125984251969,
          0.25308641975308643,
          0.15723270440251572,
          0.14367816091954022,
          0.14285714285714285,
          0.07894736842105263,
          0.2755905511811024,
          0.1793478260869565,
          0.17791411042944785,
          0.19895287958115182,
          0.22033898305084745,
          0.6571428571428571,
          0.1872146118721461,
          0,
          0.15040650406504066,
          0.13095238095238096,
          0.16666666666666666,
          0.25112107623318386,
          0.1111111111111111,
          0.14102564102564102,
          0.1130952380952381,
          0.23857868020304568,
          0.03067484662576687,
          0.29292929292929293,
          0.1532258064516129,
          0.13333333333333333,
          0,
          0.10784313725490197,
          0.32432432432432434,
          0.25,
          0.5238095238095238,
          0,
          0.24444444444444444,
          0.2546583850931677,
          0.2647058823529412,
          0.09821428571428571,
          0.08870967741935484,
          0.1564245810055866,
          0.03731343283582089,
          0.0228310502283105,
          0.12682926829268293,
          0.2803347280334728,
          0.08673469387755102,
          0.20634920634920634,
          0.3875968992248062,
          0.24882629107981222,
          0,
          0,
          0.21348314606741572,
          0.27647058823529413,
          0.1981981981981982,
          0.16875,
          0.07792207792207792,
          0.19375,
          0.16842105263157894,
          0.20081967213114754,
          0.26666666666666666,
          0.10619469026548672,
          0.20689655172413793,
          0.2328042328042328,
          0.2328767123287671,
          0.2872340425531915,
          0.2275449101796407,
          0.12773722627737227,
          0,
          0,
          0.1532258064516129,
          0,
          0.13043478260869565,
          0.29739776951672864,
          0.12100456621004566,
          0.22758620689655173,
          0.2235294117647059,
          0.05970149253731343,
          0.09090909090909091,
          0.2057142857142857,
          0,
          0.3142857142857143,
          0.3612565445026178,
          0.11864406779661017,
          0.1411042944785276,
          0.11834319526627218,
          0.18719211822660098,
          0.13227513227513227,
          0.18723404255319148,
          0.3157894736842105,
          0.328,
          0.07106598984771574,
          0.12738853503184713,
          0.07368421052631578,
          0.14084507042253522,
          0.20238095238095238,
          0.19310344827586207,
          0.14285714285714285,
          0.3333333333333333,
          0.075,
          0,
          0.2413793103448276,
          0.37815126050420167,
          0.24060150375939848,
          0.12341772151898735,
          0.11518324607329843,
          0.1650943396226415,
          0.06666666666666667,
          0.23076923076923078,
          0.24736842105263157,
          0.08955223880597014,
          0.12844036697247707,
          0.06875,
          0.07792207792207792,
          0.2,
          0.18781725888324874,
          0.18292682926829268,
          0.13636363636363635,
          0.23809523809523808,
          0.3736842105263158,
          0.20588235294117646,
          0.23303834808259588,
          0.31690140845070425,
          0.2026431718061674,
          0.03763440860215054,
          0,
          0.20430107526881722,
          0.1404494382022472,
          0.03896103896103896,
          0.18235294117647058,
          0.13736263736263737,
          0.17041800643086816,
          0.08757062146892655,
          0.058823529411764705,
          0.041666666666666664,
          0,
          0.15508021390374332,
          0,
          0.08391608391608392,
          0.24260355029585798,
          0.33858267716535434,
          0.03409090909090909,
          0.1358695652173913,
          0.09615384615384616,
          0.19473684210526315,
          0.5489749430523918,
          0.21739130434782608,
          0.5833333333333334,
          0.6079545454545454,
          0.06711409395973154,
          0.5098814229249012,
          0.20134228187919462,
          0.25,
          0,
          0.16834170854271358,
          0.2125,
          0.2524271844660194,
          0.10697674418604651,
          0.18674698795180722,
          0.20408163265306123,
          0.11029411764705882,
          0.22110552763819097,
          0.15671641791044777,
          0.20526315789473684,
          0.36666666666666664,
          0.078125,
          0.33548387096774196,
          0.5155807365439093,
          0.5391705069124424,
          0.29797979797979796,
          0.2802547770700637,
          0.1564245810055866,
          0.1792452830188679,
          0.042328042328042326,
          0.10526315789473684,
          0.24193548387096775,
          0.2072072072072072,
          0.1780821917808219,
          0.17791411042944785,
          0.06285714285714286,
          0.19387755102040816,
          0.7160493827160493,
          0.08695652173913043,
          0.13529411764705881,
          0.06395348837209303,
          0.27155172413793105,
          0.22289156626506024,
          0.35984848484848486,
          0.059602649006622516,
          0,
          0.5038167938931297,
          0.22302158273381295,
          0,
          0.08663366336633663,
          0.25,
          0.21888412017167383,
          0.17266187050359713,
          0.21100917431192662,
          0.13529411764705881,
          0,
          0,
          0.4764705882352941,
          0.08053691275167785,
          0.1267605633802817,
          0.22869955156950672,
          0.18134715025906736,
          0.07407407407407407,
          0.3203285420944558,
          0.6071428571428571,
          0.34507042253521125,
          0.47058823529411764,
          0.16551724137931034,
          0.2222222222222222,
          0.21019108280254778,
          0.0916030534351145,
          0.2440944881889764,
          0.04861111111111111,
          0.03932584269662921,
          0.06395348837209303,
          0.14673913043478262,
          0.31413612565445026,
          0.22981366459627328,
          0.171875,
          0.031746031746031744,
          0.08588957055214724,
          0.3050847457627119,
          0.4388349514563107,
          0.1419753086419753,
          0.44854368932038835,
          0.6255707762557078,
          0.5046296296296297,
          0.06179775280898876,
          0.11764705882352941,
          0.2679425837320574,
          0.1320754716981132,
          0.17333333333333334,
          0.075,
          0.10526315789473684,
          0.507177033492823,
          0,
          0.1044776119402985,
          0.6512820512820513,
          0.04216867469879518,
          0.5425867507886435,
          0.1188118811881188,
          0.16666666666666666,
          0.22137404580152673,
          0.2983425414364641,
          0.23204419889502761,
          0.07329842931937172,
          0.2619047619047619,
          0.24875621890547264,
          0.24615384615384617,
          0.09090909090909091,
          0.21481481481481482,
          0.46511627906976744,
          0,
          0,
          0.2631578947368421,
          0.1348314606741573,
          0.14906832298136646,
          0.23809523809523808,
          0,
          0.047619047619047616,
          0.18584070796460178,
          0.16433566433566432,
          0.6310160427807486,
          0.1625,
          0.21393034825870647,
          0.2822085889570552,
          0.2561576354679803,
          0.3076923076923077,
          0.13986013986013987,
          0.16326530612244897,
          0.1895424836601307,
          0.24479166666666666,
          0.11805555555555555,
          0.20320855614973263,
          0.06428571428571428,
          0.06896551724137931,
          0.1592920353982301,
          0.06569343065693431,
          0,
          0.10989010989010989,
          0.05238095238095238,
          0,
          0,
          0.16326530612244897,
          0.28125,
          0.19298245614035087,
          0.15286624203821655,
          0.21354166666666666,
          0.27976190476190477,
          0.1348314606741573,
          0.07058823529411765,
          0.3111111111111111,
          0,
          0.06521739130434782,
          0.1393939393939394,
          0.1696969696969697,
          0.07586206896551724,
          0.14453125,
          0.22794117647058823,
          0.3055555555555556,
          0.23880597014925373,
          0.11046511627906977,
          0.041584158415841586,
          0.13372093023255813,
          0.587378640776699,
          0.10476190476190476,
          0.25688073394495414,
          0.11428571428571428,
          0.10810810810810811,
          0.3493150684931507,
          0.09523809523809523,
          0.1323529411764706,
          0.25301204819277107,
          0,
          0.10638297872340426,
          0.12727272727272726,
          0.18110236220472442,
          0.049689440993788817,
          0.10191082802547771,
          0.13333333333333333,
          0.2125,
          0.14942528735632185,
          0.06790123456790123,
          0.1793103448275862,
          0.13274336283185842,
          0.22279792746113988,
          0.15384615384615385,
          0.18823529411764706,
          0.031007751937984496,
          0.4634146341463415,
          0.027586206896551724,
          0.34375,
          0.31343283582089554,
          0.25853658536585367,
          0.175,
          0.11235955056179775,
          0,
          0.17834394904458598,
          0.17886178861788618,
          0.3018867924528302,
          0.15508021390374332,
          0.437125748502994,
          0.33396584440227706,
          0,
          0.08917197452229299,
          0.2839506172839506,
          0.1111111111111111,
          0,
          0.17482517482517482,
          0.22560975609756098,
          0.296969696969697,
          0.20408163265306123,
          0.229064039408867,
          0,
          0.3684210526315789,
          0.14979757085020243,
          0.32116788321167883,
          0.10638297872340426,
          0.12578616352201258,
          0.3313253012048193,
          0.22395833333333334,
          0.1780821917808219,
          0.035175879396984924,
          0.06428571428571428,
          0.2932692307692308,
          0.17703349282296652,
          0.1952662721893491,
          0.13513513513513514,
          0.9444444444444444,
          0.27607361963190186,
          0.1085972850678733,
          0.16842105263157894,
          0.12337662337662338,
          0.15348837209302327,
          0.40454545454545454,
          0.1111111111111111,
          0.15789473684210525,
          0.08139534883720931,
          0.27403846153846156,
          0,
          0.20496894409937888,
          0.55,
          0.027777777777777776,
          0.07857142857142857,
          0.3406113537117904,
          0,
          0.17994100294985252,
          0.13259668508287292,
          0.20642201834862386,
          0.23684210526315788,
          0.043795620437956206,
          0.27756653992395436,
          0.20772946859903382,
          0.06153846153846154,
          0.1657754010695187,
          0,
          0.2579505300353357,
          0,
          0.13953488372093023,
          0.28055555555555556,
          0.27461139896373055,
          0.10382513661202186,
          0.10232558139534884,
          0.08695652173913043,
          0.1761904761904762,
          0.16049382716049382,
          0.3386243386243386,
          0.1267605633802817,
          0.1564245810055866,
          0.057692307692307696,
          0.5699481865284974,
          0.4008097165991903,
          0.23655913978494625,
          0.1865671641791045,
          0.0875,
          0.3020833333333333,
          0.25,
          0.1259259259259259,
          0.2236842105263158,
          0,
          0.16666666666666666,
          0,
          0.09022556390977443,
          0.11864406779661017,
          0.2608695652173913,
          0.36507936507936506,
          0.09230769230769231,
          0,
          0.08808290155440414,
          0.2346368715083799,
          0.24581005586592178,
          0.26229508196721313,
          0.16901408450704225,
          0.211340206185567,
          0.15789473684210525,
          0.21052631578947367,
          0.2787878787878788,
          0.15483870967741936,
          0.18110236220472442,
          0.14814814814814814,
          0.12716763005780346,
          0,
          0.3645833333333333,
          0,
          0.1388888888888889,
          0.13815789473684212,
          0.049079754601226995,
          0.0916030534351145,
          0.2374429223744292,
          0.20224719101123595,
          0,
          0,
          0.12560386473429952,
          0.5019762845849802,
          0.0379746835443038,
          0,
          0.20105820105820105,
          0.25748502994011974,
          0.29927007299270075,
          0.29464285714285715,
          0.05517241379310345,
          0,
          0.24096385542168675,
          0.29381443298969073,
          0.33031674208144796,
          0.04093567251461988,
          0,
          0.13559322033898305,
          0.13740458015267176,
          0.07547169811320754,
          0.17829457364341086,
          0.28078817733990147,
          0,
          0.3308270676691729,
          0.08056872037914692,
          0.5887850467289719,
          0.2740740740740741,
          0,
          0.17829457364341086,
          0.35526315789473684,
          0.5843621399176955,
          0.6013513513513513,
          0.06521739130434782,
          0.19444444444444445,
          0,
          0.1346153846153846,
          0.15702479338842976,
          0.19680851063829788,
          0.225,
          0.13541666666666666,
          0.09210526315789473,
          0.06806282722513089,
          0.14285714285714285,
          0.20454545454545456,
          0.041666666666666664,
          0.1513157894736842,
          0.13612565445026178,
          0.16352201257861634,
          0.12582781456953643,
          0.14354066985645933,
          0.21714285714285714,
          0.15584415584415584,
          0.47297297297297297,
          0.1651376146788991,
          0.26180257510729615,
          0.22950819672131148,
          0.28191489361702127,
          0.08333333333333333,
          0.13013698630136986,
          0.08463251670378619,
          0.04040404040404041,
          0.2631578947368421,
          0.16363636363636364,
          0.047244094488188976,
          0.07894736842105263,
          0.08333333333333333,
          0.21428571428571427,
          0.16030534351145037,
          0.08085106382978724,
          0,
          0.16560509554140126,
          0,
          0.288135593220339,
          0.22797927461139897,
          0.21052631578947367,
          0.24731182795698925,
          0.19138755980861244,
          0.15,
          0.2660098522167488,
          0.21341463414634146,
          0.1712707182320442,
          0.10837438423645321,
          0.2261904761904762,
          0.19148936170212766,
          0.041666666666666664,
          0.10256410256410256,
          0.2077922077922078,
          0.10526315789473684,
          0,
          0.14189189189189189,
          0.18562874251497005,
          0.08888888888888889,
          0.2147239263803681,
          0.19767441860465115,
          0.22598870056497175,
          0.13636363636363635,
          0.13725490196078433,
          0.15789473684210525,
          0.22807017543859648,
          0.16167664670658682,
          0.1419753086419753,
          0.16770186335403728,
          0.13218390804597702,
          0.205607476635514,
          0.26294820717131473,
          0.17037037037037037,
          0.12365591397849462,
          0.2891566265060241,
          0.17391304347826086,
          0.32608695652173914,
          0.18461538461538463,
          0.2896825396825397,
          0,
          0,
          0,
          0.22388059701492538,
          0.33163265306122447,
          0,
          0.4451219512195122,
          0.2857142857142857,
          0.1638418079096045,
          0,
          0.23125,
          0.06077348066298342,
          0.18232044198895028,
          0.2236842105263158,
          0.14,
          0.0891089108910891,
          0.15384615384615385,
          0,
          0,
          0.037037037037037035,
          0.16289592760180996,
          0.75,
          0.16304347826086957,
          0.23163841807909605,
          0.15862068965517243,
          0.25547445255474455,
          0.23243243243243245,
          0.12755102040816327,
          0.22167487684729065,
          0.39690721649484534,
          0.6018808777429467,
          0.583969465648855,
          0.125,
          0.19801980198019803,
          0.19282511210762332,
          0.18382352941176472,
          0.13274336283185842,
          0.6118143459915611,
          0.5925925925925926,
          0.0916030534351145,
          0.22093023255813954,
          0.08152173913043478,
          0,
          0.08256880733944955,
          0.09482758620689655,
          0.1111111111111111,
          0.06432748538011696,
          0.0736196319018405,
          0.20114942528735633,
          0.18902439024390244,
          0.6402877697841727,
          0.25,
          0.08333333333333333,
          0.10909090909090909,
          0.07857142857142857,
          0.2640449438202247,
          0.7205882352941176,
          0.48756218905472637,
          0.2229965156794425,
          0.22935779816513763,
          0.08661417322834646,
          0.16875,
          0.09937888198757763,
          0.2376237623762376,
          0.15458937198067632,
          0.18848167539267016,
          0.2222222222222222,
          0.188,
          0.2857142857142857,
          0.24867724867724866,
          0.05527638190954774,
          0,
          0.1518987341772152,
          0,
          0.08275862068965517,
          0.17253521126760563,
          0.17253521126760563,
          0.6296296296296297,
          0.6036036036036037,
          0.15827338129496402,
          0.1787709497206704,
          0.4972972972972973,
          0.34519572953736655,
          0.10218978102189781,
          0.12658227848101267,
          0.06,
          0.5295566502463054,
          0.13138686131386862,
          0,
          0.2669902912621359,
          0.2,
          0.05185185185185185,
          0.14814814814814814,
          0.18652849740932642,
          0.2611464968152866,
          0.12213740458015267,
          0.125,
          0.176,
          0.2897727272727273,
          0.14457831325301204,
          0.16216216216216217,
          0.1569767441860465,
          0.375,
          0.047872340425531915,
          0.09448818897637795,
          0.029850746268656716,
          0.30612244897959184,
          0.10256410256410256,
          0.09859154929577464,
          0.23036649214659685,
          0.06578947368421052,
          0.058823529411764705,
          0.14285714285714285,
          0.2556390977443609,
          0.11627906976744186,
          0.16546762589928057,
          0.20382165605095542,
          0.17318435754189945,
          0.2358974358974359,
          0.1590909090909091,
          0.19923371647509577,
          0.08955223880597014,
          0.07857142857142857,
          0.13513513513513514,
          0.20161290322580644,
          0.175,
          0.24087591240875914,
          0.15086206896551724,
          0.13218390804597702,
          0,
          0.13496932515337423,
          0.39864864864864863,
          0.11607142857142858,
          0.20982142857142858,
          0.05232558139534884,
          0.20491803278688525,
          0,
          0.22916666666666666,
          0.1509433962264151,
          0.25263157894736843,
          0.3063973063973064,
          0.22627737226277372,
          0.17343173431734318,
          0,
          0.2948717948717949,
          0.21666666666666667,
          0.0784313725490196,
          0.10084033613445378,
          0.03806228373702422,
          0.03870967741935484,
          0.1751412429378531,
          0.08759124087591241,
          0.15546218487394958,
          0.05714285714285714,
          0.10810810810810811,
          0.03571428571428571,
          0.20657276995305165,
          0.2905027932960894,
          0.10185185185185185,
          0,
          0.24647887323943662,
          0.2191780821917808,
          0.21138211382113822,
          0.14285714285714285,
          0.25139664804469275,
          0.1348314606741573,
          0.08955223880597014,
          0.13259668508287292,
          0.15028901734104047,
          0.5285714285714286,
          0.049773755656108594,
          0.03773584905660377,
          0.1487603305785124,
          0.18932038834951456,
          0.24193548387096775,
          0.11855670103092783,
          0.2,
          0,
          0.1013215859030837,
          1,
          0.15763546798029557,
          0.1518987341772152,
          0.1144578313253012,
          0.2182741116751269,
          0.06091370558375635,
          0.164021164021164,
          0.22488038277511962,
          0.0625,
          0.23711340206185566,
          0.4350282485875706,
          0,
          0,
          0.025,
          0.17486338797814208,
          0,
          0.20765027322404372,
          0.1286549707602339,
          0.06593406593406594,
          0.13636363636363635,
          0.07111111111111111,
          0.046357615894039736,
          0.18681318681318682,
          0.03773584905660377,
          0.21232876712328766,
          0.13333333333333333,
          0.14705882352941177,
          0.18433179723502305,
          0.056338028169014086,
          0,
          0.12087912087912088,
          0.15555555555555556,
          0.3283582089552239,
          0.16759776536312848,
          0.08759124087591241,
          0.057692307692307696,
          0.1262135922330097,
          0.26109660574412535,
          0.13714285714285715,
          0.30288461538461536,
          0.14736842105263157,
          0.05825242718446602,
          0.24864864864864866,
          0.1366120218579235,
          0.18023255813953487,
          0.13333333333333333,
          0.24210526315789474,
          0.20454545454545456,
          0.18439716312056736,
          0.13513513513513514,
          0.08759124087591241,
          0,
          0.19285714285714287,
          0.17266187050359713,
          0.19337016574585636,
          0.18238993710691823,
          0,
          0.13471502590673576,
          0.2775330396475771,
          0.07865168539325842,
          0.07924528301886792,
          0.2014388489208633,
          0,
          0.1267605633802817,
          0,
          0.17777777777777778,
          0,
          0.15436241610738255,
          0.30597014925373134,
          0.2671232876712329,
          0.23376623376623376,
          0.0989010989010989,
          0.17592592592592593,
          0.16593886462882096,
          0,
          0.21621621621621623,
          0.09836065573770492,
          0.2198581560283688,
          0.19895287958115182,
          0.04,
          0,
          0.3695652173913043,
          0.16025641025641027,
          0.3333333333333333,
          0.2647058823529412,
          0,
          0.1360544217687075,
          0.3051948051948052,
          0.16292134831460675,
          0.21296296296296297,
          0.24043715846994534,
          0.23333333333333334,
          0.0979020979020979,
          0.45925925925925926,
          0.18556701030927836,
          0.2736842105263158,
          0.2802547770700637,
          0.14054054054054055,
          0.09895833333333333,
          0.16042780748663102,
          0.21893491124260356,
          0.3712871287128713,
          0.13953488372093023,
          0.1,
          0.06338028169014084,
          0.15283842794759825,
          0.19230769230769232,
          0.16666666666666666,
          0.23,
          0.2441860465116279,
          0.08888888888888889,
          0.09649122807017543,
          0.10526315789473684,
          0.37341772151898733,
          0.17692307692307693,
          0.27607361963190186,
          0.07100591715976332,
          0,
          0.5587188612099644,
          0.3888888888888889,
          0.2596685082872928,
          0.3641025641025641,
          0,
          0.1986062717770035,
          0.1366906474820144,
          0.08333333333333333,
          0.07894736842105263,
          0.195,
          0.41818181818181815,
          0.12883435582822086,
          0.09090909090909091,
          0.12931034482758622,
          0.15432098765432098,
          0.08585858585858586,
          0.4330708661417323,
          0.20809248554913296,
          0.3238095238095238,
          0.17,
          0.18781725888324874,
          0.31797235023041476,
          0.35714285714285715,
          0.3145539906103286,
          0.2046783625730994,
          0.2032967032967033,
          0.23958333333333334,
          0.2937853107344633,
          0.2639593908629442,
          0.16326530612244897,
          0.5369127516778524,
          0,
          0.09401709401709402,
          0.2796610169491525,
          0.3558282208588957,
          0.3665158371040724,
          0.2620689655172414,
          0.19791666666666666,
          0,
          0.041666666666666664,
          0.17894736842105263,
          0.1111111111111111,
          0.0915032679738562,
          0.25125628140703515,
          0.11643835616438356,
          0,
          0.07920792079207921,
          0.08235294117647059,
          0.5406976744186046,
          0.2,
          0.06015037593984962,
          0.12244897959183673,
          0.4763779527559055,
          0.46774193548387094,
          0.2222222222222222,
          0.05612244897959184,
          0.0718562874251497,
          0.19186046511627908,
          0.087248322147651,
          0,
          0.18840579710144928,
          0.234375,
          0.23728813559322035,
          0.1956521739130435,
          0.3147208121827411,
          0.13513513513513514,
          0.061224489795918366,
          0.24675324675324675,
          0.1885245901639344,
          0.14601769911504425,
          0.12359550561797752,
          0.1456953642384106,
          0.1347517730496454,
          0.4008438818565401,
          0.06875,
          0.17553191489361702,
          0,
          0,
          0.18617021276595744,
          0.17326732673267325,
          0.49404761904761907,
          0.16346153846153846,
          0.13815789473684212,
          0,
          0.20689655172413793,
          0.2,
          0.22535211267605634,
          0.36,
          0.13333333333333333,
          0.12371134020618557,
          0.21468926553672316,
          0.1981981981981982,
          0.22580645161290322,
          0.13068181818181818,
          0.18981481481481483,
          1,
          0.2722772277227723,
          0.20320855614973263,
          0.3185840707964602,
          0.06153846153846154,
          0.10317460317460317,
          0,
          0.05555555555555555,
          0.336996336996337,
          0.26119402985074625,
          0.08,
          0.26490066225165565,
          0.06069364161849711,
          0.06766917293233082,
          0.20394736842105263,
          0.21328671328671328,
          0.1695501730103806,
          0.07100591715976332,
          0.20224719101123595,
          0.3333333333333333,
          0.2792207792207792,
          0,
          0.05806451612903226,
          0.24680851063829787,
          0.13975155279503104,
          0.1282051282051282,
          0.364,
          0.12380952380952381,
          0.08870967741935484,
          0.03488372093023256,
          0.23121387283236994,
          0.21761658031088082,
          0.0958904109589041,
          0,
          0.10465116279069768,
          0.4155251141552511,
          0.10218978102189781,
          0.2808988764044944,
          0.34375,
          0,
          0.0970464135021097,
          0.2125,
          0.1527777777777778,
          0.16184971098265896,
          0.037383177570093455,
          0.07352941176470588,
          0.075,
          0,
          1,
          0.11004784688995216,
          0.19724770642201836,
          0,
          0.22950819672131148,
          0.09905660377358491,
          0.6323529411764706,
          0.16939890710382513,
          0.4782608695652174,
          0.06201550387596899,
          0.09375,
          0,
          0.1350210970464135,
          0.23316062176165803,
          0.22813688212927757,
          0.34459459459459457,
          0,
          0,
          0,
          0.17567567567567569,
          0.13297872340425532,
          0.0892018779342723,
          0.0947867298578199,
          0.1111111111111111,
          0.08780487804878048,
          0.2153846153846154,
          0.07407407407407407,
          0.17613636363636365,
          0.15789473684210525,
          0.14173228346456693,
          0.16666666666666666,
          0,
          0.19653179190751446,
          0.3953488372093023,
          0.3107344632768362,
          0.6345177664974619,
          0.13901345291479822,
          0.21359223300970873,
          0.27,
          0.2576419213973799,
          0.1956521739130435,
          0.22641509433962265,
          0.25675675675675674,
          0.25274725274725274,
          0.5618556701030928,
          0.2300469483568075,
          0.07476635514018691,
          0.1076923076923077,
          0.16783216783216784,
          0.20202020202020202,
          0.36065573770491804,
          0.1557377049180328,
          0.14691943127962084,
          0.6748971193415638,
          0,
          0.22580645161290322,
          0.29608938547486036,
          0.29365079365079366,
          0.15789473684210525,
          0.21428571428571427,
          0,
          0.19902912621359223,
          0.3283582089552239,
          0.2692307692307692,
          0.12857142857142856,
          0.07749077490774908,
          0.23555555555555555,
          0.16774193548387098,
          0.23036649214659685,
          0.06382978723404255,
          0.32222222222222224,
          0.20297029702970298,
          0.6268656716417911,
          0.10714285714285714,
          0,
          0,
          0.045112781954887216,
          0.28,
          0.18181818181818182,
          0.15671641791044777,
          0.17647058823529413,
          0.11920529801324503,
          0.095,
          0.16339869281045752,
          0.2792207792207792,
          0.2132701421800948,
          0.08187134502923976,
          0.2857142857142857,
          0.11585365853658537,
          0.2638888888888889,
          0.27102803738317754,
          0.1165644171779141,
          0.14285714285714285,
          0.1597222222222222,
          0.12631578947368421,
          0.208,
          0.08235294117647059,
          0.3058823529411765,
          0.5594713656387665,
          0.15,
          0.14594594594594595,
          0.27350427350427353,
          0.05228758169934641,
          0.18705035971223022,
          0.13768115942028986,
          0.26506024096385544,
          0.17006802721088435,
          0,
          0.15833333333333333,
          0,
          0.18023255813953487,
          0.2585034013605442,
          0.058333333333333334,
          0.08241758241758242,
          0.08791208791208792,
          0.17194570135746606,
          0.12307692307692308,
          0.952054794520548,
          0.05491329479768786,
          0.09937888198757763,
          0.05289672544080604,
          0.25,
          0.10810810810810811,
          0.057692307692307696,
          0.26573426573426573,
          0.2393617021276596,
          0.24561403508771928,
          0.28851540616246496,
          0.192090395480226,
          0,
          0,
          0.11764705882352941,
          0.2977346278317152,
          0.08888888888888889,
          0.06486486486486487,
          0.06015037593984962,
          0.1564625850340136,
          0.20454545454545456,
          0.05853658536585366,
          0.07692307692307693,
          0.15246636771300448,
          0.08955223880597014,
          0.326271186440678,
          0.11046511627906977,
          0,
          0.1165644171779141,
          0.24864864864864866,
          0.13013698630136986,
          0.16791044776119404,
          0.23178807947019867,
          0.26153846153846155,
          0.05504587155963303,
          0.11235955056179775,
          0.21171171171171171,
          0.1256544502617801,
          0.1774193548387097,
          0.23125,
          0.20297029702970298,
          0.11180124223602485,
          0.38235294117647056,
          0.2857142857142857,
          0.14705882352941177,
          0.14666666666666667,
          0.09375,
          0.15384615384615385,
          0.04519774011299435,
          0.18787878787878787,
          0.3103448275862069,
          0.15894039735099338,
          0.17829457364341086,
          0.1340782122905028,
          0.11351351351351352,
          0.20846905537459284
         ],
         "xaxis": "x",
         "yaxis": "y"
        }
       ],
       "layout": {
        "barmode": "relative",
        "legend": {
         "title": {
          "text": "variable"
         },
         "tracegroupgap": 0
        },
        "margin": {
         "t": 60
        },
        "template": {
         "data": {
          "bar": [
           {
            "error_x": {
             "color": "rgb(36,36,36)"
            },
            "error_y": {
             "color": "rgb(36,36,36)"
            },
            "marker": {
             "line": {
              "color": "white",
              "width": 0.5
             },
             "pattern": {
              "fillmode": "overlay",
              "size": 10,
              "solidity": 0.2
             }
            },
            "type": "bar"
           }
          ],
          "barpolar": [
           {
            "marker": {
             "line": {
              "color": "white",
              "width": 0.5
             },
             "pattern": {
              "fillmode": "overlay",
              "size": 10,
              "solidity": 0.2
             }
            },
            "type": "barpolar"
           }
          ],
          "carpet": [
           {
            "aaxis": {
             "endlinecolor": "rgb(36,36,36)",
             "gridcolor": "white",
             "linecolor": "white",
             "minorgridcolor": "white",
             "startlinecolor": "rgb(36,36,36)"
            },
            "baxis": {
             "endlinecolor": "rgb(36,36,36)",
             "gridcolor": "white",
             "linecolor": "white",
             "minorgridcolor": "white",
             "startlinecolor": "rgb(36,36,36)"
            },
            "type": "carpet"
           }
          ],
          "choropleth": [
           {
            "colorbar": {
             "outlinewidth": 1,
             "tickcolor": "rgb(36,36,36)",
             "ticks": "outside"
            },
            "type": "choropleth"
           }
          ],
          "contour": [
           {
            "colorbar": {
             "outlinewidth": 1,
             "tickcolor": "rgb(36,36,36)",
             "ticks": "outside"
            },
            "colorscale": [
             [
              0,
              "#440154"
             ],
             [
              0.1111111111111111,
              "#482878"
             ],
             [
              0.2222222222222222,
              "#3e4989"
             ],
             [
              0.3333333333333333,
              "#31688e"
             ],
             [
              0.4444444444444444,
              "#26828e"
             ],
             [
              0.5555555555555556,
              "#1f9e89"
             ],
             [
              0.6666666666666666,
              "#35b779"
             ],
             [
              0.7777777777777778,
              "#6ece58"
             ],
             [
              0.8888888888888888,
              "#b5de2b"
             ],
             [
              1,
              "#fde725"
             ]
            ],
            "type": "contour"
           }
          ],
          "contourcarpet": [
           {
            "colorbar": {
             "outlinewidth": 1,
             "tickcolor": "rgb(36,36,36)",
             "ticks": "outside"
            },
            "type": "contourcarpet"
           }
          ],
          "heatmap": [
           {
            "colorbar": {
             "outlinewidth": 1,
             "tickcolor": "rgb(36,36,36)",
             "ticks": "outside"
            },
            "colorscale": [
             [
              0,
              "#440154"
             ],
             [
              0.1111111111111111,
              "#482878"
             ],
             [
              0.2222222222222222,
              "#3e4989"
             ],
             [
              0.3333333333333333,
              "#31688e"
             ],
             [
              0.4444444444444444,
              "#26828e"
             ],
             [
              0.5555555555555556,
              "#1f9e89"
             ],
             [
              0.6666666666666666,
              "#35b779"
             ],
             [
              0.7777777777777778,
              "#6ece58"
             ],
             [
              0.8888888888888888,
              "#b5de2b"
             ],
             [
              1,
              "#fde725"
             ]
            ],
            "type": "heatmap"
           }
          ],
          "heatmapgl": [
           {
            "colorbar": {
             "outlinewidth": 1,
             "tickcolor": "rgb(36,36,36)",
             "ticks": "outside"
            },
            "colorscale": [
             [
              0,
              "#440154"
             ],
             [
              0.1111111111111111,
              "#482878"
             ],
             [
              0.2222222222222222,
              "#3e4989"
             ],
             [
              0.3333333333333333,
              "#31688e"
             ],
             [
              0.4444444444444444,
              "#26828e"
             ],
             [
              0.5555555555555556,
              "#1f9e89"
             ],
             [
              0.6666666666666666,
              "#35b779"
             ],
             [
              0.7777777777777778,
              "#6ece58"
             ],
             [
              0.8888888888888888,
              "#b5de2b"
             ],
             [
              1,
              "#fde725"
             ]
            ],
            "type": "heatmapgl"
           }
          ],
          "histogram": [
           {
            "marker": {
             "line": {
              "color": "white",
              "width": 0.6
             }
            },
            "type": "histogram"
           }
          ],
          "histogram2d": [
           {
            "colorbar": {
             "outlinewidth": 1,
             "tickcolor": "rgb(36,36,36)",
             "ticks": "outside"
            },
            "colorscale": [
             [
              0,
              "#440154"
             ],
             [
              0.1111111111111111,
              "#482878"
             ],
             [
              0.2222222222222222,
              "#3e4989"
             ],
             [
              0.3333333333333333,
              "#31688e"
             ],
             [
              0.4444444444444444,
              "#26828e"
             ],
             [
              0.5555555555555556,
              "#1f9e89"
             ],
             [
              0.6666666666666666,
              "#35b779"
             ],
             [
              0.7777777777777778,
              "#6ece58"
             ],
             [
              0.8888888888888888,
              "#b5de2b"
             ],
             [
              1,
              "#fde725"
             ]
            ],
            "type": "histogram2d"
           }
          ],
          "histogram2dcontour": [
           {
            "colorbar": {
             "outlinewidth": 1,
             "tickcolor": "rgb(36,36,36)",
             "ticks": "outside"
            },
            "colorscale": [
             [
              0,
              "#440154"
             ],
             [
              0.1111111111111111,
              "#482878"
             ],
             [
              0.2222222222222222,
              "#3e4989"
             ],
             [
              0.3333333333333333,
              "#31688e"
             ],
             [
              0.4444444444444444,
              "#26828e"
             ],
             [
              0.5555555555555556,
              "#1f9e89"
             ],
             [
              0.6666666666666666,
              "#35b779"
             ],
             [
              0.7777777777777778,
              "#6ece58"
             ],
             [
              0.8888888888888888,
              "#b5de2b"
             ],
             [
              1,
              "#fde725"
             ]
            ],
            "type": "histogram2dcontour"
           }
          ],
          "mesh3d": [
           {
            "colorbar": {
             "outlinewidth": 1,
             "tickcolor": "rgb(36,36,36)",
             "ticks": "outside"
            },
            "type": "mesh3d"
           }
          ],
          "parcoords": [
           {
            "line": {
             "colorbar": {
              "outlinewidth": 1,
              "tickcolor": "rgb(36,36,36)",
              "ticks": "outside"
             }
            },
            "type": "parcoords"
           }
          ],
          "pie": [
           {
            "automargin": true,
            "type": "pie"
           }
          ],
          "scatter": [
           {
            "marker": {
             "colorbar": {
              "outlinewidth": 1,
              "tickcolor": "rgb(36,36,36)",
              "ticks": "outside"
             }
            },
            "type": "scatter"
           }
          ],
          "scatter3d": [
           {
            "line": {
             "colorbar": {
              "outlinewidth": 1,
              "tickcolor": "rgb(36,36,36)",
              "ticks": "outside"
             }
            },
            "marker": {
             "colorbar": {
              "outlinewidth": 1,
              "tickcolor": "rgb(36,36,36)",
              "ticks": "outside"
             }
            },
            "type": "scatter3d"
           }
          ],
          "scattercarpet": [
           {
            "marker": {
             "colorbar": {
              "outlinewidth": 1,
              "tickcolor": "rgb(36,36,36)",
              "ticks": "outside"
             }
            },
            "type": "scattercarpet"
           }
          ],
          "scattergeo": [
           {
            "marker": {
             "colorbar": {
              "outlinewidth": 1,
              "tickcolor": "rgb(36,36,36)",
              "ticks": "outside"
             }
            },
            "type": "scattergeo"
           }
          ],
          "scattergl": [
           {
            "marker": {
             "colorbar": {
              "outlinewidth": 1,
              "tickcolor": "rgb(36,36,36)",
              "ticks": "outside"
             }
            },
            "type": "scattergl"
           }
          ],
          "scattermapbox": [
           {
            "marker": {
             "colorbar": {
              "outlinewidth": 1,
              "tickcolor": "rgb(36,36,36)",
              "ticks": "outside"
             }
            },
            "type": "scattermapbox"
           }
          ],
          "scatterpolar": [
           {
            "marker": {
             "colorbar": {
              "outlinewidth": 1,
              "tickcolor": "rgb(36,36,36)",
              "ticks": "outside"
             }
            },
            "type": "scatterpolar"
           }
          ],
          "scatterpolargl": [
           {
            "marker": {
             "colorbar": {
              "outlinewidth": 1,
              "tickcolor": "rgb(36,36,36)",
              "ticks": "outside"
             }
            },
            "type": "scatterpolargl"
           }
          ],
          "scatterternary": [
           {
            "marker": {
             "colorbar": {
              "outlinewidth": 1,
              "tickcolor": "rgb(36,36,36)",
              "ticks": "outside"
             }
            },
            "type": "scatterternary"
           }
          ],
          "surface": [
           {
            "colorbar": {
             "outlinewidth": 1,
             "tickcolor": "rgb(36,36,36)",
             "ticks": "outside"
            },
            "colorscale": [
             [
              0,
              "#440154"
             ],
             [
              0.1111111111111111,
              "#482878"
             ],
             [
              0.2222222222222222,
              "#3e4989"
             ],
             [
              0.3333333333333333,
              "#31688e"
             ],
             [
              0.4444444444444444,
              "#26828e"
             ],
             [
              0.5555555555555556,
              "#1f9e89"
             ],
             [
              0.6666666666666666,
              "#35b779"
             ],
             [
              0.7777777777777778,
              "#6ece58"
             ],
             [
              0.8888888888888888,
              "#b5de2b"
             ],
             [
              1,
              "#fde725"
             ]
            ],
            "type": "surface"
           }
          ],
          "table": [
           {
            "cells": {
             "fill": {
              "color": "rgb(237,237,237)"
             },
             "line": {
              "color": "white"
             }
            },
            "header": {
             "fill": {
              "color": "rgb(217,217,217)"
             },
             "line": {
              "color": "white"
             }
            },
            "type": "table"
           }
          ]
         },
         "layout": {
          "annotationdefaults": {
           "arrowhead": 0,
           "arrowwidth": 1
          },
          "autotypenumbers": "strict",
          "coloraxis": {
           "colorbar": {
            "outlinewidth": 1,
            "tickcolor": "rgb(36,36,36)",
            "ticks": "outside"
           }
          },
          "colorscale": {
           "diverging": [
            [
             0,
             "rgb(103,0,31)"
            ],
            [
             0.1,
             "rgb(178,24,43)"
            ],
            [
             0.2,
             "rgb(214,96,77)"
            ],
            [
             0.3,
             "rgb(244,165,130)"
            ],
            [
             0.4,
             "rgb(253,219,199)"
            ],
            [
             0.5,
             "rgb(247,247,247)"
            ],
            [
             0.6,
             "rgb(209,229,240)"
            ],
            [
             0.7,
             "rgb(146,197,222)"
            ],
            [
             0.8,
             "rgb(67,147,195)"
            ],
            [
             0.9,
             "rgb(33,102,172)"
            ],
            [
             1,
             "rgb(5,48,97)"
            ]
           ],
           "sequential": [
            [
             0,
             "#440154"
            ],
            [
             0.1111111111111111,
             "#482878"
            ],
            [
             0.2222222222222222,
             "#3e4989"
            ],
            [
             0.3333333333333333,
             "#31688e"
            ],
            [
             0.4444444444444444,
             "#26828e"
            ],
            [
             0.5555555555555556,
             "#1f9e89"
            ],
            [
             0.6666666666666666,
             "#35b779"
            ],
            [
             0.7777777777777778,
             "#6ece58"
            ],
            [
             0.8888888888888888,
             "#b5de2b"
            ],
            [
             1,
             "#fde725"
            ]
           ],
           "sequentialminus": [
            [
             0,
             "#440154"
            ],
            [
             0.1111111111111111,
             "#482878"
            ],
            [
             0.2222222222222222,
             "#3e4989"
            ],
            [
             0.3333333333333333,
             "#31688e"
            ],
            [
             0.4444444444444444,
             "#26828e"
            ],
            [
             0.5555555555555556,
             "#1f9e89"
            ],
            [
             0.6666666666666666,
             "#35b779"
            ],
            [
             0.7777777777777778,
             "#6ece58"
            ],
            [
             0.8888888888888888,
             "#b5de2b"
            ],
            [
             1,
             "#fde725"
            ]
           ]
          },
          "colorway": [
           "#1F77B4",
           "#FF7F0E",
           "#2CA02C",
           "#D62728",
           "#9467BD",
           "#8C564B",
           "#E377C2",
           "#7F7F7F",
           "#BCBD22",
           "#17BECF"
          ],
          "font": {
           "color": "rgb(36,36,36)"
          },
          "geo": {
           "bgcolor": "white",
           "lakecolor": "white",
           "landcolor": "white",
           "showlakes": true,
           "showland": true,
           "subunitcolor": "white"
          },
          "hoverlabel": {
           "align": "left"
          },
          "hovermode": "closest",
          "mapbox": {
           "style": "light"
          },
          "paper_bgcolor": "white",
          "plot_bgcolor": "white",
          "polar": {
           "angularaxis": {
            "gridcolor": "rgb(232,232,232)",
            "linecolor": "rgb(36,36,36)",
            "showgrid": false,
            "showline": true,
            "ticks": "outside"
           },
           "bgcolor": "white",
           "radialaxis": {
            "gridcolor": "rgb(232,232,232)",
            "linecolor": "rgb(36,36,36)",
            "showgrid": false,
            "showline": true,
            "ticks": "outside"
           }
          },
          "scene": {
           "xaxis": {
            "backgroundcolor": "white",
            "gridcolor": "rgb(232,232,232)",
            "gridwidth": 2,
            "linecolor": "rgb(36,36,36)",
            "showbackground": true,
            "showgrid": false,
            "showline": true,
            "ticks": "outside",
            "zeroline": false,
            "zerolinecolor": "rgb(36,36,36)"
           },
           "yaxis": {
            "backgroundcolor": "white",
            "gridcolor": "rgb(232,232,232)",
            "gridwidth": 2,
            "linecolor": "rgb(36,36,36)",
            "showbackground": true,
            "showgrid": false,
            "showline": true,
            "ticks": "outside",
            "zeroline": false,
            "zerolinecolor": "rgb(36,36,36)"
           },
           "zaxis": {
            "backgroundcolor": "white",
            "gridcolor": "rgb(232,232,232)",
            "gridwidth": 2,
            "linecolor": "rgb(36,36,36)",
            "showbackground": true,
            "showgrid": false,
            "showline": true,
            "ticks": "outside",
            "zeroline": false,
            "zerolinecolor": "rgb(36,36,36)"
           }
          },
          "shapedefaults": {
           "fillcolor": "black",
           "line": {
            "width": 0
           },
           "opacity": 0.3
          },
          "ternary": {
           "aaxis": {
            "gridcolor": "rgb(232,232,232)",
            "linecolor": "rgb(36,36,36)",
            "showgrid": false,
            "showline": true,
            "ticks": "outside"
           },
           "baxis": {
            "gridcolor": "rgb(232,232,232)",
            "linecolor": "rgb(36,36,36)",
            "showgrid": false,
            "showline": true,
            "ticks": "outside"
           },
           "bgcolor": "white",
           "caxis": {
            "gridcolor": "rgb(232,232,232)",
            "linecolor": "rgb(36,36,36)",
            "showgrid": false,
            "showline": true,
            "ticks": "outside"
           }
          },
          "title": {
           "x": 0.05
          },
          "xaxis": {
           "automargin": true,
           "gridcolor": "rgb(232,232,232)",
           "linecolor": "rgb(36,36,36)",
           "showgrid": false,
           "showline": true,
           "ticks": "outside",
           "title": {
            "standoff": 15
           },
           "zeroline": false,
           "zerolinecolor": "rgb(36,36,36)"
          },
          "yaxis": {
           "automargin": true,
           "gridcolor": "rgb(232,232,232)",
           "linecolor": "rgb(36,36,36)",
           "showgrid": false,
           "showline": true,
           "ticks": "outside",
           "title": {
            "standoff": 15
           },
           "zeroline": false,
           "zerolinecolor": "rgb(36,36,36)"
          }
         }
        },
        "xaxis": {
         "anchor": "y",
         "domain": [
          0,
          1
         ],
         "title": {
          "text": "value"
         }
        },
        "yaxis": {
         "anchor": "x",
         "domain": [
          0,
          1
         ],
         "title": {
          "text": "count"
         }
        }
       }
      }
     },
     "metadata": {},
     "output_type": "display_data"
    }
   ],
   "source": [
    "# Check how many atoms belong to framework heavy chain.\n",
    "cola = []\n",
    "for pdb_idcode in interface_atoms.keys():\n",
    "    cderes = [atm.CDR for atm in interface_atoms[pdb_idcode].antibody.values()]\n",
    "    cola.append(cderes.count(0) / len(cderes))\n",
    "# print(suma / len(interface_atoms.keys()))\n",
    "px.histogram(cola)"
   ]
  },
  {
   "cell_type": "code",
   "execution_count": 94,
   "metadata": {},
   "outputs": [
    {
     "name": "stdout",
     "output_type": "stream",
     "text": [
      "5u5m_complex_BA_CE.pdb\n",
      "6w7s_complex_HL_A.pdb\n",
      "7kpj_complex_AB_E.pdb\n",
      "7lu9_complex_lk_f.pdb\n",
      "7rxc_complex_HL_B.pdb\n"
     ]
    }
   ],
   "source": [
    "# Check how many atoms belong to framework heavy chain.\n",
    "cola = []\n",
    "for pdb_idcode in interface_atoms.keys():\n",
    "    cderes = [atm.CDR for atm in interface_atoms[pdb_idcode].antibody.values()]\n",
    "    if (cderes.count(0) / len(cderes)) > .9:\n",
    "        print(filenames[pdb_idcode])"
   ]
  },
  {
   "cell_type": "markdown",
   "metadata": {},
   "source": [
    "## Pi-Pi"
   ]
  },
  {
   "cell_type": "code",
   "execution_count": 179,
   "metadata": {},
   "outputs": [],
   "source": [
    "import abag_interactions_rings\n",
    "imp.reload(abag_interactions_rings)\n",
    "from abag_interactions_rings import *"
   ]
  },
  {
   "cell_type": "code",
   "execution_count": 175,
   "metadata": {},
   "outputs": [],
   "source": [
    "PiPi = {}\n",
    "check_pdb = '5t1d'\n",
    "idx = pdb_list.index(check_pdb)\n",
    "for pdb_idcode in [pdb_list[idx]]:\n",
    "    logging.info(pdb_idcode)\n",
    "\n",
    "    pdb_filename = Path(filenames[pdb_idcode])\n",
    "    trj_in = md.load(Path.joinpath(exposed_dir, pdb_idcode, pdb_filename))\n",
    "    ab_chains = chains[pdb_idcode].antibody\n",
    "    ag_chains = chains[pdb_idcode].antigen\n",
    "    PiPi[pdb_idcode] = tuple()\n",
    "\n",
    "    try:\n",
    "        CG_rings, CoM_rings_xyz, normal_vectors = get_ring_data(\n",
    "            trj_in, ab_chains, ring_atoms)\n",
    "        pipi_ring_pairs = get_pipi_interactions(\n",
    "            trj_in, CG_rings, CoM_rings_xyz, normal_vectors, cutoff_ring,\n",
    "            cutoff_angle_pipi)\n",
    "\n",
    "        rings = get_data_from_ring_ring(pdb_idcode, epitope_buried_cleaned, pipi_ring_pairs)\n",
    "    except Exception as e:\n",
    "        logging.error(\n",
    "            f\"- {pdb_idcode} raised: {e.__class__}, saying: {e}, during PiPi \"\n",
    "            f\"interactions calculation.\")\n",
    "        raise e\n",
    "    else:\n",
    "        PiPi[pdb_idcode] = rings"
   ]
  },
  {
   "cell_type": "code",
   "execution_count": 176,
   "metadata": {},
   "outputs": [
    {
     "data": {
      "text/plain": [
       "{'5t1d': ()}"
      ]
     },
     "execution_count": 176,
     "metadata": {},
     "output_type": "execute_result"
    }
   ],
   "source": [
    "PiPi"
   ]
  },
  {
   "cell_type": "code",
   "execution_count": 177,
   "metadata": {},
   "outputs": [
    {
     "data": {
      "text/plain": [
       "{'antibody': [1899,\n",
       "  1934,\n",
       "  1980,\n",
       "  2047,\n",
       "  2229,\n",
       "  2313,\n",
       "  2409,\n",
       "  2430,\n",
       "  2502,\n",
       "  2727,\n",
       "  2944,\n",
       "  2965,\n",
       "  3027,\n",
       "  3087,\n",
       "  3107,\n",
       "  3370,\n",
       "  3689,\n",
       "  3710,\n",
       "  3833,\n",
       "  3964,\n",
       "  3995,\n",
       "  4133,\n",
       "  4316,\n",
       "  4474,\n",
       "  5125,\n",
       "  5202,\n",
       "  5242,\n",
       "  5259,\n",
       "  5283,\n",
       "  5506,\n",
       "  5614,\n",
       "  5718,\n",
       "  5818,\n",
       "  6055,\n",
       "  6076,\n",
       "  6164,\n",
       "  6249,\n",
       "  6541,\n",
       "  6764,\n",
       "  6831,\n",
       "  6851,\n",
       "  6991,\n",
       "  7223,\n",
       "  7372,\n",
       "  7572,\n",
       "  7632,\n",
       "  7674,\n",
       "  7758,\n",
       "  7929],\n",
       " 'antigen': [39, 240, 380, 745, 765, 982, 1190, 1229, 1322, 1430, 1461, 1485]}"
      ]
     },
     "execution_count": 177,
     "metadata": {},
     "output_type": "execute_result"
    }
   ],
   "source": [
    "\n",
    "CG_rings"
   ]
  },
  {
   "cell_type": "code",
   "execution_count": 171,
   "metadata": {},
   "outputs": [],
   "source": [
    "with open(Path.joinpath(data_dir, 'PiPi.pkl'), 'rb') as file:\n",
    "        PiPi = pickle.load(file)"
   ]
  },
  {
   "cell_type": "code",
   "execution_count": 10,
   "metadata": {},
   "outputs": [
    {
     "data": {
      "text/plain": [
       "Ring(indices=(5842, 5843, 5844, 5845, 5846, 5847, 5848, 5849, 5850, 5851, 5852), serials=(5845, 5846, 5847, 5848, 5849, 5850, 5851, 5852, 5853, 5854, 5855), resSeq=57, resSeq_str='', resname='PHE', chain_ID='H', chain_type='H', CDR=2)"
      ]
     },
     "execution_count": 10,
     "metadata": {},
     "output_type": "execute_result"
    }
   ],
   "source": [
    "PiPi['4oqt'][0].antibody"
   ]
  },
  {
   "cell_type": "code",
   "execution_count": 11,
   "metadata": {},
   "outputs": [
    {
     "data": {
      "text/plain": [
       "Ring(indices=(937, 938, 939, 940, 941, 942, 943, 944, 945, 946, 947, 948), serials=(938, 939, 940, 941, 942, 943, 944, 945, 946, 947, 948, 949), resSeq=122, resSeq_str='', resname='TYR', chain_ID='A', chain_type='.', CDR=-1)"
      ]
     },
     "execution_count": 11,
     "metadata": {},
     "output_type": "execute_result"
    }
   ],
   "source": [
    "PiPi['4oqt'][0].antigen"
   ]
  },
  {
   "cell_type": "code",
   "execution_count": 69,
   "metadata": {},
   "outputs": [],
   "source": [
    "a = tuple(interface_atoms[pdb_idcode].antigen.values())"
   ]
  },
  {
   "cell_type": "code",
   "execution_count": 97,
   "metadata": {},
   "outputs": [
    {
     "data": {
      "text/plain": [
       "tuple"
      ]
     },
     "execution_count": 97,
     "metadata": {},
     "output_type": "execute_result"
    }
   ],
   "source": [
    "type((*(1, 2), *(3, 4)))"
   ]
  },
  {
   "cell_type": "markdown",
   "metadata": {},
   "source": [
    "### Pi-Ion"
   ]
  },
  {
   "cell_type": "code",
   "execution_count": 65,
   "metadata": {},
   "outputs": [
    {
     "name": "stdout",
     "output_type": "stream",
     "text": [
      "Starting now.\n"
     ]
    }
   ],
   "source": [
    "with open(Path.joinpath(casa_dir, 'data', 'filenames.pkl'), 'rb') as file:\n",
    "    filenames = pickle.load(file)\n",
    "with open(Path.joinpath(casa_dir, 'data', 'chains.pkl'), 'rb') as file:\n",
    "    chains = pickle.load(file)\n",
    "with(open(Path.joinpath(data_dir, 'pdb.list'), 'r')) as file:\n",
    "    pdb_list = [linea.strip() for linea in file]\n",
    "with open(Path.joinpath(data_dir, 'interface_atoms.pkl'), 'rb') as file:\n",
    "    interface_atoms = pickle.load(file)\n",
    "print(\"Starting now.\")"
   ]
  },
  {
   "cell_type": "code",
   "execution_count": 178,
   "metadata": {},
   "outputs": [],
   "source": [
    "import abag_interactions_rings\n",
    "imp.reload(abag_interactions_rings)\n",
    "from abag_interactions_rings import *"
   ]
  },
  {
   "cell_type": "code",
   "execution_count": 8,
   "metadata": {},
   "outputs": [
    {
     "name": "stderr",
     "output_type": "stream",
     "text": [
      "WARNING:root:No good (whole) THR/TYR/PHE residues or, more likely, no anions or cations in one of the molecules.\n"
     ]
    }
   ],
   "source": [
    "PiAnion = {}\n",
    "PiCation = {}\n",
    "check_pdb = '5i5k'\n",
    "idx = pdb_list.index(check_pdb)\n",
    "for pdb_idcode in [pdb_list[idx]]:\n",
    "    logging.info(pdb_idcode)\n",
    "\n",
    "    pdb_filename = Path(filenames[pdb_idcode])\n",
    "    trj_in = md.load(Path.joinpath(exposed_dir, pdb_idcode, pdb_filename))\n",
    "    ab_chains = chains[pdb_idcode].antibody\n",
    "    ag_chains = chains[pdb_idcode].antigen\n",
    "    PiAnion[pdb_idcode] = tuple()\n",
    "    PiCation[pdb_idcode] = tuple()\n",
    "\n",
    "    try:\n",
    "        CG_rings, CoM_rings_xyz, normal_vectors = get_ring_data(\n",
    "            trj_in, ab_chains, ring_atoms_pi_ion)\n",
    "\n",
    "        ab_anions, ag_anions, ab_cations, ag_cations = get_ions(\n",
    "            interface_atoms[pdb_idcode])\n",
    "\n",
    "        ring_ab_anion_ag = get_ion_ring_interactions(\n",
    "            trj_in, CG_rings[\"antibody\"], ag_anions, CoM_rings_xyz[\"antibody\"],\n",
    "            normal_vectors[\"antibody\"], trj_in.xyz[0], cutoff_ring, cutoff_angle_pion)\n",
    "        ring_ab_cation_ag = get_ion_ring_interactions(\n",
    "            trj_in, CG_rings[\"antibody\"], ag_cations, CoM_rings_xyz[\"antibody\"],\n",
    "            normal_vectors[\"antibody\"], trj_in.xyz[0], cutoff_ring, cutoff_angle_pion)\n",
    "\n",
    "        ring_ag_anion_ab = get_ion_ring_interactions(\n",
    "            trj_in, CG_rings[\"antigen\"], ab_anions, CoM_rings_xyz[\"antigen\"],\n",
    "            normal_vectors[\"antigen\"], trj_in.xyz[0], cutoff_ring, cutoff_angle_pion)\n",
    "\n",
    "        ring_ag_cation_ab = get_ion_ring_interactions(\n",
    "            trj_in, CG_rings[\"antigen\"], ab_cations, CoM_rings_xyz[\"antigen\"],\n",
    "            normal_vectors[\"antigen\"], trj_in.xyz[0], cutoff_ring, cutoff_angle_pion)\n",
    "\n",
    "        data_ring_ab_anion_ag = get_data_from_ring_ab_ion_ag(\n",
    "            pdb_idcode, epitope_buried_cleaned, ring_ab_anion_ag)\n",
    "\n",
    "        data_ring_ab_cation_ag = get_data_from_ring_ab_ion_ag(\n",
    "            pdb_idcode, epitope_buried_cleaned, ring_ab_cation_ag)\n",
    "\n",
    "        data_ring_ag_anion_ab = get_data_from_ring_ag_ion_ab(\n",
    "            pdb_idcode, epitope_buried_cleaned, ring_ag_anion_ab)\n",
    "\n",
    "        data_ring_ag_cation_ab = get_data_from_ring_ag_ion_ab(\n",
    "            pdb_idcode, epitope_buried_cleaned, ring_ag_cation_ab)\n",
    "\n",
    "    except Exception as e:\n",
    "        logging.error(\n",
    "            f\"- {pdb_idcode} raised: {e.__class__}, saying: {e}, during Pi-ion \"\n",
    "            f\"interactions calculation. Aborting.\")\n",
    "        raise e\n",
    "    else:\n",
    "        PiAnion[pdb_idcode] = (*data_ring_ab_anion_ag, *data_ring_ag_anion_ab)\n",
    "        PiCation[pdb_idcode] = (*data_ring_ab_cation_ag, *data_ring_ag_cation_ab)"
   ]
  },
  {
   "cell_type": "code",
   "execution_count": 77,
   "metadata": {},
   "outputs": [],
   "source": [
    "with open(Path.joinpath(data_dir, 'PiAnion.pkl'), 'rb') as file:\n",
    "        PiAnion = pickle.load(file)\n",
    "with open(Path.joinpath(data_dir, 'PiCation.pkl'), 'rb') as file:\n",
    "        PiCation = pickle.load(file)"
   ]
  },
  {
   "cell_type": "code",
   "execution_count": 102,
   "metadata": {},
   "outputs": [],
   "source": [
    "probar = [ pdb_idcode for pdb_idcode in pdb_list if len(PiCation[pdb_idcode]) > 3 ]"
   ]
  },
  {
   "cell_type": "code",
   "execution_count": 103,
   "metadata": {},
   "outputs": [
    {
     "data": {
      "text/plain": [
       "(PionPair(ring=Ring(indices=(708, 709, 710, 711, 712, 713, 714, 715, 716, 717, 718, 719, 720, 721), serials=(709, 710, 711, 712, 713, 714, 715, 716, 717, 718, 719, 720, 721, 722), resSeq=94, resSeq_str='', resname='TRP', chain_ID='A', chain_type='L', CDR=3), ion=Atom(index=3643, serial=6938, element='N', is_sidechain=True, resSeq=45, resSeq_str='45', resname='ARG', chain_ID='E', chain_type='.', CDR=-1)),\n",
       " PionPair(ring=Ring(indices=(1895, 1896, 1897, 1898, 1899, 1900, 1901, 1902, 1903, 1904, 1905, 1906, 1907, 1908), serials=(1897, 1898, 1899, 1900, 1901, 1902, 1903, 1904, 1905, 1906, 1907, 1908, 1909, 1910), resSeq=33, resSeq_str='', resname='TRP', chain_ID='B', chain_type='H', CDR=0), ion=Atom(index=3832, serial=7127, element='N', is_sidechain=True, resSeq=68, resSeq_str='68', resname='ARG', chain_ID='E', chain_type='.', CDR=-1)),\n",
       " PionPair(ring=Ring(indices=(1895, 1896, 1897, 1898, 1899, 1900, 1901, 1902, 1903, 1904, 1905, 1906, 1907, 1908), serials=(1897, 1898, 1899, 1900, 1901, 1902, 1903, 1904, 1905, 1906, 1907, 1908, 1909, 1910), resSeq=33, resSeq_str='', resname='TRP', chain_ID='B', chain_type='H', CDR=0), ion=Atom(index=3833, serial=7128, element='N', is_sidechain=True, resSeq=68, resSeq_str='68', resname='ARG', chain_ID='E', chain_type='.', CDR=-1)),\n",
       " PionPair(ring=Ring(indices=(2103, 2104, 2105, 2106, 2107, 2108, 2109, 2110, 2111, 2112, 2113, 2114), serials=(2105, 2106, 2107, 2108, 2109, 2110, 2111, 2112, 2113, 2114, 2115, 2116), resSeq=59, resSeq_str='', resname='TYR', chain_ID='B', chain_type='H', CDR=0), ion=Atom(index=3643, serial=6938, element='N', is_sidechain=True, resSeq=45, resSeq_str='45', resname='ARG', chain_ID='E', chain_type='.', CDR=-1)))"
      ]
     },
     "execution_count": 103,
     "metadata": {},
     "output_type": "execute_result"
    }
   ],
   "source": [
    "pdb_idcode = probar[0]\n",
    "PiCation[pdb_idcode]"
   ]
  },
  {
   "cell_type": "code",
   "execution_count": 147,
   "metadata": {},
   "outputs": [],
   "source": [
    "def ions(atoms_iterable, resnames, element):\n",
    "        control_set = set()\n",
    "        for atom in atoms_iterable:\n",
    "            if (atom.element == element) and (atom.resname in resnames) and atom.is_sidechain:\n",
    "                # Get only 1 ion per residue (ASP/GLU or LYS/ARG)\n",
    "                unique_id = str(atom.resSeq) + atom.resname + atom.chain_ID\n",
    "                if unique_id not in control_set:\n",
    "                    control_set.add(unique_id)\n",
    "                    yield atom"
   ]
  },
  {
   "cell_type": "code",
   "execution_count": 156,
   "metadata": {},
   "outputs": [],
   "source": [
    "retro = [ pdb_idcode for pdb_idcode in pdb_list if len(PiCation[pdb_idcode]) > 2]\n",
    "pdb_idcode = retro[0]"
   ]
  },
  {
   "cell_type": "code",
   "execution_count": 157,
   "metadata": {},
   "outputs": [],
   "source": [
    "a, b, c, d = get_ions(interface_atoms[pdb_idcode])"
   ]
  },
  {
   "cell_type": "code",
   "execution_count": 172,
   "metadata": {},
   "outputs": [
    {
     "data": {
      "text/plain": [
       "()"
      ]
     },
     "execution_count": 172,
     "metadata": {},
     "output_type": "execute_result"
    }
   ],
   "source": [
    "PiPi['5t1d']"
   ]
  },
  {
   "cell_type": "code",
   "execution_count": 92,
   "metadata": {},
   "outputs": [],
   "source": [
    "def ions(atoms_iterable, resnames, element):\n",
    "    # Get only 1 ion per residue (ASP/GLU or LYS/ARG)\n",
    "    control_set = set()\n",
    "    for atom in atoms_iterable:\n",
    "        if (atom.element == element) and (atom.resname in resnames) and atom.is_sidechain:\n",
    "            unique_id = str(atom.resSeq) + atom.resname + atom.chain_ID\n",
    "            if unique_id not in control_set:\n",
    "                control_set.add(unique_id)\n",
    "                yield atom"
   ]
  },
  {
   "cell_type": "code",
   "execution_count": 110,
   "metadata": {},
   "outputs": [
    {
     "name": "stdout",
     "output_type": "stream",
     "text": [
      "Atom(index=3830, serial=7125, element='N', is_sidechain=True, resSeq=68, resSeq_str='68', resname='ARG', chain_ID='E', chain_type='.', CDR=-1)\n",
      "Atom(index=3643, serial=6938, element='N', is_sidechain=True, resSeq=45, resSeq_str='45', resname='ARG', chain_ID='E', chain_type='.', CDR=-1)\n"
     ]
    }
   ],
   "source": []
  },
  {
   "cell_type": "code",
   "execution_count": 109,
   "metadata": {},
   "outputs": [
    {
     "data": {
      "text/plain": [
       "True"
      ]
     },
     "execution_count": 109,
     "metadata": {},
     "output_type": "execute_result"
    }
   ],
   "source": [
    "gg = ions(interface_atoms[pdb_idcode].antigen.values(), {'LYS', 'ARG'}, 'N')\n"
   ]
  },
  {
   "cell_type": "code",
   "execution_count": 90,
   "metadata": {},
   "outputs": [
    {
     "data": {
      "text/plain": [
       "dict_values([Atom(index=573, serial=574, element='N', is_sidechain=False, resSeq=76, resSeq_str='76', resname='GLU', chain_ID='A', chain_type='.', CDR=-1), Atom(index=574, serial=575, element='C', is_sidechain=False, resSeq=76, resSeq_str='76', resname='GLU', chain_ID='A', chain_type='.', CDR=-1), Atom(index=575, serial=576, element='C', is_sidechain=False, resSeq=76, resSeq_str='76', resname='GLU', chain_ID='A', chain_type='.', CDR=-1), Atom(index=576, serial=577, element='O', is_sidechain=False, resSeq=76, resSeq_str='76', resname='GLU', chain_ID='A', chain_type='.', CDR=-1), Atom(index=577, serial=578, element='C', is_sidechain=True, resSeq=76, resSeq_str='76', resname='GLU', chain_ID='A', chain_type='.', CDR=-1), Atom(index=578, serial=579, element='C', is_sidechain=True, resSeq=76, resSeq_str='76', resname='GLU', chain_ID='A', chain_type='.', CDR=-1), Atom(index=579, serial=580, element='C', is_sidechain=True, resSeq=76, resSeq_str='76', resname='GLU', chain_ID='A', chain_type='.', CDR=-1), Atom(index=580, serial=581, element='O', is_sidechain=True, resSeq=76, resSeq_str='76', resname='GLU', chain_ID='A', chain_type='.', CDR=-1), Atom(index=581, serial=582, element='O', is_sidechain=True, resSeq=76, resSeq_str='76', resname='GLU', chain_ID='A', chain_type='.', CDR=-1), Atom(index=775, serial=776, element='N', is_sidechain=False, resSeq=102, resSeq_str='102', resname='SER', chain_ID='A', chain_type='.', CDR=-1), Atom(index=776, serial=777, element='C', is_sidechain=False, resSeq=102, resSeq_str='102', resname='SER', chain_ID='A', chain_type='.', CDR=-1), Atom(index=777, serial=778, element='C', is_sidechain=False, resSeq=102, resSeq_str='102', resname='SER', chain_ID='A', chain_type='.', CDR=-1), Atom(index=778, serial=779, element='O', is_sidechain=False, resSeq=102, resSeq_str='102', resname='SER', chain_ID='A', chain_type='.', CDR=-1), Atom(index=779, serial=780, element='C', is_sidechain=True, resSeq=102, resSeq_str='102', resname='SER', chain_ID='A', chain_type='.', CDR=-1), Atom(index=780, serial=781, element='O', is_sidechain=True, resSeq=102, resSeq_str='102', resname='SER', chain_ID='A', chain_type='.', CDR=-1), Atom(index=652, serial=653, element='N', is_sidechain=False, resSeq=85, resSeq_str='85', resname='PRO', chain_ID='A', chain_type='.', CDR=-1), Atom(index=653, serial=654, element='C', is_sidechain=False, resSeq=85, resSeq_str='85', resname='PRO', chain_ID='A', chain_type='.', CDR=-1), Atom(index=654, serial=655, element='C', is_sidechain=False, resSeq=85, resSeq_str='85', resname='PRO', chain_ID='A', chain_type='.', CDR=-1), Atom(index=655, serial=656, element='O', is_sidechain=False, resSeq=85, resSeq_str='85', resname='PRO', chain_ID='A', chain_type='.', CDR=-1), Atom(index=656, serial=657, element='C', is_sidechain=True, resSeq=85, resSeq_str='85', resname='PRO', chain_ID='A', chain_type='.', CDR=-1), Atom(index=657, serial=658, element='C', is_sidechain=True, resSeq=85, resSeq_str='85', resname='PRO', chain_ID='A', chain_type='.', CDR=-1), Atom(index=658, serial=659, element='C', is_sidechain=True, resSeq=85, resSeq_str='85', resname='PRO', chain_ID='A', chain_type='.', CDR=-1), Atom(index=582, serial=583, element='N', is_sidechain=False, resSeq=77, resSeq_str='77', resname='ALA', chain_ID='A', chain_type='.', CDR=-1), Atom(index=583, serial=584, element='C', is_sidechain=False, resSeq=77, resSeq_str='77', resname='ALA', chain_ID='A', chain_type='.', CDR=-1), Atom(index=584, serial=585, element='C', is_sidechain=False, resSeq=77, resSeq_str='77', resname='ALA', chain_ID='A', chain_type='.', CDR=-1), Atom(index=585, serial=586, element='O', is_sidechain=False, resSeq=77, resSeq_str='77', resname='ALA', chain_ID='A', chain_type='.', CDR=-1), Atom(index=586, serial=587, element='C', is_sidechain=True, resSeq=77, resSeq_str='77', resname='ALA', chain_ID='A', chain_type='.', CDR=-1), Atom(index=587, serial=588, element='N', is_sidechain=False, resSeq=78, resSeq_str='78', resname='ALA', chain_ID='A', chain_type='.', CDR=-1), Atom(index=588, serial=589, element='C', is_sidechain=False, resSeq=78, resSeq_str='78', resname='ALA', chain_ID='A', chain_type='.', CDR=-1), Atom(index=589, serial=590, element='C', is_sidechain=False, resSeq=78, resSeq_str='78', resname='ALA', chain_ID='A', chain_type='.', CDR=-1), Atom(index=590, serial=591, element='O', is_sidechain=False, resSeq=78, resSeq_str='78', resname='ALA', chain_ID='A', chain_type='.', CDR=-1), Atom(index=591, serial=592, element='C', is_sidechain=True, resSeq=78, resSeq_str='78', resname='ALA', chain_ID='A', chain_type='.', CDR=-1), Atom(index=592, serial=593, element='N', is_sidechain=False, resSeq=79, resSeq_str='79', resname='GLU', chain_ID='A', chain_type='.', CDR=-1), Atom(index=593, serial=594, element='C', is_sidechain=False, resSeq=79, resSeq_str='79', resname='GLU', chain_ID='A', chain_type='.', CDR=-1), Atom(index=594, serial=595, element='C', is_sidechain=False, resSeq=79, resSeq_str='79', resname='GLU', chain_ID='A', chain_type='.', CDR=-1), Atom(index=595, serial=596, element='O', is_sidechain=False, resSeq=79, resSeq_str='79', resname='GLU', chain_ID='A', chain_type='.', CDR=-1), Atom(index=596, serial=597, element='C', is_sidechain=True, resSeq=79, resSeq_str='79', resname='GLU', chain_ID='A', chain_type='.', CDR=-1), Atom(index=597, serial=598, element='C', is_sidechain=True, resSeq=79, resSeq_str='79', resname='GLU', chain_ID='A', chain_type='.', CDR=-1), Atom(index=598, serial=599, element='C', is_sidechain=True, resSeq=79, resSeq_str='79', resname='GLU', chain_ID='A', chain_type='.', CDR=-1), Atom(index=599, serial=600, element='O', is_sidechain=True, resSeq=79, resSeq_str='79', resname='GLU', chain_ID='A', chain_type='.', CDR=-1), Atom(index=600, serial=601, element='O', is_sidechain=True, resSeq=79, resSeq_str='79', resname='GLU', chain_ID='A', chain_type='.', CDR=-1), Atom(index=1046, serial=1047, element='N', is_sidechain=False, resSeq=136, resSeq_str='136', resname='LEU', chain_ID='A', chain_type='.', CDR=-1), Atom(index=1047, serial=1048, element='C', is_sidechain=False, resSeq=136, resSeq_str='136', resname='LEU', chain_ID='A', chain_type='.', CDR=-1), Atom(index=1048, serial=1049, element='C', is_sidechain=False, resSeq=136, resSeq_str='136', resname='LEU', chain_ID='A', chain_type='.', CDR=-1), Atom(index=1049, serial=1050, element='O', is_sidechain=False, resSeq=136, resSeq_str='136', resname='LEU', chain_ID='A', chain_type='.', CDR=-1), Atom(index=1050, serial=1051, element='C', is_sidechain=True, resSeq=136, resSeq_str='136', resname='LEU', chain_ID='A', chain_type='.', CDR=-1), Atom(index=1051, serial=1052, element='C', is_sidechain=True, resSeq=136, resSeq_str='136', resname='LEU', chain_ID='A', chain_type='.', CDR=-1), Atom(index=1052, serial=1053, element='C', is_sidechain=True, resSeq=136, resSeq_str='136', resname='LEU', chain_ID='A', chain_type='.', CDR=-1), Atom(index=1053, serial=1054, element='C', is_sidechain=True, resSeq=136, resSeq_str='136', resname='LEU', chain_ID='A', chain_type='.', CDR=-1), Atom(index=532, serial=533, element='N', is_sidechain=False, resSeq=71, resSeq_str='71', resname='GLU', chain_ID='A', chain_type='.', CDR=-1), Atom(index=533, serial=534, element='C', is_sidechain=False, resSeq=71, resSeq_str='71', resname='GLU', chain_ID='A', chain_type='.', CDR=-1), Atom(index=534, serial=535, element='C', is_sidechain=False, resSeq=71, resSeq_str='71', resname='GLU', chain_ID='A', chain_type='.', CDR=-1), Atom(index=535, serial=536, element='O', is_sidechain=False, resSeq=71, resSeq_str='71', resname='GLU', chain_ID='A', chain_type='.', CDR=-1), Atom(index=536, serial=537, element='C', is_sidechain=True, resSeq=71, resSeq_str='71', resname='GLU', chain_ID='A', chain_type='.', CDR=-1), Atom(index=537, serial=538, element='C', is_sidechain=True, resSeq=71, resSeq_str='71', resname='GLU', chain_ID='A', chain_type='.', CDR=-1), Atom(index=538, serial=539, element='C', is_sidechain=True, resSeq=71, resSeq_str='71', resname='GLU', chain_ID='A', chain_type='.', CDR=-1), Atom(index=539, serial=540, element='O', is_sidechain=True, resSeq=71, resSeq_str='71', resname='GLU', chain_ID='A', chain_type='.', CDR=-1), Atom(index=540, serial=541, element='O', is_sidechain=True, resSeq=71, resSeq_str='71', resname='GLU', chain_ID='A', chain_type='.', CDR=-1), Atom(index=541, serial=542, element='N', is_sidechain=False, resSeq=72, resSeq_str='72', resname='THR', chain_ID='A', chain_type='.', CDR=-1), Atom(index=542, serial=543, element='C', is_sidechain=False, resSeq=72, resSeq_str='72', resname='THR', chain_ID='A', chain_type='.', CDR=-1), Atom(index=543, serial=544, element='C', is_sidechain=False, resSeq=72, resSeq_str='72', resname='THR', chain_ID='A', chain_type='.', CDR=-1), Atom(index=544, serial=545, element='O', is_sidechain=False, resSeq=72, resSeq_str='72', resname='THR', chain_ID='A', chain_type='.', CDR=-1), Atom(index=545, serial=546, element='C', is_sidechain=True, resSeq=72, resSeq_str='72', resname='THR', chain_ID='A', chain_type='.', CDR=-1), Atom(index=546, serial=547, element='O', is_sidechain=True, resSeq=72, resSeq_str='72', resname='THR', chain_ID='A', chain_type='.', CDR=-1), Atom(index=547, serial=548, element='C', is_sidechain=True, resSeq=72, resSeq_str='72', resname='THR', chain_ID='A', chain_type='.', CDR=-1), Atom(index=615, serial=616, element='N', is_sidechain=False, resSeq=81, resSeq_str='81', resname='ASP', chain_ID='A', chain_type='.', CDR=-1), Atom(index=616, serial=617, element='C', is_sidechain=False, resSeq=81, resSeq_str='81', resname='ASP', chain_ID='A', chain_type='.', CDR=-1), Atom(index=617, serial=618, element='C', is_sidechain=False, resSeq=81, resSeq_str='81', resname='ASP', chain_ID='A', chain_type='.', CDR=-1), Atom(index=618, serial=619, element='O', is_sidechain=False, resSeq=81, resSeq_str='81', resname='ASP', chain_ID='A', chain_type='.', CDR=-1), Atom(index=619, serial=620, element='C', is_sidechain=True, resSeq=81, resSeq_str='81', resname='ASP', chain_ID='A', chain_type='.', CDR=-1), Atom(index=620, serial=621, element='C', is_sidechain=True, resSeq=81, resSeq_str='81', resname='ASP', chain_ID='A', chain_type='.', CDR=-1), Atom(index=621, serial=622, element='O', is_sidechain=True, resSeq=81, resSeq_str='81', resname='ASP', chain_ID='A', chain_type='.', CDR=-1), Atom(index=622, serial=623, element='O', is_sidechain=True, resSeq=81, resSeq_str='81', resname='ASP', chain_ID='A', chain_type='.', CDR=-1), Atom(index=623, serial=624, element='N', is_sidechain=False, resSeq=82, resSeq_str='82', resname='ARG', chain_ID='A', chain_type='.', CDR=-1), Atom(index=624, serial=625, element='C', is_sidechain=False, resSeq=82, resSeq_str='82', resname='ARG', chain_ID='A', chain_type='.', CDR=-1), Atom(index=625, serial=626, element='C', is_sidechain=False, resSeq=82, resSeq_str='82', resname='ARG', chain_ID='A', chain_type='.', CDR=-1), Atom(index=626, serial=627, element='O', is_sidechain=False, resSeq=82, resSeq_str='82', resname='ARG', chain_ID='A', chain_type='.', CDR=-1), Atom(index=627, serial=628, element='C', is_sidechain=True, resSeq=82, resSeq_str='82', resname='ARG', chain_ID='A', chain_type='.', CDR=-1), Atom(index=628, serial=629, element='C', is_sidechain=True, resSeq=82, resSeq_str='82', resname='ARG', chain_ID='A', chain_type='.', CDR=-1), Atom(index=629, serial=630, element='C', is_sidechain=True, resSeq=82, resSeq_str='82', resname='ARG', chain_ID='A', chain_type='.', CDR=-1), Atom(index=630, serial=631, element='N', is_sidechain=True, resSeq=82, resSeq_str='82', resname='ARG', chain_ID='A', chain_type='.', CDR=-1), Atom(index=631, serial=632, element='C', is_sidechain=True, resSeq=82, resSeq_str='82', resname='ARG', chain_ID='A', chain_type='.', CDR=-1), Atom(index=632, serial=633, element='N', is_sidechain=True, resSeq=82, resSeq_str='82', resname='ARG', chain_ID='A', chain_type='.', CDR=-1), Atom(index=633, serial=634, element='N', is_sidechain=True, resSeq=82, resSeq_str='82', resname='ARG', chain_ID='A', chain_type='.', CDR=-1), Atom(index=556, serial=557, element='N', is_sidechain=False, resSeq=74, resSeq_str='74', resname='ASN', chain_ID='A', chain_type='.', CDR=-1), Atom(index=557, serial=558, element='C', is_sidechain=False, resSeq=74, resSeq_str='74', resname='ASN', chain_ID='A', chain_type='.', CDR=-1), Atom(index=558, serial=559, element='C', is_sidechain=False, resSeq=74, resSeq_str='74', resname='ASN', chain_ID='A', chain_type='.', CDR=-1), Atom(index=559, serial=560, element='O', is_sidechain=False, resSeq=74, resSeq_str='74', resname='ASN', chain_ID='A', chain_type='.', CDR=-1), Atom(index=560, serial=561, element='C', is_sidechain=True, resSeq=74, resSeq_str='74', resname='ASN', chain_ID='A', chain_type='.', CDR=-1), Atom(index=561, serial=562, element='C', is_sidechain=True, resSeq=74, resSeq_str='74', resname='ASN', chain_ID='A', chain_type='.', CDR=-1), Atom(index=562, serial=563, element='O', is_sidechain=True, resSeq=74, resSeq_str='74', resname='ASN', chain_ID='A', chain_type='.', CDR=-1), Atom(index=563, serial=564, element='N', is_sidechain=True, resSeq=74, resSeq_str='74', resname='ASN', chain_ID='A', chain_type='.', CDR=-1), Atom(index=634, serial=635, element='N', is_sidechain=False, resSeq=83, resSeq_str='83', resname='LEU', chain_ID='A', chain_type='.', CDR=-1), Atom(index=635, serial=636, element='C', is_sidechain=False, resSeq=83, resSeq_str='83', resname='LEU', chain_ID='A', chain_type='.', CDR=-1), Atom(index=636, serial=637, element='C', is_sidechain=False, resSeq=83, resSeq_str='83', resname='LEU', chain_ID='A', chain_type='.', CDR=-1), Atom(index=637, serial=638, element='O', is_sidechain=False, resSeq=83, resSeq_str='83', resname='LEU', chain_ID='A', chain_type='.', CDR=-1), Atom(index=638, serial=639, element='C', is_sidechain=True, resSeq=83, resSeq_str='83', resname='LEU', chain_ID='A', chain_type='.', CDR=-1), Atom(index=639, serial=640, element='C', is_sidechain=True, resSeq=83, resSeq_str='83', resname='LEU', chain_ID='A', chain_type='.', CDR=-1), Atom(index=640, serial=641, element='C', is_sidechain=True, resSeq=83, resSeq_str='83', resname='LEU', chain_ID='A', chain_type='.', CDR=-1), Atom(index=641, serial=642, element='C', is_sidechain=True, resSeq=83, resSeq_str='83', resname='LEU', chain_ID='A', chain_type='.', CDR=-1), Atom(index=564, serial=565, element='N', is_sidechain=False, resSeq=75, resSeq_str='75', resname='GLU', chain_ID='A', chain_type='.', CDR=-1), Atom(index=565, serial=566, element='C', is_sidechain=False, resSeq=75, resSeq_str='75', resname='GLU', chain_ID='A', chain_type='.', CDR=-1), Atom(index=566, serial=567, element='C', is_sidechain=False, resSeq=75, resSeq_str='75', resname='GLU', chain_ID='A', chain_type='.', CDR=-1), Atom(index=567, serial=568, element='O', is_sidechain=False, resSeq=75, resSeq_str='75', resname='GLU', chain_ID='A', chain_type='.', CDR=-1), Atom(index=568, serial=569, element='C', is_sidechain=True, resSeq=75, resSeq_str='75', resname='GLU', chain_ID='A', chain_type='.', CDR=-1), Atom(index=569, serial=570, element='C', is_sidechain=True, resSeq=75, resSeq_str='75', resname='GLU', chain_ID='A', chain_type='.', CDR=-1), Atom(index=570, serial=571, element='C', is_sidechain=True, resSeq=75, resSeq_str='75', resname='GLU', chain_ID='A', chain_type='.', CDR=-1), Atom(index=571, serial=572, element='O', is_sidechain=True, resSeq=75, resSeq_str='75', resname='GLU', chain_ID='A', chain_type='.', CDR=-1), Atom(index=572, serial=573, element='O', is_sidechain=True, resSeq=75, resSeq_str='75', resname='GLU', chain_ID='A', chain_type='.', CDR=-1)])"
      ]
     },
     "execution_count": 90,
     "metadata": {},
     "output_type": "execute_result"
    }
   ],
   "source": [
    "interface_atoms[pdb_idcode].antigen.values()"
   ]
  },
  {
   "cell_type": "markdown",
   "metadata": {},
   "source": [
    "------"
   ]
  },
  {
   "cell_type": "markdown",
   "metadata": {},
   "source": [
    "### hbond"
   ]
  },
  {
   "cell_type": "code",
   "execution_count": 4,
   "metadata": {},
   "outputs": [],
   "source": [
    "import interactions_polar\n",
    "importlib.reload(interactions_polar)\n",
    "from interactions_polar import *\n",
    "\n",
    "with open(Path.joinpath(casa_dir, 'data', 'filenames.pkl'), 'rb') as file:\n",
    "    filenames = pickle.load(file)\n",
    "with open(Path.joinpath(casa_dir, 'data', 'chains.pkl'), 'rb') as file:\n",
    "    chains = pickle.load(file)"
   ]
  },
  {
   "cell_type": "code",
   "execution_count": 6,
   "metadata": {},
   "outputs": [
    {
     "name": "stdout",
     "output_type": "stream",
     "text": [
      "6edu\n"
     ]
    },
    {
     "name": "stderr",
     "output_type": "stream",
     "text": [
      "ERROR:root: Couldn't read 6edu. Skipping.\n"
     ]
    }
   ],
   "source": [
    "hbonds_dict = {}\n",
    "\n",
    "check_pdb = '6edu'\n",
    "idx = pdb_list.index(check_pdb)\n",
    "for pdb_idcode in [pdb_list[idx]]:\n",
    "    print(f\"{pdb_idcode}\", flush=True)\n",
    "    pdb_filename = Path.joinpath(str_dir, pdb_idcode + '.pdb')\n",
    "    try:\n",
    "        trj_in = md.load(pdb_filename)\n",
    "    except Exception as e:\n",
    "        logging.error(f\" Couldn't read {pdb_idcode}. Skipping.\")\n",
    "        continue\n",
    "    ab_chains = chains[pdb_idcode].antibody\n",
    "    ag_chains = chains[pdb_idcode].antigen\n",
    "\n",
    "    hbond_dir = Path.joinpath(data_dir, \"hbonds\")\n",
    "    hbplus = Path.joinpath(source_location, 'hbplus')\n",
    "\n",
    "    process = subprocess.run([hbplus, pdb_filename, \"-A\", \"0\", \"0\", \"0\", \"-d\", \"3.9\"],\n",
    "                             stdout=subprocess.PIPE,\n",
    "                             stderr=subprocess.PIPE, cwd=hbond_dir)\n",
    "    hb2_file = Path.joinpath(hbond_dir, pdb_filename.name[0:-3] + \"hb2\")\n",
    "\n",
    "    hbonds_dict[pdb_idcode] = parse_hb2(\n",
    "            pdb_idcode, hb2_file, epitope_buried_cleaned, trj_in.topology, ab_chains, ag_chains)"
   ]
  },
  {
   "cell_type": "code",
   "execution_count": null,
   "metadata": {},
   "outputs": [],
   "source": []
  },
  {
   "cell_type": "markdown",
   "metadata": {},
   "source": [
    "---"
   ]
  },
  {
   "cell_type": "markdown",
   "metadata": {},
   "source": [
    "### shielding"
   ]
  },
  {
   "cell_type": "code",
   "execution_count": 7,
   "metadata": {},
   "outputs": [],
   "source": [
    "import shielding\n",
    "importlib.reload(shielding)\n",
    "from shielding import *\n",
    "\n",
    "with open(Path.joinpath(casa_dir, 'data', 'filenames.pkl'), 'rb') as file:\n",
    "    filenames = pickle.load(file)\n",
    "with open(Path.joinpath(casa_dir, 'data', 'chains.pkl'), 'rb') as file:\n",
    "    chains = pickle.load(file)\n",
    "\n"
   ]
  },
  {
   "cell_type": "code",
   "execution_count": null,
   "metadata": {},
   "outputs": [],
   "source": [
    "check_pdb = '5f96'\n",
    "idx = pdb_list.index(check_pdb)\n",
    "for pdb_idcode, pdb_file, is_cpx in zip([pdb_list[idx]], [file_pdb_list[idx]], [is_cpx_pdb[idx]]):\n",
    "    print(f\"{pdb_idcode}\", flush=True)\n",
    "    \n",
    "    pdb_filename = Path.joinpath(casa_dir, pdb_file)\n",
    "    trj_in = md.load(pdb_filename)\n",
    "\n",
    "    all_ab_chains = [\n",
    "        fila.chainID for i,\n",
    "        fila in df_dataset[df_dataset.idcode == pdb_idcode].iterrows()]\n",
    "    ag_chains = [\n",
    "        chain.chain_id for chain in trj_in.topology.chains\n",
    "        if chain.chain_id not in all_ab_chains]\n",
    "    ab_chains = [\n",
    "        chain.chain_id for chain in trj_in.topology.chains\n",
    "        if chain.chain_id not in ag_chains]\n",
    "        \n",
    "    with open(Path.joinpath(casa_dir, 'data', 'hbonds_1_32.pkl'), 'rb') as file:\n",
    "        hbonds_dict = pickle.load(file)"
   ]
  },
  {
   "cell_type": "code",
   "execution_count": 33,
   "metadata": {},
   "outputs": [],
   "source": [
    "shielding_dict = {}\n",
    "check_pdb = '1adq'\n",
    "idx = pdb_list.index(check_pdb)\n",
    "for pdb_idcode in [pdb_list[idx]]:\n",
    "    # for pdb_idcode in pdb_list:\n",
    "    logging.info(pdb_idcode)\n",
    "\n",
    "    pdb_filename = Path.joinpath(str_dir, pdb_idcode + '.pdb')\n",
    "    try:\n",
    "        trj_in = md.load(pdb_filename)\n",
    "    except Exception as e:\n",
    "        logging.error(f\" Couldn't read {pdb_idcode}. Skipping.\")\n",
    "        continue\n",
    "    ab_chains = chains[pdb_idcode].antibody\n",
    "    ag_chains = chains[pdb_idcode].antigen\n",
    "\n",
    "    ab_carbons = [atom.index for atom in interface_atoms[pdb_idcode].antibody.values()\n",
    "                if atom.element == 'C']\n",
    "\n",
    "    ag_carbons = [atom.index for atom in interface_atoms[pdb_idcode].antigen.values()\n",
    "                if atom.element == 'C']\n",
    "\n",
    "    ab_polars = [atom.index for atom in interface_atoms[pdb_idcode].antibody.values()\n",
    "                if atom.element in ('N', 'O')]\n",
    "    ag_polars = [atom.index for atom in interface_atoms[pdb_idcode].antigen.values()\n",
    "                if atom.element in ('N', 'O')]\n",
    "    polars = ab_polars + ag_polars\n",
    "\n",
    "    C_ON_pairs = np.array(list(itertools.product(ab_carbons, polars)))\n",
    "    C_C_pairs = np.array(list(itertools.product(ab_carbons, ag_carbons)))\n",
    "\n",
    "    C_ON_distancias = md.compute_distances(\n",
    "        trj_in, C_ON_pairs).reshape((len(ab_carbons), len(polars)))\n",
    "\n",
    "    C_C_distancias = md.compute_distances(\n",
    "        trj_in, C_C_pairs).reshape((len(ab_carbons), len(ag_carbons)))\n",
    "\n",
    "    G = nx.Graph()\n",
    "    indices_close_C_C_distancias = np.where(C_C_distancias < cutoff)\n",
    "    mask_close_C_ON_distancias = C_ON_distancias < cutoff\n",
    "    shielding_pdb = {}\n",
    "    for i, j in zip(*indices_close_C_C_distancias):\n",
    "        C_cdr_id = ab_carbons[i]\n",
    "        C_epi_id = ag_carbons[j]\n",
    "        surrounding_ON_ids = [\n",
    "            polars[i]\n",
    "            for i in np.where(mask_close_C_ON_distancias[i, :])[0]]\n",
    "\n",
    "        shielded, ON_id = is_shielded(\n",
    "            trj_in.xyz[0], C_cdr_id, C_epi_id, surrounding_ON_ids)\n",
    "\n",
    "        if shielded:\n",
    "            # I could rewrite this to get the data from `interface_atoms[pdb_idcode]`\n",
    "            # but I'm in a bit of a hurry.\n",
    "            chainID = trj_in.topology.atom(ON_id).residue.chain.chain_id\n",
    "            resSeq = trj_in.topology.atom(ON_id).residue.resSeq\n",
    "            resname = trj_in.topology.atom(ON_id).residue.name\n",
    "            chain_type, cdr = get_chain_info(\n",
    "                epitope_buried_cleaned, pdb_idcode, ab_chains, chainID, resSeq)\n",
    "            serial = trj_in.topology.atom(ON_id).serial\n",
    "            element = trj_in.topology.atom(ON_id).element.symbol\n",
    "            is_sidechain = trj_in.topology.atom(ON_id).is_sidechain\n",
    "\n",
    "            # Compile all the info on this shielding polar atom.\n",
    "            shielding_atom = ShieldingAtom(\n",
    "                chainID=chainID, chain_type=chain_type, CDR=cdr,\n",
    "                resSeq=resSeq, resname=resname, index=ON_id,\n",
    "                serial=serial, element=element, is_sidechain=is_sidechain)\n",
    "\n",
    "            shielding_pdb[ON_id] = shielding_atom\n",
    "\n",
    "    shielding_dict[pdb_idcode] = shielding_pdb"
   ]
  },
  {
   "cell_type": "code",
   "execution_count": 22,
   "metadata": {},
   "outputs": [],
   "source": [
    "with open(Path.joinpath(casa_dir, 'data', 'shielding.pkl'), 'rb') as file:\n",
    "        shielding = pickle.load(file)\n",
    "with open(Path.joinpath(casa_dir, 'data', 'hydrophobic.pkl'), 'rb') as file:\n",
    "        hydrophobic = pickle.load(file)"
   ]
  },
  {
   "cell_type": "code",
   "execution_count": 11,
   "metadata": {},
   "outputs": [
    {
     "data": {
      "text/plain": [
       "'3ze1_complex_EF_C.pdb'"
      ]
     },
     "execution_count": 11,
     "metadata": {},
     "output_type": "execute_result"
    }
   ],
   "source": [
    "pdb_idcode = '3ze1'\n",
    "filenames[pdb_idcode]"
   ]
  },
  {
   "cell_type": "code",
   "execution_count": null,
   "metadata": {},
   "outputs": [],
   "source": [
    "hydro"
   ]
  },
  {
   "cell_type": "markdown",
   "metadata": {},
   "source": [
    "-----"
   ]
  },
  {
   "cell_type": "markdown",
   "metadata": {},
   "source": [
    "### Count_ONs"
   ]
  },
  {
   "cell_type": "code",
   "execution_count": 87,
   "metadata": {},
   "outputs": [],
   "source": [
    "with open(Path.joinpath(casa_dir, 'data', 'hbonds_0_39.pkl'), 'rb') as file:\n",
    "        hbonds = pickle.load(file)\n",
    "interacting_ab_chains = {}"
   ]
  },
  {
   "cell_type": "code",
   "execution_count": 96,
   "metadata": {},
   "outputs": [
    {
     "name": "stdout",
     "output_type": "stream",
     "text": [
      "SabDab protein antigen:\n",
      "1154 proteins out of 2017, 57.2%\n",
      "All: 1154\n",
      "No Hchain: 0\n",
      "No Lchain: 0\n",
      "Both chains: 1154\n",
      "Buried surfaces of 2492 proteins\n",
      "with both chains: 867\n"
     ]
    }
   ],
   "source": [
    "with open(Path.joinpath(casa_dir, 'data', 'filenames.pkl'), 'rb') as file:\n",
    "        filenames = pickle.load(file)\n",
    "with open(Path.joinpath(casa_dir, 'data', 'chains.pkl'), 'rb') as file:\n",
    "    chains = pickle.load(file)\n",
    "with open(Path.joinpath(casa_dir, 'data', 'hbonds_0_39.pkl'), 'rb') as file:\n",
    "    hbonds = pickle.load(file)\n",
    "\n",
    "pdb_list = list(filenames.keys())\n",
    "df_dataset = get_df_dataset(casa_dir)\n",
    "\n",
    "interacting_ab_chains = {}\n",
    "for pdb_idcode in pdb_list:\n",
    "    pdb_filename = Path(filenames[pdb_idcode])\n",
    "    trj_in = md.load(Path.joinpath(exposed_dir, pdb_idcode, pdb_filename))\n",
    "    ab_chains = chains[pdb_idcode].antibody\n",
    "    ag_chains = chains[pdb_idcode].antigen\n",
    "\n",
    "    serial_to_id = {}\n",
    "    for atomo in trj_in.topology.atoms:\n",
    "        serial_to_id[atomo.serial] = atomo.index\n",
    "\n",
    "    ids_oxy_nitro = []\n",
    "    for lista_hbond in hbonds[pdb_idcode].values():\n",
    "        for hb in lista_hbond:\n",
    "            ids_oxy_nitro.append(hb.donor.chainID)\n",
    "            ids_oxy_nitro.append(hb.acceptor.chainID)\n",
    "\n",
    "    interacting_ab_chains_pdb = set(Counter(ids_oxy_nitro).keys()) & set(ab_chains)\n",
    "\n",
    "    interacting_ab_chains[pdb_idcode] = interacting_ab_chains_pdb"
   ]
  },
  {
   "cell_type": "markdown",
   "metadata": {},
   "source": []
  },
  {
   "cell_type": "markdown",
   "metadata": {},
   "source": [
    "### DSSP completo"
   ]
  },
  {
   "cell_type": "code",
   "execution_count": 67,
   "metadata": {},
   "outputs": [
    {
     "name": "stdout",
     "output_type": "stream",
     "text": [
      "SabDab protein antigen:\n",
      "1154 proteins out of 2017, 57.2%\n",
      "All: 1154\n",
      "No Hchain: 0\n",
      "No Lchain: 0\n",
      "Both chains: 1154\n",
      "Buried surfaces of 2492 proteins\n",
      "with both chains: 867\n"
     ]
    }
   ],
   "source": [
    "with open(Path.joinpath(casa_dir, 'data', 'filenames.pkl'), 'rb') as file:\n",
    "    filenames = pickle.load(file)\n",
    "with open(Path.joinpath(casa_dir, 'data', 'chains.pkl'), 'rb') as file:\n",
    "    chains = pickle.load(file)\n",
    "with open(Path.joinpath(casa_dir, 'data', 'interacting_chains.pkl'), 'rb') as file:\n",
    "    interacting_chains = pickle.load(file)\n",
    "# with open(Path.joinpath(casa_dir, 'data', 'hbonds_0_39.pkl'), 'rb') as file:\n",
    "#     hbonds = pickle.load(file)\n",
    "\n",
    "pdb_list = list(filenames.keys())\n",
    "df_dataset = get_df_dataset(casa_dir)"
   ]
  },
  {
   "cell_type": "code",
   "execution_count": 120,
   "metadata": {},
   "outputs": [
    {
     "name": "stdout",
     "output_type": "stream",
     "text": [
      "1ncc\n"
     ]
    }
   ],
   "source": [
    "simplify_sse = {'H': 'H', 'B': 'E', 'E': 'E', 'G': 'H', 'I': 'H',\n",
    "    'T': 'H', 'S': 'C', ' ': 'C', 'NA': 'NA'}\n",
    "SSE = {}\n",
    "SSE_cnt = {}\n",
    "check_pdb = '1ncc'\n",
    "idx = pdb_list.index(check_pdb)\n",
    "for pdb_idcode in [pdb_list[idx]]:\n",
    "# for pdb_idcode in pdb_list:\n",
    "    logging.info(pdb_idcode)\n",
    "\n",
    "    pdb_filename = Path(filenames[pdb_idcode])\n",
    "    trj_in = md.load(Path.joinpath(exposed_dir, pdb_idcode, pdb_filename))\n",
    "    ag_chains = chains[pdb_idcode].antigen\n",
    "    # Get SSE of each residue\n",
    "    dssp = md.compute_dssp(trj_in, simplified=False)[0]\n",
    "    SSE_pdb = {}\n",
    "    SSE_cnt_pdb = {'H': 0, 'E': 0, 'C': 0, 'NA': 0}\n",
    "    for i, res in enumerate(trj_in.topology.residues):\n",
    "        if res.chain.chain_id in ag_chains:\n",
    "            sse = simplify_sse[dssp[i]]\n",
    "            SSE_pdb[res.resSeq] = sse\n",
    "            SSE_cnt_pdb[sse] += 1\n",
    "    SSE[pdb_idcode] = SSE_pdb\n",
    "    # SSE_cnt[pdb_idcode] = SSE_cnt_pdb"
   ]
  },
  {
   "cell_type": "code",
   "execution_count": 121,
   "metadata": {},
   "outputs": [
    {
     "data": {
      "text/plain": [
       "Counter({' ': 103, 'S': 62, 'B': 6, 'E': 162, 'H': 4, 'T': 42, 'G': 7})"
      ]
     },
     "execution_count": 121,
     "metadata": {},
     "output_type": "execute_result"
    }
   ],
   "source": [
    "Counter(SSE[pdb_idcode].values())"
   ]
  },
  {
   "cell_type": "markdown",
   "metadata": {},
   "source": [
    "----"
   ]
  },
  {
   "cell_type": "markdown",
   "metadata": {},
   "source": [
    "### get_interface_atoms"
   ]
  },
  {
   "cell_type": "code",
   "execution_count": 72,
   "metadata": {},
   "outputs": [],
   "source": [
    "import get_interface_atoms\n",
    "imp.reload(get_interface_atoms)\n",
    "from get_interface_atoms import *"
   ]
  },
  {
   "cell_type": "code",
   "execution_count": 50,
   "metadata": {},
   "outputs": [],
   "source": [
    "with open(Path.joinpath(casa_dir, 'data', 'filenames.pkl'), 'rb') as file:\n",
    "        filenames = pickle.load(file)\n",
    "with open(Path.joinpath(casa_dir, 'data', 'chains.pkl'), 'rb') as file:\n",
    "    chains = pickle.load(file)\n",
    "with(open(Path.joinpath(data_dir, 'pdb.list'), 'r')) as file:\n",
    "    pdb_list = [linea.strip() for linea in file]"
   ]
  },
  {
   "cell_type": "code",
   "execution_count": 91,
   "metadata": {},
   "outputs": [],
   "source": [
    "interface_atoms = {}\n",
    "check_pdb = '1egj'\n",
    "idx = pdb_list.index(check_pdb)\n",
    "for pdb_idcode in [pdb_list[idx]]:\n",
    "# for pdb_idcode in pdb_list:\n",
    "    \n",
    "\n",
    "    pdb_filename = Path(filenames[pdb_idcode])\n",
    "    trj_in = md.load(Path.joinpath(exposed_dir, pdb_idcode, pdb_filename))\n",
    "    ab_chains = chains[pdb_idcode].antibody\n",
    "    ag_chains = chains[pdb_idcode].antigen\n",
    "\n",
    "    cadenas = get_chains(trj_in.topology, ab_chains, ag_chains)\n",
    "    chain_types = get_chain_types(epitope_buried_cleaned, pdb_idcode, ab_chains, ag_chains)\n",
    "\n",
    "    row_pdb = buried_interface_res.query(f\"idcode == '{pdb_idcode}'\\\n",
    "        and chainID == '{ab_chains[0]}'\")\n",
    "    ab_atoms = []\n",
    "    try:\n",
    "        for row in row_pdb.ab_ag_interface_res.values[0]:\n",
    "            chainID = row[0]\n",
    "            resSeq_str = row[1].strip()\n",
    "            resname = row[2]\n",
    "            interface_residues = get_residue(cadenas[chainID], resSeq_str)\n",
    "            for interface_resi in interface_residues:\n",
    "                cdr = get_cdr_from_residue(\n",
    "                    epitope_buried_cleaned, pdb_idcode, chainID, chain_types[chainID],\n",
    "                    interface_resi)\n",
    "                for atom in interface_resi.atoms:\n",
    "                    atm = Atom(index=atom.index, serial=atom.serial,\n",
    "                                resSeq=interface_resi.resSeq, resSeq_str=resSeq_str,\n",
    "                                resname=interface_resi.name,\n",
    "                                chain_ID=chainID, chain_type=chain_types[chainID], CDR=cdr)\n",
    "                    ab_atoms.append(atm)\n",
    "\n",
    "    except Exception as e:\n",
    "        logging.exception(e)\n",
    "        logging.error(f\" {pdb_idcode} interface atom look-up failed.\")\n",
    "        continue\n",
    "\n",
    "    ag_atoms = []\n",
    "    try:\n",
    "        for row in row_pdb.ag_ab_interface_res.values[0]:\n",
    "            chainID = row[0]\n",
    "            resSeq_str = row[1].strip()\n",
    "            resname = row[2]\n",
    "            interface_residues = get_residue(cadenas[chainID], resSeq_str)\n",
    "            for interface_resi in interface_residues:\n",
    "                cdr = get_cdr_from_residue(\n",
    "                    epitope_buried_cleaned, pdb_idcode, chainID, chain_types[chainID],\n",
    "                    interface_resi)\n",
    "                for atom in interface_resi.atoms:\n",
    "                    atm = Atom(index=atom.index, serial=atom.serial,\n",
    "                                resSeq=interface_resi.resSeq, resSeq_str=resSeq_str,\n",
    "                                resname=interface_resi.name,\n",
    "                                chain_ID=chainID, chain_type=chain_types[chainID], CDR=cdr)\n",
    "                    ag_atoms.append(atm)\n",
    "\n",
    "    except Exception as e:\n",
    "        logging.exception(e)\n",
    "        logging.error(f\" {pdb_idcode} interface atom look-up failed.\")\n",
    "        continue\n"
   ]
  },
  {
   "cell_type": "code",
   "execution_count": 94,
   "metadata": {},
   "outputs": [],
   "source": []
  },
  {
   "cell_type": "markdown",
   "metadata": {},
   "source": [
    "---"
   ]
  },
  {
   "cell_type": "code",
   "execution_count": 226,
   "metadata": {},
   "outputs": [],
   "source": [
    "import get_interface_atoms\n",
    "imp.reload(get_interface_atoms)\n",
    "from get_interface_atoms import *"
   ]
  },
  {
   "cell_type": "code",
   "execution_count": 227,
   "metadata": {},
   "outputs": [],
   "source": [
    "check_pdb = '1egj'\n",
    "idx = pdb_list.index(check_pdb)\n",
    "for pdb_idcode in [pdb_list[idx]]:\n",
    "    logging.info(pdb_idcode)\n",
    "\n",
    "    pdb_filename = Path(filenames[pdb_idcode])\n",
    "    trj_in = md.load(Path.joinpath(exposed_dir, pdb_idcode, pdb_filename))\n",
    "    ab_chains = chains[pdb_idcode].antibody\n",
    "    ag_chains = chains[pdb_idcode].antigen\n",
    "\n",
    "    cadenas = get_chains(trj_in.topology, ab_chains, ag_chains)\n",
    "    chain_types = get_chain_types(epitope_buried_cleaned, pdb_idcode, ab_chains, ag_chains)\n",
    "\n",
    "    # `buried_interface_res` has 1 row per interface. In case there's more than one,\n",
    "    # I use the heavy chain (ab_chains[0]) to identify the one I'm care about.\n",
    "    df_interface_atoms = buried_interface_res.query(f\"idcode == '{pdb_idcode}'\\\n",
    "        and chainID == '{ab_chains[0]}'\")\n",
    "    \n",
    "    try:\n",
    "        ab_atoms = get_atoms_from_rows(\n",
    "            pdb_idcode, epitope_buried_cleaned, df_interface_atoms.ab_ag_interface_res.values[0],\n",
    "            cadenas, chain_types)\n",
    "    except Exception as e:\n",
    "        logging.exception(e)\n",
    "        logging.error(f\" {pdb_idcode} antibody's interface atom look-up failed.\")\n",
    "        continue"
   ]
  },
  {
   "cell_type": "markdown",
   "metadata": {},
   "source": [
    "----"
   ]
  },
  {
   "cell_type": "code",
   "execution_count": 20,
   "metadata": {},
   "outputs": [],
   "source": [
    "pdb_idcode = '3cvh'\n",
    "a = epitope_buried_cleaned.query(f\"idcode == '{pdb_idcode}'\").ag_interface_res.values"
   ]
  },
  {
   "cell_type": "code",
   "execution_count": 21,
   "metadata": {},
   "outputs": [],
   "source": [
    "superficie = tuple({ (cada[0], int(cada[1].strip()), cada[2]) for cada in a[0] })"
   ]
  },
  {
   "cell_type": "code",
   "execution_count": 22,
   "metadata": {},
   "outputs": [
    {
     "name": "stdout",
     "output_type": "stream",
     "text": [
      "select resi 250+58+124+102+121+2+18+118+128+98+158+6+218+199+36+66+267+86+258+110+191+256+68+269+180+270+220+222+57+64+72+138+177+228+3+240+263+272+41+87+92+183+235+195+139+265+254+59+273+44+91+119+106+115+257+94+8+147+35+71+161+169+248+172+241+50+251+210+12+242+266+229+154+216+25+42+198+30+159+73+157+17+149+174+224+46+88+227+7+15+27+60+14+271+61+170+96+135+70+230+40+97+137+206+150+215+221+246+186+63+105+233+123+127+219+108+165+187+182+93+231+5+168+179+104+243+142+184+238+167+85+48+77+125+136+207+145+45+130+141+47+37+76+262+148+225+6+53+80+274+152+190+113+21+39+111+129+133+153+7+264+83+176+249+185+31+155+163+234+1+226+19+49+65+54+122+151+162+109+173+175+2+4+178+212+188+32+117+166+232+192+11+189+211+82+146+126+193+43+244+223+204+10+260+4+8+202+253+90+38+196+55+214+237+197+247+20+107+268+84+255+132+239+22+9+23+13+62+120+3+209+78+131+51+213+69+29+134+181+194+200+1+236+56+252+75+89+144+16+116+103+79 and chain A\n"
     ]
    }
   ],
   "source": [
    "print(f\"select resi \", end='')\n",
    "for res in superficie[:-1]:\n",
    "    print(f\"{res[1]}\", end = '+')\n",
    "print(f\"{superficie[-1][1]} and chain {superficie[-1][0]}\")"
   ]
  },
  {
   "cell_type": "code",
   "execution_count": 30,
   "metadata": {},
   "outputs": [
    {
     "ename": "IndexError",
     "evalue": "index 6 is out of bounds for axis 0 with size 6",
     "output_type": "error",
     "traceback": [
      "\u001b[0;31m---------------------------------------------------------------------------\u001b[0m",
      "\u001b[0;31mIndexError\u001b[0m                                Traceback (most recent call last)",
      "\u001b[1;32m/home/pbarletta/labo/22/AbAgInterface/scripts/src/get_interactions.ipynb Cell 84'\u001b[0m in \u001b[0;36m<module>\u001b[0;34m\u001b[0m\n\u001b[0;32m----> <a href='vscode-notebook-cell:/home/pbarletta/labo/22/AbAgInterface/scripts/src/get_interactions.ipynb#ch0000083?line=0'>1</a>\u001b[0m a[\u001b[39m6\u001b[39;49m]\n",
      "\u001b[0;31mIndexError\u001b[0m: index 6 is out of bounds for axis 0 with size 6"
     ]
    }
   ],
   "source": [
    "a[6]"
   ]
  }
 ],
 "metadata": {
  "interpreter": {
   "hash": "70c485f5dd2a3fa7b2691a7c2f24a679b8383fa6708e6dbf719b8ad856723649"
  },
  "kernelspec": {
   "display_name": "Python 3.10.2 ('mdtraj')",
   "language": "python",
   "name": "python3"
  },
  "language_info": {
   "codemirror_mode": {
    "name": "ipython",
    "version": 3
   },
   "file_extension": ".py",
   "mimetype": "text/x-python",
   "name": "python",
   "nbconvert_exporter": "python",
   "pygments_lexer": "ipython3",
   "version": "3.10.2"
  },
  "orig_nbformat": 4
 },
 "nbformat": 4,
 "nbformat_minor": 2
}
