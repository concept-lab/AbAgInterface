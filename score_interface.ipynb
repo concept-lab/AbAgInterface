{
 "cells": [
  {
   "cell_type": "code",
   "execution_count": 2,
   "metadata": {},
   "outputs": [],
   "source": [
    "import pandas as pd\n",
    "import numpy as np\n",
    "import itertools\n",
    "import string\n",
    "import networkx as nx\n",
    "import random\n",
    "\n",
    "import sys, os\n",
    "from pathlib import Path\n",
    "source_location = Path().resolve()\n",
    "sys.path.append(source_location)\n",
    "from scripts.utils import get_sabdab_details\n",
    "\n",
    "import mdtraj as md\n",
    "casa_dir = Path(\"/home/pbarletta/labo/22/AbAgInterface\")"
   ]
  },
  {
   "cell_type": "raw",
   "metadata": {},
   "source": []
  },
  {
   "cell_type": "code",
   "execution_count": 3,
   "metadata": {},
   "outputs": [],
   "source": [
    "df_sabdab_all = pd.read_csv(Path.joinpath(source_location,\n",
    "    'structures/sabdab_summary_all.tsv'), sep=\"\\t\")\n",
    "df_sabdab_90 = pd.read_csv(Path.joinpath(source_location,\n",
    "    'structures/sabdab_summary_90.tsv'), sep=\"\\t\")\n",
    "\n",
    "df_buried = pd.read_pickle(Path.joinpath(source_location,\n",
    "    'data/epitope_buried.pickle'))\n",
    "\n",
    "df_interactions = pd.read_pickle(Path.joinpath(source_location,\n",
    "    'data/interactions.pickle'))"
   ]
  },
  {
   "cell_type": "code",
   "execution_count": 4,
   "metadata": {},
   "outputs": [
    {
     "name": "stdout",
     "output_type": "stream",
     "text": [
      "SabDab protein antigen:\n",
      "1154 proteins out of 2017, 57.2%\n"
     ]
    }
   ],
   "source": [
    "# protein_antigens = df_sabdab_90[df_sabdab_90['antigen_type'].str.contains('protein', na = False)]\n",
    "protein_antigens = df_sabdab_90.query(\"antigen_type == antigen_type and antigen_type.str.contains('protein')\", engine = 'python').drop_duplicates()\n",
    "ab_protein_antigens = set(protein_antigens.pdb.values)\n",
    "all_saddab_proteins = set(df_sabdab_90.pdb.values)\n",
    "print(\n",
    "    f\"SabDab protein antigen:\\n\"\n",
    "    f\"{len(ab_protein_antigens)} proteins out of {len(all_saddab_proteins)}, \"\n",
    "    f\"{round(len(ab_protein_antigens) / len(all_saddab_proteins) * 100, 1)}%\"\n",
    ")"
   ]
  },
  {
   "cell_type": "code",
   "execution_count": 5,
   "metadata": {},
   "outputs": [
    {
     "name": "stdout",
     "output_type": "stream",
     "text": [
      "All: 1154\n",
      "No Hchain: 0\n",
      "No Lchain: 0\n",
      "Both chains: 1154\n"
     ]
    }
   ],
   "source": [
    "ab_both_chains = set(protein_antigens.query(\"Hchain == Hchain and Lchain == Lchain\").pdb.values)\n",
    "ab_single_H_chain = set(protein_antigens.query(\"Hchain == Hchain\").pdb.values)\n",
    "ab_single_L_chain = set(protein_antigens.query(\"Lchain == Lchain\").pdb.values)\n",
    "\n",
    "n_ab_no_Hchain = len(ab_protein_antigens) - len(ab_single_H_chain)\n",
    "n_ab_no_Lchain = len(ab_protein_antigens) - len(ab_single_L_chain)\n",
    "\n",
    "print(f\"All: {len(ab_protein_antigens)}\\nNo Hchain: {n_ab_no_Hchain}\\nNo Lchain: {n_ab_no_Lchain}\\nBoth chains: {len(ab_both_chains)}\")"
   ]
  },
  {
   "cell_type": "code",
   "execution_count": 6,
   "metadata": {},
   "outputs": [
    {
     "name": "stdout",
     "output_type": "stream",
     "text": [
      "Buried surfaces of 2492 proteins\n",
      "with both chains: 867\n"
     ]
    }
   ],
   "source": [
    "buried_fullab = df_buried[df_buried.idcode.isin(ab_both_chains)]\n",
    "print(\n",
    "    f\"Buried surfaces of {len(set(df_buried.idcode.values))} proteins\\n\"\n",
    "    f\"with both chains: {len(set(buried_fullab.idcode.values))}\"\n",
    ")"
   ]
  },
  {
   "cell_type": "code",
   "execution_count": 7,
   "metadata": {},
   "outputs": [
    {
     "data": {
      "text/plain": [
       "idcode                                                                    4ydk\n",
       "chainID                                                                      H\n",
       "chain_type                                                                   H\n",
       "cdr                                                                          3\n",
       "cdr_seq                                                   VTFYHEGSGYYYRAGNYFDS\n",
       "cdr_begin                                                                   95\n",
       "cdr_end                                                                    102\n",
       "cdr_atoms                    [6701, 6702, 6703, 6704, 6705, 6706, 6707, 670...\n",
       "epitope_atoms                [950, 2128, 2133, 2134, 2135, 2414, 2483, 2484...\n",
       "epitope_residues             [105, 257, 257, 257, 257, 275, 280, 280, 280, ...\n",
       "ag_ab_interface              {3584, 3592, 3593, 3596, 3597, 3599, 3600, 360...\n",
       "ag_cdrchain_interface        {3584, 4738, 3582, 4742, 4358, 3592, 3593, 436...\n",
       "ag_cdr_interface             {3584, 4738, 4742, 4358, 3592, 3593, 4745, 474...\n",
       "ab_ag_interface              {6323, 6338, 6851, 6853, 6855, 6857, 6859, 686...\n",
       "ag_ab_interface_res          [(G, 370, GLU, HG2, 3), (G, 371, ILE, CG2, 3),...\n",
       "ag_cdrchain_interface_res    [(G, 370, GLU, HG2, 3), (G, 455, THR, HB, 3), ...\n",
       "ag_cdr_interface_res         [(G, 370, GLU, HG2, 3), (G, 455, THR, HB, 3), ...\n",
       "ab_ag_interface_res          [(H, 71, ARG, N, 3), (H, 71, ARG, HG2, 3), (H,...\n",
       "Name: 10763, dtype: object"
      ]
     },
     "execution_count": 7,
     "metadata": {},
     "output_type": "execute_result"
    }
   ],
   "source": [
    "buried_fullab.iloc[4805]"
   ]
  },
  {
   "cell_type": "code",
   "execution_count": 8,
   "metadata": {},
   "outputs": [],
   "source": [
    "def is_shielded(positions, C_cdr_id, C_epi_id, surrounding_ONS_ids):\n",
    "    C_cdr_xyz = positions[C_cdr_id, :]\n",
    "    C_epi_xyz = positions[C_epi_id, :]\n",
    "\n",
    "    vec_C_C = C_epi_xyz - C_cdr_xyz\n",
    "    n_vec_C_C = vec_C_C / np.linalg.norm(vec_C_C)\n",
    "\n",
    "    for ONS_id in surrounding_ONS_ids:\n",
    "        ONS_xyz = positions[ONS_id, :]\n",
    "        vec_cdr_ONS = ONS_xyz - C_cdr_xyz\n",
    "        n_vec_cdr_ONS = vec_cdr_ONS / np.linalg.norm(vec_cdr_ONS)\n",
    "        vec_epi_ONS = ONS_xyz - C_epi_xyz\n",
    "        n_vec_epi_ONS = vec_epi_ONS / np.linalg.norm(vec_epi_ONS)\n",
    "        \n",
    "        if np.dot(n_vec_C_C, n_vec_cdr_ONS) > 0.9 and\\\n",
    "            np.dot(n_vec_C_C, n_vec_epi_ONS) < -0.1:\n",
    "            return True, ONS_id\n",
    "\n",
    "    return False, 0"
   ]
  },
  {
   "cell_type": "markdown",
   "metadata": {},
   "source": [
    "# intento 1"
   ]
  },
  {
   "cell_type": "code",
   "execution_count": 126,
   "metadata": {},
   "outputs": [],
   "source": [
    "pdb_idcode = '4ydk'\n",
    "pdb_filename = Path.joinpath(casa_dir, \"tempo\", pdb_idcode + \".pdb\")\n",
    "trj_in = md.load(pdb_filename)\n",
    "serial_to_id = {}\n",
    "for atomo in trj_in.topology.atoms:\n",
    "    serial_to_id[atomo.serial] = atomo.index\n",
    "\n",
    "all_epitope_atoms = np.unique(list(itertools.chain(\n",
    "    *[ fila.epitope_atoms for index, fila in buried_fullab[buried_fullab.idcode == pdb_idcode].iterrows() ])))\n",
    "\n",
    "all_cdr_atoms = np.unique(list(itertools.chain(\n",
    "    *[ fila.cdr_atoms for index, fila in buried_fullab[buried_fullab.idcode == pdb_idcode].iterrows() ])))\n",
    "\n",
    "ids_C_epitope_atoms = []\n",
    "ids_ONS_epitope_atoms = []\n",
    "for id in all_epitope_atoms:\n",
    "    index = serial_to_id[id]\n",
    "    elemento = trj_in.topology.atom(index).element.symbol\n",
    "    if elemento == 'C':\n",
    "        ids_C_epitope_atoms.append(index)\n",
    "    elif elemento == 'O' or elemento == 'N' or elemento == 'S':\n",
    "        ids_ONS_epitope_atoms.append(index)\n",
    "\n",
    "ids_C_cdr_atoms = []\n",
    "ids_ONS_cdr_atoms = []\n",
    "for id in all_cdr_atoms:\n",
    "    index = serial_to_id[id]\n",
    "    elemento = trj_in.topology.atom(index).element.symbol\n",
    "    if elemento == 'C':\n",
    "        ids_C_cdr_atoms.append(index)\n",
    "    elif elemento == 'O' or elemento == 'N' or elemento == 'S':\n",
    "        ids_ONS_cdr_atoms.append(index)\n",
    "\n",
    "ids_ONS_atoms = ids_ONS_cdr_atoms + ids_ONS_epitope_atoms \n",
    "\n",
    "C_ONS_pairs = np.array(list(itertools.product(ids_C_cdr_atoms, ids_ONS_atoms)))\n",
    "C_C_pairs = np.array(list(itertools.product(ids_C_cdr_atoms, ids_C_epitope_atoms)))\n",
    "\n",
    "C_ONS_distancias = md.compute_distances(trj_in, C_ONS_pairs).reshape((len(ids_C_cdr_atoms),\n",
    "    len(ids_ONS_atoms)))\n",
    "\n",
    "C_C_distancias = md.compute_distances(trj_in, C_C_pairs).reshape((len(ids_C_cdr_atoms),\n",
    "    len(ids_C_epitope_atoms)))\n",
    "\n",
    "cutoff = 0.5"
   ]
  },
  {
   "cell_type": "code",
   "execution_count": 341,
   "metadata": {},
   "outputs": [],
   "source": [
    "indices_close_C_C_distancias = np.where(C_C_distancias < cutoff)\n",
    "mask_close_C_ONS_distancias = C_ONS_distancias < cutoff\n",
    "interacting_carbons = []\n",
    "interacting_carbons_tuples = []\n",
    "xyz_centers = []\n",
    "shielding_atoms_serial = {}\n",
    "\n",
    "for i, j in zip(*indices_close_C_C_distancias):\n",
    "    C_cdr_id = ids_C_cdr_atoms[i]\n",
    "    C_epi_id = ids_C_epitope_atoms[j]\n",
    "    surrounding_ONS_ids = [ids_ONS_atoms[i] for i in np.where(mask_close_C_ONS_distancias[i, :])[0] ]\n",
    "    \n",
    "    shielded, ONS_id = is_shielded(trj_in.xyz[0], C_cdr_id, C_epi_id, surrounding_ONS_ids)\n",
    "\n",
    "    C1 = trj_in.topology.atom(C_cdr_id).serial\n",
    "    C2 = trj_in.topology.atom(C_epi_id).serial\n",
    "    ONS = trj_in.topology.atom(ONS_id).serial\n",
    "    if shielded:\n",
    "        shielding_atoms_serial[i] = trj_in.topology.atom(ONS_id).serial\n",
    "        # print(f'shielded: {C1=}  --  {C2=} -- {ONS=}')\n",
    "    else:\n",
    "        interacting_carbons.append(C_cdr_id)\n",
    "        interacting_carbons.append(C_epi_id)\n",
    "        interacting_carbons_tuples.append((C_cdr_id, C_epi_id))\n",
    "        xyz_centers.append(trj_in.xyz[0][C_epi_id, :] - trj_in.xyz[0][C_cdr_id, :])\n",
    "        # print(f'hydro: {C1=}  --  {C2=} -- {ONS=}')\n",
    "interacting_carbons = list(set(interacting_carbons))"
   ]
  },
  {
   "cell_type": "raw",
   "metadata": {},
   "source": [
    "pairs_of_interacting_carbons = list(itertools.product(interacting_carbons,\n",
    "    interacting_carbons))\n",
    "\n",
    "pairs_of_interacting_carbons = [ i for i in pairs_of_interacting_carbons if i[0] != i[1] ]\n",
    "\n",
    "interacting_carbons_distances = md.compute_distances(trj_in,\n",
    "    pairs_of_interacting_carbons).reshape((len(interacting_carbons), len(interacting_carbons) - 1))\n",
    "\n",
    "cutoff_carbons = cutoff\n",
    "interacting_clusters = np.where(interacting_carbons_distances < cutoff_carbons)"
   ]
  },
  {
   "cell_type": "code",
   "execution_count": 332,
   "metadata": {},
   "outputs": [],
   "source": [
    "pairs_of_interacting_carbons = list(itertools.product(interacting_carbons,\n",
    "    interacting_carbons))\n",
    "\n",
    "pairs_of_interacting_carbons = [ i for i in pairs_of_interacting_carbons if i[0] != i[1] ]\n",
    "\n",
    "interacting_carbons_distances = md.compute_distances(trj_in, pairs_of_interacting_carbons)\n",
    "cutoff_carbons = cutoff\n",
    "interacting_clusters = np.array(pairs_of_interacting_carbons)[np.where(\n",
    "    interacting_carbons_distances < cutoff_carbons)[1]]"
   ]
  },
  {
   "cell_type": "code",
   "execution_count": 284,
   "metadata": {},
   "outputs": [
    {
     "data": {
      "text/plain": [
       "106"
      ]
     },
     "execution_count": 284,
     "metadata": {},
     "output_type": "execute_result"
    }
   ],
   "source": [
    "len(interacting_carbons)"
   ]
  },
  {
   "cell_type": "code",
   "execution_count": 285,
   "metadata": {},
   "outputs": [
    {
     "data": {
      "text/plain": [
       "11130"
      ]
     },
     "execution_count": 285,
     "metadata": {},
     "output_type": "execute_result"
    }
   ],
   "source": [
    "len(pairs_of_interacting_carbons)"
   ]
  },
  {
   "cell_type": "code",
   "execution_count": 336,
   "metadata": {},
   "outputs": [
    {
     "name": "stdout",
     "output_type": "stream",
     "text": [
      "4650\n",
      "4653\n",
      "4655\n",
      "4688\n",
      "2128\n",
      "4691\n",
      "6753\n",
      "6773\n",
      "6774\n",
      "6776\n",
      "6777\n",
      "6779\n",
      "6780\n",
      "4207\n",
      "4210\n",
      "4211\n",
      "6794\n",
      "6795\n",
      "6796\n",
      "6806\n",
      "6807\n",
      "4238\n",
      "4239\n",
      "6813\n",
      "6814\n",
      "4241\n",
      "6816\n",
      "6824\n",
      "6834\n",
      "6835\n",
      "6836\n",
      "6837\n",
      "6838\n",
      "6839\n",
      "6840\n",
      "4262\n",
      "4279\n",
      "6852\n",
      "4280\n",
      "6855\n",
      "6856\n",
      "6857\n",
      "6858\n",
      "6859\n",
      "6860\n",
      "6861\n",
      "4300\n",
      "6873\n",
      "6874\n",
      "4301\n",
      "6877\n",
      "6879\n",
      "6881\n",
      "4310\n",
      "4311\n",
      "6894\n",
      "6895\n",
      "6897\n",
      "6901\n",
      "6918\n",
      "6921\n",
      "4871\n",
      "4878\n",
      "10012\n",
      "10013\n",
      "10014\n",
      "10015\n",
      "10016\n",
      "10017\n",
      "4888\n",
      "4889\n",
      "10029\n",
      "10045\n",
      "10048\n",
      "5985\n",
      "5986\n",
      "5988\n",
      "5989\n",
      "5991\n",
      "9065\n",
      "5992\n",
      "6004\n",
      "9082\n",
      "6010\n",
      "6011\n",
      "3505\n",
      "3508\n",
      "3516\n",
      "2497\n",
      "3523\n",
      "2500\n",
      "2507\n",
      "3533\n",
      "2512\n",
      "2534\n",
      "3561\n",
      "3564\n",
      "3565\n",
      "3566\n",
      "3579\n",
      "3580\n",
      "3581\n",
      "3582\n",
      "------------  103\n",
      "9414\n",
      "9416\n",
      "4717\n",
      "------------  3\n"
     ]
    }
   ],
   "source": [
    "G = nx.Graph()\n",
    "G.add_edges_from(interacting_clusters)\n",
    "for cluster in sorted(nx.connected_components(G), key = len, reverse = True):\n",
    "    for C in cluster:\n",
    "        print(trj_in.topology.atom(C).serial)\n",
    "    print(\"------------ \", len(cluster))"
   ]
  },
  {
   "cell_type": "markdown",
   "metadata": {},
   "source": [
    "# intento 2"
   ]
  },
  {
   "cell_type": "code",
   "execution_count": 379,
   "metadata": {},
   "outputs": [],
   "source": [
    "G = nx.Graph()\n",
    "cutoff_clusters = .3\n",
    "for (xyz_i, tuple_i) in zip(xyz_centers, interacting_carbons_tuples):\n",
    "    for (xyz_j, tuple_j) in zip(xyz_centers, interacting_carbons_tuples):\n",
    "        if tuple_i == tuple_j:\n",
    "            continue\n",
    "        if np.linalg.norm(xyz_i - xyz_j) < cutoff_clusters:\n",
    "            G.add_edge(tuple_i, tuple_j)"
   ]
  },
  {
   "cell_type": "code",
   "execution_count": 380,
   "metadata": {},
   "outputs": [
    {
     "name": "stdout",
     "output_type": "stream",
     "text": [
      "c1=5991 -- c2=4210\n",
      "c1=6860 -- c2=4241\n",
      "c1=6777 -- c2=4655\n",
      "c1=9414 -- c2=4717\n",
      "c1=6873 -- c2=3533\n",
      "c1=6856 -- c2=3581\n",
      "c1=10015 -- c2=3505\n",
      "c1=6855 -- c2=3579\n",
      "c1=6859 -- c2=3561\n",
      "c1=6795 -- c2=2512\n",
      "c1=5989 -- c2=4279\n",
      "c1=6834 -- c2=4279\n",
      "c1=6858 -- c2=3581\n",
      "c1=6010 -- c2=4311\n",
      "c1=6824 -- c2=4888\n",
      "c1=6838 -- c2=4279\n",
      "c1=6861 -- c2=3561\n",
      "c1=6813 -- c2=4878\n",
      "c1=6836 -- c2=4279\n",
      "c1=6859 -- c2=4210\n",
      "c1=6840 -- c2=4279\n",
      "c1=10012 -- c2=3508\n",
      "c1=6901 -- c2=4655\n",
      "c1=6857 -- c2=4210\n",
      "c1=6877 -- c2=3523\n",
      "c1=6852 -- c2=3533\n",
      "c1=6011 -- c2=4311\n",
      "c1=6861 -- c2=4210\n",
      "c1=6796 -- c2=2512\n",
      "c1=6879 -- c2=3523\n",
      "c1=10016 -- c2=3508\n",
      "c1=6894 -- c2=3523\n",
      "c1=6859 -- c2=3565\n",
      "c1=6860 -- c2=3564\n",
      "c1=5989 -- c2=4210\n",
      "c1=6807 -- c2=4888\n",
      "c1=6860 -- c2=4238\n",
      "c1=9065 -- c2=4691\n",
      "c1=10045 -- c2=3516\n",
      "c1=6776 -- c2=4653\n",
      "c1=6861 -- c2=3565\n",
      "c1=5985 -- c2=4279\n",
      "c1=10013 -- c2=3508\n",
      "c1=6795 -- c2=2500\n",
      "c1=6773 -- c2=2497\n",
      "c1=6894 -- c2=3580\n",
      "c1=10017 -- c2=3508\n",
      "c1=6860 -- c2=4878\n",
      "c1=9082 -- c2=4691\n",
      "c1=6855 -- c2=3533\n",
      "c1=6816 -- c2=3581\n",
      "c1=6776 -- c2=4655\n",
      "c1=6796 -- c2=2507\n",
      "c1=6859 -- c2=4207\n",
      "c1=6921 -- c2=3505\n",
      "c1=6894 -- c2=3582\n",
      "c1=6835 -- c2=4280\n",
      "c1=6860 -- c2=2128\n",
      "c1=6855 -- c2=3581\n",
      "c1=6010 -- c2=4310\n",
      "c1=6856 -- c2=3564\n",
      "c1=6779 -- c2=4653\n",
      "c1=6814 -- c2=4888\n",
      "c1=6874 -- c2=3533\n",
      "c1=5988 -- c2=4279\n",
      "c1=6857 -- c2=3581\n",
      "c1=10016 -- c2=3505\n",
      "c1=6858 -- c2=3564\n",
      "c1=6858 -- c2=4238\n",
      "c1=6838 -- c2=4262\n",
      "c1=6856 -- c2=4878\n",
      "c1=6806 -- c2=2534\n",
      "c1=6779 -- c2=4655\n",
      "c1=6857 -- c2=3565\n",
      "c1=6836 -- c2=4262\n",
      "c1=6839 -- c2=4279\n",
      "c1=10029 -- c2=3516\n",
      "c1=6859 -- c2=4211\n",
      "c1=10015 -- c2=3508\n",
      "c1=6858 -- c2=4878\n",
      "c1=10017 -- c2=3505\n",
      "c1=6918 -- c2=3516\n",
      "c1=6794 -- c2=2507\n",
      "c1=6897 -- c2=3523\n",
      "c1=6806 -- c2=4888\n",
      "c1=5992 -- c2=4210\n",
      "c1=6861 -- c2=4241\n",
      "c1=6895 -- c2=3523\n",
      "c1=6807 -- c2=4871\n",
      "c1=6860 -- c2=3565\n",
      "c1=10048 -- c2=3516\n",
      "c1=5991 -- c2=4211\n",
      "c1=6777 -- c2=4653\n",
      "c1=6897 -- c2=3580\n",
      "c1=6780 -- c2=4688\n",
      "c1=6835 -- c2=4279\n",
      "c1=6010 -- c2=4300\n",
      "c1=6855 -- c2=3580\n",
      "c1=6814 -- c2=4878\n",
      "c1=6011 -- c2=4310\n",
      "c1=6837 -- c2=4279\n",
      "c1=6874 -- c2=3523\n",
      "c1=6824 -- c2=4889\n",
      "c1=6897 -- c2=3582\n",
      "c1=9416 -- c2=4717\n",
      "c1=6836 -- c2=4280\n",
      "c1=6813 -- c2=4888\n",
      "c1=6859 -- c2=3564\n",
      "c1=6753 -- c2=2497\n",
      "c1=6857 -- c2=3564\n",
      "c1=6874 -- c2=3580\n",
      "c1=6860 -- c2=3581\n",
      "c1=5986 -- c2=4301\n",
      "c1=6861 -- c2=3564\n",
      "c1=5992 -- c2=4207\n",
      "c1=6861 -- c2=4238\n",
      "c1=6004 -- c2=4300\n",
      "c1=10014 -- c2=3508\n",
      "c1=6874 -- c2=3582\n",
      "c1=6774 -- c2=2497\n",
      "c1=6779 -- c2=4650\n",
      "c1=6861 -- c2=3566\n",
      "c1=6881 -- c2=3523\n",
      "------------  123\n",
      "c1=6777 -- c2=2497\n",
      "c1=6773 -- c2=2500\n",
      "c1=6776 -- c2=2497\n",
      "c1=6779 -- c2=2497\n",
      "------------  4\n",
      "c1=6859 -- c2=3533\n",
      "c1=6856 -- c2=3533\n",
      "c1=6857 -- c2=3533\n",
      "------------  3\n",
      "c1=6860 -- c2=4239\n",
      "c1=6861 -- c2=4239\n",
      "------------  2\n"
     ]
    }
   ],
   "source": [
    "for cluster in sorted(nx.connected_components(G), key = len, reverse = True):\n",
    "    for par in cluster:\n",
    "        c1 = trj_in.topology.atom(par[0]).serial\n",
    "        c2 = trj_in.topology.atom(par[1]).serial\n",
    "        print(f'{c1=} -- {c2=}')\n",
    "    print(\"------------ \", len(cluster))"
   ]
  },
  {
   "cell_type": "code",
   "execution_count": 347,
   "metadata": {},
   "outputs": [
    {
     "data": {
      "text/plain": [
       "array([[4649, 4652],\n",
       "       [4649, 4654],\n",
       "       [4649, 6766],\n",
       "       ...,\n",
       "       [3581, 3578],\n",
       "       [3581, 3579],\n",
       "       [3581, 3580]])"
      ]
     },
     "execution_count": 347,
     "metadata": {},
     "output_type": "execute_result"
    }
   ],
   "source": [
    "interacting_clusters"
   ]
  },
  {
   "cell_type": "code",
   "execution_count": null,
   "metadata": {},
   "outputs": [],
   "source": [
    "with open(\"tempo/clusters_hydrophobic.py\", \"w\") as fil:\n",
    "    fil.write(f'from pymol import cmd\\n\\n')\n",
    "    fil.write(f'cmd.load(\"{buried_fullab.iloc[4805].idcode}.pdb\")\\n')\n",
    "    fil.write(f'cmd.color(\"salmon\", \"chain G\")\\n')\n",
    "    fil.write(f'cmd.color(\"atomic\", \"(not elem C)\")\\n\\n')\n",
    "    for x in np.unique(buried_fullab.iloc[4805].epitope_residues):\n",
    "        fil.write(f'cmd.show(\"lines\", \"resi ' + str(x) + f' and chain G\")\\n')\n",
    "\n",
    "    for x in range(buried_fullab.iloc[4805].cdr_begin, buried_fullab.iloc[4805].cdr_end+1):\n",
    "        fil.write(f'cmd.show(\"lines\", \"resi ' + str(x) + f' and chain H\")\\n')\n",
    "\n",
    "    cdrH3_extra_residues = [''.join(tuple) for tuple in list(itertools.product([\"100\"], string.ascii_uppercase[0:12]))]\n",
    "    for x in cdrH3_extra_residues:\n",
    "        fil.write(f'cmd.show(\"lines\", \"resi ' + str(x) + f' and chain H\")\\n')\n",
    "\n",
    "    ##\n",
    "    # \n",
    "    ##\n",
    "\n",
    "    for n, cluster in enumerate(sorted(nx.connected_components(G), key = len, reverse = True)):\n",
    "        linea = f''\n",
    "        cluster_id = 'cluster_' + str(n+1)\n",
    "        fil.write(f'cmd.select(\"id ')\n",
    "        for par in cluster:\n",
    "            c1 = trj_in.topology.atom(par[0]).serial\n",
    "            c2 = trj_in.topology.atom(par[1]).serial\n",
    "            linea += f'{c1}+{c2}+'\n",
    "        fil.write(linea[0:-1])\n",
    "        fil.write(f'\")\\n')\n",
    "        fil.write(f'cmd.set_name(\"sele\", \"{cluster_id}\")\\n')"
   ]
  },
  {
   "cell_type": "markdown",
   "metadata": {},
   "source": [
    "# intento 3"
   ]
  },
  {
   "cell_type": "code",
   "execution_count": 432,
   "metadata": {},
   "outputs": [],
   "source": [
    "pdb_idcode = '4ydk'\n",
    "pdb_filename = Path.joinpath(casa_dir, \"tempo\", pdb_idcode + \".pdb\")\n",
    "trj_in = md.load(pdb_filename)\n",
    "serial_to_id = {}\n",
    "for atomo in trj_in.topology.atoms:\n",
    "    serial_to_id[atomo.serial] = atomo.index\n",
    "\n",
    "all_epitope_atoms = np.unique(list(itertools.chain(\n",
    "    *[ fila.epitope_atoms for index, fila in buried_fullab[buried_fullab.idcode == pdb_idcode].iterrows() ])))\n",
    "\n",
    "all_cdr_atoms = np.unique(list(itertools.chain(\n",
    "    *[ fila.cdr_atoms for index, fila in buried_fullab[buried_fullab.idcode == pdb_idcode].iterrows() ])))\n",
    "\n",
    "ids_C_epitope_atoms = []\n",
    "ids_ONS_epitope_atoms = []\n",
    "for id in all_epitope_atoms:\n",
    "    index = serial_to_id[id]\n",
    "    elemento = trj_in.topology.atom(index).element.symbol\n",
    "    if elemento == 'C':\n",
    "        ids_C_epitope_atoms.append(index)\n",
    "    elif elemento == 'O' or elemento == 'N' or elemento == 'S':\n",
    "        ids_ONS_epitope_atoms.append(index)\n",
    "\n",
    "ids_C_cdr_atoms = []\n",
    "ids_ONS_cdr_atoms = []\n",
    "for id in all_cdr_atoms:\n",
    "    index = serial_to_id[id]\n",
    "    elemento = trj_in.topology.atom(index).element.symbol\n",
    "    if elemento == 'C':\n",
    "        ids_C_cdr_atoms.append(index)\n",
    "    elif elemento == 'O' or elemento == 'N' or elemento == 'S':\n",
    "        ids_ONS_cdr_atoms.append(index)\n",
    "\n",
    "ids_ONS_atoms = ids_ONS_cdr_atoms + ids_ONS_epitope_atoms \n",
    "\n",
    "C_ONS_pairs = np.array(list(itertools.product(ids_C_cdr_atoms, ids_ONS_atoms)))\n",
    "C_C_pairs = np.array(list(itertools.product(ids_C_cdr_atoms, ids_C_epitope_atoms)))\n",
    "\n",
    "C_ONS_distancias = md.compute_distances(trj_in, C_ONS_pairs).reshape((len(ids_C_cdr_atoms),\n",
    "    len(ids_ONS_atoms)))\n",
    "\n",
    "C_C_distancias = md.compute_distances(trj_in, C_C_pairs).reshape((len(ids_C_cdr_atoms),\n",
    "    len(ids_C_epitope_atoms)))\n",
    "\n",
    "cutoff = 0.5"
   ]
  },
  {
   "cell_type": "code",
   "execution_count": 433,
   "metadata": {},
   "outputs": [],
   "source": [
    "indices_close_C_C_distancias = np.where(C_C_distancias < cutoff)\n",
    "mask_close_C_ONS_distancias = C_ONS_distancias < cutoff\n",
    "interacting_carbons = []\n",
    "interacting_carbons_tuples = []\n",
    "xyz_centers = []\n",
    "shielding_atoms_serial = {}\n",
    "G = nx.Graph()\n",
    "\n",
    "for i, j in zip(*indices_close_C_C_distancias):\n",
    "    C_cdr_id = ids_C_cdr_atoms[i]\n",
    "    C_epi_id = ids_C_epitope_atoms[j]\n",
    "    surrounding_ONS_ids = [ids_ONS_atoms[i] for i in np.where(mask_close_C_ONS_distancias[i, :])[0] ]\n",
    "    \n",
    "    shielded, ONS_id = is_shielded(trj_in.xyz[0], C_cdr_id, C_epi_id, surrounding_ONS_ids)\n",
    "\n",
    "    C1 = trj_in.topology.atom(C_cdr_id).serial\n",
    "    C2 = trj_in.topology.atom(C_epi_id).serial\n",
    "    ONS = trj_in.topology.atom(ONS_id).serial\n",
    "    if shielded:\n",
    "        shielding_atoms_serial[i] = trj_in.topology.atom(ONS_id).serial\n",
    "        # print(f'shielded: {C1=}  --  {C2=} -- {ONS=}')\n",
    "    else:\n",
    "        G.add_edge(C_cdr_id, C_epi_id)\n",
    "        interacting_carbons.append(C_cdr_id)\n",
    "        interacting_carbons.append(C_epi_id)\n",
    "        interacting_carbons_tuples.append((C_cdr_id, C_epi_id))\n",
    "        xyz_centers.append(trj_in.xyz[0][C_epi_id, :] - trj_in.xyz[0][C_cdr_id, :])\n",
    "        # print(f'hydro: {C1=}  --  {C2=} -- {ONS=}')\n",
    "interacting_carbons = list(set(interacting_carbons))"
   ]
  },
  {
   "cell_type": "code",
   "execution_count": 475,
   "metadata": {},
   "outputs": [],
   "source": [
    "with open(\"tempo/clusters_hydrophobic.py\", \"w\") as fil:\n",
    "    fil.write(f'from pymol import cmd\\n\\n')\n",
    "    fil.write(f'cmd.load(\"{buried_fullab.iloc[4805].idcode}.pdb\")\\n')\n",
    "    fil.write(f'cmd.color(\"salmon\", \"chain G\")\\n')\n",
    "    fil.write(f'cmd.color(\"atomic\", \"(not elem C)\")\\n\\n')\n",
    "\n",
    "    # Show epitope residues as lines\n",
    "    epitope_residues = np.unique(list(itertools.chain(\n",
    "    *[ fila.epitope_residues for index, fila in buried_fullab[buried_fullab.idcode == pdb_idcode].iterrows() ])))\n",
    "    for x in epitope_residues:\n",
    "        fil.write(f'cmd.show(\"lines\", \"resi ' + str(x) + f' and chain G\")\\n')\n",
    "\n",
    "    # Show CDR residues as lines\n",
    "    cdr_H_residues = np.unique(list(itertools.chain(\n",
    "        *[ list(range(fila.cdr_begin, fila.cdr_end+1))\n",
    "        for index, fila in buried_fullab[(buried_fullab.idcode == pdb_idcode) & (buried_fullab.chainID == 'H')].iterrows() ])))\n",
    "    for x in cdr_H_residues:\n",
    "        fil.write(f'cmd.show(\"lines\", \"resi ' + str(x) + f' and chain H\")\\n')\n",
    "    \n",
    "    # CD3 has several residues numbered '100 + letter'\n",
    "    cdrH3_extra_residues = [''.join(tuple) for tuple in list(itertools.product([\"100\"], string.ascii_uppercase[0:12]))]\n",
    "    for x in cdrH3_extra_residues:\n",
    "        fil.write(f'cmd.show(\"lines\", \"resi ' + str(x) + f' and chain H\")\\n')\n",
    "    \n",
    "    cdr_L_residues = np.unique(list(itertools.chain(\n",
    "        *[ list(range(fila.cdr_begin, fila.cdr_end+1))\\\n",
    "        for index, fila in buried_fullab[(buried_fullab.idcode == pdb_idcode) & (buried_fullab.chainID == 'L')].iterrows() ])))\n",
    "    for x in cdr_L_residues:\n",
    "        fil.write(f'cmd.show(\"lines\", \"resi ' + str(x) + f' and chain L\")\\n')\n",
    "\n",
    "    ##\n",
    "    # \n",
    "    ##\n",
    "\n",
    "    for n, cluster in enumerate(sorted(nx.connected_components(G), key = len, reverse = True)):\n",
    "        linea = f''\n",
    "        cluster_id = 'cluster_' + str(n+1)\n",
    "        fil.write(f'cmd.select(\"id ')\n",
    "        for c in cluster:\n",
    "            c_serial = trj_in.topology.atom(c).serial\n",
    "            linea += f'{c_serial}+'\n",
    "        fil.write(linea[0:-1])\n",
    "        fil.write(f'\")\\n')\n",
    "        fil.write(f'cmd.set_name(\"sele\", \"{cluster_id}\")\\n')\n",
    "        fil.write(f'cmd.show(\"spheres\", \"{cluster_id}\")\\n')\n",
    "        color = \"%06x\" % random.randint(0, 0xFFFFFF)\n",
    "        fil.write(f'cmd.color(\"0x{color}\", \"{cluster_id}\")\\n')"
   ]
  },
  {
   "cell_type": "code",
   "execution_count": 473,
   "metadata": {},
   "outputs": [],
   "source": [
    "cdr_L_residues = np.unique(list(itertools.chain(\n",
    "        *[ list(range(fila.cdr_begin, fila.cdr_end+1)) for index, fila in buried_fullab[(buried_fullab.idcode == pdb_idcode) & (buried_fullab.chainID == 'K')].iterrows() ])))"
   ]
  },
  {
   "cell_type": "code",
   "execution_count": 474,
   "metadata": {},
   "outputs": [
    {
     "data": {
      "text/plain": [
       "array([], dtype=float64)"
      ]
     },
     "execution_count": 474,
     "metadata": {},
     "output_type": "execute_result"
    }
   ],
   "source": [
    "cdr_L_residues"
   ]
  },
  {
   "cell_type": "code",
   "execution_count": 453,
   "metadata": {},
   "outputs": [
    {
     "data": {
      "text/plain": [
       "array([ 24,  25,  26,  27,  28,  29,  30,  31,  32,  33,  34,  50,  51,\n",
       "        52,  53,  54,  55,  56,  89,  90,  91,  92,  93,  94,  95,  96,\n",
       "        97,  98,  99, 100, 101, 102])"
      ]
     },
     "execution_count": 453,
     "metadata": {},
     "output_type": "execute_result"
    }
   ],
   "source": [
    "np.unique(list(itertools.chain(*[ list(range(fila.cdr_begin, fila.cdr_end+1)) for index, fila in buried_fullab[buried_fullab.idcode == pdb_idcode].iterrows() ])))"
   ]
  },
  {
   "cell_type": "code",
   "execution_count": 443,
   "metadata": {},
   "outputs": [
    {
     "data": {
      "text/plain": [
       "[95, 96, 97, 98, 99, 100, 101, 102]"
      ]
     },
     "execution_count": 443,
     "metadata": {},
     "output_type": "execute_result"
    }
   ],
   "source": [
    "list(range(buried_fullab.iloc[4805].cdr_begin, buried_fullab.iloc[4805].cdr_end+1))"
   ]
  },
  {
   "cell_type": "markdown",
   "metadata": {},
   "source": [
    "# intento 4\n",
    "##### igual q el 3, pero busca reducir el número de clusters, juntando aquellos q tengan carbonos de la misma proteína (Ab o Ag) y sean cercanos entre sí"
   ]
  },
  {
   "cell_type": "code",
   "execution_count": null,
   "metadata": {},
   "outputs": [],
   "source": [
    "get_ids_CONS(topologia, buried_fullab, pdb_idcode)"
   ]
  },
  {
   "cell_type": "code",
   "execution_count": 9,
   "metadata": {},
   "outputs": [],
   "source": [
    "pdb_idcode = '4ydk'\n",
    "pdb_filename = Path.joinpath(casa_dir, \"tempo\", pdb_idcode + \".pdb\")\n",
    "trj_in = md.load(pdb_filename)\n",
    "\n",
    "serial_to_id = {}\n",
    "for atomo in trj_in.topology.atoms:\n",
    "    serial_to_id[atomo.serial] = atomo.index\n",
    "\n",
    "all_epitope_atoms = np.unique(list(itertools.chain(\n",
    "    *[ fila.epitope_atoms for index, fila in buried_fullab[buried_fullab.idcode == pdb_idcode].iterrows() ])))\n",
    "\n",
    "all_cdr_atoms = np.unique(list(itertools.chain(\n",
    "    *[ fila.cdr_atoms for index, fila in buried_fullab[buried_fullab.idcode == pdb_idcode].iterrows() ])))\n",
    "\n",
    "ids_C_epitope_atoms = []\n",
    "ids_ONS_epitope_atoms = []\n",
    "for id in all_epitope_atoms:\n",
    "    index = serial_to_id[id]\n",
    "    elemento = trj_in.topology.atom(index).element.symbol\n",
    "    if elemento == 'C':\n",
    "        ids_C_epitope_atoms.append(index)\n",
    "    elif elemento == 'O' or elemento == 'N' or elemento == 'S':\n",
    "        ids_ONS_epitope_atoms.append(index)\n",
    "\n",
    "ids_C_cdr_atoms = []\n",
    "ids_ONS_cdr_atoms = []\n",
    "for id in all_cdr_atoms:\n",
    "    index = serial_to_id[id]\n",
    "    elemento = trj_in.topology.atom(index).element.symbol\n",
    "    if elemento == 'C':\n",
    "        ids_C_cdr_atoms.append(index)\n",
    "    elif elemento == 'O' or elemento == 'N' or elemento == 'S':\n",
    "        ids_ONS_cdr_atoms.append(index)\n",
    "\n",
    "ids_ONS_atoms = ids_ONS_cdr_atoms + ids_ONS_epitope_atoms \n",
    "\n",
    "C_ONS_pairs = np.array(list(itertools.product(ids_C_cdr_atoms, ids_ONS_atoms)))\n",
    "C_C_pairs = np.array(list(itertools.product(ids_C_cdr_atoms, ids_C_epitope_atoms)))\n",
    "\n",
    "C_ONS_distancias = md.compute_distances(trj_in, C_ONS_pairs).reshape((len(ids_C_cdr_atoms),\n",
    "    len(ids_ONS_atoms)))\n",
    "\n",
    "C_C_distancias = md.compute_distances(trj_in, C_C_pairs).reshape((len(ids_C_cdr_atoms),\n",
    "    len(ids_C_epitope_atoms)))\n",
    "\n",
    "cutoff = 0.5"
   ]
  },
  {
   "cell_type": "code",
   "execution_count": 12,
   "metadata": {},
   "outputs": [],
   "source": [
    "indices_close_C_C_distancias = np.where(C_C_distancias < cutoff)\n",
    "mask_close_C_ONS_distancias = C_ONS_distancias < cutoff\n",
    "G = nx.Graph()\n",
    "shielding_atoms_serial = {}\n",
    "\n",
    "for i, j in zip(*indices_close_C_C_distancias):\n",
    "    C_cdr_id = ids_C_cdr_atoms[i]\n",
    "    C_epi_id = ids_C_epitope_atoms[j]\n",
    "    surrounding_ONS_ids = [ids_ONS_atoms[i] for i in np.where(mask_close_C_ONS_distancias[i, :])[0] ]\n",
    "    \n",
    "    shielded, ONS_id = is_shielded(trj_in.xyz[0], C_cdr_id, C_epi_id, surrounding_ONS_ids)\n",
    "\n",
    "    C1 = trj_in.topology.atom(C_cdr_id).serial\n",
    "    C2 = trj_in.topology.atom(C_epi_id).serial\n",
    "    ONS = trj_in.topology.atom(ONS_id).serial\n",
    "    if shielded:\n",
    "        shielding_atoms_serial[i] = trj_in.topology.atom(ONS_id).serial\n",
    "    else:\n",
    "        G.add_edge(C_cdr_id, C_epi_id)"
   ]
  },
  {
   "cell_type": "code",
   "execution_count": 13,
   "metadata": {},
   "outputs": [],
   "source": [
    "cutoff_clusters = .2\n",
    "pre_clusteres = []\n",
    "for cluster in sorted(nx.connected_components(G), key = len, reverse = True):\n",
    "    pre_clusteres.append(cluster)"
   ]
  },
  {
   "cell_type": "code",
   "execution_count": 14,
   "metadata": {},
   "outputs": [],
   "source": [
    "def clusters_are_close(cluster_1, cluster_2, cutoff_clusters):\n",
    "    for carbon in cluster_1:\n",
    "        close_clusters = np.any(md.compute_distances(trj_in,\n",
    "            list(itertools.product([carbon], list(cluster_2)))) < cutoff_clusters)\n",
    "        if close_clusters:\n",
    "            # return  (cluster_1 + cluster_2)\n",
    "            return True\n",
    "    # return cluster_1\n",
    "    return False"
   ]
  },
  {
   "cell_type": "code",
   "execution_count": 16,
   "metadata": {},
   "outputs": [],
   "source": [
    "H = nx.Graph()\n",
    "for i, clu_i in enumerate(pre_clusteres):\n",
    "    for j in range(i+1, len(pre_clusteres)):\n",
    "        if clusters_are_close(clu_i, pre_clusteres[j], cutoff_clusters):\n",
    "            H.add_edge(i, j)\n",
    "        "
   ]
  },
  {
   "cell_type": "code",
   "execution_count": 17,
   "metadata": {},
   "outputs": [
    {
     "name": "stdout",
     "output_type": "stream",
     "text": [
      "connected_clusters={0, 3, 7}\n",
      "connected_clusters={2, 4}\n",
      "connected_clusters={8, 5}\n"
     ]
    }
   ],
   "source": [
    "clusteres = []\n",
    "\n",
    "for connected_clusters in sorted(nx.connected_components(H), key = len, reverse = True):\n",
    "    new_cluster = []\n",
    "    for i in connected_clusters:\n",
    "        # print(f'{type(i)}, -- {type(pre_clusteres[i])}')\n",
    "        new_cluster.extend(pre_clusteres[i])\n",
    "    print(f'{connected_clusters=}')\n",
    "    clusteres.append(new_cluster)"
   ]
  },
  {
   "cell_type": "code",
   "execution_count": 18,
   "metadata": {},
   "outputs": [],
   "source": [
    "with open(\"tempo/clusters_hydrophobic.py\", \"w\") as fil:\n",
    "    fil.write(f'from pymol import cmd\\n\\n')\n",
    "    fil.write(f'cmd.load(\"{buried_fullab.iloc[4805].idcode}.pdb\")\\n')\n",
    "    fil.write(f'cmd.color(\"salmon\", \"chain G\")\\n')\n",
    "    fil.write(f'cmd.color(\"atomic\", \"(not elem C)\")\\n\\n')\n",
    "\n",
    "    # Show epitope residues as lines\n",
    "    epitope_residues = np.unique(list(itertools.chain(\n",
    "    *[ fila.epitope_residues for index, fila in buried_fullab[buried_fullab.idcode == pdb_idcode].iterrows() ])))\n",
    "    for x in epitope_residues:\n",
    "        fil.write(f'cmd.show(\"lines\", \"resi ' + str(x) + f' and chain G\")\\n')\n",
    "\n",
    "    # Show CDR residues as lines\n",
    "    cdr_H_residues = np.unique(list(itertools.chain(\n",
    "        *[ list(range(fila.cdr_begin, fila.cdr_end+1)) for index, fila in buried_fullab[(buried_fullab.idcode == pdb_idcode) & (buried_fullab.chainID == 'H')].iterrows() ])))\n",
    "    for x in cdr_H_residues:\n",
    "        fil.write(f'cmd.show(\"lines\", \"resi ' + str(x) + f' and chain H\")\\n')\n",
    "    # CD3 has several residues numbered '100 + letter'\n",
    "    cdrH3_extra_residues = [''.join(tuple) for tuple in list(itertools.product([\"100\"], string.ascii_uppercase[0:12]))]\n",
    "    for x in cdrH3_extra_residues:\n",
    "        fil.write(f'cmd.show(\"lines\", \"resi ' + str(x) + f' and chain H\")\\n')\n",
    "    \n",
    "    cdr_L_residues = np.unique(list(itertools.chain(\n",
    "        *[ list(range(fila.cdr_begin, fila.cdr_end+1)) for index, fila in buried_fullab[(buried_fullab.idcode == pdb_idcode) & (buried_fullab.chainID == 'L')].iterrows() ])))\n",
    "    for x in cdr_L_residues:\n",
    "        fil.write(f'cmd.show(\"lines\", \"resi ' + str(x) + f' and chain L\")\\n')\n",
    "\n",
    "    ##\n",
    "    # \n",
    "    ##\n",
    "\n",
    "    for n, cluster in enumerate(clusteres):\n",
    "        linea = f''\n",
    "        cluster_id = 'cluster_' + str(n+1)\n",
    "        fil.write(f'cmd.select(\"id ')\n",
    "        for c in cluster:\n",
    "            c_serial = trj_in.topology.atom(c).serial\n",
    "            linea += f'{c_serial}+'\n",
    "        fil.write(linea[0:-1])\n",
    "        fil.write(f'\")\\n')\n",
    "        fil.write(f'cmd.set_name(\"sele\", \"{cluster_id}\")\\n')\n",
    "        fil.write(f'cmd.show(\"spheres\", \"{cluster_id}\")\\n')\n",
    "        color = \"%06x\" % random.randint(0, 0xFFFFFF)\n",
    "        fil.write(f'cmd.color(\"0x{color}\", \"{cluster_id}\")\\n')"
   ]
  },
  {
   "cell_type": "code",
   "execution_count": 684,
   "metadata": {},
   "outputs": [
    {
     "data": {
      "text/plain": [
       "2"
      ]
     },
     "execution_count": 684,
     "metadata": {},
     "output_type": "execute_result"
    }
   ],
   "source": [
    "len(pre_clusteres[8])"
   ]
  },
  {
   "cell_type": "code",
   "execution_count": null,
   "metadata": {},
   "outputs": [],
   "source": []
  },
  {
   "cell_type": "code",
   "execution_count": null,
   "metadata": {},
   "outputs": [],
   "source": []
  },
  {
   "cell_type": "code",
   "execution_count": null,
   "metadata": {},
   "outputs": [],
   "source": []
  },
  {
   "cell_type": "markdown",
   "metadata": {},
   "source": [
    "# intento 5"
   ]
  },
  {
   "cell_type": "raw",
   "metadata": {},
   "source": [
    "pdb_idcode = '4ydk'\n",
    "pdb_filename = Path.joinpath(casa_dir, \"tempo\", pdb_idcode + \".pdb\")\n",
    "trj_in = md.load(pdb_filename)\n",
    "serial_to_id = {}\n",
    "for atomo in trj_in.topology.atoms:\n",
    "    serial_to_id[atomo.serial] = atomo.index\n",
    "\n",
    "all_epitope_atoms = np.unique(list(itertools.chain(\n",
    "    *[ fila.epitope_atoms for index, fila in buried_fullab[buried_fullab.idcode == pdb_idcode].iterrows() ])))\n",
    "\n",
    "all_cdr_atoms = np.unique(list(itertools.chain(\n",
    "    *[ fila.cdr_atoms for index, fila in buried_fullab[buried_fullab.idcode == pdb_idcode].iterrows() ])))\n",
    "\n",
    "ids_C_atoms = []\n",
    "ids_ONS_atoms = []\n",
    "for id in np.append(all_cdr_atoms, all_epitope_atoms):\n",
    "    index = serial_to_id[id]\n",
    "    elemento = trj_in.topology.atom(index).element.symbol\n",
    "    if elemento == 'C':\n",
    "        ids_C_atoms.append(index)\n",
    "    elif elemento == 'O' or elemento == 'N' or elemento == 'S':\n",
    "        ids_ONS_atoms.append(index)\n",
    "\n",
    "\n",
    "C_ONS_pairs = np.array(list(itertools.product(ids_C_atoms, ids_ONS_atoms)))\n",
    "\n",
    "C_C_pairs = np.array(list(itertools.product(ids_C_atoms, ids_C_atoms)))\n",
    "C_C_pairs = [ par for par in C_C_pairs if par[0] != par[1]]\n",
    "\n",
    "C_ONS_distancias = md.compute_distances(trj_in, C_ONS_pairs).reshape((len(ids_C_atoms),\n",
    "    len(ids_ONS_atoms)))\n",
    "\n",
    "C_C_distancias = md.compute_distances(trj_in, C_C_pairs).reshape((len(ids_C_atoms),\n",
    "    len(ids_C_atoms)-1))\n",
    "\n",
    "cutoff = 0.5"
   ]
  },
  {
   "cell_type": "raw",
   "metadata": {},
   "source": [
    "indices_close_C_C_distancias = np.where(C_C_distancias < cutoff)\n",
    "mask_close_C_ONS_distancias = C_ONS_distancias < cutoff\n",
    "interacting_carbons = []\n",
    "interacting_carbons_tuples = []\n",
    "xyz_centers = []\n",
    "shielding_atoms_serial = {}\n",
    "G = nx.Graph()\n",
    "\n",
    "for i, j in zip(*indices_close_C_C_distancias):\n",
    "    C_cdr_id = ids_C_atoms[i]\n",
    "    C_epi_id = ids_C_atoms[j]\n",
    "    surrounding_ONS_ids = [ids_ONS_atoms[i] for i in np.where(mask_close_C_ONS_distancias[i, :])[0] ]\n",
    "    \n",
    "    shielded, ONS_id = is_shielded(trj_in.xyz[0], C_cdr_id, C_epi_id, surrounding_ONS_ids)\n",
    "\n",
    "    C1 = trj_in.topology.atom(C_cdr_id).serial\n",
    "    C2 = trj_in.topology.atom(C_epi_id).serial\n",
    "    ONS = trj_in.topology.atom(ONS_id).serial\n",
    "    if shielded:\n",
    "        shielding_atoms_serial[i] = trj_in.topology.atom(ONS_id).serial\n",
    "        # print(f'shielded: {C1=}  --  {C2=} -- {ONS=}')\n",
    "    else:\n",
    "        G.add_edge(C_cdr_id, C_epi_id)\n",
    "        interacting_carbons.append(C_cdr_id)\n",
    "        interacting_carbons.append(C_epi_id)\n",
    "        interacting_carbons_tuples.append((C_cdr_id, C_epi_id))\n",
    "        xyz_centers.append(trj_in.xyz[0][C_epi_id, :] - trj_in.xyz[0][C_cdr_id, :])\n",
    "        # print(f'hydro: {C1=}  --  {C2=} -- {ONS=}')\n",
    "interacting_carbons = list(set(interacting_carbons))"
   ]
  },
  {
   "cell_type": "raw",
   "metadata": {},
   "source": [
    "with open(\"tempo/clusters_hydrophobic.py\", \"w\") as fil:\n",
    "    fil.write(f'from pymol import cmd\\n\\n')\n",
    "    fil.write(f'cmd.load(\"{buried_fullab.iloc[4805].idcode}.pdb\")\\n')\n",
    "    fil.write(f'cmd.color(\"salmon\", \"chain G\")\\n')\n",
    "    fil.write(f'cmd.color(\"atomic\", \"(not elem C)\")\\n\\n')\n",
    "    for x in np.unique(buried_fullab.iloc[4805].epitope_residues):\n",
    "        fil.write(f'cmd.show(\"lines\", \"resi ' + str(x) + f' and chain G\")\\n')\n",
    "\n",
    "    for x in range(buried_fullab.iloc[4805].cdr_begin, buried_fullab.iloc[4805].cdr_end+1):\n",
    "        fil.write(f'cmd.show(\"lines\", \"resi ' + str(x) + f' and chain H\")\\n')\n",
    "\n",
    "    cdrH3_extra_residues = [''.join(tuple) for tuple in list(itertools.product([\"100\"], string.ascii_uppercase[0:12]))]\n",
    "    for x in cdrH3_extra_residues:\n",
    "        fil.write(f'cmd.show(\"lines\", \"resi ' + str(x) + f' and chain H\")\\n')\n",
    "\n",
    "    ##\n",
    "    # \n",
    "    ##\n",
    "\n",
    "    for n, cluster in enumerate(sorted(nx.connected_components(G), key = len, reverse = True)):\n",
    "        linea = f''\n",
    "        cluster_id = 'cluster_' + str(n+1)\n",
    "        fil.write(f'cmd.select(\"id ')\n",
    "        for c in cluster:\n",
    "            c_serial = trj_in.topology.atom(c).serial\n",
    "            linea += f'{c_serial}+'\n",
    "        fil.write(linea[0:-1])\n",
    "        fil.write(f'\")\\n')\n",
    "        fil.write(f'cmd.set_name(\"sele\", \"{cluster_id}\")\\n')"
   ]
  },
  {
   "cell_type": "markdown",
   "metadata": {},
   "source": [
    "---"
   ]
  },
  {
   "cell_type": "code",
   "execution_count": 128,
   "metadata": {},
   "outputs": [],
   "source": [
    "with open(\"tempo/shielded.py\", \"w\") as fil:\n",
    "    fil.write(f'from pymol import cmd\\n\\n')\n",
    "    fil.write(f'cmd.load(\"{buried_fullab.iloc[4805].idcode}.pdb\")\\n')\n",
    "    fil.write(f'cmd.color(\"salmon\", \"chain G\")\\n')\n",
    "    fil.write(f'cmd.color(\"atomic\", \"(not elem C)\")\\n\\n')\n",
    "    for x in np.unique(buried_fullab.iloc[4805].epitope_residues):\n",
    "        fil.write(f'cmd.show(\"lines\", \"resi ' + str(x) + f' and chain G\")\\n')\n",
    "\n",
    "    for x in range(buried_fullab.iloc[4805].cdr_begin, buried_fullab.iloc[4805].cdr_end+1):\n",
    "        fil.write(f'cmd.show(\"lines\", \"resi ' + str(x) + f' and chain H\")\\n')\n",
    "\n",
    "    cdrH3_extra_residues = [''.join(tuple) for tuple in list(itertools.product([\"100\"], string.ascii_uppercase[0:12]))]\n",
    "    for x in cdrH3_extra_residues:\n",
    "        fil.write(f'cmd.show(\"lines\", \"resi ' + str(x) + f' and chain H\")\\n')\n",
    "\n",
    "with open(\"tempo/hydro.py\", \"w\") as fil:\n",
    "    fil.write(f'from pymol import cmd\\n\\n')\n",
    "    fil.write(f'cmd.load(\"{buried_fullab.iloc[4805].idcode}.pdb\")\\n')\n",
    "    fil.write(f'cmd.color(\"salmon\", \"chain G\")\\n')\n",
    "    fil.write(f'cmd.color(\"atomic\", \"(not elem C)\")\\n\\n')\n",
    "\n",
    "    for x in np.unique(buried_fullab.iloc[4805].epitope_residues):\n",
    "        fil.write(f'cmd.show(\"lines\", \"resi ' + str(x) + f' and chain G\")\\n')\n",
    "\n",
    "    for x in range(buried_fullab.iloc[4805].cdr_begin, buried_fullab.iloc[4805].cdr_end+1):\n",
    "        fil.write(f'cmd.show(\"lines\", \"resi ' + str(x) + f' and chain H\")\\n')\n",
    "\n",
    "    cdrH3_extra_residues = [''.join(tuple) for tuple in list(itertools.product([\"100\"], string.ascii_uppercase[0:12]))]\n",
    "    for x in cdrH3_extra_residues:\n",
    "        fil.write(f'cmd.show(\"lines\", \"resi ' + str(x) + f' and chain H\")\\n')\n",
    "\n"
   ]
  },
  {
   "cell_type": "code",
   "execution_count": 129,
   "metadata": {},
   "outputs": [],
   "source": [
    "with open(\"tempo/shielded.py\", \"a\") as fil:\n",
    "    for i, j in zip(*np.where(C_C_distancias < cutoff)):\n",
    "        C_cdr_id = ids_C_cdr_atoms[i]\n",
    "        C_epi_id = ids_C_epitope_atoms[j]\n",
    "        surrounding_ONS_ids = [ids_ONS_atoms[i] for i in np.where(C_ONS_distancias[i, :] < cutoff)[0]]\n",
    "        \n",
    "        shielded, ONS_id = is_shielded(trj_in.xyz[0], C_cdr_id, C_epi_id, surrounding_ONS_ids)\n",
    "\n",
    "        C1 = trj_in.topology.atom(C_cdr_id).serial\n",
    "        C2 = trj_in.topology.atom(C_epi_id).serial\n",
    "        ONS = trj_in.topology.atom(ONS_id).serial\n",
    "        if shielded:\n",
    "            fil.write(f'cmd.show(\"spheres\", \"id {C1}+{C2}+{ONS}\")\\n')\n",
    "\n",
    "with open(\"tempo/hydro.py\", \"a\") as fil:\n",
    "    for i, j in zip(*np.where(C_C_distancias < cutoff)):\n",
    "        C_cdr_id = ids_C_cdr_atoms[i]\n",
    "        C_epi_id = ids_C_epitope_atoms[j]\n",
    "        surrounding_ONS_ids = [ids_ONS_atoms[i] for i in np.where(C_ONS_distancias[i, :] < cutoff)[0]]\n",
    "        \n",
    "        shielded, ONS_id = is_shielded(trj_in.xyz[0], C_cdr_id, C_epi_id, surrounding_ONS_ids)\n",
    "\n",
    "        C1 = trj_in.topology.atom(C_cdr_id).serial\n",
    "        C2 = trj_in.topology.atom(C_epi_id).serial\n",
    "        ONS = trj_in.topology.atom(ONS_id).serial\n",
    "        if not shielded:\n",
    "            fil.write(f'cmd.show(\"spheres\", \"id {C1}+{C2}\")\\n')"
   ]
  },
  {
   "cell_type": "code",
   "execution_count": 1,
   "metadata": {},
   "outputs": [
    {
     "ename": "NameError",
     "evalue": "name 'buried_fullab' is not defined",
     "output_type": "error",
     "traceback": [
      "\u001b[0;31m---------------------------------------------------------------------------\u001b[0m",
      "\u001b[0;31mNameError\u001b[0m                                 Traceback (most recent call last)",
      "Input \u001b[0;32mIn [1]\u001b[0m, in \u001b[0;36m<module>\u001b[0;34m\u001b[0m\n\u001b[0;32m----> 1\u001b[0m \u001b[43mburied_fullab\u001b[49m\u001b[38;5;241m.\u001b[39mquery(\u001b[38;5;124mf\u001b[39m\u001b[38;5;124m\"\u001b[39m\u001b[38;5;124midcode == \u001b[39m\u001b[38;5;124m'\u001b[39m\u001b[38;5;124m4ydk\u001b[39m\u001b[38;5;124m'\u001b[39m\u001b[38;5;124m\"\u001b[39m)\n",
      "\u001b[0;31mNameError\u001b[0m: name 'buried_fullab' is not defined"
     ]
    }
   ],
   "source": [
    "buried_fullab.query(f\"idcode == '4ydk'\")"
   ]
  }
 ],
 "metadata": {
  "interpreter": {
   "hash": "da8fd8003fa7881fd3d1dfe79c70613932e492e67d4c5966313dca1ae8559ecf"
  },
  "kernelspec": {
   "display_name": "Python 3.8.12 64-bit ('base': conda)",
   "language": "python",
   "name": "python3"
  },
  "language_info": {
   "codemirror_mode": {
    "name": "ipython",
    "version": 3
   },
   "file_extension": ".py",
   "mimetype": "text/x-python",
   "name": "python",
   "nbconvert_exporter": "python",
   "pygments_lexer": "ipython3",
   "version": "3.10.2"
  },
  "orig_nbformat": 4
 },
 "nbformat": 4,
 "nbformat_minor": 2
}
