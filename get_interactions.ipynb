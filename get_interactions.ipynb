{
 "cells": [
  {
   "cell_type": "code",
   "execution_count": 14,
   "metadata": {},
   "outputs": [],
   "source": [
    "import sys, os\n",
    "from pathlib import Path\n",
    "import itertools\n",
    "import pandas as pd\n",
    "import mdtraj as md\n",
    "import networkx as nx\n",
    "from collections import namedtuple\n",
    "PiPiPair = namedtuple('PiPiPair', ['antibody', 'antigen'])\n",
    "\n",
    "source_location = Path().resolve()\n",
    "sys.path.append(source_location)\n",
    "from scripts.utils import get_sabdab_details\n",
    "\n",
    "from scripts.abag_interactions_hydrophobic import *\n",
    "from scripts.abag_interactions_rings import *\n",
    "\n",
    "casa_dir = Path(\"/home/pbarletta/labo/22/AbAgInterface\")\n",
    "str_dir = Path.joinpath(casa_dir, \"structures/raw\")"
   ]
  },
  {
   "cell_type": "code",
   "execution_count": 2,
   "metadata": {},
   "outputs": [
    {
     "name": "stdout",
     "output_type": "stream",
     "text": [
      "SabDab protein antigen:\n",
      "1154 proteins out of 2017, 57.2%\n",
      "All: 1154\n",
      "No Hchain: 0\n",
      "No Lchain: 0\n",
      "Both chains: 1154\n",
      "Buried surfaces of 2492 proteins\n",
      "with both chains: 867\n"
     ]
    }
   ],
   "source": [
    "df_sabdab_all = pd.read_csv(Path.joinpath(source_location,\n",
    "    'structures/sabdab_summary_all.tsv'), sep=\"\\t\")\n",
    "df_sabdab_90 = pd.read_csv(Path.joinpath(source_location,\n",
    "    'structures/sabdab_summary_90.tsv'), sep=\"\\t\")\n",
    "\n",
    "df_buried = pd.read_pickle(Path.joinpath(source_location,\n",
    "    'data/epitope_buried.pickle'))\n",
    "\n",
    "df_interactions = pd.read_pickle(Path.joinpath(source_location,\n",
    "    'data/interactions.pickle'))\n",
    "\n",
    "protein_antigens = df_sabdab_90.query(\"antigen_type == antigen_type and antigen_type.str.contains('protein')\", engine = 'python').drop_duplicates()\n",
    "ab_protein_antigens = set(protein_antigens.pdb.values)\n",
    "all_saddab_proteins = set(df_sabdab_90.pdb.values)\n",
    "print(\n",
    "    f\"SabDab protein antigen:\\n\"\n",
    "    f\"{len(ab_protein_antigens)} proteins out of {len(all_saddab_proteins)}, \"\n",
    "    f\"{round(len(ab_protein_antigens) / len(all_saddab_proteins) * 100, 1)}%\"\n",
    ")    \n",
    "\n",
    "ab_both_chains = set(protein_antigens.query(\"Hchain == Hchain and Lchain == Lchain\").pdb.values)\n",
    "ab_single_H_chain = set(protein_antigens.query(\"Hchain == Hchain\").pdb.values)\n",
    "ab_single_L_chain = set(protein_antigens.query(\"Lchain == Lchain\").pdb.values)\n",
    "\n",
    "n_ab_no_Hchain = len(ab_protein_antigens) - len(ab_single_H_chain)\n",
    "n_ab_no_Lchain = len(ab_protein_antigens) - len(ab_single_L_chain)\n",
    "\n",
    "print(f\"All: {len(ab_protein_antigens)}\\nNo Hchain: {n_ab_no_Hchain}\\nNo Lchain: {n_ab_no_Lchain}\\nBoth chains: {len(ab_both_chains)}\")\n",
    "\n",
    "buried_fullab = df_buried[df_buried.idcode.isin(ab_both_chains)]\n",
    "print(\n",
    "    f\"Buried surfaces of {len(set(df_buried.idcode.values))} proteins\\n\"\n",
    "    f\"with both chains: {len(set(buried_fullab.idcode.values))}\"\n",
    ")"
   ]
  },
  {
   "cell_type": "markdown",
   "metadata": {},
   "source": [
    "----"
   ]
  },
  {
   "cell_type": "code",
   "execution_count": 28,
   "metadata": {},
   "outputs": [],
   "source": [
    "# Some useful data and parameters\n",
    "ring_atoms = {\n",
    "    'TRP': ['CG', 'CD1', 'CD2', 'NE1', 'CE2', 'CE3', 'CZ2', 'CZ3', 'CH2'],\n",
    "    'PHE': ['CG', 'CD1', 'CD2', 'CE1', 'CE2', 'CZ'],\n",
    "    'TYR': ['CG', 'CD1', 'CD2', 'CE1', 'CE2', 'CZ'],\n",
    "    'HIS': ['CG', 'ND1', 'CD2', 'CE1', 'NE2']}\n",
    "\n",
    "ring_atoms_pi_ion = {\n",
    "    'TRP': ['CG', 'CD1', 'CD2', 'NE1', 'CE2', 'CE3', 'CZ2', 'CZ3', 'CH2'],\n",
    "    'PHE': ['CG', 'CD1', 'CD2', 'CE1', 'CE2', 'CZ'],\n",
    "    'TYR': ['CG', 'CD1', 'CD2', 'CE1', 'CE2', 'CZ']}\n",
    "\n",
    "cutoff_ring = .5\n",
    "cutoff_angle_pipi = .9\n",
    "cutoff_angle_pion = .8\n",
    "cutoff_clusters = .35\n",
    "cutoff_carbons = .5"
   ]
  },
  {
   "cell_type": "code",
   "execution_count": 90,
   "metadata": {},
   "outputs": [],
   "source": [
    "# pdb_list = list(set(buried_fullab.idcode))\n",
    "# pdb_idcode = pdb_list[0]\n",
    "# buried_fullab[buried_fullab.idcode == pdb_idcode]\n",
    "\n",
    "pdb_idcode = '4ydk'\n",
    "pdb_filename = Path.joinpath(str_dir, pdb_idcode + \".pdb\")\n",
    "trj_in = md.load(pdb_filename)\n",
    "ab_chains =\\\n",
    "    [ fila.chainID for i, fila in buried_fullab[buried_fullab.idcode == pdb_idcode].iterrows() ]\n",
    "ag_chains = \\\n",
    "    [ chain.chain_id for chain in trj_in.topology.chains if chain.chain_id not in ab_chains ]"
   ]
  },
  {
   "cell_type": "markdown",
   "metadata": {},
   "source": [
    "#### Hydrophobic clusters"
   ]
  },
  {
   "cell_type": "code",
   "execution_count": 30,
   "metadata": {},
   "outputs": [
    {
     "name": "stdout",
     "output_type": "stream",
     "text": [
      "connected_clusters={0, 2, 3, 4}\n",
      "connected_clusters={1, 5, 7}\n",
      "connected_clusters={6}\n"
     ]
    }
   ],
   "source": [
    "cutoff_clusters = .35\n",
    "cutoff_carbons = .5\n",
    "\n",
    "G = get_carbons_graph(trj_in, buried_fullab, pdb_idcode, cutoff_carbons)\n",
    "pre_clusteres = get_putative_clusters(G)\n",
    "clusters = merge_clusters(trj_in, pre_clusteres, cutoff_clusters)"
   ]
  },
  {
   "cell_type": "code",
   "execution_count": null,
   "metadata": {},
   "outputs": [],
   "source": [
    "draw_clusters(trj_in, buried_fullab, pdb_idcode, clusters, \"hydro.py\")"
   ]
  },
  {
   "cell_type": "markdown",
   "metadata": {},
   "source": [
    "#### Pi-Pi interactions"
   ]
  },
  {
   "cell_type": "code",
   "execution_count": 132,
   "metadata": {},
   "outputs": [],
   "source": [
    "CG_rings, CoM_rings_xyz, normal_vectors = get_ring_data(trj_in, ab_chains, ring_atoms)\n",
    "\n",
    "pipi_ring_pairs = get_pipi_interactions(trj_in, CG_rings, CoM_rings_xyz, \n",
    "    normal_vectors, cutoff_ring, cutoff_angle_pipi)"
   ]
  },
  {
   "cell_type": "code",
   "execution_count": 109,
   "metadata": {},
   "outputs": [],
   "source": [
    "if len(pipi_ring_pairs) == 0:\n",
    "    atomos_anillo_ab = [ atom.index for pipi_pair in pipi_ring_pairs\\\n",
    "        for atom in pipi_pair.antibody.atoms ]\n",
    "    atomos_anillo_ag = [ atom.index for pipi_pair in pipi_ring_pairs\\\n",
    "        for atom in pipi_pair.antigen.atoms ]\n",
    "\n",
    "    draw_pipi_rings(trj_in, buried_fullab, pdb_idcode,\n",
    "        [atomos_anillo_ab, atomos_anillo_ag], \"pipi.py\")"
   ]
  },
  {
   "cell_type": "markdown",
   "metadata": {},
   "source": [
    "#### Pi-ion"
   ]
  },
  {
   "cell_type": "code",
   "execution_count": 135,
   "metadata": {},
   "outputs": [],
   "source": [
    "def get_ion_ring_interactions(trj_in, CG_rings, ids_ON_atoms, CoM_rings_xyz,\n",
    "    normal_vectors, positions, cutoff_distance, cutoff_angle = .7):\n",
    "\n",
    "    ring_ON_pairs = np.array(\n",
    "            list(itertools.product(CG_rings, ids_ON_atoms)))\n",
    "\n",
    "    ring_ON_distancias = md.compute_distances(\n",
    "        trj_in, ring_ON_pairs).reshape(\n",
    "        (len(CG_rings),\n",
    "         len(ids_ON_atoms)))\n",
    "\n",
    "    indices_close_ON_CG = np.where(ring_ON_distancias < cutoff_distance)\n",
    "    anion_ring_pairs = []\n",
    "    cation_ring_pairs = []\n",
    "    for i, j in zip(*indices_close_ON_CG):\n",
    "        com_xyz = CoM_rings_xyz[i]\n",
    "        normal = normal_vectors[i]\n",
    "        ON_xyz = positions[ids_ON_atoms[j]]\n",
    "        ON_vector = ON_xyz - com_xyz\n",
    "        norm_ON_vector = ON_vector / np.linalg.norm(ON_vector)\n",
    "    \n",
    "        distance = np.linalg.norm(ON_xyz - com_xyz)\n",
    "        angle = np.abs(np.dot(norm_ON_vector, normal))\n",
    "\n",
    "        if distance < cutoff_distance and angle > cutoff_angle:\n",
    "            ring = trj_in.topology.atom(CG_rings[i]).residue\n",
    "            ion = trj_in.topology.atom(ids_ON_atoms[j])\n",
    "            if ion.element.symbol == 'O':\n",
    "                anion_ring_pairs.append((ring, ion))\n",
    "            elif ion.element.symbol == 'N':\n",
    "                cation_ring_pairs.append((ring, ion))\n",
    "            else:\n",
    "                raise ValueError\n",
    "    return anion_ring_pairs, cation_ring_pairs"
   ]
  },
  {
   "cell_type": "code",
   "execution_count": 136,
   "metadata": {},
   "outputs": [],
   "source": [
    "CG_rings, CoM_rings_xyz, normal_vectors = get_ring_data(trj_in, ab_chains, ring_atoms_pi_ion)\n",
    "\n",
    "_, _, ids_ON_epitope_atoms, ids_ON_cdr_atoms = get_ids_CON(trj_in.topology,\n",
    "    buried_fullab, pdb_idcode)"
   ]
  },
  {
   "cell_type": "code",
   "execution_count": 137,
   "metadata": {},
   "outputs": [],
   "source": [
    "anion_ring_pairs_ab, cation_ring_pairs_ab = get_ion_ring_interactions(\n",
    "    trj_in, CG_rings[\"antibody\"], ids_ON_epitope_atoms,  CoM_rings_xyz[\"antibody\"],\n",
    "    normal_vectors[\"antibody\"], trj_in.xyz[0], cutoff_ring, cutoff_angle_pion)"
   ]
  },
  {
   "cell_type": "code",
   "execution_count": 138,
   "metadata": {},
   "outputs": [],
   "source": [
    "anion_ring_pairs_ag, cation_ring_pairs_ag = get_ion_ring_interactions(\n",
    "    trj_in, CG_rings[\"antigen\"], ids_ON_cdr_atoms, CoM_rings_xyz[\"antigen\"],\n",
    "    normal_vectors[\"antigen\"], trj_in.xyz[0], cutoff_ring, cutoff_angle_pion)"
   ]
  },
  {
   "cell_type": "code",
   "execution_count": 139,
   "metadata": {},
   "outputs": [
    {
     "data": {
      "text/plain": [
       "([], [])"
      ]
     },
     "execution_count": 139,
     "metadata": {},
     "output_type": "execute_result"
    }
   ],
   "source": [
    "anion_ring_pairs_ag, cation_ring_pairs_ag"
   ]
  },
  {
   "cell_type": "code",
   "execution_count": 147,
   "metadata": {},
   "outputs": [],
   "source": [
    "anion_ring_pairs_ab, cation_ring_pairs_ab = get_ion_ring_interactions(\n",
    "    trj_in, CG_rings[\"antigen\"], ids_ON_epitope_atoms,  CoM_rings_xyz[\"antigen\"],\n",
    "    normal_vectors[\"antigen\"], trj_in.xyz[0], cutoff_ring, cutoff_angle_pion)"
   ]
  },
  {
   "cell_type": "code",
   "execution_count": 148,
   "metadata": {},
   "outputs": [
    {
     "data": {
      "text/plain": [
       "[(TRP427, GLN428-N)]"
      ]
     },
     "execution_count": 148,
     "metadata": {},
     "output_type": "execute_result"
    }
   ],
   "source": [
    "cation_ring_pairs_ab"
   ]
  }
 ],
 "metadata": {
  "interpreter": {
   "hash": "70c485f5dd2a3fa7b2691a7c2f24a679b8383fa6708e6dbf719b8ad856723649"
  },
  "kernelspec": {
   "display_name": "Python 3.10.2 64-bit ('mdtraj': conda)",
   "language": "python",
   "name": "python3"
  },
  "language_info": {
   "codemirror_mode": {
    "name": "ipython",
    "version": 3
   },
   "file_extension": ".py",
   "mimetype": "text/x-python",
   "name": "python",
   "nbconvert_exporter": "python",
   "pygments_lexer": "ipython3",
   "version": "3.10.2"
  },
  "orig_nbformat": 4
 },
 "nbformat": 4,
 "nbformat_minor": 2
}
