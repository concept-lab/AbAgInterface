{
 "cells": [
  {
   "cell_type": "code",
   "execution_count": 1,
   "metadata": {},
   "outputs": [],
   "source": [
    "import sys, os\n",
    "from pathlib import Path\n",
    "source_location = Path().resolve()\n",
    "sys.path.append(source_location)\n",
    "from scripts.utils import get_sabdab_details\n",
    "\n",
    "import pandas as pd\n",
    "import mdtraj as md\n",
    "import networkx as nx\n",
    "from scripts.abag_interactions import *\n",
    "casa_dir = Path(\"/home/pbarletta/labo/22/AbAgInterface\")\n",
    "str_dir = Path.joinpath(casa_dir, \"structures/raw\")"
   ]
  },
  {
   "cell_type": "code",
   "execution_count": 2,
   "metadata": {},
   "outputs": [],
   "source": [
    "df_sabdab_all = pd.read_csv(Path.joinpath(source_location,\n",
    "    'structures/sabdab_summary_all.tsv'), sep=\"\\t\")\n",
    "df_sabdab_90 = pd.read_csv(Path.joinpath(source_location,\n",
    "    'structures/sabdab_summary_90.tsv'), sep=\"\\t\")\n",
    "\n",
    "df_buried = pd.read_pickle(Path.joinpath(source_location,\n",
    "    'data/epitope_buried.pickle'))\n",
    "\n",
    "df_interactions = pd.read_pickle(Path.joinpath(source_location,\n",
    "    'data/interactions.pickle'))"
   ]
  },
  {
   "cell_type": "code",
   "execution_count": 3,
   "metadata": {},
   "outputs": [
    {
     "name": "stdout",
     "output_type": "stream",
     "text": [
      "SabDab protein antigen:\n",
      "1154 proteins out of 2017, 57.2%\n"
     ]
    }
   ],
   "source": [
    "# protein_antigens = df_sabdab_90[df_sabdab_90['antigen_type'].str.contains('protein', na = False)]\n",
    "protein_antigens = df_sabdab_90.query(\"antigen_type == antigen_type and antigen_type.str.contains('protein')\", engine = 'python').drop_duplicates()\n",
    "ab_protein_antigens = set(protein_antigens.pdb.values)\n",
    "all_saddab_proteins = set(df_sabdab_90.pdb.values)\n",
    "print(\n",
    "    f\"SabDab protein antigen:\\n\"\n",
    "    f\"{len(ab_protein_antigens)} proteins out of {len(all_saddab_proteins)}, \"\n",
    "    f\"{round(len(ab_protein_antigens) / len(all_saddab_proteins) * 100, 1)}%\"\n",
    ")"
   ]
  },
  {
   "cell_type": "code",
   "execution_count": 4,
   "metadata": {},
   "outputs": [
    {
     "name": "stdout",
     "output_type": "stream",
     "text": [
      "All: 1154\n",
      "No Hchain: 0\n",
      "No Lchain: 0\n",
      "Both chains: 1154\n"
     ]
    }
   ],
   "source": [
    "ab_both_chains = set(protein_antigens.query(\"Hchain == Hchain and Lchain == Lchain\").pdb.values)\n",
    "ab_single_H_chain = set(protein_antigens.query(\"Hchain == Hchain\").pdb.values)\n",
    "ab_single_L_chain = set(protein_antigens.query(\"Lchain == Lchain\").pdb.values)\n",
    "\n",
    "n_ab_no_Hchain = len(ab_protein_antigens) - len(ab_single_H_chain)\n",
    "n_ab_no_Lchain = len(ab_protein_antigens) - len(ab_single_L_chain)\n",
    "\n",
    "print(f\"All: {len(ab_protein_antigens)}\\nNo Hchain: {n_ab_no_Hchain}\\nNo Lchain: {n_ab_no_Lchain}\\nBoth chains: {len(ab_both_chains)}\")"
   ]
  },
  {
   "cell_type": "code",
   "execution_count": 5,
   "metadata": {},
   "outputs": [
    {
     "name": "stdout",
     "output_type": "stream",
     "text": [
      "Buried surfaces of 2492 proteins\n",
      "with both chains: 867\n"
     ]
    }
   ],
   "source": [
    "buried_fullab = df_buried[df_buried.idcode.isin(ab_both_chains)]\n",
    "print(\n",
    "    f\"Buried surfaces of {len(set(df_buried.idcode.values))} proteins\\n\"\n",
    "    f\"with both chains: {len(set(buried_fullab.idcode.values))}\"\n",
    ")"
   ]
  },
  {
   "cell_type": "markdown",
   "metadata": {},
   "source": [
    "----"
   ]
  },
  {
   "cell_type": "markdown",
   "metadata": {},
   "source": [
    "#### Pi-Pi interactions"
   ]
  },
  {
   "cell_type": "code",
   "execution_count": 6,
   "metadata": {},
   "outputs": [
    {
     "name": "stderr",
     "output_type": "stream",
     "text": [
      "/home/pbarletta/anaconda3/envs/mdtraj/lib/python3.10/site-packages/mdtraj-1.9.8.dev0-py3.10-linux-x86_64.egg/mdtraj/formats/pdb/pdbfile.py:200: UserWarning: Unlikely unit cell vectors detected in PDB file likely resulting from a dummy CRYST1 record. Discarding unit cell vectors.\n",
      "  warnings.warn('Unlikely unit cell vectors detected in PDB file likely '\n"
     ]
    }
   ],
   "source": [
    "pdb_idcode = '7mhy'\n",
    "pdb_filename = Path.joinpath(str_dir, pdb_idcode + \".pdb\")\n",
    "trj_in = md.load(pdb_filename)\n",
    "ab_chains =\\\n",
    "[ fila.chainID for i, fila in buried_fullab[buried_fullab.idcode == pdb_idcode].iterrows() ]"
   ]
  },
  {
   "cell_type": "code",
   "execution_count": 7,
   "metadata": {},
   "outputs": [],
   "source": [
    "cutoff_ring = .5\n",
    "cutoff_dot_plane = .9\n",
    "CG_rings, CoM_rings_xyz, normal_vectors = get_ring_data(trj_in, ab_chains)\n",
    "\n",
    "for i, (com_i, v_i) in enumerate(zip(CoM_rings_xyz[\"antigen\"], normal_vectors[\"antigen\"])):\n",
    "# for i, (com_i, v_i) in enumerate(zip(CoM_rings_xyz[\"antibody\"], normal_vectors[\"antibody\"])):\n",
    "    for j, (com_j, v_j)in enumerate(zip(CoM_rings_xyz[\"antibody\"], normal_vectors[\"antibody\"])):\n",
    "        if i != j:\n",
    "            if np.linalg.norm(com_i - com_j) < cutoff_ring and\\\n",
    "                np.dot(v_i, v_j) > cutoff_dot_plane:\n",
    "                print(f\"{i=}, {j=}  --  {com_i*10=} - {com_j*10=}\")"
   ]
  },
  {
   "cell_type": "code",
   "execution_count": 9,
   "metadata": {},
   "outputs": [],
   "source": []
  },
  {
   "cell_type": "code",
   "execution_count": 10,
   "metadata": {},
   "outputs": [],
   "source": []
  },
  {
   "cell_type": "code",
   "execution_count": 11,
   "metadata": {},
   "outputs": [],
   "source": [
    "\n",
    "ring_ON_pairs_ag = np.array(\n",
    "        list(\n",
    "            itertools.product(\n",
    "                CG_rings[\"antigen\"], ids_ON_cdr_atoms)))                \n",
    "\n",
    "ring_ON_distancias_ag = md.compute_distances(\n",
    "        trj_in, ring_ON_pairs_ag).reshape(\n",
    "        (len(CG_rings[\"antigen\"]),\n",
    "         len(ids_ON_cdr_atoms)))"
   ]
  },
  {
   "cell_type": "code",
   "execution_count": 22,
   "metadata": {},
   "outputs": [],
   "source": [
    "def get_ion_ring_interactions(CG_rings, ids_ON_atoms, CoM_rings_xyz,\n",
    "    normal_vectors, positions, cutoff_ring):\n",
    "\n",
    "    ring_ON_pairs = np.array(\n",
    "            list(itertools.product(CG_rings, ids_ON_atoms)))\n",
    "\n",
    "    ring_ON_distancias = md.compute_distances(\n",
    "        trj_in, ring_ON_pairs).reshape(\n",
    "        (len(CG_rings),\n",
    "         len(ids_ON_atoms)))\n",
    "\n",
    "    indices_close_ON_CG = np.where(ring_ON_distancias < cutoff_ring)\n",
    "    for i, j in zip(*indices_close_ON_CG):\n",
    "        com_xyz = CoM_rings_xyz[i]\n",
    "        normal = normal_vectors[i]\n",
    "        ON_xyz = positions[ids_ON_atoms[j]]\n",
    "        ON_vector = ON_xyz - com_xyz\n",
    "        norm_ON_vector = ON_vector / np.linalg.norm(ON_vector)\n",
    "        \n",
    "        if np.linalg.norm(ON_xyz - com_xyz) < cutoff_ring and\\\n",
    "                np.dot(norm_ON_vector, normal) > cutoff_dot_plane:\n",
    "                print(f\"{i=}, {j=}  --  {com_i*10=} - {com_j*10=}\")"
   ]
  },
  {
   "cell_type": "code",
   "execution_count": 23,
   "metadata": {},
   "outputs": [],
   "source": [
    "_, _, ids_ON_epitope_atoms, ids_ON_cdr_atoms = get_ids_CON(trj_in.topology,\n",
    "    buried_fullab, pdb_idcode)"
   ]
  },
  {
   "cell_type": "code",
   "execution_count": 25,
   "metadata": {},
   "outputs": [],
   "source": [
    "get_ion_ring_interactions(CG_rings[\"antibody\"], ids_ON_epitope_atoms,\n",
    "    CoM_rings_xyz[\"antibody\"], normal_vectors[\"antibody\"], trj_in.xyz[0], cutoff_ring)\n",
    "\n",
    "get_ion_ring_interactions(CG_rings[\"antigen\"], ids_ON_cdr_atoms,\n",
    "    CoM_rings_xyz[\"antigen\"], normal_vectors[\"antigen\"], trj_in.xyz[0], cutoff_ring)"
   ]
  },
  {
   "cell_type": "code",
   "execution_count": null,
   "metadata": {},
   "outputs": [],
   "source": []
  },
  {
   "cell_type": "code",
   "execution_count": null,
   "metadata": {},
   "outputs": [],
   "source": []
  },
  {
   "cell_type": "code",
   "execution_count": null,
   "metadata": {},
   "outputs": [],
   "source": []
  },
  {
   "cell_type": "markdown",
   "metadata": {},
   "source": [
    "#### Hydrophobic clusters"
   ]
  },
  {
   "cell_type": "code",
   "execution_count": 9,
   "metadata": {},
   "outputs": [
    {
     "name": "stdout",
     "output_type": "stream",
     "text": [
      "connected_clusters={0, 3}\n",
      "connected_clusters={1, 4}\n"
     ]
    }
   ],
   "source": [
    "G = get_carbons_graph(trj_in, buried_fullab, pdb_idcode, .5)\n",
    "pre_clusteres = get_putative_clusters(G)\n",
    "clusters = refine_clusters(trj_in, pre_clusteres, .2)"
   ]
  },
  {
   "cell_type": "code",
   "execution_count": 11,
   "metadata": {},
   "outputs": [],
   "source": [
    "draw_clusters(trj_in, buried_fullab, pdb_idcode, clusters, \"b.py\")"
   ]
  },
  {
   "cell_type": "code",
   "execution_count": 13,
   "metadata": {},
   "outputs": [],
   "source": []
  }
 ],
 "metadata": {
  "interpreter": {
   "hash": "70c485f5dd2a3fa7b2691a7c2f24a679b8383fa6708e6dbf719b8ad856723649"
  },
  "kernelspec": {
   "display_name": "Python 3.10.2 64-bit ('mdtraj': conda)",
   "language": "python",
   "name": "python3"
  },
  "language_info": {
   "codemirror_mode": {
    "name": "ipython",
    "version": 3
   },
   "file_extension": ".py",
   "mimetype": "text/x-python",
   "name": "python",
   "nbconvert_exporter": "python",
   "pygments_lexer": "ipython3",
   "version": "3.10.2"
  },
  "orig_nbformat": 4
 },
 "nbformat": 4,
 "nbformat_minor": 2
}
